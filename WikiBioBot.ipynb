{
 "cells": [
  {
   "cell_type": "markdown",
   "metadata": {
    "id": "Uhhy-TWz_rRM"
   },
   "source": [
    "# Wikipedia Bot for Biography Generation"
   ]
  },
  {
   "cell_type": "code",
   "execution_count": 1,
   "metadata": {
    "colab": {
     "base_uri": "https://localhost:8080/"
    },
    "id": "P1Y81dLZAAGG",
    "outputId": "27ffe751-61aa-42e1-915a-d203f53917f0"
   },
   "outputs": [
    {
     "name": "stderr",
     "output_type": "stream",
     "text": [
      "UsageError: Cell magic `%%shell` not found.\n"
     ]
    }
   ],
   "source": [
    "!pip install transformers\n",
    "!pip install pywikibot\n",
    "!wget -nc -q <DOWNLOAD_WIKI_user-config.py>\n",
    "!wget -nc -q <DOWNLOAD_WIKI_user-password.py>\n",
    "!python -m spacy download en_core_web_lg\n",
    "\n",
    "import re\n",
    "from transformers import GPT2LMHeadModel, GPT2Tokenizer\n",
    "from tqdm.notebook import tqdm\n",
    "import pandas as pd\n",
    "import numpy as np\n",
    "from nltk.translate import bleu_score, gleu_score\n",
    "import nltk\n",
    "from nltk.corpus import stopwords\n",
    "import pywikibot\n",
    "import spacy"
   ]
  },
  {
   "cell_type": "code",
   "execution_count": null,
   "metadata": {
    "colab": {
     "base_uri": "https://localhost:8080/"
    },
    "id": "0T9avnlNBxIU",
    "outputId": "1401975d-aa70-4621-bf9a-88683aac4010"
   },
   "outputs": [
    {
     "name": "stdout",
     "output_type": "stream",
     "text": [
      "[nltk_data] Downloading package stopwords to /root/nltk_data...\n",
      "[nltk_data]   Unzipping corpora/stopwords.zip.\n"
     ]
    }
   ],
   "source": [
    "# Load resources\n",
    "tokenizer = GPT2Tokenizer.from_pretrained(\"mbien/fdh-wikibio\")\n",
    "model = GPT2LMHeadModel.from_pretrained(\"mbien/fdh-wikibio\")\n",
    "model = model.to(\"cuda:0\")\n",
    "nltk.download(\"stopwords\")\n",
    "nlp = spacy.load('en_core_web_lg')"
   ]
  },
  {
   "cell_type": "markdown",
   "metadata": {
    "id": "ik9mEK-ohAXb"
   },
   "source": [
    "# Structural accuracy scores"
   ]
  },
  {
   "cell_type": "code",
   "execution_count": null,
   "metadata": {
    "id": "IfNYYUTQRW82"
   },
   "outputs": [],
   "source": [
    "def structural_accuracy(sample):\n",
    "  parts = sample.split(\"<|summary|>\")\n",
    "  keywords = re.sub(r\"(<\\|[^\\|]+\\|>)|( nan )\", \"\", parts[0])\n",
    "  keywords = re.sub(r\"\\(|\\)|-|,\", \" \", keywords)\n",
    "  keywords = re.sub(r\"(\\s{2,})\", \" \", keywords)\n",
    "  keywords = re.sub(r\"(^\\s+)|(\\s+$)\", \"\", keywords).lower().split(\" \")\n",
    "  keywords = [keyword for keyword in keywords if keyword not in stopwords.words('english')]\n",
    "  generated = parts[1].lower()\n",
    "  matches = [keyword for keyword in keywords if keyword in generated]\n",
    "\n",
    "  return len(matches)/len(keywords)"
   ]
  },
  {
   "cell_type": "markdown",
   "metadata": {
    "id": "dRUYLmesIju8"
   },
   "source": [
    "# Bot implementation"
   ]
  },
  {
   "cell_type": "code",
   "execution_count": null,
   "metadata": {
    "colab": {
     "base_uri": "https://localhost:8080/",
     "height": 424
    },
    "id": "27nJkmt7cShz",
    "outputId": "de65e5b6-1b64-477b-c12c-a052b26d73bd"
   },
   "outputs": [
    {
     "data": {
      "text/html": [
       "<div>\n",
       "<style scoped>\n",
       "    .dataframe tbody tr th:only-of-type {\n",
       "        vertical-align: middle;\n",
       "    }\n",
       "\n",
       "    .dataframe tbody tr th {\n",
       "        vertical-align: top;\n",
       "    }\n",
       "\n",
       "    .dataframe thead th {\n",
       "        text-align: right;\n",
       "    }\n",
       "</style>\n",
       "<table border=\"1\" class=\"dataframe\">\n",
       "  <thead>\n",
       "    <tr style=\"text-align: right;\">\n",
       "      <th></th>\n",
       "      <th>item</th>\n",
       "      <th>itemLabel</th>\n",
       "      <th>fnames</th>\n",
       "      <th>lnames</th>\n",
       "      <th>itemDescription</th>\n",
       "      <th>birth</th>\n",
       "      <th>death</th>\n",
       "      <th>professions</th>\n",
       "    </tr>\n",
       "  </thead>\n",
       "  <tbody>\n",
       "    <tr>\n",
       "      <th>0</th>\n",
       "      <td>Q18945651</td>\n",
       "      <td>Marsilio Cagnati</td>\n",
       "      <td>NaN</td>\n",
       "      <td>NaN</td>\n",
       "      <td>1543-1612</td>\n",
       "      <td>1543</td>\n",
       "      <td>1612</td>\n",
       "      <td>physician</td>\n",
       "    </tr>\n",
       "    <tr>\n",
       "      <th>1</th>\n",
       "      <td>Q55901911</td>\n",
       "      <td>Angelo Gualandris</td>\n",
       "      <td>Angelo</td>\n",
       "      <td>NaN</td>\n",
       "      <td>botanist (1750-1788)</td>\n",
       "      <td>1750</td>\n",
       "      <td>1788</td>\n",
       "      <td>naturalist, geologist, agronomist, botanist</td>\n",
       "    </tr>\n",
       "    <tr>\n",
       "      <th>2</th>\n",
       "      <td>Q1522146</td>\n",
       "      <td>Giacomo Nani</td>\n",
       "      <td>Giacomo</td>\n",
       "      <td>Nani</td>\n",
       "      <td>politician (1725-1797)</td>\n",
       "      <td>1725</td>\n",
       "      <td>1797</td>\n",
       "      <td>politician</td>\n",
       "    </tr>\n",
       "    <tr>\n",
       "      <th>3</th>\n",
       "      <td>Q21656610</td>\n",
       "      <td>Joannes Bernardus Felicianus</td>\n",
       "      <td>Giovanni</td>\n",
       "      <td>NaN</td>\n",
       "      <td>NaN</td>\n",
       "      <td>1490</td>\n",
       "      <td>1552</td>\n",
       "      <td>physician</td>\n",
       "    </tr>\n",
       "    <tr>\n",
       "      <th>4</th>\n",
       "      <td>Q19838679</td>\n",
       "      <td>Ermolao Donà</td>\n",
       "      <td>Ermolao</td>\n",
       "      <td>NaN</td>\n",
       "      <td>NaN</td>\n",
       "      <td>NaN</td>\n",
       "      <td>1450</td>\n",
       "      <td>politician, diplomat</td>\n",
       "    </tr>\n",
       "    <tr>\n",
       "      <th>...</th>\n",
       "      <td>...</td>\n",
       "      <td>...</td>\n",
       "      <td>...</td>\n",
       "      <td>...</td>\n",
       "      <td>...</td>\n",
       "      <td>...</td>\n",
       "      <td>...</td>\n",
       "      <td>...</td>\n",
       "    </tr>\n",
       "    <tr>\n",
       "      <th>1615</th>\n",
       "      <td>Q16531271</td>\n",
       "      <td>Bartolomeo Orioli</td>\n",
       "      <td>Bartolomeo</td>\n",
       "      <td>NaN</td>\n",
       "      <td>Italian painter (1568-1627)</td>\n",
       "      <td>1568</td>\n",
       "      <td>1627</td>\n",
       "      <td>painter</td>\n",
       "    </tr>\n",
       "    <tr>\n",
       "      <th>1616</th>\n",
       "      <td>Q22916128</td>\n",
       "      <td>Paolo Calvi</td>\n",
       "      <td>Paolo</td>\n",
       "      <td>Calvi</td>\n",
       "      <td>Italian biographer (1716-1781)</td>\n",
       "      <td>1716</td>\n",
       "      <td>1781</td>\n",
       "      <td>biographer</td>\n",
       "    </tr>\n",
       "    <tr>\n",
       "      <th>1618</th>\n",
       "      <td>Q3852178</td>\n",
       "      <td>Matteo Polo</td>\n",
       "      <td>Maffeo, Matteo</td>\n",
       "      <td>Polo</td>\n",
       "      <td>Italian merchant (1252-1309)</td>\n",
       "      <td>1252</td>\n",
       "      <td>1309</td>\n",
       "      <td>merchant</td>\n",
       "    </tr>\n",
       "    <tr>\n",
       "      <th>1619</th>\n",
       "      <td>Q3903724</td>\n",
       "      <td>Pietro Buratti</td>\n",
       "      <td>Pietro</td>\n",
       "      <td>Buratti</td>\n",
       "      <td>Italian poet</td>\n",
       "      <td>1773</td>\n",
       "      <td>1832</td>\n",
       "      <td>poet</td>\n",
       "    </tr>\n",
       "    <tr>\n",
       "      <th>1620</th>\n",
       "      <td>Q1867774</td>\n",
       "      <td>Lodovico Fogliano</td>\n",
       "      <td>Ludovico, Lodovico</td>\n",
       "      <td>Fogliano</td>\n",
       "      <td>Italian music theorist, composer, singer, and ...</td>\n",
       "      <td>1490</td>\n",
       "      <td>1542</td>\n",
       "      <td>composer, singer, musician, music theorist</td>\n",
       "    </tr>\n",
       "  </tbody>\n",
       "</table>\n",
       "<p>1566 rows × 8 columns</p>\n",
       "</div>"
      ],
      "text/plain": [
       "           item  ...                                  professions\n",
       "0     Q18945651  ...                                    physician\n",
       "1     Q55901911  ...  naturalist, geologist, agronomist, botanist\n",
       "2      Q1522146  ...                                   politician\n",
       "3     Q21656610  ...                                    physician\n",
       "4     Q19838679  ...                         politician, diplomat\n",
       "...         ...  ...                                          ...\n",
       "1615  Q16531271  ...                                      painter\n",
       "1616  Q22916128  ...                                   biographer\n",
       "1618   Q3852178  ...                                     merchant\n",
       "1619   Q3903724  ...                                         poet\n",
       "1620   Q1867774  ...   composer, singer, musician, music theorist\n",
       "\n",
       "[1566 rows x 8 columns]"
      ]
     },
     "execution_count": 26,
     "metadata": {
      "tags": []
     },
     "output_type": "execute_result"
    }
   ],
   "source": [
    "df_generate = pd.read_csv(\"data/dataset_no_en_full.csv\").drop(\"summary\", axis=1)\n",
    "\n",
    "# If person has no item description (Q[0-9]+), use fname and lname to fix it whenever possible\n",
    "df_generate.loc[df_generate.itemLabel.str.startswith(\"Q\"), \"itemLabel\"] = df_generate.loc[df_generate.itemLabel.str.startswith(\"Q\"), \"fnames\"].astype(str).str.replace(\"^nan$\",\"\")+\" \"+df_generate.loc[df_generate.itemLabel.str.startswith(\"Q\"), \"lnames\"].astype(str).str.replace(\"^nan$\", \"\")\n",
    "df_generate.itemLabel = df_generate.itemLabel.str.replace(\"(^\\s+)|(\\s+$)\", \"\")\n",
    "df_generate = df_generate[df_generate.itemLabel!=\"\"]\n",
    "df_generate"
   ]
  },
  {
   "cell_type": "code",
   "execution_count": null,
   "metadata": {
    "colab": {
     "base_uri": "https://localhost:8080/",
     "height": 528
    },
    "id": "Uc6_tkhjVl2F",
    "outputId": "d455e0d1-fccf-41b2-fba9-44b6865c91f7"
   },
   "outputs": [
    {
     "data": {
      "text/html": [
       "<div>\n",
       "<style scoped>\n",
       "    .dataframe tbody tr th:only-of-type {\n",
       "        vertical-align: middle;\n",
       "    }\n",
       "\n",
       "    .dataframe tbody tr th {\n",
       "        vertical-align: top;\n",
       "    }\n",
       "\n",
       "    .dataframe thead th {\n",
       "        text-align: right;\n",
       "    }\n",
       "</style>\n",
       "<table border=\"1\" class=\"dataframe\">\n",
       "  <thead>\n",
       "    <tr style=\"text-align: right;\">\n",
       "      <th></th>\n",
       "      <th>item</th>\n",
       "      <th>itemLabel</th>\n",
       "      <th>fnames</th>\n",
       "      <th>lnames</th>\n",
       "      <th>itemDescription</th>\n",
       "      <th>birth</th>\n",
       "      <th>death</th>\n",
       "      <th>professions</th>\n",
       "      <th>pic</th>\n",
       "    </tr>\n",
       "  </thead>\n",
       "  <tbody>\n",
       "    <tr>\n",
       "      <th>10</th>\n",
       "      <td>Q3880819</td>\n",
       "      <td>Oddo degli Oddi</td>\n",
       "      <td>Oddo</td>\n",
       "      <td>NaN</td>\n",
       "      <td>Italian physician</td>\n",
       "      <td>1478</td>\n",
       "      <td>1558</td>\n",
       "      <td>physician</td>\n",
       "      <td>Oddo degli Oddi. Line engraving, 1688. Wellcom...</td>\n",
       "    </tr>\n",
       "    <tr>\n",
       "      <th>12</th>\n",
       "      <td>Q43288825</td>\n",
       "      <td>Camillo Rospigliosi</td>\n",
       "      <td>Camillo</td>\n",
       "      <td>Rospigliosi</td>\n",
       "      <td>NaN</td>\n",
       "      <td>1714</td>\n",
       "      <td>1763</td>\n",
       "      <td>NaN</td>\n",
       "      <td>Camillo rospigliosi di agostino massucci (1737...</td>\n",
       "    </tr>\n",
       "    <tr>\n",
       "      <th>20</th>\n",
       "      <td>Q15654345</td>\n",
       "      <td>Tommaso Formenton</td>\n",
       "      <td>Tommaso</td>\n",
       "      <td>Formenton</td>\n",
       "      <td>Italian architect</td>\n",
       "      <td>1440</td>\n",
       "      <td>1492</td>\n",
       "      <td>architect</td>\n",
       "      <td>Tommaso Formenton- Palazzo Thiene.jpg</td>\n",
       "    </tr>\n",
       "    <tr>\n",
       "      <th>30</th>\n",
       "      <td>Q18507796</td>\n",
       "      <td>Antonio Bosa</td>\n",
       "      <td>Antonio</td>\n",
       "      <td>NaN</td>\n",
       "      <td>Italian sculptor (1780-1845)</td>\n",
       "      <td>1780</td>\n",
       "      <td>1845</td>\n",
       "      <td>sculptor</td>\n",
       "      <td>Malatesta Antonio Bosa.jpg</td>\n",
       "    </tr>\n",
       "    <tr>\n",
       "      <th>34</th>\n",
       "      <td>Q16559788</td>\n",
       "      <td>Giovanni Battista Cromer</td>\n",
       "      <td>Giovanni, Giovanni Battista</td>\n",
       "      <td>NaN</td>\n",
       "      <td>Italian painter (1665-1745)</td>\n",
       "      <td>1665</td>\n",
       "      <td>1745</td>\n",
       "      <td>painter</td>\n",
       "      <td>San Giacomo dall'Orio (Venice) - Immacolata co...</td>\n",
       "    </tr>\n",
       "    <tr>\n",
       "      <th>...</th>\n",
       "      <td>...</td>\n",
       "      <td>...</td>\n",
       "      <td>...</td>\n",
       "      <td>...</td>\n",
       "      <td>...</td>\n",
       "      <td>...</td>\n",
       "      <td>...</td>\n",
       "      <td>...</td>\n",
       "      <td>...</td>\n",
       "    </tr>\n",
       "    <tr>\n",
       "      <th>1528</th>\n",
       "      <td>Q18945373</td>\n",
       "      <td>Giorgio Summaripa</td>\n",
       "      <td>Giorgio</td>\n",
       "      <td>NaN</td>\n",
       "      <td>1435-1497</td>\n",
       "      <td>1435</td>\n",
       "      <td>1497</td>\n",
       "      <td>poet</td>\n",
       "      <td>Summaripa - Martirio di Simone da Trento, circ...</td>\n",
       "    </tr>\n",
       "    <tr>\n",
       "      <th>1534</th>\n",
       "      <td>Q16571672</td>\n",
       "      <td>Giovanni Battista Ponchino</td>\n",
       "      <td>Giambattista</td>\n",
       "      <td>NaN</td>\n",
       "      <td>Italian painter (1500-1570)</td>\n",
       "      <td>1500</td>\n",
       "      <td>1570</td>\n",
       "      <td>painter</td>\n",
       "      <td>Giovanni Battista Ponchino - Mercurio e Minerv...</td>\n",
       "    </tr>\n",
       "    <tr>\n",
       "      <th>1541</th>\n",
       "      <td>Q51156</td>\n",
       "      <td>Domenico Maria Federici</td>\n",
       "      <td>Domenico</td>\n",
       "      <td>NaN</td>\n",
       "      <td>historic Italian</td>\n",
       "      <td>1739</td>\n",
       "      <td>1808</td>\n",
       "      <td>historian</td>\n",
       "      <td>Federici, Domenico Maria - Commentario sopra l...</td>\n",
       "    </tr>\n",
       "    <tr>\n",
       "      <th>1550</th>\n",
       "      <td>Q4023585</td>\n",
       "      <td>Zaccaria Bricito</td>\n",
       "      <td>Zaccaria</td>\n",
       "      <td>NaN</td>\n",
       "      <td>NaN</td>\n",
       "      <td>1802</td>\n",
       "      <td>1851</td>\n",
       "      <td>Catholic priest</td>\n",
       "      <td>Zaccaria Bricito.jpg</td>\n",
       "    </tr>\n",
       "    <tr>\n",
       "      <th>1556</th>\n",
       "      <td>Q18758545</td>\n",
       "      <td>Leonardo Manin</td>\n",
       "      <td>Leonardo</td>\n",
       "      <td>Manin</td>\n",
       "      <td>NaN</td>\n",
       "      <td>1771</td>\n",
       "      <td>1853</td>\n",
       "      <td>NaN</td>\n",
       "      <td>Leonardo Manin.jpg</td>\n",
       "    </tr>\n",
       "  </tbody>\n",
       "</table>\n",
       "<p>265 rows × 9 columns</p>\n",
       "</div>"
      ],
      "text/plain": [
       "           item  ...                                                pic\n",
       "10     Q3880819  ...  Oddo degli Oddi. Line engraving, 1688. Wellcom...\n",
       "12    Q43288825  ...  Camillo rospigliosi di agostino massucci (1737...\n",
       "20    Q15654345  ...              Tommaso Formenton- Palazzo Thiene.jpg\n",
       "30    Q18507796  ...                         Malatesta Antonio Bosa.jpg\n",
       "34    Q16559788  ...  San Giacomo dall'Orio (Venice) - Immacolata co...\n",
       "...         ...  ...                                                ...\n",
       "1528  Q18945373  ...  Summaripa - Martirio di Simone da Trento, circ...\n",
       "1534  Q16571672  ...  Giovanni Battista Ponchino - Mercurio e Minerv...\n",
       "1541     Q51156  ...  Federici, Domenico Maria - Commentario sopra l...\n",
       "1550   Q4023585  ...                               Zaccaria Bricito.jpg\n",
       "1556  Q18758545  ...                                 Leonardo Manin.jpg\n",
       "\n",
       "[265 rows x 9 columns]"
      ]
     },
     "execution_count": 31,
     "metadata": {
      "tags": []
     },
     "output_type": "execute_result"
    }
   ],
   "source": [
    "# Last adjustment before actual generation: try to find the images for these people in wiki commons\n",
    "import requests\n",
    "import csv\n",
    "import urllib.parse\n",
    "\n",
    "def find_commons_image(ids):\n",
    "  query = \"SELECT ?item ?pic WHERE { ?item wdt:P31 wd:Q5; wdt:P27 wd:Q4948. ?item wdt:P18 ?pic}\"\n",
    "  result = requests.get(\"https://query.wikidata.org/sparql\", params={'query': query}, headers={'Accept': 'text/csv'}).text\n",
    "  data = list(csv.reader(result.split(\"\\r\\n\"), delimiter=',', quotechar='\"'))[:-1]\n",
    "  df = pd.DataFrame(data[1:], columns=data[0])\n",
    "  return df\n",
    "\n",
    "images = find_commons_image((\"wd:\"+df_generate.item).values)\n",
    "images.pic = images.pic.str.replace(\"http://commons.wikimedia.org/wiki/Special:FilePath/\", \"\")\n",
    "images.pic = images.pic.apply(urllib.parse.unquote)\n",
    "images.item = images.item.str.replace(\"http://www.wikidata.org/entity/\", \"\")\n",
    "df_generate = df_generate.merge(images, on='item', how='left')\n",
    "df_generate[df_generate.pic.notna()]"
   ]
  },
  {
   "cell_type": "code",
   "execution_count": null,
   "metadata": {
    "id": "pABsvk1qqWJB"
   },
   "outputs": [],
   "source": [
    "# Define generation function\n",
    "\n",
    "def generate_biography(model, tokenizer, person_definition):\n",
    "  prompt = person_definition\n",
    "  end_token = tokenizer.encode(\"<|end|>\")[0]\n",
    "  pad_token = tokenizer.encode(\"<|pad|>\")[0]\n",
    "\n",
    "  encoded_prompt = tokenizer.encode(prompt, add_special_tokens=True, return_tensors=\"pt\")\n",
    "  encoded_prompt = encoded_prompt.to(\"cuda:0\")\n",
    "\n",
    "  outputs = []\n",
    "\n",
    "  while len(outputs) == 0:\n",
    "    outputs_enc = model.generate(encoded_prompt, do_sample=True, min_length=128, max_length=1024, device=0, \n",
    "                            top_k=10, top_p=0.97, num_return_sequences=20,\n",
    "                            eos_token_id=end_token, pad_token_id=pad_token)\n",
    "\n",
    "    outputs = [tokenizer.decode(output_enc) for output_enc in outputs_enc if (len(output_enc)<1024) or (output_enc[-1] in [end_token, pad_token])]\n",
    "    if len(outputs) == 0:\n",
    "      print(\"Outputs too long! Repeating...\")\n",
    "      #outputs = ['<|section|>'.join(tokenizer.decode(output_enc).split(\"<|section|>\")[:-1]) for output_enc in outputs_enc]\n",
    "      #print([tokenizer.decode(output_enc) for output_enc in outputs_enc])\n",
    "\n",
    "  # We don't care about end tokens, we may want to add another section afterwards!\n",
    "  outputs=[output.replace(\"<|end|>\", \"\").replace(\"<|pad|>\", \"\") for output in outputs]\n",
    "\n",
    "  return outputs\n",
    "\n",
    "def data2text(row):\n",
    "  out = '<|start|> '\n",
    "  out += row.itemLabel\n",
    "  if str(row.itemDescription) != \"nan\":\n",
    "    out += ' <|description|> '\n",
    "    out += str(row.itemDescription)\n",
    "  if str(row.professions) != \"nan\":\n",
    "    out += f' <|professions|> {row.professions}'\n",
    "  if str(row.birth)!=\"nan\":\n",
    "    out += f' <|birth|> {row.birth}'\n",
    "  if str(row.death)!=\"nan\":\n",
    "    out += f' <|death|> {row.death}'\n",
    "  \n",
    "  return out + ' <|summary|>'\n",
    "\n",
    "\n",
    "# {{Infobox person\n",
    "# | name          = AAA\n",
    "# | image         = blah.jpg\n",
    "# | honorific_suffix       = BBB\n",
    "# | birth_date    = 1750\n",
    "# | death_date    = 1788\n",
    "# | nationality   = [[wikipedia:Republic of Venice|Republic of Venice]]\n",
    "# | occupation    = DDD\n",
    "# }}\n",
    "\n",
    "\n",
    "def data2infobox(row):\n",
    "  out = '{{Infobox person\\n'\n",
    "  out += '| name = ' + row.itemLabel + '\\n'\n",
    "  if str(row.pic) != \"nan\":\n",
    "    out += '| image = ' + row.pic + '\\n'\n",
    "  if str(row.itemDescription) != \"nan\":\n",
    "    out += '| honorific_suffix = ' + row.itemDescription + '\\n'\n",
    "  if str(row.professions) != \"nan\":\n",
    "    out += '| occupation = ' + row.professions + '\\n'\n",
    "  if str(row.birth)!=\"nan\":\n",
    "    out += '| birth_date = ' + row.birth + '\\n'\n",
    "  if str(row.death)!=\"nan\":\n",
    "    out += '| death_date = ' + row.death + '\\n'\n",
    "  \n",
    "  out += \"| nationality = [[wikipedia:Republic of Venice|]]\\n\"\n",
    "  out += \"| website = {{URL|https://www.wikidata.org/wiki/\" + row[\"item\"] + \"|\" + row[\"item\"] + \"}}\\n\"\n",
    "  return out + '}}\\n'\n",
    "\n",
    "\n",
    "\n",
    "def generate_valid_wikipage(model, tokenizer, person):\n",
    "  acceptance_rate = 1.0\n",
    "  best_rate = 0.0\n",
    "  best_bio = \"\"\n",
    "  while best_rate < acceptance_rate:\n",
    "    # Every time decrease by a percent\n",
    "    acceptance_rate -= 0.05\n",
    "    print(f\"Generating for acceptance rate {acceptance_rate}, best score {best_rate}\")\n",
    "    bios = generate_biography(model, tokenizer, person)\n",
    "\n",
    "    for bio in bios:\n",
    "      # Drop if duplicate section\n",
    "      sections = re.findall(\"== ([A-Za-z]+) ==\", bio)\n",
    "      if len(sections) != len(set(sections)):\n",
    "        print(\"Section duplicate detected\")\n",
    "        continue\n",
    "\n",
    "      if bool(re.search(\"(<\\|[a-z]+\\|>)|(\\[[^\\]]+\\])\", bio.split(\"<|summary|>\")[1].replace(\"<|section|>\", \"\"))):\n",
    "        print(\"Wild tokens found!\")\n",
    "        continue\n",
    "\n",
    "      score = structural_accuracy(bio)\n",
    "      if score > best_rate:\n",
    "        best_bio = bio\n",
    "        best_rate = score\n",
    "  return best_bio"
   ]
  },
  {
   "cell_type": "code",
   "execution_count": null,
   "metadata": {
    "id": "olLY1FpOuQyw"
   },
   "outputs": [],
   "source": [
    "site = pywikibot.Site()\n",
    "site.login()\n",
    "\n",
    "def enrich_valid_wikipage(text):\n",
    "  results = nlp(text)\n",
    "  replacables = []\n",
    "  for ent in results.ents:\n",
    "    if ent.label_ == \"GPE\":\n",
    "      replacables.append(ent.text)\n",
    "    if (ent.label_ == \"ORG\") and (\"university\" in ent.text.lower()):\n",
    "      replacables.append(ent.text)\n",
    "\n",
    "  if len(replacables)==0:\n",
    "    return text\n",
    "\n",
    "  replacables = [re.sub(\"(^the\\s+)|(\\(.+)\", \"\", rep).strip() for rep in replacables]\n",
    "\n",
    "  out = \"\"\n",
    "  for rep in replacables:\n",
    "    splits = text.split(rep, 1)\n",
    "    out += splits[0] + f\"[[wikipedia:{rep}|]]\"\n",
    "    text = splits[1]\n",
    "  return out + text\n",
    "\n",
    "def upload_wikibio(person, infobox):\n",
    "  person_data, person_wiki = person.split(\" <|summary|> \")[0:2]\n",
    "  person_name = re.findall(\"<\\|start\\|>\\s*([^<]+)\\s*<\", person_data)[0]\n",
    "  page = pywikibot.Page(site, person_name)\n",
    "  page.text = infobox + enrich_valid_wikipage(person_wiki)\n",
    "  page.save(\"New version of biography generated\")\n",
    "  return page.text\n",
    "\n",
    "def generation_pipeline(row):\n",
    "  content = data2text(row)\n",
    "  infobox = data2infobox(row)\n",
    "\n",
    "  bio = generate_valid_wikipage(model, tokenizer, content).replace(\" <|section|> \", \"\\n\\n\")\n",
    "  final_page = upload_wikibio(bio, infobox)\n",
    "  #print(final_page)\n",
    "\n",
    "tqdm.pandas()"
   ]
  },
  {
   "cell_type": "code",
   "execution_count": null,
   "metadata": {
    "colab": {
     "base_uri": "https://localhost:8080/",
     "height": 1000,
     "referenced_widgets": [
      "87be5fcf7a4d47639b630c20fb67b00b",
      "e8e02fa2b51c423b9d54c8a4fd3007f4",
      "7ef4dd3a71744c399ea921f620a40dbe",
      "f2919508e16f4c279b0533776e70d59f",
      "ae5569bf19584002b641518e1da234a5",
      "bde157a60b61471f8979c31f8643ee4c",
      "19e251a0d9d44d97b7f444eeb473e5d6",
      "18867e2c9fba4808bd37528c2b6475ac"
     ]
    },
    "id": "tNgMVK730LtN",
    "outputId": "00de2a17-8553-4141-9507-b230d1afaf9c"
   },
   "outputs": [
    {
     "data": {
      "application/vnd.jupyter.widget-view+json": {
       "model_id": "87be5fcf7a4d47639b630c20fb67b00b",
       "version_major": 2,
       "version_minor": 0
      },
      "text/plain": [
       "HBox(children=(FloatProgress(value=0.0, max=479.0), HTML(value='')))"
      ]
     },
     "metadata": {
      "tags": []
     },
     "output_type": "display_data"
    },
    {
     "name": "stdout",
     "output_type": "stream",
     "text": [
      "Generating for acceptance rate 0.95, best score 0.0\n",
      "Wild tokens found!\n",
      "Section duplicate detected\n"
     ]
    },
    {
     "name": "stderr",
     "output_type": "stream",
     "text": [
      "Page [[Gian Girolamo Zannichelli]] saved\n"
     ]
    },
    {
     "name": "stdout",
     "output_type": "stream",
     "text": [
      "Generating for acceptance rate 0.95, best score 0.0\n",
      "Wild tokens found!\n",
      "Wild tokens found!\n",
      "Wild tokens found!\n"
     ]
    },
    {
     "name": "stderr",
     "output_type": "stream",
     "text": [
      "Page [[Camillo Silvestri]] saved\n"
     ]
    },
    {
     "name": "stdout",
     "output_type": "stream",
     "text": [
      "Generating for acceptance rate 0.95, best score 0.0\n"
     ]
    },
    {
     "name": "stderr",
     "output_type": "stream",
     "text": [
      "Page [[Germanico Savorgnan]] saved\n"
     ]
    },
    {
     "name": "stdout",
     "output_type": "stream",
     "text": [
      "Generating for acceptance rate 0.95, best score 0.0\n",
      "Wild tokens found!\n"
     ]
    },
    {
     "name": "stderr",
     "output_type": "stream",
     "text": [
      "Page [[Giovanni Matteo Picchi]] saved\n"
     ]
    },
    {
     "name": "stdout",
     "output_type": "stream",
     "text": [
      "Generating for acceptance rate 0.95, best score 0.0\n",
      "Wild tokens found!\n",
      "Wild tokens found!\n",
      "Wild tokens found!\n",
      "Wild tokens found!\n",
      "Generating for acceptance rate 0.8999999999999999, best score 0.8666666666666667\n",
      "Wild tokens found!\n",
      "Generating for acceptance rate 0.8499999999999999, best score 0.8666666666666667\n",
      "Wild tokens found!\n"
     ]
    },
    {
     "name": "stderr",
     "output_type": "stream",
     "text": [
      "Page [[Giovan Jacopo Dionisi]] saved\n"
     ]
    },
    {
     "name": "stdout",
     "output_type": "stream",
     "text": [
      "Generating for acceptance rate 0.95, best score 0.0\n"
     ]
    },
    {
     "name": "stderr",
     "output_type": "stream",
     "text": [
      "Page [[Pietro Cocco]] saved\n"
     ]
    },
    {
     "name": "stdout",
     "output_type": "stream",
     "text": [
      "Generating for acceptance rate 0.95, best score 0.0\n",
      "Wild tokens found!\n"
     ]
    },
    {
     "name": "stderr",
     "output_type": "stream",
     "text": [
      "Page [[Ludovico Odasio]] saved\n"
     ]
    },
    {
     "name": "stdout",
     "output_type": "stream",
     "text": [
      "Generating for acceptance rate 0.95, best score 0.0\n",
      "Generating for acceptance rate 0.8999999999999999, best score 0.8\n",
      "Section duplicate detected\n",
      "Section duplicate detected\n",
      "Generating for acceptance rate 0.8499999999999999, best score 0.8\n",
      "Section duplicate detected\n",
      "Wild tokens found!\n",
      "Section duplicate detected\n",
      "Generating for acceptance rate 0.7999999999999998, best score 0.8\n",
      "Wild tokens found!\n"
     ]
    },
    {
     "name": "stderr",
     "output_type": "stream",
     "text": [
      "Page [[Alessandro Lisca]] saved\n"
     ]
    },
    {
     "name": "stdout",
     "output_type": "stream",
     "text": [
      "Generating for acceptance rate 0.95, best score 0.0\n",
      "Generating for acceptance rate 0.8999999999999999, best score 0.8571428571428571\n",
      "Wild tokens found!\n",
      "Section duplicate detected\n",
      "Generating for acceptance rate 0.8499999999999999, best score 0.8571428571428571\n",
      "Wild tokens found!\n",
      "Section duplicate detected\n",
      "Wild tokens found!\n"
     ]
    },
    {
     "name": "stderr",
     "output_type": "stream",
     "text": [
      "Page [[Gaudenzio Fagienci]] saved\n"
     ]
    },
    {
     "name": "stdout",
     "output_type": "stream",
     "text": [
      "Generating for acceptance rate 0.95, best score 0.0\n",
      "Wild tokens found!\n",
      "Wild tokens found!\n",
      "Wild tokens found!\n",
      "Wild tokens found!\n"
     ]
    },
    {
     "name": "stderr",
     "output_type": "stream",
     "text": [
      "Page [[Giacomo Badoer]] saved\n"
     ]
    },
    {
     "name": "stdout",
     "output_type": "stream",
     "text": [
      "Generating for acceptance rate 0.95, best score 0.0\n",
      "Wild tokens found!\n",
      "Wild tokens found!\n",
      "Wild tokens found!\n"
     ]
    },
    {
     "name": "stderr",
     "output_type": "stream",
     "text": [
      "Page [[Giuseppe Rospigliosi]] saved\n"
     ]
    },
    {
     "name": "stdout",
     "output_type": "stream",
     "text": [
      "Generating for acceptance rate 0.95, best score 0.0\n",
      "Wild tokens found!\n",
      "Wild tokens found!\n",
      "Wild tokens found!\n",
      "Wild tokens found!\n"
     ]
    },
    {
     "name": "stderr",
     "output_type": "stream",
     "text": [
      "Page [[Giovanni Tommaso Faccioli]] saved\n"
     ]
    },
    {
     "name": "stdout",
     "output_type": "stream",
     "text": [
      "Generating for acceptance rate 0.95, best score 0.0\n",
      "Wild tokens found!\n"
     ]
    },
    {
     "name": "stderr",
     "output_type": "stream",
     "text": [
      "Page [[Giovanni Antonio Agostini]] saved\n"
     ]
    },
    {
     "name": "stdout",
     "output_type": "stream",
     "text": [
      "Generating for acceptance rate 0.95, best score 0.0\n",
      "Wild tokens found!\n"
     ]
    },
    {
     "name": "stderr",
     "output_type": "stream",
     "text": [
      "Page [[Placido Bordoni]] saved\n"
     ]
    },
    {
     "name": "stdout",
     "output_type": "stream",
     "text": [
      "Generating for acceptance rate 0.95, best score 0.0\n",
      "Generating for acceptance rate 0.8999999999999999, best score 0.8571428571428571\n",
      "Generating for acceptance rate 0.8499999999999999, best score 0.8571428571428571\n",
      "Wild tokens found!\n"
     ]
    },
    {
     "name": "stderr",
     "output_type": "stream",
     "text": [
      "Page [[Giovanni Prosdocimo Zabeo]] saved\n"
     ]
    },
    {
     "name": "stdout",
     "output_type": "stream",
     "text": [
      "Generating for acceptance rate 0.95, best score 0.0\n"
     ]
    },
    {
     "name": "stderr",
     "output_type": "stream",
     "text": [
      "Page [[Giovanni Battista Recanati]] saved\n"
     ]
    },
    {
     "name": "stdout",
     "output_type": "stream",
     "text": [
      "Generating for acceptance rate 0.95, best score 0.0\n"
     ]
    },
    {
     "name": "stderr",
     "output_type": "stream",
     "text": [
      "Page [[Giorgio Gentili]] saved\n"
     ]
    },
    {
     "name": "stdout",
     "output_type": "stream",
     "text": [
      "Generating for acceptance rate 0.95, best score 0.0\n"
     ]
    },
    {
     "name": "stderr",
     "output_type": "stream",
     "text": [
      "Page [[Mathias Stabinger]] saved\n"
     ]
    },
    {
     "name": "stdout",
     "output_type": "stream",
     "text": [
      "Generating for acceptance rate 0.95, best score 0.0\n",
      "Wild tokens found!\n",
      "Wild tokens found!\n"
     ]
    },
    {
     "name": "stderr",
     "output_type": "stream",
     "text": [
      "Page [[Bartolomeo Zamberti]] saved\n"
     ]
    },
    {
     "name": "stdout",
     "output_type": "stream",
     "text": [
      "Generating for acceptance rate 0.95, best score 0.0\n"
     ]
    },
    {
     "name": "stderr",
     "output_type": "stream",
     "text": [
      "Page [[Lorenzo Muttoni]] saved\n"
     ]
    },
    {
     "name": "stdout",
     "output_type": "stream",
     "text": [
      "Generating for acceptance rate 0.95, best score 0.0\n",
      "Wild tokens found!\n",
      "Wild tokens found!\n",
      "Wild tokens found!\n",
      "Wild tokens found!\n",
      "Wild tokens found!\n",
      "Wild tokens found!\n",
      "Wild tokens found!\n",
      "Wild tokens found!\n",
      "Wild tokens found!\n",
      "Wild tokens found!\n",
      "Wild tokens found!\n",
      "Wild tokens found!\n"
     ]
    },
    {
     "name": "stderr",
     "output_type": "stream",
     "text": [
      "Page [[Tommaso Antonio Contin]] saved\n"
     ]
    },
    {
     "name": "stdout",
     "output_type": "stream",
     "text": [
      "Generating for acceptance rate 0.95, best score 0.0\n",
      "Wild tokens found!\n",
      "Wild tokens found!\n",
      "Wild tokens found!\n"
     ]
    },
    {
     "name": "stderr",
     "output_type": "stream",
     "text": [
      "Page [[Angelo Costantini]] saved\n"
     ]
    },
    {
     "name": "stdout",
     "output_type": "stream",
     "text": [
      "Generating for acceptance rate 0.95, best score 0.0\n",
      "Wild tokens found!\n",
      "Wild tokens found!\n",
      "Wild tokens found!\n"
     ]
    },
    {
     "name": "stderr",
     "output_type": "stream",
     "text": [
      "Page [[Anton Maria Lamberti]] saved\n"
     ]
    },
    {
     "name": "stdout",
     "output_type": "stream",
     "text": [
      "Generating for acceptance rate 0.95, best score 0.0\n",
      "Generating for acceptance rate 0.8999999999999999, best score 0.8\n",
      "Wild tokens found!\n",
      "Wild tokens found!\n"
     ]
    },
    {
     "name": "stderr",
     "output_type": "stream",
     "text": [
      "Page [[Carteromaco]] saved\n"
     ]
    },
    {
     "name": "stdout",
     "output_type": "stream",
     "text": [
      "Generating for acceptance rate 0.95, best score 0.0\n",
      "Wild tokens found!\n",
      "Wild tokens found!\n",
      "Wild tokens found!\n",
      "Wild tokens found!\n",
      "Generating for acceptance rate 0.8999999999999999, best score 0.8333333333333334\n",
      "Wild tokens found!\n",
      "Wild tokens found!\n"
     ]
    },
    {
     "name": "stderr",
     "output_type": "stream",
     "text": [
      "Page [[Antonio de Scaramelli]] saved\n"
     ]
    },
    {
     "name": "stdout",
     "output_type": "stream",
     "text": [
      "Generating for acceptance rate 0.95, best score 0.0\n",
      "Wild tokens found!\n"
     ]
    },
    {
     "name": "stderr",
     "output_type": "stream",
     "text": [
      "Page [[Emilio Altieri, II principe di Oriolo]] saved\n"
     ]
    },
    {
     "name": "stdout",
     "output_type": "stream",
     "text": [
      "Generating for acceptance rate 0.95, best score 0.0\n"
     ]
    },
    {
     "name": "stderr",
     "output_type": "stream",
     "text": [
      "Page [[Cortese Cortesi]] saved\n"
     ]
    },
    {
     "name": "stdout",
     "output_type": "stream",
     "text": [
      "Generating for acceptance rate 0.95, best score 0.0\n",
      "Wild tokens found!\n"
     ]
    },
    {
     "name": "stderr",
     "output_type": "stream",
     "text": [
      "Page [[Simeone Difnico]] saved\n"
     ]
    },
    {
     "name": "stdout",
     "output_type": "stream",
     "text": [
      "Generating for acceptance rate 0.95, best score 0.0\n"
     ]
    },
    {
     "name": "stderr",
     "output_type": "stream",
     "text": [
      "Page [[Jacopo Muselli]] saved\n"
     ]
    },
    {
     "name": "stdout",
     "output_type": "stream",
     "text": [
      "Generating for acceptance rate 0.95, best score 0.0\n",
      "Wild tokens found!\n"
     ]
    },
    {
     "name": "stderr",
     "output_type": "stream",
     "text": [
      "Page [[Antonio Meneghelli]] saved\n"
     ]
    },
    {
     "name": "stdout",
     "output_type": "stream",
     "text": [
      "Generating for acceptance rate 0.95, best score 0.0\n",
      "Generating for acceptance rate 0.8999999999999999, best score 0.875\n",
      "Wild tokens found!\n",
      "Generating for acceptance rate 0.8499999999999999, best score 0.875\n",
      "Wild tokens found!\n",
      "Wild tokens found!\n"
     ]
    },
    {
     "name": "stderr",
     "output_type": "stream",
     "text": [
      "Page [[Giovanni Battista Maganza]] saved\n"
     ]
    },
    {
     "name": "stdout",
     "output_type": "stream",
     "text": [
      "Generating for acceptance rate 0.95, best score 0.0\n"
     ]
    },
    {
     "name": "stderr",
     "output_type": "stream",
     "text": [
      "Page [[Silvia Curtoni Verza]] saved\n"
     ]
    },
    {
     "name": "stdout",
     "output_type": "stream",
     "text": [
      "Generating for acceptance rate 0.95, best score 0.0\n"
     ]
    },
    {
     "name": "stderr",
     "output_type": "stream",
     "text": [
      "Page [[Toma Babić]] saved\n"
     ]
    },
    {
     "name": "stdout",
     "output_type": "stream",
     "text": [
      "Generating for acceptance rate 0.95, best score 0.0\n",
      "Section duplicate detected\n",
      "Wild tokens found!\n"
     ]
    },
    {
     "name": "stderr",
     "output_type": "stream",
     "text": [
      "Page [[Vitruvio Buonconsiglio]] saved\n"
     ]
    },
    {
     "name": "stdout",
     "output_type": "stream",
     "text": [
      "Generating for acceptance rate 0.95, best score 0.0\n",
      "Wild tokens found!\n",
      "Wild tokens found!\n"
     ]
    },
    {
     "name": "stderr",
     "output_type": "stream",
     "text": [
      "Page [[Girolamo Discepolo]] saved\n"
     ]
    },
    {
     "name": "stdout",
     "output_type": "stream",
     "text": [
      "Generating for acceptance rate 0.95, best score 0.0\n"
     ]
    },
    {
     "name": "stderr",
     "output_type": "stream",
     "text": [
      "Page [[Lucia Scaligeri]] saved\n"
     ]
    },
    {
     "name": "stdout",
     "output_type": "stream",
     "text": [
      "Generating for acceptance rate 0.95, best score 0.0\n",
      "Wild tokens found!\n",
      "Wild tokens found!\n"
     ]
    },
    {
     "name": "stderr",
     "output_type": "stream",
     "text": [
      "Page [[Contessa Tagliapietra]] saved\n"
     ]
    },
    {
     "name": "stdout",
     "output_type": "stream",
     "text": [
      "Generating for acceptance rate 0.95, best score 0.0\n",
      "Section duplicate detected\n",
      "Section duplicate detected\n",
      "Generating for acceptance rate 0.8999999999999999, best score 0.8888888888888888\n",
      "Generating for acceptance rate 0.8499999999999999, best score 0.8888888888888888\n",
      "Wild tokens found!\n",
      "Wild tokens found!\n"
     ]
    },
    {
     "name": "stderr",
     "output_type": "stream",
     "text": [
      "Page [[Alessandro Carriero]] saved\n"
     ]
    },
    {
     "name": "stdout",
     "output_type": "stream",
     "text": [
      "Generating for acceptance rate 0.95, best score 0.0\n",
      "Wild tokens found!\n",
      "Wild tokens found!\n"
     ]
    },
    {
     "name": "stderr",
     "output_type": "stream",
     "text": [
      "Page [[Giacomo Cocco]] saved\n"
     ]
    },
    {
     "name": "stdout",
     "output_type": "stream",
     "text": [
      "Generating for acceptance rate 0.95, best score 0.0\n",
      "Wild tokens found!\n"
     ]
    },
    {
     "name": "stderr",
     "output_type": "stream",
     "text": [
      "Page [[Alvise Emo]] saved\n"
     ]
    },
    {
     "name": "stdout",
     "output_type": "stream",
     "text": [
      "Generating for acceptance rate 0.95, best score 0.0\n",
      "Wild tokens found!\n"
     ]
    },
    {
     "name": "stderr",
     "output_type": "stream",
     "text": [
      "Page [[Pietro Bussolin]] saved\n"
     ]
    },
    {
     "name": "stdout",
     "output_type": "stream",
     "text": [
      "Generating for acceptance rate 0.95, best score 0.0\n",
      "Wild tokens found!\n"
     ]
    },
    {
     "name": "stderr",
     "output_type": "stream",
     "text": [
      "Page [[Louis III Gonzaga]] saved\n"
     ]
    },
    {
     "name": "stdout",
     "output_type": "stream",
     "text": [
      "Generating for acceptance rate 0.95, best score 0.0\n",
      "Generating for acceptance rate 0.8999999999999999, best score 0.8888888888888888\n",
      "Wild tokens found!\n",
      "Wild tokens found!\n",
      "Wild tokens found!\n",
      "Generating for acceptance rate 0.8499999999999999, best score 0.8888888888888888\n",
      "Wild tokens found!\n",
      "Wild tokens found!\n"
     ]
    },
    {
     "name": "stderr",
     "output_type": "stream",
     "text": [
      "Page [[Giovanni Battista Costantini]] saved\n"
     ]
    },
    {
     "name": "stdout",
     "output_type": "stream",
     "text": [
      "Generating for acceptance rate 0.95, best score 0.0\n",
      "Wild tokens found!\n"
     ]
    },
    {
     "name": "stderr",
     "output_type": "stream",
     "text": [
      "Page [[Giovanni Molin]] saved\n"
     ]
    },
    {
     "name": "stdout",
     "output_type": "stream",
     "text": [
      "Generating for acceptance rate 0.95, best score 0.0\n",
      "Wild tokens found!\n",
      "Wild tokens found!\n",
      "Wild tokens found!\n"
     ]
    },
    {
     "name": "stderr",
     "output_type": "stream",
     "text": [
      "Page [[Antonio Maria Gardini]] saved\n"
     ]
    },
    {
     "name": "stdout",
     "output_type": "stream",
     "text": [
      "Generating for acceptance rate 0.95, best score 0.0\n",
      "Wild tokens found!\n",
      "Wild tokens found!\n",
      "Wild tokens found!\n"
     ]
    },
    {
     "name": "stderr",
     "output_type": "stream",
     "text": [
      "Page [[Vincenzo Formaleoni]] saved\n"
     ]
    },
    {
     "name": "stdout",
     "output_type": "stream",
     "text": [
      "Generating for acceptance rate 0.95, best score 0.0\n"
     ]
    },
    {
     "name": "stderr",
     "output_type": "stream",
     "text": [
      "Page [[Agostino Chigi]] saved\n"
     ]
    },
    {
     "name": "stdout",
     "output_type": "stream",
     "text": [
      "Generating for acceptance rate 0.95, best score 0.0\n",
      "Wild tokens found!\n"
     ]
    },
    {
     "name": "stderr",
     "output_type": "stream",
     "text": [
      "Page [[Vincenzo Formaleoni]] saved\n"
     ]
    },
    {
     "name": "stdout",
     "output_type": "stream",
     "text": [
      "Generating for acceptance rate 0.95, best score 0.0\n",
      "Wild tokens found!\n",
      "Wild tokens found!\n",
      "Wild tokens found!\n",
      "Wild tokens found!\n"
     ]
    },
    {
     "name": "stderr",
     "output_type": "stream",
     "text": [
      "Page [[Francesco di Vannozzo]] saved\n"
     ]
    },
    {
     "name": "stdout",
     "output_type": "stream",
     "text": [
      "Generating for acceptance rate 0.95, best score 0.0\n"
     ]
    },
    {
     "name": "stderr",
     "output_type": "stream",
     "text": [
      "Page [[Andrea Torresano]] saved\n"
     ]
    },
    {
     "name": "stdout",
     "output_type": "stream",
     "text": [
      "Generating for acceptance rate 0.95, best score 0.0\n"
     ]
    },
    {
     "name": "stderr",
     "output_type": "stream",
     "text": [
      "Page [[Marco Manuzio]] saved\n"
     ]
    },
    {
     "name": "stdout",
     "output_type": "stream",
     "text": [
      "Generating for acceptance rate 0.95, best score 0.0\n"
     ]
    },
    {
     "name": "stderr",
     "output_type": "stream",
     "text": [
      "Page [[Giacomo Diedo]] saved\n"
     ]
    },
    {
     "name": "stdout",
     "output_type": "stream",
     "text": [
      "Generating for acceptance rate 0.95, best score 0.0\n"
     ]
    },
    {
     "name": "stderr",
     "output_type": "stream",
     "text": [
      "Page [[Pietro Alborghetti]] saved\n"
     ]
    },
    {
     "name": "stdout",
     "output_type": "stream",
     "text": [
      "Generating for acceptance rate 0.95, best score 0.0\n",
      "Wild tokens found!\n"
     ]
    },
    {
     "name": "stderr",
     "output_type": "stream",
     "text": [
      "Page [[Marco Antonio Sanfermo]] saved\n"
     ]
    },
    {
     "name": "stdout",
     "output_type": "stream",
     "text": [
      "Generating for acceptance rate 0.95, best score 0.0\n"
     ]
    },
    {
     "name": "stderr",
     "output_type": "stream",
     "text": [
      "Page [[Antonio Uberti]] saved\n"
     ]
    },
    {
     "name": "stdout",
     "output_type": "stream",
     "text": [
      "Generating for acceptance rate 0.95, best score 0.0\n"
     ]
    },
    {
     "name": "stderr",
     "output_type": "stream",
     "text": [
      "Page [[Matteo Alberti]] saved\n"
     ]
    },
    {
     "name": "stdout",
     "output_type": "stream",
     "text": [
      "Generating for acceptance rate 0.95, best score 0.0\n"
     ]
    },
    {
     "name": "stderr",
     "output_type": "stream",
     "text": [
      "Page [[Lorenzo Zucchi]] saved\n"
     ]
    },
    {
     "name": "stdout",
     "output_type": "stream",
     "text": [
      "Generating for acceptance rate 0.95, best score 0.0\n",
      "Wild tokens found!\n",
      "Wild tokens found!\n",
      "Wild tokens found!\n"
     ]
    },
    {
     "name": "stderr",
     "output_type": "stream",
     "text": [
      "Page [[Bagion Dolfin]] saved\n"
     ]
    },
    {
     "name": "stdout",
     "output_type": "stream",
     "text": [
      "Generating for acceptance rate 0.95, best score 0.0\n",
      "Section duplicate detected\n",
      "Section duplicate detected\n",
      "Wild tokens found!\n",
      "Section duplicate detected\n"
     ]
    },
    {
     "name": "stderr",
     "output_type": "stream",
     "text": [
      "Page [[Antonio Lazzari]] saved\n"
     ]
    },
    {
     "name": "stdout",
     "output_type": "stream",
     "text": [
      "Generating for acceptance rate 0.95, best score 0.0\n"
     ]
    },
    {
     "name": "stderr",
     "output_type": "stream",
     "text": [
      "Page [[Giovanni Gradenigo]] saved\n"
     ]
    },
    {
     "name": "stdout",
     "output_type": "stream",
     "text": [
      "Generating for acceptance rate 0.95, best score 0.0\n",
      "Wild tokens found!\n",
      "Section duplicate detected\n",
      "Wild tokens found!\n"
     ]
    },
    {
     "name": "stderr",
     "output_type": "stream",
     "text": [
      "Page [[Vittore Benzon]] saved\n"
     ]
    },
    {
     "name": "stdout",
     "output_type": "stream",
     "text": [
      "Generating for acceptance rate 0.95, best score 0.0\n",
      "Wild tokens found!\n",
      "Wild tokens found!\n"
     ]
    },
    {
     "name": "stderr",
     "output_type": "stream",
     "text": [
      "Page [[Giovanni Brevio]] saved\n"
     ]
    },
    {
     "name": "stdout",
     "output_type": "stream",
     "text": [
      "Generating for acceptance rate 0.95, best score 0.0\n"
     ]
    },
    {
     "name": "stderr",
     "output_type": "stream",
     "text": [
      "Page [[Giuseppe Maria Peruzzi]] saved\n"
     ]
    },
    {
     "name": "stdout",
     "output_type": "stream",
     "text": [
      "Generating for acceptance rate 0.95, best score 0.0\n",
      "Wild tokens found!\n",
      "Section duplicate detected\n",
      "Wild tokens found!\n",
      "Wild tokens found!\n"
     ]
    },
    {
     "name": "stderr",
     "output_type": "stream",
     "text": [
      "Page [[Rossi]] saved\n"
     ]
    },
    {
     "name": "stdout",
     "output_type": "stream",
     "text": [
      "Generating for acceptance rate 0.95, best score 0.0\n",
      "Wild tokens found!\n",
      "Wild tokens found!\n",
      "Wild tokens found!\n",
      "Wild tokens found!\n",
      "Wild tokens found!\n"
     ]
    },
    {
     "name": "stderr",
     "output_type": "stream",
     "text": [
      "Page [[Girolamo Bologni]] saved\n"
     ]
    },
    {
     "name": "stdout",
     "output_type": "stream",
     "text": [
      "Generating for acceptance rate 0.95, best score 0.0\n",
      "Generating for acceptance rate 0.8999999999999999, best score 0.9230769230769231\n"
     ]
    },
    {
     "name": "stderr",
     "output_type": "stream",
     "text": [
      "Page [[Geōrgios Vendotēs]] saved\n"
     ]
    },
    {
     "name": "stdout",
     "output_type": "stream",
     "text": [
      "Generating for acceptance rate 0.95, best score 0.0\n",
      "Wild tokens found!\n",
      "Wild tokens found!\n"
     ]
    },
    {
     "name": "stderr",
     "output_type": "stream",
     "text": [
      "Page [[Girolamo Righetto]] saved\n"
     ]
    },
    {
     "name": "stdout",
     "output_type": "stream",
     "text": [
      "Generating for acceptance rate 0.95, best score 0.0\n",
      "Wild tokens found!\n"
     ]
    },
    {
     "name": "stderr",
     "output_type": "stream",
     "text": [
      "Page [[Bonaventura Furlanetto]] saved\n"
     ]
    },
    {
     "name": "stdout",
     "output_type": "stream",
     "text": [
      "Generating for acceptance rate 0.95, best score 0.0\n"
     ]
    },
    {
     "name": "stderr",
     "output_type": "stream",
     "text": [
      "Page [[Pietro Monaco]] saved\n"
     ]
    },
    {
     "name": "stdout",
     "output_type": "stream",
     "text": [
      "Generating for acceptance rate 0.95, best score 0.0\n"
     ]
    },
    {
     "name": "stderr",
     "output_type": "stream",
     "text": [
      "Page [[Andrea Bondumier]] saved\n"
     ]
    },
    {
     "name": "stdout",
     "output_type": "stream",
     "text": [
      "Generating for acceptance rate 0.95, best score 0.0\n",
      "Wild tokens found!\n",
      "Wild tokens found!\n",
      "Wild tokens found!\n",
      "Wild tokens found!\n",
      "Generating for acceptance rate 0.8999999999999999, best score 0.8\n",
      "Wild tokens found!\n",
      "Wild tokens found!\n",
      "Generating for acceptance rate 0.8499999999999999, best score 0.8\n",
      "Wild tokens found!\n",
      "Wild tokens found!\n",
      "Wild tokens found!\n",
      "Wild tokens found!\n"
     ]
    },
    {
     "name": "stderr",
     "output_type": "stream",
     "text": [
      "Page [[Giuseppe Treves]] saved\n"
     ]
    },
    {
     "name": "stdout",
     "output_type": "stream",
     "text": [
      "Generating for acceptance rate 0.95, best score 0.0\n"
     ]
    },
    {
     "name": "stderr",
     "output_type": "stream",
     "text": [
      "Page [[Vincenzo Morosini]] saved\n"
     ]
    },
    {
     "name": "stdout",
     "output_type": "stream",
     "text": [
      "Generating for acceptance rate 0.95, best score 0.0\n",
      "Wild tokens found!\n",
      "Section duplicate detected\n",
      "Wild tokens found!\n"
     ]
    },
    {
     "name": "stderr",
     "output_type": "stream",
     "text": [
      "Page [[Caterino Zeno]] saved\n"
     ]
    },
    {
     "name": "stdout",
     "output_type": "stream",
     "text": [
      "Generating for acceptance rate 0.95, best score 0.0\n",
      "Section duplicate detected\n",
      "Wild tokens found!\n",
      "Generating for acceptance rate 0.8999999999999999, best score 0.8333333333333334\n",
      "Wild tokens found!\n"
     ]
    },
    {
     "name": "stderr",
     "output_type": "stream",
     "text": [
      "Page [[Alessandro Nievo]] saved\n"
     ]
    },
    {
     "name": "stdout",
     "output_type": "stream",
     "text": [
      "Generating for acceptance rate 0.95, best score 0.0\n"
     ]
    },
    {
     "name": "stderr",
     "output_type": "stream",
     "text": [
      "Page [[Giacomo Cocco]] saved\n"
     ]
    },
    {
     "name": "stdout",
     "output_type": "stream",
     "text": [
      "Generating for acceptance rate 0.95, best score 0.0\n"
     ]
    },
    {
     "name": "stderr",
     "output_type": "stream",
     "text": [
      "Page [[Pietro Massolo]] saved\n"
     ]
    },
    {
     "name": "stdout",
     "output_type": "stream",
     "text": [
      "Generating for acceptance rate 0.95, best score 0.0\n"
     ]
    },
    {
     "name": "stderr",
     "output_type": "stream",
     "text": [
      "Page [[Giovanni Benedetto Giovanelli]] saved\n"
     ]
    },
    {
     "name": "stdout",
     "output_type": "stream",
     "text": [
      "Generating for acceptance rate 0.95, best score 0.0\n"
     ]
    },
    {
     "name": "stderr",
     "output_type": "stream",
     "text": [
      "Page [[Giovanni Battista Grassi]] saved\n"
     ]
    },
    {
     "name": "stdout",
     "output_type": "stream",
     "text": [
      "Generating for acceptance rate 0.95, best score 0.0\n",
      "Wild tokens found!\n",
      "Section duplicate detected\n"
     ]
    },
    {
     "name": "stderr",
     "output_type": "stream",
     "text": [
      "Page [[Orazio Toscanella]] saved\n"
     ]
    },
    {
     "name": "stdout",
     "output_type": "stream",
     "text": [
      "Generating for acceptance rate 0.95, best score 0.0\n",
      "Wild tokens found!\n",
      "Wild tokens found!\n",
      "Wild tokens found!\n",
      "Wild tokens found!\n"
     ]
    },
    {
     "name": "stderr",
     "output_type": "stream",
     "text": [
      "Page [[Bonaventura Furlanetto]] saved\n"
     ]
    },
    {
     "name": "stdout",
     "output_type": "stream",
     "text": [
      "Generating for acceptance rate 0.95, best score 0.0\n",
      "Wild tokens found!\n",
      "Wild tokens found!\n"
     ]
    },
    {
     "name": "stderr",
     "output_type": "stream",
     "text": [
      "Page [[Pantaleone Giustinian]] saved\n"
     ]
    },
    {
     "name": "stdout",
     "output_type": "stream",
     "text": [
      "Generating for acceptance rate 0.95, best score 0.0\n",
      "Wild tokens found!\n"
     ]
    },
    {
     "name": "stderr",
     "output_type": "stream",
     "text": [
      "Page [[Giovanni Battista VI Giuseppe Albrizzi]] saved\n"
     ]
    },
    {
     "name": "stdout",
     "output_type": "stream",
     "text": [
      "Generating for acceptance rate 0.95, best score 0.0\n"
     ]
    },
    {
     "name": "stderr",
     "output_type": "stream",
     "text": [
      "Page [[Ramperto Polo]] saved\n"
     ]
    },
    {
     "name": "stdout",
     "output_type": "stream",
     "text": [
      "Generating for acceptance rate 0.95, best score 0.0\n"
     ]
    },
    {
     "name": "stderr",
     "output_type": "stream",
     "text": [
      "Page [[Venceslav Boiani]] saved\n"
     ]
    },
    {
     "name": "stdout",
     "output_type": "stream",
     "text": [
      "Generating for acceptance rate 0.95, best score 0.0\n"
     ]
    },
    {
     "name": "stderr",
     "output_type": "stream",
     "text": [
      "Page [[Giacomo Chiodo]] saved\n"
     ]
    },
    {
     "name": "stdout",
     "output_type": "stream",
     "text": [
      "Generating for acceptance rate 0.95, best score 0.0\n",
      "Generating for acceptance rate 0.8999999999999999, best score 0.8333333333333334\n",
      "Section duplicate detected\n",
      "Wild tokens found!\n",
      "Generating for acceptance rate 0.8499999999999999, best score 0.8333333333333334\n",
      "Wild tokens found!\n",
      "Wild tokens found!\n",
      "Wild tokens found!\n",
      "Generating for acceptance rate 0.7999999999999998, best score 0.8333333333333334\n"
     ]
    },
    {
     "name": "stderr",
     "output_type": "stream",
     "text": [
      "Page [[Giofredo Cornaro del Carpasso]] saved\n"
     ]
    },
    {
     "name": "stdout",
     "output_type": "stream",
     "text": [
      "Generating for acceptance rate 0.95, best score 0.0\n"
     ]
    },
    {
     "name": "stderr",
     "output_type": "stream",
     "text": [
      "Page [[Marcantonio Giustinian]] saved\n"
     ]
    },
    {
     "name": "stdout",
     "output_type": "stream",
     "text": [
      "Generating for acceptance rate 0.95, best score 0.0\n",
      "Wild tokens found!\n",
      "Generating for acceptance rate 0.8999999999999999, best score 0.8333333333333334\n",
      "Wild tokens found!\n",
      "Generating for acceptance rate 0.8499999999999999, best score 0.8333333333333334\n",
      "Wild tokens found!\n",
      "Wild tokens found!\n",
      "Generating for acceptance rate 0.7999999999999998, best score 0.8333333333333334\n"
     ]
    },
    {
     "name": "stderr",
     "output_type": "stream",
     "text": [
      "Page [[Jacopo Maria Paitoni]] saved\n"
     ]
    },
    {
     "name": "stdout",
     "output_type": "stream",
     "text": [
      "Generating for acceptance rate 0.95, best score 0.0\n"
     ]
    },
    {
     "name": "stderr",
     "output_type": "stream",
     "text": [
      "Page [[Marc'Antonio Calbo]] saved\n"
     ]
    },
    {
     "name": "stdout",
     "output_type": "stream",
     "text": [
      "Generating for acceptance rate 0.95, best score 0.0\n",
      "Wild tokens found!\n",
      "Wild tokens found!\n"
     ]
    },
    {
     "name": "stderr",
     "output_type": "stream",
     "text": [
      "Page [[Jacob de Martini]] saved\n"
     ]
    },
    {
     "name": "stdout",
     "output_type": "stream",
     "text": [
      "Generating for acceptance rate 0.95, best score 0.0\n",
      "Wild tokens found!\n",
      "Section duplicate detected\n"
     ]
    },
    {
     "name": "stderr",
     "output_type": "stream",
     "text": [
      "Page [[Angelo Zendrini]] saved\n"
     ]
    },
    {
     "name": "stdout",
     "output_type": "stream",
     "text": [
      "Generating for acceptance rate 0.95, best score 0.0\n",
      "Wild tokens found!\n",
      "Generating for acceptance rate 0.8999999999999999, best score 0.8888888888888888\n",
      "Generating for acceptance rate 0.8499999999999999, best score 0.8888888888888888\n",
      "Wild tokens found!\n"
     ]
    },
    {
     "name": "stderr",
     "output_type": "stream",
     "text": [
      "Page [[Gabriel Avedikian]] saved\n"
     ]
    },
    {
     "name": "stdout",
     "output_type": "stream",
     "text": [
      "Generating for acceptance rate 0.95, best score 0.0\n"
     ]
    },
    {
     "name": "stderr",
     "output_type": "stream",
     "text": [
      "Page [[Girolamo Ortis]] saved\n"
     ]
    },
    {
     "name": "stdout",
     "output_type": "stream",
     "text": [
      "Generating for acceptance rate 0.95, best score 0.0\n",
      "Wild tokens found!\n"
     ]
    },
    {
     "name": "stderr",
     "output_type": "stream",
     "text": [
      "Page [[Giovanni Gloria]] saved\n"
     ]
    },
    {
     "name": "stdout",
     "output_type": "stream",
     "text": [
      "Generating for acceptance rate 0.95, best score 0.0\n",
      "Wild tokens found!\n",
      "Section duplicate detected\n"
     ]
    },
    {
     "name": "stderr",
     "output_type": "stream",
     "text": [
      "Page [[Giambattista Mutinelli]] saved\n"
     ]
    },
    {
     "name": "stdout",
     "output_type": "stream",
     "text": [
      "Generating for acceptance rate 0.95, best score 0.0\n",
      "Wild tokens found!\n"
     ]
    },
    {
     "name": "stderr",
     "output_type": "stream",
     "text": [
      "Page [[Bartolomeo Carteri]] saved\n"
     ]
    },
    {
     "name": "stdout",
     "output_type": "stream",
     "text": [
      "Generating for acceptance rate 0.95, best score 0.0\n"
     ]
    },
    {
     "name": "stderr",
     "output_type": "stream",
     "text": [
      "Page [[Simone Gatto]] saved\n"
     ]
    },
    {
     "name": "stdout",
     "output_type": "stream",
     "text": [
      "Generating for acceptance rate 0.95, best score 0.0\n",
      "Wild tokens found!\n",
      "Section duplicate detected\n",
      "Wild tokens found!\n"
     ]
    },
    {
     "name": "stderr",
     "output_type": "stream",
     "text": [
      "Page [[Gasparo Narvesa]] saved\n"
     ]
    },
    {
     "name": "stdout",
     "output_type": "stream",
     "text": [
      "Generating for acceptance rate 0.95, best score 0.0\n"
     ]
    },
    {
     "name": "stderr",
     "output_type": "stream",
     "text": [
      "Page [[Angelo Pietro Galli]] saved\n"
     ]
    },
    {
     "name": "stdout",
     "output_type": "stream",
     "text": [
      "Generating for acceptance rate 0.95, best score 0.0\n",
      "Wild tokens found!\n"
     ]
    },
    {
     "name": "stderr",
     "output_type": "stream",
     "text": [
      "Page [[Angelo Pietro Galli]] saved\n"
     ]
    },
    {
     "name": "stdout",
     "output_type": "stream",
     "text": [
      "Generating for acceptance rate 0.95, best score 0.0\n",
      "Wild tokens found!\n",
      "Wild tokens found!\n"
     ]
    },
    {
     "name": "stderr",
     "output_type": "stream",
     "text": [
      "Page [[Girolamo de Franciscis]] saved\n"
     ]
    },
    {
     "name": "stdout",
     "output_type": "stream",
     "text": [
      "Generating for acceptance rate 0.95, best score 0.0\n",
      "Wild tokens found!\n",
      "Wild tokens found!\n",
      "Generating for acceptance rate 0.8999999999999999, best score 0.8\n",
      "Section duplicate detected\n"
     ]
    },
    {
     "name": "stderr",
     "output_type": "stream",
     "text": [
      "Page [[Raimund Egger]] saved\n"
     ]
    },
    {
     "name": "stdout",
     "output_type": "stream",
     "text": [
      "Generating for acceptance rate 0.95, best score 0.0\n",
      "Section duplicate detected\n",
      "Wild tokens found!\n",
      "Wild tokens found!\n",
      "Section duplicate detected\n",
      "Wild tokens found!\n"
     ]
    },
    {
     "name": "stderr",
     "output_type": "stream",
     "text": [
      "Page [[Enea Arnaldi]] saved\n"
     ]
    },
    {
     "name": "stdout",
     "output_type": "stream",
     "text": [
      "Generating for acceptance rate 0.95, best score 0.0\n",
      "Wild tokens found!\n",
      "Wild tokens found!\n"
     ]
    },
    {
     "name": "stderr",
     "output_type": "stream",
     "text": [
      "Page [[Giovanni Badoer]] saved\n"
     ]
    },
    {
     "name": "stdout",
     "output_type": "stream",
     "text": [
      "Generating for acceptance rate 0.95, best score 0.0\n",
      "Wild tokens found!\n"
     ]
    },
    {
     "name": "stderr",
     "output_type": "stream",
     "text": [
      "Page [[Giovanni Battista Vivaldi]] saved\n"
     ]
    },
    {
     "name": "stdout",
     "output_type": "stream",
     "text": [
      "Generating for acceptance rate 0.95, best score 0.0\n",
      "Wild tokens found!\n"
     ]
    },
    {
     "name": "stderr",
     "output_type": "stream",
     "text": [
      "Page [[Martino De Boni]] saved\n"
     ]
    },
    {
     "name": "stdout",
     "output_type": "stream",
     "text": [
      "Generating for acceptance rate 0.95, best score 0.0\n"
     ]
    },
    {
     "name": "stderr",
     "output_type": "stream",
     "text": [
      "Page [[Domenico Dalla Bella]] saved\n"
     ]
    },
    {
     "name": "stdout",
     "output_type": "stream",
     "text": [
      "Generating for acceptance rate 0.95, best score 0.0\n"
     ]
    },
    {
     "name": "stderr",
     "output_type": "stream",
     "text": [
      "Page [[Paolo Erizzo]] saved\n"
     ]
    },
    {
     "name": "stdout",
     "output_type": "stream",
     "text": [
      "Generating for acceptance rate 0.95, best score 0.0\n",
      "Generating for acceptance rate 0.8999999999999999, best score 0.8571428571428571\n",
      "Generating for acceptance rate 0.8499999999999999, best score 0.8571428571428571\n",
      "Wild tokens found!\n"
     ]
    },
    {
     "name": "stderr",
     "output_type": "stream",
     "text": [
      "Page [[Jacobello Alberegno]] saved\n"
     ]
    },
    {
     "name": "stdout",
     "output_type": "stream",
     "text": [
      "Generating for acceptance rate 0.95, best score 0.0\n"
     ]
    },
    {
     "name": "stderr",
     "output_type": "stream",
     "text": [
      "Page [[Alessandro Carli]] saved\n"
     ]
    },
    {
     "name": "stdout",
     "output_type": "stream",
     "text": [
      "Generating for acceptance rate 0.95, best score 0.0\n",
      "Wild tokens found!\n",
      "Wild tokens found!\n",
      "Generating for acceptance rate 0.8999999999999999, best score 0.8888888888888888\n",
      "Wild tokens found!\n",
      "Wild tokens found!\n",
      "Wild tokens found!\n",
      "Generating for acceptance rate 0.8499999999999999, best score 0.8888888888888888\n"
     ]
    },
    {
     "name": "stderr",
     "output_type": "stream",
     "text": [
      "Page [[Giandomenico Conte Tiepolo]] saved\n"
     ]
    },
    {
     "name": "stdout",
     "output_type": "stream",
     "text": [
      "Generating for acceptance rate 0.95, best score 0.0\n",
      "Wild tokens found!\n",
      "Section duplicate detected\n"
     ]
    },
    {
     "name": "stderr",
     "output_type": "stream",
     "text": [
      "Page [[Pietro Antonio Zorzi]] saved\n"
     ]
    },
    {
     "name": "stdout",
     "output_type": "stream",
     "text": [
      "Generating for acceptance rate 0.95, best score 0.0\n"
     ]
    },
    {
     "name": "stderr",
     "output_type": "stream",
     "text": [
      "Page [[Paolo Groppelli]] saved\n"
     ]
    },
    {
     "name": "stdout",
     "output_type": "stream",
     "text": [
      "Generating for acceptance rate 0.95, best score 0.0\n"
     ]
    },
    {
     "name": "stderr",
     "output_type": "stream",
     "text": [
      "Page [[Giacomo]] saved\n"
     ]
    },
    {
     "name": "stdout",
     "output_type": "stream",
     "text": [
      "Generating for acceptance rate 0.95, best score 0.0\n",
      "Wild tokens found!\n"
     ]
    },
    {
     "name": "stderr",
     "output_type": "stream",
     "text": [
      "Page [[Stefano Domenico Sceriman]] saved\n"
     ]
    },
    {
     "name": "stdout",
     "output_type": "stream",
     "text": [
      "Generating for acceptance rate 0.95, best score 0.0\n",
      "Generating for acceptance rate 0.8999999999999999, best score 0.9166666666666666\n",
      "Wild tokens found!\n"
     ]
    },
    {
     "name": "stderr",
     "output_type": "stream",
     "text": [
      "Page [[Pietro Antonio Zorzi]] saved\n"
     ]
    },
    {
     "name": "stdout",
     "output_type": "stream",
     "text": [
      "Generating for acceptance rate 0.95, best score 0.0\n"
     ]
    },
    {
     "name": "stderr",
     "output_type": "stream",
     "text": [
      "Page [[Bartolomeo Tarsia]] saved\n"
     ]
    },
    {
     "name": "stdout",
     "output_type": "stream",
     "text": [
      "Generating for acceptance rate 0.95, best score 0.0\n",
      "Wild tokens found!\n",
      "Wild tokens found!\n"
     ]
    },
    {
     "name": "stderr",
     "output_type": "stream",
     "text": [
      "Page [[Gellio Ghellini]] saved\n"
     ]
    },
    {
     "name": "stdout",
     "output_type": "stream",
     "text": [
      "Generating for acceptance rate 0.95, best score 0.0\n",
      "Section duplicate detected\n"
     ]
    },
    {
     "name": "stderr",
     "output_type": "stream",
     "text": [
      "Page [[Donata Badoer]] saved\n"
     ]
    },
    {
     "name": "stdout",
     "output_type": "stream",
     "text": [
      "Generating for acceptance rate 0.95, best score 0.0\n",
      "Wild tokens found!\n",
      "Wild tokens found!\n",
      "Generating for acceptance rate 0.8999999999999999, best score 0.9166666666666666\n",
      "Wild tokens found!\n"
     ]
    },
    {
     "name": "stderr",
     "output_type": "stream",
     "text": [
      "Page [[Pietro Antonio Zorzi]] saved\n"
     ]
    },
    {
     "name": "stdout",
     "output_type": "stream",
     "text": [
      "Generating for acceptance rate 0.95, best score 0.0\n"
     ]
    },
    {
     "name": "stderr",
     "output_type": "stream",
     "text": [
      "Page [[Amadio Luzzo]] saved\n"
     ]
    },
    {
     "name": "stdout",
     "output_type": "stream",
     "text": [
      "Generating for acceptance rate 0.95, best score 0.0\n",
      "Wild tokens found!\n"
     ]
    },
    {
     "name": "stderr",
     "output_type": "stream",
     "text": [
      "Page [[Pietro Antonio Zorzi]] saved\n"
     ]
    },
    {
     "name": "stdout",
     "output_type": "stream",
     "text": [
      "Generating for acceptance rate 0.95, best score 0.0\n",
      "Wild tokens found!\n"
     ]
    },
    {
     "name": "stderr",
     "output_type": "stream",
     "text": [
      "Page [[Marco Antonio Grimani]] saved\n"
     ]
    },
    {
     "name": "stdout",
     "output_type": "stream",
     "text": [
      "Generating for acceptance rate 0.95, best score 0.0\n"
     ]
    },
    {
     "name": "stderr",
     "output_type": "stream",
     "text": [
      "Page [[Agostino Agostini]] saved\n"
     ]
    },
    {
     "name": "stdout",
     "output_type": "stream",
     "text": [
      "Generating for acceptance rate 0.95, best score 0.0\n",
      "Wild tokens found!\n"
     ]
    },
    {
     "name": "stderr",
     "output_type": "stream",
     "text": [
      "Page [[Giulio Goldoni]] saved\n"
     ]
    },
    {
     "name": "stdout",
     "output_type": "stream",
     "text": [
      "Generating for acceptance rate 0.95, best score 0.0\n",
      "Wild tokens found!\n"
     ]
    },
    {
     "name": "stderr",
     "output_type": "stream",
     "text": [
      "Page [[Constantin Cumano]] saved\n"
     ]
    },
    {
     "name": "stdout",
     "output_type": "stream",
     "text": [
      "Generating for acceptance rate 0.95, best score 0.0\n"
     ]
    },
    {
     "name": "stderr",
     "output_type": "stream",
     "text": [
      "Page [[Guido Brandolini]] saved\n"
     ]
    },
    {
     "name": "stdout",
     "output_type": "stream",
     "text": [
      "Generating for acceptance rate 0.95, best score 0.0\n",
      "Wild tokens found!\n",
      "Generating for acceptance rate 0.8999999999999999, best score 0.9\n",
      "Section duplicate detected\n",
      "Wild tokens found!\n",
      "Wild tokens found!\n",
      "Wild tokens found!\n"
     ]
    },
    {
     "name": "stderr",
     "output_type": "stream",
     "text": [
      "Page [[Michele Tramezzino]] saved\n"
     ]
    },
    {
     "name": "stdout",
     "output_type": "stream",
     "text": [
      "Generating for acceptance rate 0.95, best score 0.0\n",
      "Wild tokens found!\n"
     ]
    },
    {
     "name": "stderr",
     "output_type": "stream",
     "text": [
      "Page [[Giuseppe Antonio Maria Favini]] saved\n"
     ]
    },
    {
     "name": "stdout",
     "output_type": "stream",
     "text": [
      "Generating for acceptance rate 0.95, best score 0.0\n"
     ]
    },
    {
     "name": "stderr",
     "output_type": "stream",
     "text": [
      "Page [[Karl Belli]] saved\n"
     ]
    },
    {
     "name": "stdout",
     "output_type": "stream",
     "text": [
      "Generating for acceptance rate 0.95, best score 0.0\n"
     ]
    },
    {
     "name": "stderr",
     "output_type": "stream",
     "text": [
      "Page [[Giuseppe Groppelli]] saved\n"
     ]
    },
    {
     "name": "stdout",
     "output_type": "stream",
     "text": [
      "Generating for acceptance rate 0.95, best score 0.0\n"
     ]
    },
    {
     "name": "stderr",
     "output_type": "stream",
     "text": [
      "Page [[Bartolomeo Bon il Giovane]] saved\n"
     ]
    },
    {
     "name": "stdout",
     "output_type": "stream",
     "text": [
      "Generating for acceptance rate 0.95, best score 0.0\n",
      "Wild tokens found!\n"
     ]
    },
    {
     "name": "stderr",
     "output_type": "stream",
     "text": [
      "Page [[Girolamo Ascanio Giustiniani]] saved\n"
     ]
    },
    {
     "name": "stdout",
     "output_type": "stream",
     "text": [
      "Generating for acceptance rate 0.95, best score 0.0\n",
      "Wild tokens found!\n",
      "Wild tokens found!\n"
     ]
    },
    {
     "name": "stderr",
     "output_type": "stream",
     "text": [
      "Page [[Sebastiano Nasolini]] saved\n"
     ]
    },
    {
     "name": "stdout",
     "output_type": "stream",
     "text": [
      "Generating for acceptance rate 0.95, best score 0.0\n",
      "Wild tokens found!\n",
      "Wild tokens found!\n",
      "Wild tokens found!\n"
     ]
    },
    {
     "name": "stderr",
     "output_type": "stream",
     "text": [
      "Page [[Nicolò Erizzo]] saved\n"
     ]
    },
    {
     "name": "stdout",
     "output_type": "stream",
     "text": [
      "Generating for acceptance rate 0.95, best score 0.0\n",
      "Wild tokens found!\n",
      "Wild tokens found!\n",
      "Wild tokens found!\n"
     ]
    },
    {
     "name": "stderr",
     "output_type": "stream",
     "text": [
      "Page [[Andrea Tosi]] saved\n"
     ]
    },
    {
     "name": "stdout",
     "output_type": "stream",
     "text": [
      "Generating for acceptance rate 0.95, best score 0.0\n",
      "Wild tokens found!\n"
     ]
    },
    {
     "name": "stderr",
     "output_type": "stream",
     "text": [
      "Page [[Marino Groppelli]] saved\n"
     ]
    },
    {
     "name": "stdout",
     "output_type": "stream",
     "text": [
      "Generating for acceptance rate 0.95, best score 0.0\n",
      "Wild tokens found!\n",
      "Wild tokens found!\n"
     ]
    },
    {
     "name": "stderr",
     "output_type": "stream",
     "text": [
      "Page [[Gregorio Amaseo]] saved\n"
     ]
    },
    {
     "name": "stdout",
     "output_type": "stream",
     "text": [
      "Generating for acceptance rate 0.95, best score 0.0\n"
     ]
    },
    {
     "name": "stderr",
     "output_type": "stream",
     "text": [
      "Page [[Guido II Rangoni]] saved\n"
     ]
    },
    {
     "name": "stdout",
     "output_type": "stream",
     "text": [
      "Generating for acceptance rate 0.95, best score 0.0\n",
      "Wild tokens found!\n"
     ]
    },
    {
     "name": "stderr",
     "output_type": "stream",
     "text": [
      "Page [[Francesco Bandiera]] saved\n"
     ]
    },
    {
     "name": "stdout",
     "output_type": "stream",
     "text": [
      "Generating for acceptance rate 0.95, best score 0.0\n",
      "Section duplicate detected\n"
     ]
    },
    {
     "name": "stderr",
     "output_type": "stream",
     "text": [
      "Page [[Lorenzo Pasquato]] saved\n"
     ]
    },
    {
     "name": "stdout",
     "output_type": "stream",
     "text": [
      "Generating for acceptance rate 0.95, best score 0.0\n",
      "Wild tokens found!\n",
      "Wild tokens found!\n"
     ]
    },
    {
     "name": "stderr",
     "output_type": "stream",
     "text": [
      "Page [[Giovanni Pona]] saved\n"
     ]
    },
    {
     "name": "stdout",
     "output_type": "stream",
     "text": [
      "Generating for acceptance rate 0.95, best score 0.0\n",
      "Section duplicate detected\n"
     ]
    },
    {
     "name": "stderr",
     "output_type": "stream",
     "text": [
      "Page [[Carlo Filago]] saved\n"
     ]
    },
    {
     "name": "stdout",
     "output_type": "stream",
     "text": [
      "Generating for acceptance rate 0.95, best score 0.0\n",
      "Wild tokens found!\n",
      "Wild tokens found!\n",
      "Wild tokens found!\n"
     ]
    },
    {
     "name": "stderr",
     "output_type": "stream",
     "text": [
      "Page [[Vittore Canal]] saved\n"
     ]
    },
    {
     "name": "stdout",
     "output_type": "stream",
     "text": [
      "Generating for acceptance rate 0.95, best score 0.0\n",
      "Wild tokens found!\n",
      "Wild tokens found!\n"
     ]
    },
    {
     "name": "stderr",
     "output_type": "stream",
     "text": [
      "Page [[Antonio Belloni]] saved\n"
     ]
    },
    {
     "name": "stdout",
     "output_type": "stream",
     "text": [
      "Generating for acceptance rate 0.95, best score 0.0\n",
      "Wild tokens found!\n",
      "Section duplicate detected\n",
      "Wild tokens found!\n",
      "Generating for acceptance rate 0.8999999999999999, best score 0.6153846153846154\n",
      "Wild tokens found!\n",
      "Wild tokens found!\n",
      "Wild tokens found!\n",
      "Wild tokens found!\n",
      "Wild tokens found!\n",
      "Wild tokens found!\n",
      "Generating for acceptance rate 0.8499999999999999, best score 0.6153846153846154\n",
      "Section duplicate detected\n",
      "Wild tokens found!\n",
      "Generating for acceptance rate 0.7999999999999998, best score 0.6153846153846154\n",
      "Wild tokens found!\n",
      "Wild tokens found!\n",
      "Wild tokens found!\n",
      "Wild tokens found!\n",
      "Wild tokens found!\n",
      "Wild tokens found!\n",
      "Wild tokens found!\n",
      "Wild tokens found!\n",
      "Generating for acceptance rate 0.7499999999999998, best score 0.7692307692307693\n",
      "Wild tokens found!\n",
      "Wild tokens found!\n"
     ]
    },
    {
     "name": "stderr",
     "output_type": "stream",
     "text": [
      "Page [[Giovanni Battista Ziletti]] saved\n"
     ]
    },
    {
     "name": "stdout",
     "output_type": "stream",
     "text": [
      "Generating for acceptance rate 0.95, best score 0.0\n"
     ]
    },
    {
     "name": "stderr",
     "output_type": "stream",
     "text": [
      "Page [[Matteo Barbieri]] saved\n"
     ]
    },
    {
     "name": "stdout",
     "output_type": "stream",
     "text": [
      "Generating for acceptance rate 0.95, best score 0.0\n"
     ]
    },
    {
     "name": "stderr",
     "output_type": "stream",
     "text": [
      "Page [[Lodovico Donà]] saved\n"
     ]
    },
    {
     "name": "stdout",
     "output_type": "stream",
     "text": [
      "Generating for acceptance rate 0.95, best score 0.0\n",
      "Wild tokens found!\n"
     ]
    },
    {
     "name": "stderr",
     "output_type": "stream",
     "text": [
      "Page [[Cherubino Busatti]] saved\n"
     ]
    },
    {
     "name": "stdout",
     "output_type": "stream",
     "text": [
      "Generating for acceptance rate 0.95, best score 0.0\n",
      "Section duplicate detected\n"
     ]
    },
    {
     "name": "stderr",
     "output_type": "stream",
     "text": [
      "Page [[Giovanni Domenico Sala]] saved\n"
     ]
    },
    {
     "name": "stdout",
     "output_type": "stream",
     "text": [
      "Generating for acceptance rate 0.95, best score 0.0\n"
     ]
    },
    {
     "name": "stderr",
     "output_type": "stream",
     "text": [
      "Page [[Giovanni Battista Grone]] saved\n"
     ]
    },
    {
     "name": "stdout",
     "output_type": "stream",
     "text": [
      "Generating for acceptance rate 0.95, best score 0.0\n",
      "Wild tokens found!\n"
     ]
    },
    {
     "name": "stderr",
     "output_type": "stream",
     "text": [
      "Page [[Cortese Cortesi]] saved\n"
     ]
    },
    {
     "name": "stdout",
     "output_type": "stream",
     "text": [
      "Generating for acceptance rate 0.95, best score 0.0\n",
      "Section duplicate detected\n",
      "Wild tokens found!\n"
     ]
    },
    {
     "name": "stderr",
     "output_type": "stream",
     "text": [
      "Page [[Bartolomeo]] saved\n"
     ]
    },
    {
     "name": "stdout",
     "output_type": "stream",
     "text": [
      "Generating for acceptance rate 0.95, best score 0.0\n"
     ]
    },
    {
     "name": "stderr",
     "output_type": "stream",
     "text": [
      "Page [[Alvise Priuli]] saved\n"
     ]
    },
    {
     "name": "stdout",
     "output_type": "stream",
     "text": [
      "Generating for acceptance rate 0.95, best score 0.0\n"
     ]
    },
    {
     "name": "stderr",
     "output_type": "stream",
     "text": [
      "Page [[Francesco Carrara]] saved\n"
     ]
    },
    {
     "name": "stdout",
     "output_type": "stream",
     "text": [
      "Generating for acceptance rate 0.95, best score 0.0\n",
      "Wild tokens found!\n",
      "Wild tokens found!\n",
      "Wild tokens found!\n",
      "Wild tokens found!\n"
     ]
    },
    {
     "name": "stderr",
     "output_type": "stream",
     "text": [
      "Page [[Sebastiano Lazzari]] saved\n"
     ]
    },
    {
     "name": "stdout",
     "output_type": "stream",
     "text": [
      "Generating for acceptance rate 0.95, best score 0.0\n",
      "Wild tokens found!\n",
      "Generating for acceptance rate 0.8999999999999999, best score 0.8571428571428571\n",
      "Wild tokens found!\n",
      "Generating for acceptance rate 0.8499999999999999, best score 0.8571428571428571\n"
     ]
    },
    {
     "name": "stderr",
     "output_type": "stream",
     "text": [
      "Page [[Benedetto Carpaccio]] saved\n"
     ]
    },
    {
     "name": "stdout",
     "output_type": "stream",
     "text": [
      "Generating for acceptance rate 0.95, best score 0.0\n",
      "Wild tokens found!\n",
      "Wild tokens found!\n",
      "Wild tokens found!\n"
     ]
    },
    {
     "name": "stderr",
     "output_type": "stream",
     "text": [
      "Page [[Petrocino Casaleschi]] saved\n"
     ]
    },
    {
     "name": "stdout",
     "output_type": "stream",
     "text": [
      "Generating for acceptance rate 0.95, best score 0.0\n",
      "Wild tokens found!\n"
     ]
    },
    {
     "name": "stderr",
     "output_type": "stream",
     "text": [
      "Page [[Giovanni Antonio Requesta]] saved\n"
     ]
    },
    {
     "name": "stdout",
     "output_type": "stream",
     "text": [
      "Generating for acceptance rate 0.95, best score 0.0\n",
      "Wild tokens found!\n",
      "Generating for acceptance rate 0.8999999999999999, best score 0.9\n",
      "Wild tokens found!\n",
      "Section duplicate detected\n"
     ]
    },
    {
     "name": "stderr",
     "output_type": "stream",
     "text": [
      "Page [[Nicola Marcola]] saved\n"
     ]
    },
    {
     "name": "stdout",
     "output_type": "stream",
     "text": [
      "Generating for acceptance rate 0.95, best score 0.0\n",
      "Wild tokens found!\n",
      "Wild tokens found!\n",
      "Wild tokens found!\n",
      "Wild tokens found!\n"
     ]
    },
    {
     "name": "stderr",
     "output_type": "stream",
     "text": [
      "Page [[Giacomo Gerardo]] saved\n"
     ]
    },
    {
     "name": "stdout",
     "output_type": "stream",
     "text": [
      "Generating for acceptance rate 0.95, best score 0.0\n",
      "Wild tokens found!\n"
     ]
    },
    {
     "name": "stderr",
     "output_type": "stream",
     "text": [
      "Page [[Cesare D'Arbes]] saved\n"
     ]
    },
    {
     "name": "stdout",
     "output_type": "stream",
     "text": [
      "Generating for acceptance rate 0.95, best score 0.0\n"
     ]
    },
    {
     "name": "stderr",
     "output_type": "stream",
     "text": [
      "Page [[Rossi]] saved\n"
     ]
    },
    {
     "name": "stdout",
     "output_type": "stream",
     "text": [
      "Generating for acceptance rate 0.95, best score 0.0\n"
     ]
    },
    {
     "name": "stderr",
     "output_type": "stream",
     "text": [
      "Page [[Jacopino Badoer da Peraga]] saved\n"
     ]
    },
    {
     "name": "stdout",
     "output_type": "stream",
     "text": [
      "Generating for acceptance rate 0.95, best score 0.0\n",
      "Wild tokens found!\n",
      "Wild tokens found!\n"
     ]
    },
    {
     "name": "stderr",
     "output_type": "stream",
     "text": [
      "Page [[Francesco Novelli (I)]] saved\n"
     ]
    },
    {
     "name": "stdout",
     "output_type": "stream",
     "text": [
      "Generating for acceptance rate 0.95, best score 0.0\n"
     ]
    },
    {
     "name": "stderr",
     "output_type": "stream",
     "text": [
      "Page [[Camilla de' Rossi]] saved\n"
     ]
    },
    {
     "name": "stdout",
     "output_type": "stream",
     "text": [
      "Generating for acceptance rate 0.95, best score 0.0\n"
     ]
    },
    {
     "name": "stderr",
     "output_type": "stream",
     "text": [
      "Page [[Girolamo Polcastro]] saved\n"
     ]
    },
    {
     "name": "stdout",
     "output_type": "stream",
     "text": [
      "Generating for acceptance rate 0.95, best score 0.0\n",
      "Wild tokens found!\n",
      "Generating for acceptance rate 0.8999999999999999, best score 0.7777777777777778\n",
      "Wild tokens found!\n",
      "Generating for acceptance rate 0.8499999999999999, best score 0.7777777777777778\n",
      "Generating for acceptance rate 0.7999999999999998, best score 0.7777777777777778\n",
      "Wild tokens found!\n",
      "Generating for acceptance rate 0.7499999999999998, best score 0.7777777777777778\n"
     ]
    },
    {
     "name": "stderr",
     "output_type": "stream",
     "text": [
      "Page [[Gabriel Avedikian]] saved\n"
     ]
    },
    {
     "name": "stdout",
     "output_type": "stream",
     "text": [
      "Generating for acceptance rate 0.95, best score 0.0\n"
     ]
    },
    {
     "name": "stderr",
     "output_type": "stream",
     "text": [
      "Page [[Nicolò Erizzo]] saved\n"
     ]
    },
    {
     "name": "stdout",
     "output_type": "stream",
     "text": [
      "Generating for acceptance rate 0.95, best score 0.0\n",
      "Wild tokens found!\n",
      "Wild tokens found!\n",
      "Wild tokens found!\n",
      "Wild tokens found!\n",
      "Wild tokens found!\n"
     ]
    },
    {
     "name": "stderr",
     "output_type": "stream",
     "text": [
      "Page [[Jacopo Foscari]] saved\n"
     ]
    },
    {
     "name": "stdout",
     "output_type": "stream",
     "text": [
      "Generating for acceptance rate 0.95, best score 0.0\n",
      "Section duplicate detected\n",
      "Wild tokens found!\n",
      "Generating for acceptance rate 0.8999999999999999, best score 0.8571428571428571\n",
      "Wild tokens found!\n"
     ]
    },
    {
     "name": "stderr",
     "output_type": "stream",
     "text": [
      "Page [[Nicolò Dolfin]] saved\n"
     ]
    },
    {
     "name": "stdout",
     "output_type": "stream",
     "text": [
      "Generating for acceptance rate 0.95, best score 0.0\n",
      "Wild tokens found!\n",
      "Wild tokens found!\n",
      "Wild tokens found!\n",
      "Generating for acceptance rate 0.8999999999999999, best score 0.8\n",
      "Wild tokens found!\n",
      "Wild tokens found!\n",
      "Wild tokens found!\n",
      "Wild tokens found!\n",
      "Section duplicate detected\n",
      "Wild tokens found!\n",
      "Wild tokens found!\n",
      "Generating for acceptance rate 0.8499999999999999, best score 0.8\n",
      "Wild tokens found!\n",
      "Wild tokens found!\n",
      "Wild tokens found!\n",
      "Wild tokens found!\n",
      "Generating for acceptance rate 0.7999999999999998, best score 0.8\n",
      "Section duplicate detected\n",
      "Wild tokens found!\n",
      "Wild tokens found!\n",
      "Wild tokens found!\n"
     ]
    },
    {
     "name": "stderr",
     "output_type": "stream",
     "text": [
      "Page [[Antonio]] saved\n"
     ]
    },
    {
     "name": "stdout",
     "output_type": "stream",
     "text": [
      "Generating for acceptance rate 0.95, best score 0.0\n",
      "Wild tokens found!\n",
      "Wild tokens found!\n",
      "Wild tokens found!\n"
     ]
    },
    {
     "name": "stderr",
     "output_type": "stream",
     "text": [
      "Page [[Marcantonio Brandolini]] saved\n"
     ]
    },
    {
     "name": "stdout",
     "output_type": "stream",
     "text": [
      "Generating for acceptance rate 0.95, best score 0.0\n"
     ]
    },
    {
     "name": "stderr",
     "output_type": "stream",
     "text": [
      "Page [[Francesco Pittoni]] saved\n"
     ]
    },
    {
     "name": "stdout",
     "output_type": "stream",
     "text": [
      "Generating for acceptance rate 0.95, best score 0.0\n",
      "Wild tokens found!\n",
      "Wild tokens found!\n",
      "Wild tokens found!\n",
      "Wild tokens found!\n",
      "Generating for acceptance rate 0.8999999999999999, best score 0.9285714285714286\n",
      "Wild tokens found!\n",
      "Wild tokens found!\n",
      "Wild tokens found!\n",
      "Wild tokens found!\n",
      "Wild tokens found!\n",
      "Wild tokens found!\n"
     ]
    },
    {
     "name": "stderr",
     "output_type": "stream",
     "text": [
      "Page [[Antonio Cesari]] saved\n"
     ]
    },
    {
     "name": "stdout",
     "output_type": "stream",
     "text": [
      "Generating for acceptance rate 0.95, best score 0.0\n",
      "Wild tokens found!\n",
      "Wild tokens found!\n",
      "Section duplicate detected\n",
      "Wild tokens found!\n"
     ]
    },
    {
     "name": "stderr",
     "output_type": "stream",
     "text": [
      "Page [[Emilio Campolongo]] saved\n"
     ]
    },
    {
     "name": "stdout",
     "output_type": "stream",
     "text": [
      "Generating for acceptance rate 0.95, best score 0.0\n",
      "Wild tokens found!\n"
     ]
    },
    {
     "name": "stderr",
     "output_type": "stream",
     "text": [
      "Page [[Giovanni Prosdocimo Zabeo]] saved\n"
     ]
    },
    {
     "name": "stdout",
     "output_type": "stream",
     "text": [
      "Generating for acceptance rate 0.95, best score 0.0\n",
      "Wild tokens found!\n"
     ]
    },
    {
     "name": "stderr",
     "output_type": "stream",
     "text": [
      "Page [[Urbano Pagani Cesa]] saved\n"
     ]
    },
    {
     "name": "stdout",
     "output_type": "stream",
     "text": [
      "Generating for acceptance rate 0.95, best score 0.0\n",
      "Wild tokens found!\n"
     ]
    },
    {
     "name": "stderr",
     "output_type": "stream",
     "text": [
      "Page [[Giuseppe Scolari]] saved\n"
     ]
    },
    {
     "name": "stdout",
     "output_type": "stream",
     "text": [
      "Generating for acceptance rate 0.95, best score 0.0\n",
      "Wild tokens found!\n"
     ]
    },
    {
     "name": "stderr",
     "output_type": "stream",
     "text": [
      "Page [[Tisbe Martinengo]] saved\n"
     ]
    },
    {
     "name": "stdout",
     "output_type": "stream",
     "text": [
      "Generating for acceptance rate 0.95, best score 0.0\n"
     ]
    },
    {
     "name": "stderr",
     "output_type": "stream",
     "text": [
      "Page [[Zuane Mocenigo]] saved\n"
     ]
    },
    {
     "name": "stdout",
     "output_type": "stream",
     "text": [
      "Generating for acceptance rate 0.95, best score 0.0\n",
      "Wild tokens found!\n",
      "Generating for acceptance rate 0.8999999999999999, best score 0.875\n",
      "Section duplicate detected\n",
      "Generating for acceptance rate 0.8499999999999999, best score 0.875\n",
      "Wild tokens found!\n"
     ]
    },
    {
     "name": "stderr",
     "output_type": "stream",
     "text": [
      "Page [[Carlo Pisani]] saved\n"
     ]
    },
    {
     "name": "stdout",
     "output_type": "stream",
     "text": [
      "Generating for acceptance rate 0.95, best score 0.0\n"
     ]
    },
    {
     "name": "stderr",
     "output_type": "stream",
     "text": [
      "Page [[Pietro Marco Zaguri]] saved\n"
     ]
    },
    {
     "name": "stdout",
     "output_type": "stream",
     "text": [
      "Generating for acceptance rate 0.95, best score 0.0\n",
      "Section duplicate detected\n",
      "Wild tokens found!\n",
      "Wild tokens found!\n",
      "Wild tokens found!\n",
      "Wild tokens found!\n"
     ]
    },
    {
     "name": "stderr",
     "output_type": "stream",
     "text": [
      "Page [[Giovanni Francesco Camocio]] saved\n"
     ]
    },
    {
     "name": "stdout",
     "output_type": "stream",
     "text": [
      "Generating for acceptance rate 0.95, best score 0.0\n",
      "Wild tokens found!\n",
      "Wild tokens found!\n",
      "Wild tokens found!\n",
      "Wild tokens found!\n"
     ]
    },
    {
     "name": "stderr",
     "output_type": "stream",
     "text": [
      "Page [[Girolamo Avanzi]] saved\n"
     ]
    },
    {
     "name": "stdout",
     "output_type": "stream",
     "text": [
      "Generating for acceptance rate 0.95, best score 0.0\n"
     ]
    },
    {
     "name": "stderr",
     "output_type": "stream",
     "text": [
      "Page [[Francesca Roberti Franco]] saved\n"
     ]
    },
    {
     "name": "stdout",
     "output_type": "stream",
     "text": [
      "Generating for acceptance rate 0.95, best score 0.0\n",
      "Wild tokens found!\n",
      "Generating for acceptance rate 0.8999999999999999, best score 0.8\n",
      "Wild tokens found!\n",
      "Wild tokens found!\n"
     ]
    },
    {
     "name": "stderr",
     "output_type": "stream",
     "text": [
      "Page [[Giovanni Giacomo Carlino]] saved\n"
     ]
    },
    {
     "name": "stdout",
     "output_type": "stream",
     "text": [
      "Generating for acceptance rate 0.95, best score 0.0\n",
      "Wild tokens found!\n",
      "Wild tokens found!\n",
      "Wild tokens found!\n",
      "Wild tokens found!\n",
      "Section duplicate detected\n",
      "Generating for acceptance rate 0.8999999999999999, best score 0.8333333333333334\n",
      "Wild tokens found!\n",
      "Wild tokens found!\n"
     ]
    },
    {
     "name": "stderr",
     "output_type": "stream",
     "text": [
      "Page [[Domenico Paghini]] saved\n"
     ]
    },
    {
     "name": "stdout",
     "output_type": "stream",
     "text": [
      "Generating for acceptance rate 0.95, best score 0.0\n",
      "Wild tokens found!\n"
     ]
    },
    {
     "name": "stderr",
     "output_type": "stream",
     "text": [
      "Page [[Alvise Contarini the 2nd]] saved\n"
     ]
    },
    {
     "name": "stdout",
     "output_type": "stream",
     "text": [
      "Generating for acceptance rate 0.95, best score 0.0\n",
      "Section duplicate detected\n",
      "Generating for acceptance rate 0.8999999999999999, best score 0.75\n",
      "Wild tokens found!\n",
      "Wild tokens found!\n",
      "Section duplicate detected\n",
      "Wild tokens found!\n",
      "Generating for acceptance rate 0.8499999999999999, best score 0.875\n",
      "Section duplicate detected\n"
     ]
    },
    {
     "name": "stderr",
     "output_type": "stream",
     "text": [
      "Page [[Daniele Girolamo Dolfin]] saved\n"
     ]
    },
    {
     "name": "stdout",
     "output_type": "stream",
     "text": [
      "Generating for acceptance rate 0.95, best score 0.0\n"
     ]
    },
    {
     "name": "stderr",
     "output_type": "stream",
     "text": [
      "Page [[Domenico Guardi]] saved\n"
     ]
    },
    {
     "name": "stdout",
     "output_type": "stream",
     "text": [
      "Generating for acceptance rate 0.95, best score 0.0\n",
      "Wild tokens found!\n",
      "Wild tokens found!\n"
     ]
    },
    {
     "name": "stderr",
     "output_type": "stream",
     "text": [
      "Page [[Francesco Rizzi]] saved\n"
     ]
    },
    {
     "name": "stdout",
     "output_type": "stream",
     "text": [
      "Generating for acceptance rate 0.95, best score 0.0\n"
     ]
    },
    {
     "name": "stderr",
     "output_type": "stream",
     "text": [
      "Page [[Sertorio Orsato]] saved\n"
     ]
    },
    {
     "name": "stdout",
     "output_type": "stream",
     "text": [
      "Generating for acceptance rate 0.95, best score 0.0\n"
     ]
    },
    {
     "name": "stderr",
     "output_type": "stream",
     "text": [
      "Page [[Alvise Belegno]] saved\n"
     ]
    },
    {
     "name": "stdout",
     "output_type": "stream",
     "text": [
      "Generating for acceptance rate 0.95, best score 0.0\n",
      "Wild tokens found!\n",
      "Section duplicate detected\n"
     ]
    },
    {
     "name": "stderr",
     "output_type": "stream",
     "text": [
      "Page [[Alessandro Racchetti]] saved\n"
     ]
    },
    {
     "name": "stdout",
     "output_type": "stream",
     "text": [
      "Generating for acceptance rate 0.95, best score 0.0\n"
     ]
    },
    {
     "name": "stderr",
     "output_type": "stream",
     "text": [
      "Page [[Girolamo Pellegrini]] saved\n"
     ]
    },
    {
     "name": "stdout",
     "output_type": "stream",
     "text": [
      "Generating for acceptance rate 0.95, best score 0.0\n",
      "Wild tokens found!\n",
      "Wild tokens found!\n"
     ]
    },
    {
     "name": "stderr",
     "output_type": "stream",
     "text": [
      "Page [[Daniele Dolfin]] saved\n"
     ]
    },
    {
     "name": "stdout",
     "output_type": "stream",
     "text": [
      "Generating for acceptance rate 0.95, best score 0.0\n",
      "Wild tokens found!\n",
      "Generating for acceptance rate 0.8999999999999999, best score 0.8333333333333334\n",
      "Generating for acceptance rate 0.8499999999999999, best score 0.8333333333333334\n"
     ]
    },
    {
     "name": "stderr",
     "output_type": "stream",
     "text": [
      "Page [[Domenico Pandolfi]] saved\n"
     ]
    },
    {
     "name": "stdout",
     "output_type": "stream",
     "text": [
      "Generating for acceptance rate 0.95, best score 0.0\n",
      "Wild tokens found!\n",
      "Generating for acceptance rate 0.8999999999999999, best score 0.8888888888888888\n",
      "Wild tokens found!\n"
     ]
    },
    {
     "name": "stderr",
     "output_type": "stream",
     "text": [
      "Page [[Lodovico Pastò]] saved\n"
     ]
    },
    {
     "name": "stdout",
     "output_type": "stream",
     "text": [
      "Generating for acceptance rate 0.95, best score 0.0\n",
      "Wild tokens found!\n"
     ]
    },
    {
     "name": "stderr",
     "output_type": "stream",
     "text": [
      "Page [[Gian Girolamo Grandi]] saved\n"
     ]
    },
    {
     "name": "stdout",
     "output_type": "stream",
     "text": [
      "Generating for acceptance rate 0.95, best score 0.0\n",
      "Wild tokens found!\n",
      "Wild tokens found!\n"
     ]
    },
    {
     "name": "stderr",
     "output_type": "stream",
     "text": [
      "Page [[Pietro Barozzi]] saved\n"
     ]
    },
    {
     "name": "stdout",
     "output_type": "stream",
     "text": [
      "Generating for acceptance rate 0.95, best score 0.0\n",
      "Wild tokens found!\n"
     ]
    },
    {
     "name": "stderr",
     "output_type": "stream",
     "text": [
      "Page [[Niccolò Buccella]] saved\n"
     ]
    },
    {
     "name": "stdout",
     "output_type": "stream",
     "text": [
      "Generating for acceptance rate 0.95, best score 0.0\n"
     ]
    },
    {
     "name": "stderr",
     "output_type": "stream",
     "text": [
      "Page [[David de Pomis]] saved\n"
     ]
    },
    {
     "name": "stdout",
     "output_type": "stream",
     "text": [
      "Generating for acceptance rate 0.95, best score 0.0\n",
      "Section duplicate detected\n",
      "Wild tokens found!\n"
     ]
    },
    {
     "name": "stderr",
     "output_type": "stream",
     "text": [
      "Page [[Antonio Vinciguerra]] saved\n"
     ]
    },
    {
     "name": "stdout",
     "output_type": "stream",
     "text": [
      "Generating for acceptance rate 0.95, best score 0.0\n",
      "Wild tokens found!\n"
     ]
    },
    {
     "name": "stderr",
     "output_type": "stream",
     "text": [
      "Page [[Vincenzo]] saved\n"
     ]
    },
    {
     "name": "stdout",
     "output_type": "stream",
     "text": [
      "Generating for acceptance rate 0.95, best score 0.0\n",
      "Wild tokens found!\n",
      "Wild tokens found!\n",
      "Wild tokens found!\n",
      "Wild tokens found!\n",
      "Wild tokens found!\n"
     ]
    },
    {
     "name": "stderr",
     "output_type": "stream",
     "text": [
      "Page [[Spiridon Vlantis]] saved\n"
     ]
    },
    {
     "name": "stdout",
     "output_type": "stream",
     "text": [
      "Generating for acceptance rate 0.95, best score 0.0\n"
     ]
    },
    {
     "name": "stderr",
     "output_type": "stream",
     "text": [
      "Page [[Pietro Giovanni da Venezia]] saved\n"
     ]
    },
    {
     "name": "stdout",
     "output_type": "stream",
     "text": [
      "Generating for acceptance rate 0.95, best score 0.0\n",
      "Wild tokens found!\n",
      "Wild tokens found!\n",
      "Wild tokens found!\n",
      "Wild tokens found!\n",
      "Generating for acceptance rate 0.8999999999999999, best score 0.9285714285714286\n",
      "Wild tokens found!\n",
      "Wild tokens found!\n",
      "Wild tokens found!\n"
     ]
    },
    {
     "name": "stderr",
     "output_type": "stream",
     "text": [
      "Page [[Antonio Cesari]] saved\n"
     ]
    },
    {
     "name": "stdout",
     "output_type": "stream",
     "text": [
      "Generating for acceptance rate 0.95, best score 0.0\n"
     ]
    },
    {
     "name": "stderr",
     "output_type": "stream",
     "text": [
      "Page [[Dionisio Memmo]] saved\n"
     ]
    },
    {
     "name": "stdout",
     "output_type": "stream",
     "text": [
      "Generating for acceptance rate 0.95, best score 0.0\n",
      "Wild tokens found!\n",
      "Wild tokens found!\n"
     ]
    },
    {
     "name": "stderr",
     "output_type": "stream",
     "text": [
      "Page [[Samuele]] saved\n"
     ]
    },
    {
     "name": "stdout",
     "output_type": "stream",
     "text": [
      "Generating for acceptance rate 0.95, best score 0.0\n",
      "Generating for acceptance rate 0.8999999999999999, best score 0.8181818181818182\n",
      "Wild tokens found!\n",
      "Generating for acceptance rate 0.8499999999999999, best score 0.8181818181818182\n"
     ]
    },
    {
     "name": "stderr",
     "output_type": "stream",
     "text": [
      "Page [[Pietro Stefanoni]] saved\n"
     ]
    },
    {
     "name": "stdout",
     "output_type": "stream",
     "text": [
      "Generating for acceptance rate 0.95, best score 0.0\n"
     ]
    },
    {
     "name": "stderr",
     "output_type": "stream",
     "text": [
      "Page [[Vincenz]] saved\n"
     ]
    },
    {
     "name": "stdout",
     "output_type": "stream",
     "text": [
      "Generating for acceptance rate 0.95, best score 0.0\n",
      "Wild tokens found!\n",
      "Wild tokens found!\n",
      "Section duplicate detected\n",
      "Wild tokens found!\n",
      "Wild tokens found!\n",
      "Wild tokens found!\n",
      "Generating for acceptance rate 0.8999999999999999, best score 0.875\n",
      "Wild tokens found!\n",
      "Wild tokens found!\n"
     ]
    },
    {
     "name": "stderr",
     "output_type": "stream",
     "text": [
      "Page [[Giuseppe Torelli]] saved\n"
     ]
    },
    {
     "name": "stdout",
     "output_type": "stream",
     "text": [
      "Generating for acceptance rate 0.95, best score 0.0\n",
      "Wild tokens found!\n",
      "Wild tokens found!\n",
      "Wild tokens found!\n",
      "Wild tokens found!\n",
      "Wild tokens found!\n",
      "Generating for acceptance rate 0.8999999999999999, best score 0.8333333333333334\n",
      "Wild tokens found!\n",
      "Generating for acceptance rate 0.8499999999999999, best score 0.8333333333333334\n",
      "Generating for acceptance rate 0.7999999999999998, best score 0.8333333333333334\n"
     ]
    },
    {
     "name": "stderr",
     "output_type": "stream",
     "text": [
      "Page [[Pietro Marturio]] saved\n"
     ]
    },
    {
     "name": "stdout",
     "output_type": "stream",
     "text": [
      "Generating for acceptance rate 0.95, best score 0.0\n",
      "Wild tokens found!\n",
      "Wild tokens found!\n",
      "Wild tokens found!\n",
      "Generating for acceptance rate 0.8999999999999999, best score 0.6428571428571429\n",
      "Wild tokens found!\n",
      "Generating for acceptance rate 0.8499999999999999, best score 0.6428571428571429\n",
      "Wild tokens found!\n",
      "Wild tokens found!\n",
      "Wild tokens found!\n",
      "Wild tokens found!\n",
      "Generating for acceptance rate 0.7999999999999998, best score 0.6428571428571429\n",
      "Wild tokens found!\n",
      "Wild tokens found!\n",
      "Generating for acceptance rate 0.7499999999999998, best score 0.6428571428571429\n",
      "Wild tokens found!\n",
      "Wild tokens found!\n",
      "Generating for acceptance rate 0.6999999999999997, best score 0.6428571428571429\n",
      "Wild tokens found!\n",
      "Section duplicate detected\n",
      "Wild tokens found!\n",
      "Generating for acceptance rate 0.6499999999999997, best score 0.6428571428571429\n",
      "Wild tokens found!\n",
      "Wild tokens found!\n",
      "Generating for acceptance rate 0.5999999999999996, best score 0.6428571428571429\n",
      "Wild tokens found!\n",
      "Wild tokens found!\n"
     ]
    },
    {
     "name": "stderr",
     "output_type": "stream",
     "text": [
      "Page [[Angelo Correr]] saved\n"
     ]
    },
    {
     "name": "stdout",
     "output_type": "stream",
     "text": [
      "Generating for acceptance rate 0.95, best score 0.0\n"
     ]
    },
    {
     "name": "stderr",
     "output_type": "stream",
     "text": [
      "Page [[Pietro Marco Zaguri]] saved\n"
     ]
    },
    {
     "name": "stdout",
     "output_type": "stream",
     "text": [
      "Generating for acceptance rate 0.95, best score 0.0\n",
      "Section duplicate detected\n"
     ]
    },
    {
     "name": "stderr",
     "output_type": "stream",
     "text": [
      "Page [[Alessandro Bon]] saved\n"
     ]
    },
    {
     "name": "stdout",
     "output_type": "stream",
     "text": [
      "Generating for acceptance rate 0.95, best score 0.0\n"
     ]
    },
    {
     "name": "stderr",
     "output_type": "stream",
     "text": [
      "Page [[Ruggiero Fedeli]] saved\n"
     ]
    },
    {
     "name": "stdout",
     "output_type": "stream",
     "text": [
      "Generating for acceptance rate 0.95, best score 0.0\n",
      "Wild tokens found!\n"
     ]
    },
    {
     "name": "stderr",
     "output_type": "stream",
     "text": [
      "Page [[Jacopo Filiasi]] saved\n"
     ]
    },
    {
     "name": "stdout",
     "output_type": "stream",
     "text": [
      "Generating for acceptance rate 0.95, best score 0.0\n"
     ]
    },
    {
     "name": "stderr",
     "output_type": "stream",
     "text": [
      "Page [[Marco Faustino Gagliuffi]] saved\n"
     ]
    },
    {
     "name": "stdout",
     "output_type": "stream",
     "text": [
      "Generating for acceptance rate 0.95, best score 0.0\n"
     ]
    },
    {
     "name": "stderr",
     "output_type": "stream",
     "text": [
      "Page [[Luigi]] saved\n"
     ]
    },
    {
     "name": "stdout",
     "output_type": "stream",
     "text": [
      "Generating for acceptance rate 0.95, best score 0.0\n",
      "Wild tokens found!\n"
     ]
    },
    {
     "name": "stderr",
     "output_type": "stream",
     "text": [
      "Page [[Marco Antonio Corniani degli Algarotti]] saved\n"
     ]
    },
    {
     "name": "stdout",
     "output_type": "stream",
     "text": [
      "Generating for acceptance rate 0.95, best score 0.0\n"
     ]
    },
    {
     "name": "stderr",
     "output_type": "stream",
     "text": [
      "Page [[Emilio Maria Manolesso]] saved\n"
     ]
    },
    {
     "name": "stdout",
     "output_type": "stream",
     "text": [
      "Generating for acceptance rate 0.95, best score 0.0\n",
      "Wild tokens found!\n"
     ]
    },
    {
     "name": "stderr",
     "output_type": "stream",
     "text": [
      "Page [[Giovanni Battista Vidali]] saved\n"
     ]
    },
    {
     "name": "stdout",
     "output_type": "stream",
     "text": [
      "Generating for acceptance rate 0.95, best score 0.0\n"
     ]
    },
    {
     "name": "stderr",
     "output_type": "stream",
     "text": [
      "Page [[Carlo de' Dottori]] saved\n"
     ]
    },
    {
     "name": "stdout",
     "output_type": "stream",
     "text": [
      "Generating for acceptance rate 0.95, best score 0.0\n",
      "Wild tokens found!\n",
      "Wild tokens found!\n"
     ]
    },
    {
     "name": "stderr",
     "output_type": "stream",
     "text": [
      "Page [[Giovanni Antonio Pilacorte]] saved\n"
     ]
    },
    {
     "name": "stdout",
     "output_type": "stream",
     "text": [
      "Generating for acceptance rate 0.95, best score 0.0\n"
     ]
    },
    {
     "name": "stderr",
     "output_type": "stream",
     "text": [
      "Page [[Elisabetta of Montefeltro]] saved\n"
     ]
    },
    {
     "name": "stdout",
     "output_type": "stream",
     "text": [
      "Generating for acceptance rate 0.95, best score 0.0\n",
      "Wild tokens found!\n",
      "Wild tokens found!\n",
      "Wild tokens found!\n",
      "Wild tokens found!\n",
      "Generating for acceptance rate 0.8999999999999999, best score 0.9090909090909091\n",
      "Section duplicate detected\n",
      "Wild tokens found!\n"
     ]
    },
    {
     "name": "stderr",
     "output_type": "stream",
     "text": [
      "Page [[Agostino Maffetti]] saved\n"
     ]
    },
    {
     "name": "stdout",
     "output_type": "stream",
     "text": [
      "Generating for acceptance rate 0.95, best score 0.0\n"
     ]
    },
    {
     "name": "stderr",
     "output_type": "stream",
     "text": [
      "Page [[Luigi Anichini]] saved\n"
     ]
    },
    {
     "name": "stdout",
     "output_type": "stream",
     "text": [
      "Generating for acceptance rate 0.95, best score 0.0\n"
     ]
    },
    {
     "name": "stderr",
     "output_type": "stream",
     "text": [
      "Page [[Antonio Pizzocaro]] saved\n"
     ]
    },
    {
     "name": "stdout",
     "output_type": "stream",
     "text": [
      "Generating for acceptance rate 0.95, best score 0.0\n"
     ]
    },
    {
     "name": "stderr",
     "output_type": "stream",
     "text": [
      "Page [[Pasquale Lazzarini]] saved\n"
     ]
    },
    {
     "name": "stdout",
     "output_type": "stream",
     "text": [
      "Generating for acceptance rate 0.95, best score 0.0\n",
      "Wild tokens found!\n",
      "Wild tokens found!\n"
     ]
    },
    {
     "name": "stderr",
     "output_type": "stream",
     "text": [
      "Page [[Celio Magno]] saved\n"
     ]
    },
    {
     "name": "stdout",
     "output_type": "stream",
     "text": [
      "Generating for acceptance rate 0.95, best score 0.0\n",
      "Wild tokens found!\n",
      "Wild tokens found!\n"
     ]
    },
    {
     "name": "stderr",
     "output_type": "stream",
     "text": [
      "Page [[Janetto von Taxis]] saved\n"
     ]
    },
    {
     "name": "stdout",
     "output_type": "stream",
     "text": [
      "Generating for acceptance rate 0.95, best score 0.0\n",
      "Wild tokens found!\n",
      "Wild tokens found!\n"
     ]
    },
    {
     "name": "stderr",
     "output_type": "stream",
     "text": [
      "Page [[Giovanni Nani]] saved\n"
     ]
    },
    {
     "name": "stdout",
     "output_type": "stream",
     "text": [
      "Generating for acceptance rate 0.95, best score 0.0\n"
     ]
    },
    {
     "name": "stderr",
     "output_type": "stream",
     "text": [
      "Page [[Valeriano Luigi Brera]] saved\n"
     ]
    },
    {
     "name": "stdout",
     "output_type": "stream",
     "text": [
      "Generating for acceptance rate 0.95, best score 0.0\n",
      "Wild tokens found!\n"
     ]
    },
    {
     "name": "stderr",
     "output_type": "stream",
     "text": [
      "Page [[Francesco Fasolo]] saved\n"
     ]
    },
    {
     "name": "stdout",
     "output_type": "stream",
     "text": [
      "Generating for acceptance rate 0.95, best score 0.0\n",
      "Generating for acceptance rate 0.8999999999999999, best score 0.8571428571428571\n"
     ]
    },
    {
     "name": "stderr",
     "output_type": "stream",
     "text": [
      "Page [[Bernardino del Agua]] saved\n"
     ]
    },
    {
     "name": "stdout",
     "output_type": "stream",
     "text": [
      "Generating for acceptance rate 0.95, best score 0.0\n",
      "Section duplicate detected\n",
      "Wild tokens found!\n"
     ]
    },
    {
     "name": "stderr",
     "output_type": "stream",
     "text": [
      "Page [[Giuseppe Rosaccio]] saved\n"
     ]
    },
    {
     "name": "stdout",
     "output_type": "stream",
     "text": [
      "Generating for acceptance rate 0.95, best score 0.0\n"
     ]
    },
    {
     "name": "stderr",
     "output_type": "stream",
     "text": [
      "Page [[Giuseppe Sala]] saved\n"
     ]
    },
    {
     "name": "stdout",
     "output_type": "stream",
     "text": [
      "Generating for acceptance rate 0.95, best score 0.0\n",
      "Wild tokens found!\n",
      "Wild tokens found!\n"
     ]
    },
    {
     "name": "stderr",
     "output_type": "stream",
     "text": [
      "Page [[Antonio Pizzamano]] saved\n"
     ]
    },
    {
     "name": "stdout",
     "output_type": "stream",
     "text": [
      "Generating for acceptance rate 0.95, best score 0.0\n",
      "Wild tokens found!\n"
     ]
    },
    {
     "name": "stderr",
     "output_type": "stream",
     "text": [
      "Page [[Giovita Ravizza]] saved\n"
     ]
    },
    {
     "name": "stdout",
     "output_type": "stream",
     "text": [
      "Generating for acceptance rate 0.95, best score 0.0\n"
     ]
    },
    {
     "name": "stderr",
     "output_type": "stream",
     "text": [
      "Page [[Carlo Luigi Pietragrua]] saved\n"
     ]
    },
    {
     "name": "stdout",
     "output_type": "stream",
     "text": [
      "Generating for acceptance rate 0.95, best score 0.0\n"
     ]
    },
    {
     "name": "stderr",
     "output_type": "stream",
     "text": [
      "Page [[Girolamo Giustinian]] saved\n"
     ]
    },
    {
     "name": "stdout",
     "output_type": "stream",
     "text": [
      "Generating for acceptance rate 0.95, best score 0.0\n",
      "Wild tokens found!\n",
      "Wild tokens found!\n",
      "Wild tokens found!\n",
      "Section duplicate detected\n"
     ]
    },
    {
     "name": "stderr",
     "output_type": "stream",
     "text": [
      "Page [[Francesco]] saved\n"
     ]
    },
    {
     "name": "stdout",
     "output_type": "stream",
     "text": [
      "Generating for acceptance rate 0.95, best score 0.0\n"
     ]
    },
    {
     "name": "stderr",
     "output_type": "stream",
     "text": [
      "Page [[Giovanni Falier]] saved\n"
     ]
    },
    {
     "name": "stdout",
     "output_type": "stream",
     "text": [
      "Generating for acceptance rate 0.95, best score 0.0\n",
      "Wild tokens found!\n"
     ]
    },
    {
     "name": "stderr",
     "output_type": "stream",
     "text": [
      "Page [[Altobello Salicato]] saved\n"
     ]
    },
    {
     "name": "stdout",
     "output_type": "stream",
     "text": [
      "Generating for acceptance rate 0.95, best score 0.0\n",
      "Wild tokens found!\n",
      "Wild tokens found!\n"
     ]
    },
    {
     "name": "stderr",
     "output_type": "stream",
     "text": [
      "Page [[Giovanni Prosdocimo Zabeo]] saved\n"
     ]
    },
    {
     "name": "stdout",
     "output_type": "stream",
     "text": [
      "Generating for acceptance rate 0.95, best score 0.0\n",
      "Wild tokens found!\n"
     ]
    },
    {
     "name": "stderr",
     "output_type": "stream",
     "text": [
      "Page [[Girolamo degli Azzoni Avogaro]] saved\n"
     ]
    },
    {
     "name": "stdout",
     "output_type": "stream",
     "text": [
      "Generating for acceptance rate 0.95, best score 0.0\n",
      "Wild tokens found!\n",
      "Wild tokens found!\n"
     ]
    },
    {
     "name": "stderr",
     "output_type": "stream",
     "text": [
      "Page [[Giovanni Reali]] saved\n"
     ]
    },
    {
     "name": "stdout",
     "output_type": "stream",
     "text": [
      "Generating for acceptance rate 0.95, best score 0.0\n",
      "Wild tokens found!\n",
      "Wild tokens found!\n"
     ]
    },
    {
     "name": "stderr",
     "output_type": "stream",
     "text": [
      "Page [[Vincenzo Querini]] saved\n"
     ]
    },
    {
     "name": "stdout",
     "output_type": "stream",
     "text": [
      "Generating for acceptance rate 0.95, best score 0.0\n"
     ]
    },
    {
     "name": "stderr",
     "output_type": "stream",
     "text": [
      "Page [[Maffeo Contarini]] saved\n"
     ]
    },
    {
     "name": "stdout",
     "output_type": "stream",
     "text": [
      "Generating for acceptance rate 0.95, best score 0.0\n",
      "Wild tokens found!\n",
      "Generating for acceptance rate 0.8999999999999999, best score 0.8333333333333334\n"
     ]
    },
    {
     "name": "stderr",
     "output_type": "stream",
     "text": [
      "Page [[Giampaolo Manfrone]] saved\n"
     ]
    },
    {
     "name": "stdout",
     "output_type": "stream",
     "text": [
      "Generating for acceptance rate 0.95, best score 0.0\n",
      "Wild tokens found!\n",
      "Wild tokens found!\n"
     ]
    },
    {
     "name": "stderr",
     "output_type": "stream",
     "text": [
      "Page [[Artuico di Castello]] saved\n"
     ]
    },
    {
     "name": "stdout",
     "output_type": "stream",
     "text": [
      "Generating for acceptance rate 0.95, best score 0.0\n",
      "Wild tokens found!\n",
      "Wild tokens found!\n"
     ]
    },
    {
     "name": "stderr",
     "output_type": "stream",
     "text": [
      "Page [[Francesco Cavrioli]] saved\n"
     ]
    },
    {
     "name": "stdout",
     "output_type": "stream",
     "text": [
      "Generating for acceptance rate 0.95, best score 0.0\n",
      "Wild tokens found!\n",
      "Wild tokens found!\n",
      "Wild tokens found!\n",
      "Generating for acceptance rate 0.8999999999999999, best score 0.8181818181818182\n"
     ]
    },
    {
     "name": "stderr",
     "output_type": "stream",
     "text": [
      "Page [[Luigi Arduino]] saved\n"
     ]
    },
    {
     "name": "stdout",
     "output_type": "stream",
     "text": [
      "Generating for acceptance rate 0.95, best score 0.0\n"
     ]
    },
    {
     "name": "stderr",
     "output_type": "stream",
     "text": [
      "Page [[Veronica Baron]] saved\n"
     ]
    },
    {
     "name": "stdout",
     "output_type": "stream",
     "text": [
      "Generating for acceptance rate 0.95, best score 0.0\n"
     ]
    },
    {
     "name": "stderr",
     "output_type": "stream",
     "text": [
      "Page [[Zaccaria Bricito]] saved\n"
     ]
    },
    {
     "name": "stdout",
     "output_type": "stream",
     "text": [
      "Generating for acceptance rate 0.95, best score 0.0\n",
      "Wild tokens found!\n",
      "Generating for acceptance rate 0.8999999999999999, best score 0.9\n",
      "Wild tokens found!\n",
      "Wild tokens found!\n",
      "Wild tokens found!\n"
     ]
    },
    {
     "name": "stderr",
     "output_type": "stream",
     "text": [
      "Page [[Francesco Silvani]] saved\n"
     ]
    },
    {
     "name": "stdout",
     "output_type": "stream",
     "text": [
      "Generating for acceptance rate 0.95, best score 0.0\n",
      "Wild tokens found!\n",
      "Wild tokens found!\n"
     ]
    },
    {
     "name": "stderr",
     "output_type": "stream",
     "text": [
      "Page [[Pietro Morando]] saved\n"
     ]
    },
    {
     "name": "stdout",
     "output_type": "stream",
     "text": [
      "Generating for acceptance rate 0.95, best score 0.0\n"
     ]
    },
    {
     "name": "stderr",
     "output_type": "stream",
     "text": [
      "Page [[Camillo Mantovano]] saved\n"
     ]
    },
    {
     "name": "stdout",
     "output_type": "stream",
     "text": [
      "Generating for acceptance rate 0.95, best score 0.0\n"
     ]
    },
    {
     "name": "stderr",
     "output_type": "stream",
     "text": [
      "Page [[Giovanni Girolamo Gradenigo]] saved\n"
     ]
    },
    {
     "name": "stdout",
     "output_type": "stream",
     "text": [
      "Generating for acceptance rate 0.95, best score 0.0\n",
      "Wild tokens found!\n"
     ]
    },
    {
     "name": "stderr",
     "output_type": "stream",
     "text": [
      "Page [[Ambrosio Bembo]] saved\n"
     ]
    },
    {
     "name": "stdout",
     "output_type": "stream",
     "text": [
      "Generating for acceptance rate 0.95, best score 0.0\n",
      "Wild tokens found!\n",
      "Wild tokens found!\n"
     ]
    },
    {
     "name": "stderr",
     "output_type": "stream",
     "text": [
      "Page [[Federico Maria Giovanelli]] saved\n"
     ]
    },
    {
     "name": "stdout",
     "output_type": "stream",
     "text": [
      "Generating for acceptance rate 0.95, best score 0.0\n"
     ]
    },
    {
     "name": "stderr",
     "output_type": "stream",
     "text": [
      "Page [[Luciano Doria]] saved\n"
     ]
    },
    {
     "name": "stdout",
     "output_type": "stream",
     "text": [
      "Generating for acceptance rate 0.95, best score 0.0\n",
      "Wild tokens found!\n",
      "Wild tokens found!\n"
     ]
    },
    {
     "name": "stderr",
     "output_type": "stream",
     "text": [
      "Page [[Anton Maria Borga]] saved\n"
     ]
    },
    {
     "name": "stdout",
     "output_type": "stream",
     "text": [
      "Generating for acceptance rate 0.95, best score 0.0\n",
      "Wild tokens found!\n",
      "Wild tokens found!\n",
      "Generating for acceptance rate 0.8999999999999999, best score 0.7777777777777778\n",
      "Wild tokens found!\n",
      "Generating for acceptance rate 0.8499999999999999, best score 0.7777777777777778\n",
      "Wild tokens found!\n"
     ]
    },
    {
     "name": "stderr",
     "output_type": "stream",
     "text": [
      "Page [[Ludovico Odasio]] saved\n"
     ]
    },
    {
     "name": "stdout",
     "output_type": "stream",
     "text": [
      "Generating for acceptance rate 0.95, best score 0.0\n"
     ]
    },
    {
     "name": "stderr",
     "output_type": "stream",
     "text": [
      "Page [[Giovanni Battista Giuseppe Albrizzi]] saved\n"
     ]
    },
    {
     "name": "stdout",
     "output_type": "stream",
     "text": [
      "Generating for acceptance rate 0.95, best score 0.0\n",
      "Wild tokens found!\n"
     ]
    },
    {
     "name": "stderr",
     "output_type": "stream",
     "text": [
      "Page [[Amedeo Svajer]] saved\n"
     ]
    },
    {
     "name": "stdout",
     "output_type": "stream",
     "text": [
      "Generating for acceptance rate 0.95, best score 0.0\n"
     ]
    },
    {
     "name": "stderr",
     "output_type": "stream",
     "text": [
      "Page [[Marina Cappello]] saved\n"
     ]
    },
    {
     "name": "stdout",
     "output_type": "stream",
     "text": [
      "Generating for acceptance rate 0.95, best score 0.0\n",
      "Wild tokens found!\n",
      "Generating for acceptance rate 0.8999999999999999, best score 0.8888888888888888\n",
      "Section duplicate detected\n",
      "Generating for acceptance rate 0.8499999999999999, best score 0.8888888888888888\n",
      "Section duplicate detected\n",
      "Wild tokens found!\n",
      "Wild tokens found!\n",
      "Wild tokens found!\n"
     ]
    },
    {
     "name": "stderr",
     "output_type": "stream",
     "text": [
      "Page [[Giordano Pasetto]] saved\n"
     ]
    },
    {
     "name": "stdout",
     "output_type": "stream",
     "text": [
      "Generating for acceptance rate 0.95, best score 0.0\n"
     ]
    },
    {
     "name": "stderr",
     "output_type": "stream",
     "text": [
      "Page [[Giuseppe Boerio]] saved\n"
     ]
    },
    {
     "name": "stdout",
     "output_type": "stream",
     "text": [
      "Generating for acceptance rate 0.95, best score 0.0\n",
      "Wild tokens found!\n",
      "Section duplicate detected\n"
     ]
    },
    {
     "name": "stderr",
     "output_type": "stream",
     "text": [
      "Page [[Lodovico Fogliano]] saved\n"
     ]
    },
    {
     "name": "stdout",
     "output_type": "stream",
     "text": [
      "Generating for acceptance rate 0.95, best score 0.0\n"
     ]
    },
    {
     "name": "stderr",
     "output_type": "stream",
     "text": [
      "Page [[Niccolò Gussoni]] saved\n"
     ]
    },
    {
     "name": "stdout",
     "output_type": "stream",
     "text": [
      "Generating for acceptance rate 0.95, best score 0.0\n",
      "Section duplicate detected\n",
      "Wild tokens found!\n"
     ]
    },
    {
     "name": "stderr",
     "output_type": "stream",
     "text": [
      "Page [[Girolamo Albanese]] saved\n"
     ]
    },
    {
     "name": "stdout",
     "output_type": "stream",
     "text": [
      "Generating for acceptance rate 0.95, best score 0.0\n",
      "Wild tokens found!\n",
      "Section duplicate detected\n",
      "Wild tokens found!\n",
      "Generating for acceptance rate 0.8999999999999999, best score 0.9\n",
      "Wild tokens found!\n",
      "Wild tokens found!\n"
     ]
    },
    {
     "name": "stderr",
     "output_type": "stream",
     "text": [
      "Page [[Dionisio Moretti]] saved\n"
     ]
    },
    {
     "name": "stdout",
     "output_type": "stream",
     "text": [
      "Generating for acceptance rate 0.95, best score 0.0\n",
      "Wild tokens found!\n",
      "Wild tokens found!\n"
     ]
    },
    {
     "name": "stderr",
     "output_type": "stream",
     "text": [
      "Page [[Anselmo Marsand]] saved\n"
     ]
    },
    {
     "name": "stdout",
     "output_type": "stream",
     "text": [
      "Generating for acceptance rate 0.95, best score 0.0\n"
     ]
    },
    {
     "name": "stderr",
     "output_type": "stream",
     "text": [
      "Page [[Placido Bordoni]] saved\n"
     ]
    },
    {
     "name": "stdout",
     "output_type": "stream",
     "text": [
      "Generating for acceptance rate 0.95, best score 0.0\n"
     ]
    },
    {
     "name": "stderr",
     "output_type": "stream",
     "text": [
      "Page [[Giovanni Minotto Ottobini]] saved\n"
     ]
    },
    {
     "name": "stdout",
     "output_type": "stream",
     "text": [
      "Generating for acceptance rate 0.95, best score 0.0\n"
     ]
    },
    {
     "name": "stderr",
     "output_type": "stream",
     "text": [
      "Page [[Caterino Corner]] saved\n"
     ]
    },
    {
     "name": "stdout",
     "output_type": "stream",
     "text": [
      "Generating for acceptance rate 0.95, best score 0.0\n",
      "Wild tokens found!\n"
     ]
    },
    {
     "name": "stderr",
     "output_type": "stream",
     "text": [
      "Page [[Giovanni Boldù]] saved\n"
     ]
    },
    {
     "name": "stdout",
     "output_type": "stream",
     "text": [
      "Generating for acceptance rate 0.95, best score 0.0\n"
     ]
    },
    {
     "name": "stderr",
     "output_type": "stream",
     "text": [
      "Page [[Maffio Venier]] saved\n"
     ]
    },
    {
     "name": "stdout",
     "output_type": "stream",
     "text": [
      "Generating for acceptance rate 0.95, best score 0.0\n"
     ]
    },
    {
     "name": "stderr",
     "output_type": "stream",
     "text": [
      "Page [[Francesco Scipione Dondi Dell'Orologio]] saved\n"
     ]
    },
    {
     "name": "stdout",
     "output_type": "stream",
     "text": [
      "Generating for acceptance rate 0.95, best score 0.0\n",
      "Wild tokens found!\n"
     ]
    },
    {
     "name": "stderr",
     "output_type": "stream",
     "text": [
      "Page [[Marchesina Ghisi]] saved\n"
     ]
    },
    {
     "name": "stdout",
     "output_type": "stream",
     "text": [
      "Generating for acceptance rate 0.95, best score 0.0\n",
      "Wild tokens found!\n",
      "Wild tokens found!\n",
      "Wild tokens found!\n",
      "Generating for acceptance rate 0.8999999999999999, best score 0.8888888888888888\n",
      "Wild tokens found!\n",
      "Wild tokens found!\n",
      "Wild tokens found!\n",
      "Wild tokens found!\n",
      "Generating for acceptance rate 0.8499999999999999, best score 0.8888888888888888\n",
      "Wild tokens found!\n",
      "Wild tokens found!\n",
      "Wild tokens found!\n"
     ]
    },
    {
     "name": "stderr",
     "output_type": "stream",
     "text": [
      "Page [[Antonio Longo]] saved\n"
     ]
    },
    {
     "name": "stdout",
     "output_type": "stream",
     "text": [
      "Generating for acceptance rate 0.95, best score 0.0\n",
      "Wild tokens found!\n",
      "Wild tokens found!\n"
     ]
    },
    {
     "name": "stderr",
     "output_type": "stream",
     "text": [
      "Page [[Alda Manuzio]] saved\n"
     ]
    },
    {
     "name": "stdout",
     "output_type": "stream",
     "text": [
      "Generating for acceptance rate 0.95, best score 0.0\n",
      "Wild tokens found!\n"
     ]
    },
    {
     "name": "stderr",
     "output_type": "stream",
     "text": [
      "Page [[Fantino Michiel]] saved\n"
     ]
    },
    {
     "name": "stdout",
     "output_type": "stream",
     "text": [
      "Generating for acceptance rate 0.95, best score 0.0\n",
      "Wild tokens found!\n"
     ]
    },
    {
     "name": "stderr",
     "output_type": "stream",
     "text": [
      "Page [[Alvise Lippomano]] saved\n"
     ]
    },
    {
     "name": "stdout",
     "output_type": "stream",
     "text": [
      "Generating for acceptance rate 0.95, best score 0.0\n",
      "Wild tokens found!\n",
      "Wild tokens found!\n"
     ]
    },
    {
     "name": "stderr",
     "output_type": "stream",
     "text": [
      "Page [[Capino Capini]] saved\n"
     ]
    },
    {
     "name": "stdout",
     "output_type": "stream",
     "text": [
      "Generating for acceptance rate 0.95, best score 0.0\n",
      "Wild tokens found!\n",
      "Wild tokens found!\n"
     ]
    },
    {
     "name": "stderr",
     "output_type": "stream",
     "text": [
      "Page [[Francesco Bandiera]] saved\n"
     ]
    },
    {
     "name": "stdout",
     "output_type": "stream",
     "text": [
      "Generating for acceptance rate 0.95, best score 0.0\n",
      "Wild tokens found!\n"
     ]
    },
    {
     "name": "stderr",
     "output_type": "stream",
     "text": [
      "Page [[Dionisio Brevio]] saved\n"
     ]
    },
    {
     "name": "stdout",
     "output_type": "stream",
     "text": [
      "Generating for acceptance rate 0.95, best score 0.0\n",
      "Wild tokens found!\n",
      "Section duplicate detected\n",
      "Generating for acceptance rate 0.8999999999999999, best score 0.8571428571428571\n"
     ]
    },
    {
     "name": "stderr",
     "output_type": "stream",
     "text": [
      "Page [[Bernardino Da Verona]] saved\n"
     ]
    },
    {
     "name": "stdout",
     "output_type": "stream",
     "text": [
      "Generating for acceptance rate 0.95, best score 0.0\n",
      "Wild tokens found!\n",
      "Wild tokens found!\n"
     ]
    },
    {
     "name": "stderr",
     "output_type": "stream",
     "text": [
      "Page [[Nicolò Sagri]] saved\n"
     ]
    },
    {
     "name": "stdout",
     "output_type": "stream",
     "text": [
      "Generating for acceptance rate 0.95, best score 0.0\n",
      "Wild tokens found!\n",
      "Wild tokens found!\n",
      "Wild tokens found!\n",
      "Wild tokens found!\n"
     ]
    },
    {
     "name": "stderr",
     "output_type": "stream",
     "text": [
      "Page [[Giovanni Battista Seni]] saved\n"
     ]
    },
    {
     "name": "stdout",
     "output_type": "stream",
     "text": [
      "Generating for acceptance rate 0.95, best score 0.0\n",
      "Wild tokens found!\n",
      "Wild tokens found!\n",
      "Wild tokens found!\n",
      "Wild tokens found!\n"
     ]
    },
    {
     "name": "stderr",
     "output_type": "stream",
     "text": [
      "Page [[Alvise Mocenigo]] saved\n"
     ]
    },
    {
     "name": "stdout",
     "output_type": "stream",
     "text": [
      "Generating for acceptance rate 0.95, best score 0.0\n",
      "Wild tokens found!\n",
      "Generating for acceptance rate 0.8999999999999999, best score 0.9230769230769231\n",
      "Section duplicate detected\n"
     ]
    },
    {
     "name": "stderr",
     "output_type": "stream",
     "text": [
      "Page [[Francesco Barbarano de' Mironi]] saved\n"
     ]
    },
    {
     "name": "stdout",
     "output_type": "stream",
     "text": [
      "Generating for acceptance rate 0.95, best score 0.0\n",
      "Section duplicate detected\n",
      "Wild tokens found!\n",
      "Wild tokens found!\n",
      "Wild tokens found!\n"
     ]
    },
    {
     "name": "stderr",
     "output_type": "stream",
     "text": [
      "Page [[Laura Morosini]] saved\n"
     ]
    },
    {
     "name": "stdout",
     "output_type": "stream",
     "text": [
      "Generating for acceptance rate 0.95, best score 0.0\n",
      "Wild tokens found!\n",
      "Wild tokens found!\n",
      "Wild tokens found!\n"
     ]
    },
    {
     "name": "stderr",
     "output_type": "stream",
     "text": [
      "Page [[Vespasiano Anfiareo]] saved\n"
     ]
    },
    {
     "name": "stdout",
     "output_type": "stream",
     "text": [
      "Generating for acceptance rate 0.95, best score 0.0\n",
      "Wild tokens found!\n",
      "Wild tokens found!\n",
      "Wild tokens found!\n",
      "Wild tokens found!\n",
      "Wild tokens found!\n",
      "Wild tokens found!\n",
      "Generating for acceptance rate 0.8999999999999999, best score 0.8888888888888888\n",
      "Wild tokens found!\n",
      "Wild tokens found!\n"
     ]
    },
    {
     "name": "stderr",
     "output_type": "stream",
     "text": [
      "Page [[Antonio Grumello]] saved\n"
     ]
    },
    {
     "name": "stdout",
     "output_type": "stream",
     "text": [
      "Generating for acceptance rate 0.95, best score 0.0\n",
      "Wild tokens found!\n"
     ]
    },
    {
     "name": "stderr",
     "output_type": "stream",
     "text": [
      "Page [[Antonio]] saved\n"
     ]
    },
    {
     "name": "stdout",
     "output_type": "stream",
     "text": [
      "Generating for acceptance rate 0.95, best score 0.0\n"
     ]
    },
    {
     "name": "stderr",
     "output_type": "stream",
     "text": [
      "Page [[Andrea Amadio]] saved\n"
     ]
    },
    {
     "name": "stdout",
     "output_type": "stream",
     "text": [
      "Generating for acceptance rate 0.95, best score 0.0\n",
      "Wild tokens found!\n",
      "Wild tokens found!\n"
     ]
    },
    {
     "name": "stderr",
     "output_type": "stream",
     "text": [
      "Page [[Angelo Scarabello]] saved\n"
     ]
    },
    {
     "name": "stdout",
     "output_type": "stream",
     "text": [
      "Generating for acceptance rate 0.95, best score 0.0\n"
     ]
    },
    {
     "name": "stderr",
     "output_type": "stream",
     "text": [
      "Page [[Girolamo Alessandro Cappellari Vivaro]] saved\n"
     ]
    },
    {
     "name": "stdout",
     "output_type": "stream",
     "text": [
      "Generating for acceptance rate 0.95, best score 0.0\n",
      "Wild tokens found!\n",
      "Wild tokens found!\n",
      "Section duplicate detected\n",
      "Wild tokens found!\n",
      "Generating for acceptance rate 0.8999999999999999, best score 0.8\n",
      "Wild tokens found!\n",
      "Wild tokens found!\n"
     ]
    },
    {
     "name": "stderr",
     "output_type": "stream",
     "text": [
      "Page [[Pancrazio Giustinian]] saved\n"
     ]
    },
    {
     "name": "stdout",
     "output_type": "stream",
     "text": [
      "Generating for acceptance rate 0.95, best score 0.0\n",
      "Wild tokens found!\n",
      "Wild tokens found!\n"
     ]
    },
    {
     "name": "stderr",
     "output_type": "stream",
     "text": [
      "Page [[Carlo Assonica]] saved\n"
     ]
    },
    {
     "name": "stdout",
     "output_type": "stream",
     "text": [
      "Generating for acceptance rate 0.95, best score 0.0\n",
      "Section duplicate detected\n"
     ]
    },
    {
     "name": "stderr",
     "output_type": "stream",
     "text": [
      "Page [[Lucietta Affabili]] saved\n"
     ]
    },
    {
     "name": "stdout",
     "output_type": "stream",
     "text": [
      "Generating for acceptance rate 0.95, best score 0.0\n",
      "Section duplicate detected\n"
     ]
    },
    {
     "name": "stderr",
     "output_type": "stream",
     "text": [
      "Page [[Jacopo Foscarini]] saved\n"
     ]
    },
    {
     "name": "stdout",
     "output_type": "stream",
     "text": [
      "Generating for acceptance rate 0.95, best score 0.0\n",
      "Section duplicate detected\n",
      "Section duplicate detected\n",
      "Wild tokens found!\n",
      "Section duplicate detected\n",
      "Generating for acceptance rate 0.8999999999999999, best score 0.75\n",
      "Section duplicate detected\n",
      "Wild tokens found!\n",
      "Generating for acceptance rate 0.8499999999999999, best score 0.75\n",
      "Wild tokens found!\n",
      "Generating for acceptance rate 0.7999999999999998, best score 0.8333333333333334\n"
     ]
    },
    {
     "name": "stderr",
     "output_type": "stream",
     "text": [
      "Page [[Ante Jurić]] saved\n"
     ]
    },
    {
     "name": "stdout",
     "output_type": "stream",
     "text": [
      "Generating for acceptance rate 0.95, best score 0.0\n"
     ]
    },
    {
     "name": "stderr",
     "output_type": "stream",
     "text": [
      "Page [[Andrea Bon]] saved\n"
     ]
    },
    {
     "name": "stdout",
     "output_type": "stream",
     "text": [
      "Generating for acceptance rate 0.95, best score 0.0\n",
      "Wild tokens found!\n",
      "Wild tokens found!\n"
     ]
    },
    {
     "name": "stderr",
     "output_type": "stream",
     "text": [
      "Page [[Giuseppe Perovani]] saved\n"
     ]
    },
    {
     "name": "stdout",
     "output_type": "stream",
     "text": [
      "Generating for acceptance rate 0.95, best score 0.0\n"
     ]
    },
    {
     "name": "stderr",
     "output_type": "stream",
     "text": [
      "Page [[Arnaldo Speroni degli Alvarotti]] saved\n"
     ]
    },
    {
     "name": "stdout",
     "output_type": "stream",
     "text": [
      "Generating for acceptance rate 0.95, best score 0.0\n",
      "Wild tokens found!\n"
     ]
    },
    {
     "name": "stderr",
     "output_type": "stream",
     "text": [
      "Page [[Benedict of Dalmatia]] saved\n"
     ]
    },
    {
     "name": "stdout",
     "output_type": "stream",
     "text": [
      "Generating for acceptance rate 0.95, best score 0.0\n"
     ]
    },
    {
     "name": "stderr",
     "output_type": "stream",
     "text": [
      "Page [[Brandolino Conte Brandolini]] saved\n"
     ]
    },
    {
     "name": "stdout",
     "output_type": "stream",
     "text": [
      "Generating for acceptance rate 0.95, best score 0.0\n",
      "Wild tokens found!\n",
      "Wild tokens found!\n",
      "Wild tokens found!\n"
     ]
    },
    {
     "name": "stderr",
     "output_type": "stream",
     "text": [
      "Page [[Gustavo Modena]] saved\n"
     ]
    },
    {
     "name": "stdout",
     "output_type": "stream",
     "text": [
      "Generating for acceptance rate 0.95, best score 0.0\n"
     ]
    },
    {
     "name": "stderr",
     "output_type": "stream",
     "text": [
      "Page [[Giovanni Zebellana]] saved\n"
     ]
    },
    {
     "name": "stdout",
     "output_type": "stream",
     "text": [
      "Generating for acceptance rate 0.95, best score 0.0\n",
      "Wild tokens found!\n"
     ]
    },
    {
     "name": "stderr",
     "output_type": "stream",
     "text": [
      "Page [[Melchiorre Trevisan]] saved\n"
     ]
    },
    {
     "name": "stdout",
     "output_type": "stream",
     "text": [
      "Generating for acceptance rate 0.95, best score 0.0\n",
      "Wild tokens found!\n"
     ]
    },
    {
     "name": "stderr",
     "output_type": "stream",
     "text": [
      "Page [[Francesco Napoletano]] saved\n"
     ]
    },
    {
     "name": "stdout",
     "output_type": "stream",
     "text": [
      "Generating for acceptance rate 0.95, best score 0.0\n",
      "Wild tokens found!\n",
      "Generating for acceptance rate 0.8999999999999999, best score 0.7777777777777778\n",
      "Wild tokens found!\n",
      "Wild tokens found!\n",
      "Wild tokens found!\n",
      "Generating for acceptance rate 0.8499999999999999, best score 0.7777777777777778\n",
      "Wild tokens found!\n",
      "Wild tokens found!\n",
      "Wild tokens found!\n",
      "Wild tokens found!\n",
      "Generating for acceptance rate 0.7999999999999998, best score 0.7777777777777778\n"
     ]
    },
    {
     "name": "stderr",
     "output_type": "stream",
     "text": [
      "Page [[Antonio Baietto]] saved\n"
     ]
    },
    {
     "name": "stdout",
     "output_type": "stream",
     "text": [
      "Generating for acceptance rate 0.95, best score 0.0\n",
      "Wild tokens found!\n"
     ]
    },
    {
     "name": "stderr",
     "output_type": "stream",
     "text": [
      "Page [[Filippo Paruta]] saved\n"
     ]
    },
    {
     "name": "stdout",
     "output_type": "stream",
     "text": [
      "Generating for acceptance rate 0.95, best score 0.0\n"
     ]
    },
    {
     "name": "stderr",
     "output_type": "stream",
     "text": [
      "Page [[Giovanni Andrea Avogadro]] saved\n"
     ]
    },
    {
     "name": "stdout",
     "output_type": "stream",
     "text": [
      "Generating for acceptance rate 0.95, best score 0.0\n",
      "Wild tokens found!\n"
     ]
    },
    {
     "name": "stderr",
     "output_type": "stream",
     "text": [
      "Page [[Michele Lorenzo Mancini]] saved\n"
     ]
    },
    {
     "name": "stdout",
     "output_type": "stream",
     "text": [
      "Generating for acceptance rate 0.95, best score 0.0\n"
     ]
    },
    {
     "name": "stderr",
     "output_type": "stream",
     "text": [
      "Page [[Carlo Brisighella Eismann]] saved\n"
     ]
    },
    {
     "name": "stdout",
     "output_type": "stream",
     "text": [
      "Generating for acceptance rate 0.95, best score 0.0\n"
     ]
    },
    {
     "name": "stderr",
     "output_type": "stream",
     "text": [
      "Page [[Paolo de Bernardo]] saved\n"
     ]
    },
    {
     "name": "stdout",
     "output_type": "stream",
     "text": [
      "Generating for acceptance rate 0.95, best score 0.0\n"
     ]
    },
    {
     "name": "stderr",
     "output_type": "stream",
     "text": [
      "Page [[Francesco Calbo Crotta]] saved\n"
     ]
    },
    {
     "name": "stdout",
     "output_type": "stream",
     "text": [
      "Generating for acceptance rate 0.95, best score 0.0\n",
      "Section duplicate detected\n",
      "Wild tokens found!\n",
      "Section duplicate detected\n",
      "Wild tokens found!\n"
     ]
    },
    {
     "name": "stderr",
     "output_type": "stream",
     "text": [
      "Page [[Sperandio di Bartolommeo de' Savelli]] saved\n"
     ]
    },
    {
     "name": "stdout",
     "output_type": "stream",
     "text": [
      "Generating for acceptance rate 0.95, best score 0.0\n",
      "Wild tokens found!\n",
      "Wild tokens found!\n",
      "Wild tokens found!\n",
      "Generating for acceptance rate 0.8999999999999999, best score 0.9090909090909091\n",
      "Wild tokens found!\n",
      "Wild tokens found!\n",
      "Wild tokens found!\n",
      "Wild tokens found!\n",
      "Wild tokens found!\n",
      "Wild tokens found!\n"
     ]
    },
    {
     "name": "stderr",
     "output_type": "stream",
     "text": [
      "Page [[Angelo Gualandris]] saved\n"
     ]
    },
    {
     "name": "stdout",
     "output_type": "stream",
     "text": [
      "Generating for acceptance rate 0.95, best score 0.0\n"
     ]
    },
    {
     "name": "stderr",
     "output_type": "stream",
     "text": [
      "Page [[Agostino]] saved\n"
     ]
    },
    {
     "name": "stdout",
     "output_type": "stream",
     "text": [
      "Generating for acceptance rate 0.95, best score 0.0\n",
      "Wild tokens found!\n"
     ]
    },
    {
     "name": "stderr",
     "output_type": "stream",
     "text": [
      "Page [[Zaccaria Betti]] saved\n"
     ]
    },
    {
     "name": "stdout",
     "output_type": "stream",
     "text": [
      "Generating for acceptance rate 0.95, best score 0.0\n",
      "Wild tokens found!\n"
     ]
    },
    {
     "name": "stderr",
     "output_type": "stream",
     "text": [
      "Page [[Niccolò Loschi]] saved\n"
     ]
    },
    {
     "name": "stdout",
     "output_type": "stream",
     "text": [
      "Generating for acceptance rate 0.95, best score 0.0\n"
     ]
    },
    {
     "name": "stderr",
     "output_type": "stream",
     "text": [
      "Page [[Vittoria Madurelli Berti]] saved\n"
     ]
    },
    {
     "name": "stdout",
     "output_type": "stream",
     "text": [
      "Generating for acceptance rate 0.95, best score 0.0\n",
      "Section duplicate detected\n",
      "Generating for acceptance rate 0.8999999999999999, best score 0.7692307692307693\n",
      "Generating for acceptance rate 0.8499999999999999, best score 0.8461538461538461\n",
      "Wild tokens found!\n",
      "Generating for acceptance rate 0.7999999999999998, best score 0.8461538461538461\n",
      "Wild tokens found!\n",
      "Wild tokens found!\n",
      "Wild tokens found!\n"
     ]
    },
    {
     "name": "stderr",
     "output_type": "stream",
     "text": [
      "Page [[Giacomo Piccini]] saved\n"
     ]
    },
    {
     "name": "stdout",
     "output_type": "stream",
     "text": [
      "Generating for acceptance rate 0.95, best score 0.0\n",
      "Wild tokens found!\n"
     ]
    },
    {
     "name": "stderr",
     "output_type": "stream",
     "text": [
      "Page [[Rossi]] saved\n"
     ]
    },
    {
     "name": "stdout",
     "output_type": "stream",
     "text": [
      "Generating for acceptance rate 0.95, best score 0.0\n",
      "Wild tokens found!\n",
      "Wild tokens found!\n",
      "Generating for acceptance rate 0.8999999999999999, best score 0.9090909090909091\n"
     ]
    },
    {
     "name": "stderr",
     "output_type": "stream",
     "text": [
      "Page [[Tommaso Giuseppe Farsetti]] saved\n"
     ]
    },
    {
     "name": "stdout",
     "output_type": "stream",
     "text": [
      "Generating for acceptance rate 0.95, best score 0.0\n"
     ]
    },
    {
     "name": "stderr",
     "output_type": "stream",
     "text": [
      "Page [[Francesco Duodo]] saved\n"
     ]
    },
    {
     "name": "stdout",
     "output_type": "stream",
     "text": [
      "Generating for acceptance rate 0.95, best score 0.0\n",
      "Wild tokens found!\n"
     ]
    },
    {
     "name": "stderr",
     "output_type": "stream",
     "text": [
      "Page [[Angelo Ingegneri]] saved\n"
     ]
    },
    {
     "name": "stdout",
     "output_type": "stream",
     "text": [
      "Generating for acceptance rate 0.95, best score 0.0\n"
     ]
    },
    {
     "name": "stderr",
     "output_type": "stream",
     "text": [
      "Page [[Tommaso Maria Minorelli]] saved\n"
     ]
    },
    {
     "name": "stdout",
     "output_type": "stream",
     "text": [
      "Generating for acceptance rate 0.95, best score 0.0\n",
      "Wild tokens found!\n",
      "Wild tokens found!\n",
      "Wild tokens found!\n"
     ]
    },
    {
     "name": "stderr",
     "output_type": "stream",
     "text": [
      "Page [[Angelo Gualandris]] saved\n"
     ]
    },
    {
     "name": "stdout",
     "output_type": "stream",
     "text": [
      "Generating for acceptance rate 0.95, best score 0.0\n"
     ]
    },
    {
     "name": "stderr",
     "output_type": "stream",
     "text": [
      "Page [[Francesco Segala]] saved\n"
     ]
    },
    {
     "name": "stdout",
     "output_type": "stream",
     "text": [
      "Generating for acceptance rate 0.95, best score 0.0\n"
     ]
    },
    {
     "name": "stderr",
     "output_type": "stream",
     "text": [
      "Page [[Giuseppe Beccarelli]] saved\n"
     ]
    },
    {
     "name": "stdout",
     "output_type": "stream",
     "text": [
      "Generating for acceptance rate 0.95, best score 0.0\n",
      "Wild tokens found!\n"
     ]
    },
    {
     "name": "stderr",
     "output_type": "stream",
     "text": [
      "Page [[Giovanni Battista dal Legname]] saved\n"
     ]
    },
    {
     "name": "stdout",
     "output_type": "stream",
     "text": [
      "Generating for acceptance rate 0.95, best score 0.0\n"
     ]
    },
    {
     "name": "stderr",
     "output_type": "stream",
     "text": [
      "Page [[Pietro Martire Rusca]] saved\n"
     ]
    },
    {
     "name": "stdout",
     "output_type": "stream",
     "text": [
      "Generating for acceptance rate 0.95, best score 0.0\n",
      "Generating for acceptance rate 0.8999999999999999, best score 0.875\n",
      "Wild tokens found!\n"
     ]
    },
    {
     "name": "stderr",
     "output_type": "stream",
     "text": [
      "Page [[Pietro Morosini]] saved\n"
     ]
    },
    {
     "name": "stdout",
     "output_type": "stream",
     "text": [
      "Generating for acceptance rate 0.95, best score 0.0\n"
     ]
    },
    {
     "name": "stderr",
     "output_type": "stream",
     "text": [
      "Page [[Giovanni]] saved\n"
     ]
    },
    {
     "name": "stdout",
     "output_type": "stream",
     "text": [
      "Generating for acceptance rate 0.95, best score 0.0\n"
     ]
    },
    {
     "name": "stderr",
     "output_type": "stream",
     "text": [
      "Page [[Daniele Dolfin]] saved\n"
     ]
    },
    {
     "name": "stdout",
     "output_type": "stream",
     "text": [
      "Generating for acceptance rate 0.95, best score 0.0\n",
      "Wild tokens found!\n"
     ]
    },
    {
     "name": "stderr",
     "output_type": "stream",
     "text": [
      "Page [[Girolamo Schiavon]] saved\n"
     ]
    },
    {
     "name": "stdout",
     "output_type": "stream",
     "text": [
      "Generating for acceptance rate 0.95, best score 0.0\n",
      "Wild tokens found!\n"
     ]
    },
    {
     "name": "stderr",
     "output_type": "stream",
     "text": [
      "Page [[Niccolò Pezzana]] saved\n"
     ]
    },
    {
     "name": "stdout",
     "output_type": "stream",
     "text": [
      "Generating for acceptance rate 0.95, best score 0.0\n",
      "Section duplicate detected\n"
     ]
    },
    {
     "name": "stderr",
     "output_type": "stream",
     "text": [
      "Page [[Lucrezia Dondi dall'Orologio Obizzi]] saved\n"
     ]
    },
    {
     "name": "stdout",
     "output_type": "stream",
     "text": [
      "Generating for acceptance rate 0.95, best score 0.0\n"
     ]
    },
    {
     "name": "stderr",
     "output_type": "stream",
     "text": [
      "Page [[Zaccaria Bricito]] saved\n"
     ]
    },
    {
     "name": "stdout",
     "output_type": "stream",
     "text": [
      "Generating for acceptance rate 0.95, best score 0.0\n"
     ]
    },
    {
     "name": "stderr",
     "output_type": "stream",
     "text": [
      "Page [[Giovanni Battista I Groppelli]] saved\n"
     ]
    },
    {
     "name": "stdout",
     "output_type": "stream",
     "text": [
      "Generating for acceptance rate 0.95, best score 0.0\n",
      "Wild tokens found!\n",
      "Wild tokens found!\n",
      "Generating for acceptance rate 0.8999999999999999, best score 0.875\n",
      "Generating for acceptance rate 0.8499999999999999, best score 0.875\n",
      "Wild tokens found!\n"
     ]
    },
    {
     "name": "stderr",
     "output_type": "stream",
     "text": [
      "Page [[Aleardus de Pindemontibus]] saved\n"
     ]
    },
    {
     "name": "stdout",
     "output_type": "stream",
     "text": [
      "Generating for acceptance rate 0.95, best score 0.0\n"
     ]
    },
    {
     "name": "stderr",
     "output_type": "stream",
     "text": [
      "Page [[Giacomo Cavalli]] saved\n"
     ]
    },
    {
     "name": "stdout",
     "output_type": "stream",
     "text": [
      "Generating for acceptance rate 0.95, best score 0.0\n",
      "Wild tokens found!\n"
     ]
    },
    {
     "name": "stderr",
     "output_type": "stream",
     "text": [
      "Page [[Marco Gradenigo]] saved\n"
     ]
    },
    {
     "name": "stdout",
     "output_type": "stream",
     "text": [
      "Generating for acceptance rate 0.95, best score 0.0\n",
      "Wild tokens found!\n",
      "Wild tokens found!\n",
      "Section duplicate detected\n"
     ]
    },
    {
     "name": "stderr",
     "output_type": "stream",
     "text": [
      "Page [[Giovanni Verardo Zeviani]] saved\n"
     ]
    },
    {
     "name": "stdout",
     "output_type": "stream",
     "text": [
      "Generating for acceptance rate 0.95, best score 0.0\n",
      "Wild tokens found!\n"
     ]
    },
    {
     "name": "stderr",
     "output_type": "stream",
     "text": [
      "Page [[Giuliano Zuliani]] saved\n"
     ]
    },
    {
     "name": "stdout",
     "output_type": "stream",
     "text": [
      "Generating for acceptance rate 0.95, best score 0.0\n"
     ]
    },
    {
     "name": "stderr",
     "output_type": "stream",
     "text": [
      "Page [[Paolo Morellati]] saved\n"
     ]
    },
    {
     "name": "stdout",
     "output_type": "stream",
     "text": [
      "Generating for acceptance rate 0.95, best score 0.0\n"
     ]
    },
    {
     "name": "stderr",
     "output_type": "stream",
     "text": [
      "Page [[Alessandro Caravia]] saved\n"
     ]
    },
    {
     "name": "stdout",
     "output_type": "stream",
     "text": [
      "Generating for acceptance rate 0.95, best score 0.0\n",
      "Wild tokens found!\n",
      "Wild tokens found!\n"
     ]
    },
    {
     "name": "stderr",
     "output_type": "stream",
     "text": [
      "Page [[Battaglia]] saved\n"
     ]
    },
    {
     "name": "stdout",
     "output_type": "stream",
     "text": [
      "Generating for acceptance rate 0.95, best score 0.0\n",
      "Section duplicate detected\n",
      "Wild tokens found!\n"
     ]
    },
    {
     "name": "stderr",
     "output_type": "stream",
     "text": [
      "Page [[Marco Mantova Benavides]] saved\n"
     ]
    },
    {
     "name": "stdout",
     "output_type": "stream",
     "text": [
      "Generating for acceptance rate 0.95, best score 0.0\n"
     ]
    },
    {
     "name": "stderr",
     "output_type": "stream",
     "text": [
      "Page [[Agapios Landos]] saved\n"
     ]
    },
    {
     "name": "stdout",
     "output_type": "stream",
     "text": [
      "Generating for acceptance rate 0.95, best score 0.0\n",
      "Wild tokens found!\n",
      "Wild tokens found!\n"
     ]
    },
    {
     "name": "stderr",
     "output_type": "stream",
     "text": [
      "Page [[Francesco]] saved\n"
     ]
    },
    {
     "name": "stdout",
     "output_type": "stream",
     "text": [
      "Generating for acceptance rate 0.95, best score 0.0\n",
      "Wild tokens found!\n",
      "Generating for acceptance rate 0.8999999999999999, best score 0.8571428571428571\n",
      "Wild tokens found!\n",
      "Wild tokens found!\n",
      "Wild tokens found!\n",
      "Generating for acceptance rate 0.8499999999999999, best score 0.8571428571428571\n",
      "Wild tokens found!\n",
      "Wild tokens found!\n",
      "Wild tokens found!\n",
      "Wild tokens found!\n"
     ]
    },
    {
     "name": "stderr",
     "output_type": "stream",
     "text": [
      "Page [[Pietro Giustiniani]] saved\n"
     ]
    },
    {
     "name": "stdout",
     "output_type": "stream",
     "text": [
      "Generating for acceptance rate 0.95, best score 0.0\n",
      "Section duplicate detected\n",
      "Wild tokens found!\n",
      "Wild tokens found!\n",
      "Wild tokens found!\n",
      "Wild tokens found!\n"
     ]
    },
    {
     "name": "stderr",
     "output_type": "stream",
     "text": [
      "Page [[Franz Alberti]] saved\n"
     ]
    },
    {
     "name": "stdout",
     "output_type": "stream",
     "text": [
      "Generating for acceptance rate 0.95, best score 0.0\n"
     ]
    },
    {
     "name": "stderr",
     "output_type": "stream",
     "text": [
      "Page [[Pier Maria I de' Rossi]] saved\n"
     ]
    },
    {
     "name": "stdout",
     "output_type": "stream",
     "text": [
      "Generating for acceptance rate 0.95, best score 0.0\n",
      "Wild tokens found!\n"
     ]
    },
    {
     "name": "stderr",
     "output_type": "stream",
     "text": [
      "Page [[Antonio Bon]] saved\n"
     ]
    },
    {
     "name": "stdout",
     "output_type": "stream",
     "text": [
      "Generating for acceptance rate 0.95, best score 0.0\n"
     ]
    },
    {
     "name": "stderr",
     "output_type": "stream",
     "text": [
      "Page [[Giovanni Battista Bastiani]] saved\n"
     ]
    },
    {
     "name": "stdout",
     "output_type": "stream",
     "text": [
      "Generating for acceptance rate 0.95, best score 0.0\n",
      "Section duplicate detected\n",
      "Wild tokens found!\n",
      "Wild tokens found!\n",
      "Wild tokens found!\n",
      "Generating for acceptance rate 0.8999999999999999, best score 0.9\n",
      "Wild tokens found!\n",
      "Wild tokens found!\n",
      "Wild tokens found!\n",
      "Section duplicate detected\n"
     ]
    },
    {
     "name": "stderr",
     "output_type": "stream",
     "text": [
      "Page [[Egnazio]] saved\n"
     ]
    },
    {
     "name": "stdout",
     "output_type": "stream",
     "text": [
      "Generating for acceptance rate 0.95, best score 0.0\n",
      "Wild tokens found!\n"
     ]
    },
    {
     "name": "stderr",
     "output_type": "stream",
     "text": [
      "Page [[Bonifacio Antelmi]] saved\n"
     ]
    },
    {
     "name": "stdout",
     "output_type": "stream",
     "text": [
      "Generating for acceptance rate 0.95, best score 0.0\n"
     ]
    },
    {
     "name": "stderr",
     "output_type": "stream",
     "text": [
      "Page [[Cleofe Borromeo Gabrielli]] saved\n"
     ]
    },
    {
     "name": "stdout",
     "output_type": "stream",
     "text": [
      "Generating for acceptance rate 0.95, best score 0.0\n",
      "Generating for acceptance rate 0.8999999999999999, best score 0.8571428571428571\n",
      "Section duplicate detected\n",
      "Generating for acceptance rate 0.8499999999999999, best score 0.8571428571428571\n",
      "Section duplicate detected\n",
      "Section duplicate detected\n"
     ]
    },
    {
     "name": "stderr",
     "output_type": "stream",
     "text": [
      "Page [[Catarino Veneziano]] saved\n"
     ]
    },
    {
     "name": "stdout",
     "output_type": "stream",
     "text": [
      "Generating for acceptance rate 0.95, best score 0.0\n"
     ]
    },
    {
     "name": "stderr",
     "output_type": "stream",
     "text": [
      "Page [[Ignazio Spergher]] saved\n"
     ]
    },
    {
     "name": "stdout",
     "output_type": "stream",
     "text": [
      "Generating for acceptance rate 0.95, best score 0.0\n",
      "Section duplicate detected\n"
     ]
    },
    {
     "name": "stderr",
     "output_type": "stream",
     "text": [
      "Page [[Marco Mantova Benavides]] saved\n"
     ]
    },
    {
     "name": "stdout",
     "output_type": "stream",
     "text": [
      "Generating for acceptance rate 0.95, best score 0.0\n",
      "Wild tokens found!\n"
     ]
    },
    {
     "name": "stderr",
     "output_type": "stream",
     "text": [
      "Page [[Girolamo Grimani]] saved\n"
     ]
    },
    {
     "name": "stdout",
     "output_type": "stream",
     "text": [
      "Generating for acceptance rate 0.95, best score 0.0\n"
     ]
    },
    {
     "name": "stderr",
     "output_type": "stream",
     "text": [
      "Page [[Dionisio Bellante]] saved\n"
     ]
    },
    {
     "name": "stdout",
     "output_type": "stream",
     "text": [
      "Generating for acceptance rate 0.95, best score 0.0\n"
     ]
    },
    {
     "name": "stderr",
     "output_type": "stream",
     "text": [
      "Page [[Francesco del Fiore]] saved\n"
     ]
    },
    {
     "name": "stdout",
     "output_type": "stream",
     "text": [
      "Generating for acceptance rate 0.95, best score 0.0\n",
      "Wild tokens found!\n"
     ]
    },
    {
     "name": "stderr",
     "output_type": "stream",
     "text": [
      "Page [[Antonio]] saved\n"
     ]
    },
    {
     "name": "stdout",
     "output_type": "stream",
     "text": [
      "Generating for acceptance rate 0.95, best score 0.0\n",
      "Wild tokens found!\n"
     ]
    },
    {
     "name": "stderr",
     "output_type": "stream",
     "text": [
      "Page [[Luigi Zorzi]] saved\n"
     ]
    },
    {
     "name": "stdout",
     "output_type": "stream",
     "text": [
      "Generating for acceptance rate 0.95, best score 0.0\n"
     ]
    },
    {
     "name": "stderr",
     "output_type": "stream",
     "text": [
      "Page [[Bartolomeo Coghetto]] saved\n"
     ]
    },
    {
     "name": "stdout",
     "output_type": "stream",
     "text": [
      "Generating for acceptance rate 0.95, best score 0.0\n"
     ]
    },
    {
     "name": "stderr",
     "output_type": "stream",
     "text": [
      "Page [[Bressanino Catone]] saved\n"
     ]
    },
    {
     "name": "stdout",
     "output_type": "stream",
     "text": [
      "Generating for acceptance rate 0.95, best score 0.0\n",
      "Wild tokens found!\n"
     ]
    },
    {
     "name": "stderr",
     "output_type": "stream",
     "text": [
      "Page [[Girolamo Martinengo]] saved\n"
     ]
    },
    {
     "name": "stdout",
     "output_type": "stream",
     "text": [
      "Generating for acceptance rate 0.95, best score 0.0\n",
      "Section duplicate detected\n",
      "Section duplicate detected\n",
      "Wild tokens found!\n",
      "Wild tokens found!\n"
     ]
    },
    {
     "name": "stderr",
     "output_type": "stream",
     "text": [
      "Page [[Nicolosa Bursa]] saved\n"
     ]
    },
    {
     "name": "stdout",
     "output_type": "stream",
     "text": [
      "Generating for acceptance rate 0.95, best score 0.0\n",
      "Generating for acceptance rate 0.8999999999999999, best score 0.7142857142857143\n",
      "Wild tokens found!\n",
      "Generating for acceptance rate 0.8499999999999999, best score 0.8571428571428571\n"
     ]
    },
    {
     "name": "stderr",
     "output_type": "stream",
     "text": [
      "Page [[Andrea Brigenti]] saved\n"
     ]
    },
    {
     "name": "stdout",
     "output_type": "stream",
     "text": [
      "Generating for acceptance rate 0.95, best score 0.0\n"
     ]
    },
    {
     "name": "stderr",
     "output_type": "stream",
     "text": [
      "Page [[Fantino Dandolo]] saved\n"
     ]
    },
    {
     "name": "stdout",
     "output_type": "stream",
     "text": [
      "Generating for acceptance rate 0.95, best score 0.0\n"
     ]
    },
    {
     "name": "stderr",
     "output_type": "stream",
     "text": [
      "Page [[Alvise Cicogna]] saved\n"
     ]
    },
    {
     "name": "stdout",
     "output_type": "stream",
     "text": [
      "Generating for acceptance rate 0.95, best score 0.0\n",
      "Wild tokens found!\n",
      "Generating for acceptance rate 0.8999999999999999, best score 0.7142857142857143\n",
      "Wild tokens found!\n",
      "Wild tokens found!\n",
      "Wild tokens found!\n",
      "Generating for acceptance rate 0.8499999999999999, best score 0.7142857142857143\n",
      "Wild tokens found!\n",
      "Generating for acceptance rate 0.7999999999999998, best score 0.7142857142857143\n",
      "Section duplicate detected\n"
     ]
    },
    {
     "name": "stderr",
     "output_type": "stream",
     "text": [
      "Page [[Silvio Belli]] saved\n"
     ]
    },
    {
     "name": "stdout",
     "output_type": "stream",
     "text": [
      "Generating for acceptance rate 0.95, best score 0.0\n",
      "Wild tokens found!\n"
     ]
    },
    {
     "name": "stderr",
     "output_type": "stream",
     "text": [
      "Page [[Francesco Alighieri]] saved\n"
     ]
    },
    {
     "name": "stdout",
     "output_type": "stream",
     "text": [
      "Generating for acceptance rate 0.95, best score 0.0\n"
     ]
    },
    {
     "name": "stderr",
     "output_type": "stream",
     "text": [
      "Page [[Zaccaria Bricito]] saved\n"
     ]
    },
    {
     "name": "stdout",
     "output_type": "stream",
     "text": [
      "Generating for acceptance rate 0.95, best score 0.0\n"
     ]
    },
    {
     "name": "stderr",
     "output_type": "stream",
     "text": [
      "Page [[Zaccaria Sagredo]] saved\n"
     ]
    },
    {
     "name": "stdout",
     "output_type": "stream",
     "text": [
      "Generating for acceptance rate 0.95, best score 0.0\n",
      "Section duplicate detected\n"
     ]
    },
    {
     "name": "stderr",
     "output_type": "stream",
     "text": [
      "Page [[Pietro Basadonna]] saved\n"
     ]
    },
    {
     "name": "stdout",
     "output_type": "stream",
     "text": [
      "Generating for acceptance rate 0.95, best score 0.0\n"
     ]
    },
    {
     "name": "stderr",
     "output_type": "stream",
     "text": [
      "Page [[Federico da Prata]] saved\n"
     ]
    },
    {
     "name": "stdout",
     "output_type": "stream",
     "text": [
      "Generating for acceptance rate 0.95, best score 0.0\n"
     ]
    },
    {
     "name": "stderr",
     "output_type": "stream",
     "text": [
      "Page [[Gian]] saved\n"
     ]
    },
    {
     "name": "stdout",
     "output_type": "stream",
     "text": [
      "Generating for acceptance rate 0.95, best score 0.0\n",
      "Wild tokens found!\n"
     ]
    },
    {
     "name": "stderr",
     "output_type": "stream",
     "text": [
      "Page [[Giovanni Battista Grazioli]] saved\n"
     ]
    },
    {
     "name": "stdout",
     "output_type": "stream",
     "text": [
      "Generating for acceptance rate 0.95, best score 0.0\n"
     ]
    },
    {
     "name": "stderr",
     "output_type": "stream",
     "text": [
      "Page [[Pietro Cignaroli]] saved\n"
     ]
    },
    {
     "name": "stdout",
     "output_type": "stream",
     "text": [
      "Generating for acceptance rate 0.95, best score 0.0\n",
      "Wild tokens found!\n"
     ]
    },
    {
     "name": "stderr",
     "output_type": "stream",
     "text": [
      "Page [[Alvise Foscari]] saved\n"
     ]
    },
    {
     "name": "stdout",
     "output_type": "stream",
     "text": [
      "Generating for acceptance rate 0.95, best score 0.0\n"
     ]
    },
    {
     "name": "stderr",
     "output_type": "stream",
     "text": [
      "Page [[Daniele Renier]] saved\n"
     ]
    },
    {
     "name": "stdout",
     "output_type": "stream",
     "text": [
      "Generating for acceptance rate 0.95, best score 0.0\n"
     ]
    },
    {
     "name": "stderr",
     "output_type": "stream",
     "text": [
      "Page [[Pietro Lucchesi]] saved\n"
     ]
    },
    {
     "name": "stdout",
     "output_type": "stream",
     "text": [
      "Generating for acceptance rate 0.95, best score 0.0\n",
      "Wild tokens found!\n",
      "Wild tokens found!\n"
     ]
    },
    {
     "name": "stderr",
     "output_type": "stream",
     "text": [
      "Page [[Giovanni Candido]] saved\n"
     ]
    },
    {
     "name": "stdout",
     "output_type": "stream",
     "text": [
      "Generating for acceptance rate 0.95, best score 0.0\n",
      "Wild tokens found!\n",
      "Wild tokens found!\n"
     ]
    },
    {
     "name": "stderr",
     "output_type": "stream",
     "text": [
      "Page [[Franceschina Baffo]] saved\n"
     ]
    },
    {
     "name": "stdout",
     "output_type": "stream",
     "text": [
      "Generating for acceptance rate 0.95, best score 0.0\n",
      "Wild tokens found!\n",
      "Wild tokens found!\n"
     ]
    },
    {
     "name": "stderr",
     "output_type": "stream",
     "text": [
      "Page [[Giovanni degli Agostini]] saved\n"
     ]
    },
    {
     "name": "stdout",
     "output_type": "stream",
     "text": [
      "Generating for acceptance rate 0.95, best score 0.0\n",
      "Section duplicate detected\n",
      "Section duplicate detected\n",
      "Wild tokens found!\n",
      "Wild tokens found!\n"
     ]
    },
    {
     "name": "stderr",
     "output_type": "stream",
     "text": [
      "Page [[Horacio Mažibradić]] saved\n"
     ]
    },
    {
     "name": "stdout",
     "output_type": "stream",
     "text": [
      "Generating for acceptance rate 0.95, best score 0.0\n",
      "Wild tokens found!\n"
     ]
    },
    {
     "name": "stderr",
     "output_type": "stream",
     "text": [
      "Page [[Antonio Borosini]] saved\n"
     ]
    },
    {
     "name": "stdout",
     "output_type": "stream",
     "text": [
      "Generating for acceptance rate 0.95, best score 0.0\n",
      "Wild tokens found!\n"
     ]
    },
    {
     "name": "stderr",
     "output_type": "stream",
     "text": [
      "Page [[Giovanni da Mula]] saved\n"
     ]
    },
    {
     "name": "stdout",
     "output_type": "stream",
     "text": [
      "Generating for acceptance rate 0.95, best score 0.0\n",
      "Wild tokens found!\n",
      "Wild tokens found!\n"
     ]
    },
    {
     "name": "stderr",
     "output_type": "stream",
     "text": [
      "Page [[Giovanni Comino]] saved\n"
     ]
    },
    {
     "name": "stdout",
     "output_type": "stream",
     "text": [
      "Generating for acceptance rate 0.95, best score 0.0\n"
     ]
    },
    {
     "name": "stderr",
     "output_type": "stream",
     "text": [
      "Page [[Antonio Bazzarini]] saved\n"
     ]
    },
    {
     "name": "stdout",
     "output_type": "stream",
     "text": [
      "Generating for acceptance rate 0.95, best score 0.0\n",
      "Wild tokens found!\n",
      "Wild tokens found!\n",
      "Wild tokens found!\n"
     ]
    },
    {
     "name": "stderr",
     "output_type": "stream",
     "text": [
      "Page [[Gaetano Volpi]] saved\n"
     ]
    },
    {
     "name": "stdout",
     "output_type": "stream",
     "text": [
      "Generating for acceptance rate 0.95, best score 0.0\n",
      "Wild tokens found!\n"
     ]
    },
    {
     "name": "stderr",
     "output_type": "stream",
     "text": [
      "Page [[Giovanni Contarini]] saved\n"
     ]
    },
    {
     "name": "stdout",
     "output_type": "stream",
     "text": [
      "Generating for acceptance rate 0.95, best score 0.0\n",
      "Wild tokens found!\n",
      "Generating for acceptance rate 0.8999999999999999, best score 0.8333333333333334\n",
      "Wild tokens found!\n",
      "Generating for acceptance rate 0.8499999999999999, best score 0.8333333333333334\n",
      "Wild tokens found!\n",
      "Wild tokens found!\n",
      "Generating for acceptance rate 0.7999999999999998, best score 0.8333333333333334\n",
      "Wild tokens found!\n"
     ]
    },
    {
     "name": "stderr",
     "output_type": "stream",
     "text": [
      "Page [[Jacopo Dandolo]] saved\n"
     ]
    },
    {
     "name": "stdout",
     "output_type": "stream",
     "text": [
      "Generating for acceptance rate 0.95, best score 0.0\n",
      "Wild tokens found!\n",
      "Wild tokens found!\n",
      "Wild tokens found!\n",
      "Generating for acceptance rate 0.8999999999999999, best score 0.8888888888888888\n",
      "Wild tokens found!\n",
      "Wild tokens found!\n",
      "Section duplicate detected\n",
      "Wild tokens found!\n",
      "Wild tokens found!\n",
      "Generating for acceptance rate 0.8499999999999999, best score 0.8888888888888888\n",
      "Wild tokens found!\n",
      "Section duplicate detected\n",
      "Wild tokens found!\n",
      "Wild tokens found!\n"
     ]
    },
    {
     "name": "stderr",
     "output_type": "stream",
     "text": [
      "Page [[Isabella Roncioni]] saved\n"
     ]
    },
    {
     "name": "stdout",
     "output_type": "stream",
     "text": [
      "Generating for acceptance rate 0.95, best score 0.0\n"
     ]
    },
    {
     "name": "stderr",
     "output_type": "stream",
     "text": [
      "Page [[Giulio Pasquati]] saved\n"
     ]
    },
    {
     "name": "stdout",
     "output_type": "stream",
     "text": [
      "Generating for acceptance rate 0.95, best score 0.0\n",
      "Generating for acceptance rate 0.8999999999999999, best score 0.8571428571428571\n",
      "Wild tokens found!\n",
      "Wild tokens found!\n",
      "Generating for acceptance rate 0.8499999999999999, best score 0.8571428571428571\n",
      "Section duplicate detected\n"
     ]
    },
    {
     "name": "stderr",
     "output_type": "stream",
     "text": [
      "Page [[Lodovico da Canossa]] saved\n"
     ]
    },
    {
     "name": "stdout",
     "output_type": "stream",
     "text": [
      "Generating for acceptance rate 0.95, best score 0.0\n"
     ]
    },
    {
     "name": "stderr",
     "output_type": "stream",
     "text": [
      "Page [[Salinguerra II Torelli]] saved\n"
     ]
    },
    {
     "name": "stdout",
     "output_type": "stream",
     "text": [
      "Generating for acceptance rate 0.95, best score 0.0\n",
      "Wild tokens found!\n",
      "Wild tokens found!\n"
     ]
    },
    {
     "name": "stderr",
     "output_type": "stream",
     "text": [
      "Page [[Giuseppe Capparozzo]] saved\n"
     ]
    },
    {
     "name": "stdout",
     "output_type": "stream",
     "text": [
      "Generating for acceptance rate 0.95, best score 0.0\n",
      "Wild tokens found!\n",
      "Wild tokens found!\n"
     ]
    },
    {
     "name": "stderr",
     "output_type": "stream",
     "text": [
      "Page [[Anna Fiorilli Pellandi]] saved\n"
     ]
    },
    {
     "name": "stdout",
     "output_type": "stream",
     "text": [
      "Generating for acceptance rate 0.95, best score 0.0\n",
      "Wild tokens found!\n",
      "Wild tokens found!\n"
     ]
    },
    {
     "name": "stderr",
     "output_type": "stream",
     "text": [
      "Page [[Pietro Michiele]] saved\n"
     ]
    },
    {
     "name": "stdout",
     "output_type": "stream",
     "text": [
      "Generating for acceptance rate 0.95, best score 0.0\n",
      "Wild tokens found!\n",
      "Wild tokens found!\n"
     ]
    },
    {
     "name": "stderr",
     "output_type": "stream",
     "text": [
      "Page [[Polydoro Foscari]] saved\n"
     ]
    },
    {
     "name": "stdout",
     "output_type": "stream",
     "text": [
      "Generating for acceptance rate 0.95, best score 0.0\n",
      "Wild tokens found!\n",
      "Generating for acceptance rate 0.8999999999999999, best score 0.9166666666666666\n"
     ]
    },
    {
     "name": "stderr",
     "output_type": "stream",
     "text": [
      "Page [[Ercole Bentivoglio]] saved\n"
     ]
    },
    {
     "name": "stdout",
     "output_type": "stream",
     "text": [
      "Generating for acceptance rate 0.95, best score 0.0\n"
     ]
    },
    {
     "name": "stderr",
     "output_type": "stream",
     "text": [
      "Page [[Camillo Gonzaga]] saved\n"
     ]
    },
    {
     "name": "stdout",
     "output_type": "stream",
     "text": [
      "Generating for acceptance rate 0.95, best score 0.0\n"
     ]
    },
    {
     "name": "stderr",
     "output_type": "stream",
     "text": [
      "Page [[Guido Casoni]] saved\n"
     ]
    },
    {
     "name": "stdout",
     "output_type": "stream",
     "text": [
      "Generating for acceptance rate 0.95, best score 0.0\n",
      "Wild tokens found!\n"
     ]
    },
    {
     "name": "stderr",
     "output_type": "stream",
     "text": [
      "Page [[Bernardo Facini]] saved\n"
     ]
    },
    {
     "name": "stdout",
     "output_type": "stream",
     "text": [
      "Generating for acceptance rate 0.95, best score 0.0\n",
      "Generating for acceptance rate 0.8999999999999999, best score 0.75\n",
      "Generating for acceptance rate 0.8499999999999999, best score 0.75\n",
      "Section duplicate detected\n"
     ]
    },
    {
     "name": "stderr",
     "output_type": "stream",
     "text": [
      "Page [[Alvise Priuli]] saved\n"
     ]
    },
    {
     "name": "stdout",
     "output_type": "stream",
     "text": [
      "Generating for acceptance rate 0.95, best score 0.0\n",
      "Section duplicate detected\n"
     ]
    },
    {
     "name": "stderr",
     "output_type": "stream",
     "text": [
      "Page [[Chiappino Orsini]] saved\n"
     ]
    },
    {
     "name": "stdout",
     "output_type": "stream",
     "text": [
      "Generating for acceptance rate 0.95, best score 0.0\n"
     ]
    },
    {
     "name": "stderr",
     "output_type": "stream",
     "text": [
      "Page [[Giambattista Bortoli]] saved\n"
     ]
    },
    {
     "name": "stdout",
     "output_type": "stream",
     "text": [
      "Generating for acceptance rate 0.95, best score 0.0\n",
      "Wild tokens found!\n",
      "Wild tokens found!\n"
     ]
    },
    {
     "name": "stderr",
     "output_type": "stream",
     "text": [
      "Page [[Pietro Checchia]] saved\n"
     ]
    },
    {
     "name": "stdout",
     "output_type": "stream",
     "text": [
      "Generating for acceptance rate 0.95, best score 0.0\n"
     ]
    },
    {
     "name": "stderr",
     "output_type": "stream",
     "text": [
      "Page [[Marco Lando]] saved\n"
     ]
    },
    {
     "name": "stdout",
     "output_type": "stream",
     "text": [
      "Generating for acceptance rate 0.95, best score 0.0\n",
      "Section duplicate detected\n",
      "Wild tokens found!\n",
      "Wild tokens found!\n"
     ]
    },
    {
     "name": "stderr",
     "output_type": "stream",
     "text": [
      "Page [[Giulio Savorgnan]] saved\n"
     ]
    },
    {
     "name": "stdout",
     "output_type": "stream",
     "text": [
      "Generating for acceptance rate 0.95, best score 0.0\n",
      "Wild tokens found!\n",
      "Wild tokens found!\n",
      "Wild tokens found!\n"
     ]
    },
    {
     "name": "stderr",
     "output_type": "stream",
     "text": [
      "Page [[Antonio Fanna]] saved\n"
     ]
    },
    {
     "name": "stdout",
     "output_type": "stream",
     "text": [
      "Generating for acceptance rate 0.95, best score 0.0\n",
      "Section duplicate detected\n"
     ]
    },
    {
     "name": "stderr",
     "output_type": "stream",
     "text": [
      "Page [[Niccolò Chiericati]] saved\n"
     ]
    },
    {
     "name": "stdout",
     "output_type": "stream",
     "text": [
      "Generating for acceptance rate 0.95, best score 0.0\n"
     ]
    },
    {
     "name": "stderr",
     "output_type": "stream",
     "text": [
      "Page [[Alberto Alberti]] saved\n"
     ]
    },
    {
     "name": "stdout",
     "output_type": "stream",
     "text": [
      "Generating for acceptance rate 0.95, best score 0.0\n"
     ]
    },
    {
     "name": "stderr",
     "output_type": "stream",
     "text": [
      "Page [[Vincenzo Bianchini]] saved\n"
     ]
    },
    {
     "name": "stdout",
     "output_type": "stream",
     "text": [
      "Generating for acceptance rate 0.95, best score 0.0\n",
      "Wild tokens found!\n",
      "Wild tokens found!\n",
      "Generating for acceptance rate 0.8999999999999999, best score 0.8181818181818182\n",
      "Wild tokens found!\n",
      "Wild tokens found!\n",
      "Wild tokens found!\n",
      "Wild tokens found!\n",
      "Wild tokens found!\n",
      "Wild tokens found!\n",
      "Wild tokens found!\n"
     ]
    },
    {
     "name": "stderr",
     "output_type": "stream",
     "text": [
      "Page [[Angelo Gualandris]] saved\n"
     ]
    },
    {
     "name": "stdout",
     "output_type": "stream",
     "text": [
      "Generating for acceptance rate 0.95, best score 0.0\n",
      "Wild tokens found!\n",
      "Generating for acceptance rate 0.8999999999999999, best score 0.8333333333333334\n",
      "Wild tokens found!\n",
      "Generating for acceptance rate 0.8499999999999999, best score 0.8333333333333334\n",
      "Wild tokens found!\n",
      "Generating for acceptance rate 0.7999999999999998, best score 0.8333333333333334\n",
      "Wild tokens found!\n",
      "Wild tokens found!\n"
     ]
    },
    {
     "name": "stderr",
     "output_type": "stream",
     "text": [
      "Page [[Daniele Farsetti]] saved\n"
     ]
    },
    {
     "name": "stdout",
     "output_type": "stream",
     "text": [
      "Generating for acceptance rate 0.95, best score 0.0\n",
      "Wild tokens found!\n"
     ]
    },
    {
     "name": "stderr",
     "output_type": "stream",
     "text": [
      "Page [[Sigismondo Brandolini]] saved\n"
     ]
    },
    {
     "name": "stdout",
     "output_type": "stream",
     "text": [
      "Generating for acceptance rate 0.95, best score 0.0\n"
     ]
    },
    {
     "name": "stderr",
     "output_type": "stream",
     "text": [
      "Page [[Giovanni Nicolò Doglioni]] saved\n"
     ]
    },
    {
     "name": "stdout",
     "output_type": "stream",
     "text": [
      "Generating for acceptance rate 0.95, best score 0.0\n"
     ]
    },
    {
     "name": "stderr",
     "output_type": "stream",
     "text": [
      "Page [[Louis II Gonzaga]] saved\n"
     ]
    },
    {
     "name": "stdout",
     "output_type": "stream",
     "text": [
      "Generating for acceptance rate 0.95, best score 0.0\n",
      "Wild tokens found!\n"
     ]
    },
    {
     "name": "stderr",
     "output_type": "stream",
     "text": [
      "Page [[Giuseppe Calegari]] saved\n"
     ]
    },
    {
     "name": "stdout",
     "output_type": "stream",
     "text": [
      "Generating for acceptance rate 0.95, best score 0.0\n",
      "Wild tokens found!\n",
      "Wild tokens found!\n"
     ]
    },
    {
     "name": "stderr",
     "output_type": "stream",
     "text": [
      "Page [[Bertrando]] saved\n"
     ]
    },
    {
     "name": "stdout",
     "output_type": "stream",
     "text": [
      "Generating for acceptance rate 0.95, best score 0.0\n",
      "Wild tokens found!\n"
     ]
    },
    {
     "name": "stderr",
     "output_type": "stream",
     "text": [
      "Page [[Giovanni]] saved\n"
     ]
    },
    {
     "name": "stdout",
     "output_type": "stream",
     "text": [
      "Generating for acceptance rate 0.95, best score 0.0\n",
      "Wild tokens found!\n",
      "Wild tokens found!\n"
     ]
    },
    {
     "name": "stderr",
     "output_type": "stream",
     "text": [
      "Page [[Jacopo Maria Paitoni]] saved\n"
     ]
    },
    {
     "name": "stdout",
     "output_type": "stream",
     "text": [
      "Generating for acceptance rate 0.95, best score 0.0\n"
     ]
    },
    {
     "name": "stderr",
     "output_type": "stream",
     "text": [
      "Page [[Angelo Maria Labia]] saved\n"
     ]
    },
    {
     "name": "stdout",
     "output_type": "stream",
     "text": [
      "Generating for acceptance rate 0.95, best score 0.0\n"
     ]
    },
    {
     "name": "stderr",
     "output_type": "stream",
     "text": [
      "Page [[Francesco Pezzi]] saved\n"
     ]
    },
    {
     "name": "stdout",
     "output_type": "stream",
     "text": [
      "Generating for acceptance rate 0.95, best score 0.0\n",
      "Wild tokens found!\n",
      "Wild tokens found!\n",
      "Wild tokens found!\n",
      "Wild tokens found!\n"
     ]
    },
    {
     "name": "stderr",
     "output_type": "stream",
     "text": [
      "Page [[Gervino]] saved\n"
     ]
    },
    {
     "name": "stdout",
     "output_type": "stream",
     "text": [
      "Generating for acceptance rate 0.95, best score 0.0\n",
      "Wild tokens found!\n",
      "Wild tokens found!\n",
      "Wild tokens found!\n"
     ]
    },
    {
     "name": "stderr",
     "output_type": "stream",
     "text": [
      "Page [[Paolo Calvi]] saved\n"
     ]
    },
    {
     "name": "stdout",
     "output_type": "stream",
     "text": [
      "Generating for acceptance rate 0.95, best score 0.0\n",
      "Wild tokens found!\n"
     ]
    },
    {
     "name": "stderr",
     "output_type": "stream",
     "text": [
      "Page [[Giorgio Summaripa]] saved\n"
     ]
    },
    {
     "name": "stdout",
     "output_type": "stream",
     "text": [
      "Generating for acceptance rate 0.95, best score 0.0\n",
      "Wild tokens found!\n",
      "Wild tokens found!\n",
      "Section duplicate detected\n",
      "Wild tokens found!\n"
     ]
    },
    {
     "name": "stderr",
     "output_type": "stream",
     "text": [
      "Page [[Giovanni Maria Benzon]] saved\n"
     ]
    },
    {
     "name": "stdout",
     "output_type": "stream",
     "text": [
      "Generating for acceptance rate 0.95, best score 0.0\n"
     ]
    },
    {
     "name": "stderr",
     "output_type": "stream",
     "text": [
      "Page [[Giovanni Tiepolo]] saved\n"
     ]
    },
    {
     "name": "stdout",
     "output_type": "stream",
     "text": [
      "Generating for acceptance rate 0.95, best score 0.0\n"
     ]
    },
    {
     "name": "stderr",
     "output_type": "stream",
     "text": [
      "Page [[Francesco Terilli]] saved\n"
     ]
    },
    {
     "name": "stdout",
     "output_type": "stream",
     "text": [
      "Generating for acceptance rate 0.95, best score 0.0\n"
     ]
    },
    {
     "name": "stderr",
     "output_type": "stream",
     "text": [
      "Page [[Bartolomeo Cappello]] saved\n"
     ]
    },
    {
     "name": "stdout",
     "output_type": "stream",
     "text": [
      "Generating for acceptance rate 0.95, best score 0.0\n",
      "Wild tokens found!\n",
      "Wild tokens found!\n",
      "Wild tokens found!\n",
      "Wild tokens found!\n",
      "Wild tokens found!\n",
      "Wild tokens found!\n"
     ]
    },
    {
     "name": "stderr",
     "output_type": "stream",
     "text": [
      "Page [[Giovanni Batista Farinelli]] saved\n"
     ]
    },
    {
     "name": "stdout",
     "output_type": "stream",
     "text": [
      "Generating for acceptance rate 0.95, best score 0.0\n",
      "Wild tokens found!\n"
     ]
    },
    {
     "name": "stderr",
     "output_type": "stream",
     "text": [
      "Page [[Giovanni Battista Ponchino]] saved\n"
     ]
    },
    {
     "name": "stdout",
     "output_type": "stream",
     "text": [
      "Generating for acceptance rate 0.95, best score 0.0\n",
      "Wild tokens found!\n"
     ]
    },
    {
     "name": "stderr",
     "output_type": "stream",
     "text": [
      "Page [[Michele Lazzari]] saved\n"
     ]
    },
    {
     "name": "stdout",
     "output_type": "stream",
     "text": [
      "Generating for acceptance rate 0.95, best score 0.0\n",
      "Wild tokens found!\n",
      "Wild tokens found!\n"
     ]
    },
    {
     "name": "stderr",
     "output_type": "stream",
     "text": [
      "Page [[Romolo Quirino Amaseo]] saved\n"
     ]
    },
    {
     "name": "stdout",
     "output_type": "stream",
     "text": [
      "Generating for acceptance rate 0.95, best score 0.0\n",
      "Wild tokens found!\n",
      "Wild tokens found!\n",
      "Wild tokens found!\n"
     ]
    },
    {
     "name": "stderr",
     "output_type": "stream",
     "text": [
      "Page [[Giuseppe Maria Contesini]] saved\n"
     ]
    },
    {
     "name": "stdout",
     "output_type": "stream",
     "text": [
      "Generating for acceptance rate 0.95, best score 0.0\n",
      "Wild tokens found!\n"
     ]
    },
    {
     "name": "stderr",
     "output_type": "stream",
     "text": [
      "Page [[Ludovico]] saved\n"
     ]
    },
    {
     "name": "stdout",
     "output_type": "stream",
     "text": [
      "Generating for acceptance rate 0.95, best score 0.0\n",
      "Wild tokens found!\n",
      "Wild tokens found!\n"
     ]
    },
    {
     "name": "stderr",
     "output_type": "stream",
     "text": [
      "Page [[Fortunato]] saved\n"
     ]
    },
    {
     "name": "stdout",
     "output_type": "stream",
     "text": [
      "Generating for acceptance rate 0.95, best score 0.0\n"
     ]
    },
    {
     "name": "stderr",
     "output_type": "stream",
     "text": [
      "Page [[Andreas Majer]] saved\n"
     ]
    },
    {
     "name": "stdout",
     "output_type": "stream",
     "text": [
      "Generating for acceptance rate 0.95, best score 0.0\n",
      "Wild tokens found!\n"
     ]
    },
    {
     "name": "stderr",
     "output_type": "stream",
     "text": [
      "Page [[Domenico Maria Federici]] saved\n"
     ]
    },
    {
     "name": "stdout",
     "output_type": "stream",
     "text": [
      "Generating for acceptance rate 0.95, best score 0.0\n"
     ]
    },
    {
     "name": "stderr",
     "output_type": "stream",
     "text": [
      "Page [[Benedetto Cappello]] saved\n"
     ]
    },
    {
     "name": "stdout",
     "output_type": "stream",
     "text": [
      "Generating for acceptance rate 0.95, best score 0.0\n",
      "Wild tokens found!\n"
     ]
    },
    {
     "name": "stderr",
     "output_type": "stream",
     "text": [
      "Page [[Of Speier Johann]] saved\n"
     ]
    },
    {
     "name": "stdout",
     "output_type": "stream",
     "text": [
      "Generating for acceptance rate 0.95, best score 0.0\n"
     ]
    },
    {
     "name": "stderr",
     "output_type": "stream",
     "text": [
      "Page [[Agostino da Latisana]] saved\n"
     ]
    },
    {
     "name": "stdout",
     "output_type": "stream",
     "text": [
      "Generating for acceptance rate 0.95, best score 0.0\n"
     ]
    },
    {
     "name": "stderr",
     "output_type": "stream",
     "text": [
      "Page [[Giuseppe Tomasini]] saved\n"
     ]
    },
    {
     "name": "stdout",
     "output_type": "stream",
     "text": [
      "Generating for acceptance rate 0.95, best score 0.0\n",
      "Wild tokens found!\n",
      "Wild tokens found!\n"
     ]
    },
    {
     "name": "stderr",
     "output_type": "stream",
     "text": [
      "Page [[Giovanni Marcanova]] saved\n"
     ]
    },
    {
     "name": "stdout",
     "output_type": "stream",
     "text": [
      "Generating for acceptance rate 0.95, best score 0.0\n"
     ]
    },
    {
     "name": "stderr",
     "output_type": "stream",
     "text": [
      "Page [[Francesco Grassi]] saved\n"
     ]
    },
    {
     "name": "stdout",
     "output_type": "stream",
     "text": [
      "Generating for acceptance rate 0.95, best score 0.0\n",
      "Wild tokens found!\n",
      "Wild tokens found!\n",
      "Wild tokens found!\n",
      "Wild tokens found!\n",
      "Wild tokens found!\n"
     ]
    },
    {
     "name": "stderr",
     "output_type": "stream",
     "text": [
      "Page [[Francesco]] saved\n"
     ]
    },
    {
     "name": "stdout",
     "output_type": "stream",
     "text": [
      "Generating for acceptance rate 0.95, best score 0.0\n",
      "Section duplicate detected\n",
      "Wild tokens found!\n",
      "Wild tokens found!\n",
      "Section duplicate detected\n",
      "Wild tokens found!\n",
      "Wild tokens found!\n",
      "Wild tokens found!\n",
      "Section duplicate detected\n"
     ]
    },
    {
     "name": "stderr",
     "output_type": "stream",
     "text": [
      "Page [[Branka Bebić Krstulović]] saved\n"
     ]
    },
    {
     "name": "stdout",
     "output_type": "stream",
     "text": [
      "Generating for acceptance rate 0.95, best score 0.0\n"
     ]
    },
    {
     "name": "stderr",
     "output_type": "stream",
     "text": [
      "Page [[Zaccaria Bricito]] saved\n"
     ]
    },
    {
     "name": "stdout",
     "output_type": "stream",
     "text": [
      "Generating for acceptance rate 0.95, best score 0.0\n",
      "Wild tokens found!\n"
     ]
    },
    {
     "name": "stderr",
     "output_type": "stream",
     "text": [
      "Page [[Sigismondo II Malatesta]] saved\n"
     ]
    },
    {
     "name": "stdout",
     "output_type": "stream",
     "text": [
      "Generating for acceptance rate 0.95, best score 0.0\n",
      "Wild tokens found!\n"
     ]
    },
    {
     "name": "stderr",
     "output_type": "stream",
     "text": [
      "Page [[Alessandro Zanchi]] saved\n"
     ]
    },
    {
     "name": "stdout",
     "output_type": "stream",
     "text": [
      "Generating for acceptance rate 0.95, best score 0.0\n",
      "Wild tokens found!\n",
      "Wild tokens found!\n"
     ]
    },
    {
     "name": "stderr",
     "output_type": "stream",
     "text": [
      "Page [[Giuseppe Boldù]] saved\n"
     ]
    },
    {
     "name": "stdout",
     "output_type": "stream",
     "text": [
      "Generating for acceptance rate 0.95, best score 0.0\n",
      "Section duplicate detected\n",
      "Wild tokens found!\n"
     ]
    },
    {
     "name": "stderr",
     "output_type": "stream",
     "text": [
      "Page [[Fabio Licino]] saved\n"
     ]
    },
    {
     "name": "stdout",
     "output_type": "stream",
     "text": [
      "Generating for acceptance rate 0.95, best score 0.0\n"
     ]
    },
    {
     "name": "stderr",
     "output_type": "stream",
     "text": [
      "Page [[Marinos Charvouris]] saved\n"
     ]
    },
    {
     "name": "stdout",
     "output_type": "stream",
     "text": [
      "Generating for acceptance rate 0.95, best score 0.0\n"
     ]
    },
    {
     "name": "stderr",
     "output_type": "stream",
     "text": [
      "Page [[Leonardo Manin]] saved\n"
     ]
    },
    {
     "name": "stdout",
     "output_type": "stream",
     "text": [
      "Generating for acceptance rate 0.95, best score 0.0\n"
     ]
    },
    {
     "name": "stderr",
     "output_type": "stream",
     "text": [
      "Page [[Marco Sebastiano Giampiccoli]] saved\n"
     ]
    },
    {
     "name": "stdout",
     "output_type": "stream",
     "text": [
      "Generating for acceptance rate 0.95, best score 0.0\n",
      "Wild tokens found!\n"
     ]
    },
    {
     "name": "stderr",
     "output_type": "stream",
     "text": [
      "Page [[Andrea Urbani]] saved\n"
     ]
    },
    {
     "name": "stdout",
     "output_type": "stream",
     "text": [
      "Generating for acceptance rate 0.95, best score 0.0\n"
     ]
    },
    {
     "name": "stderr",
     "output_type": "stream",
     "text": [
      "Page [[Marco Gradenigo]] saved\n"
     ]
    },
    {
     "name": "stdout",
     "output_type": "stream",
     "text": [
      "Generating for acceptance rate 0.95, best score 0.0\n",
      "Wild tokens found!\n"
     ]
    },
    {
     "name": "stderr",
     "output_type": "stream",
     "text": [
      "Page [[Andrea Bianco]] saved\n",
      "ERROR: Logged in as '172.18.0.2' instead of 'WikiBioBot'. Forcing re-login.\n",
      "WARNING: No user is logged in on site WikiBio:WikiBio\n",
      "Logging in to WikiBio:WikiBio as WikiBioBot@BiographyGenerator\n"
     ]
    },
    {
     "name": "stdout",
     "output_type": "stream",
     "text": [
      "Generating for acceptance rate 0.95, best score 0.0\n",
      "Section duplicate detected\n",
      "Wild tokens found!\n"
     ]
    },
    {
     "name": "stderr",
     "output_type": "stream",
     "text": [
      "WARNING: API error badtoken: Invalid CSRF token.\n",
      "Sleeping for 9.9 seconds, 2020-12-09 17:48:30\n",
      "Page [[Francesco Foscari]] saved\n"
     ]
    },
    {
     "name": "stdout",
     "output_type": "stream",
     "text": [
      "Generating for acceptance rate 0.95, best score 0.0\n"
     ]
    },
    {
     "name": "stderr",
     "output_type": "stream",
     "text": [
      "Page [[Bartolomeo Orioli]] saved\n"
     ]
    },
    {
     "name": "stdout",
     "output_type": "stream",
     "text": [
      "Generating for acceptance rate 0.95, best score 0.0\n",
      "Wild tokens found!\n"
     ]
    },
    {
     "name": "stderr",
     "output_type": "stream",
     "text": [
      "Page [[Paolo Calvi]] saved\n"
     ]
    },
    {
     "name": "stdout",
     "output_type": "stream",
     "text": [
      "Generating for acceptance rate 0.95, best score 0.0\n",
      "Wild tokens found!\n"
     ]
    },
    {
     "name": "stderr",
     "output_type": "stream",
     "text": [
      "Page [[Matteo Polo]] saved\n"
     ]
    },
    {
     "name": "stdout",
     "output_type": "stream",
     "text": [
      "Generating for acceptance rate 0.95, best score 0.0\n"
     ]
    },
    {
     "name": "stderr",
     "output_type": "stream",
     "text": [
      "Page [[Pietro Buratti]] saved\n"
     ]
    },
    {
     "name": "stdout",
     "output_type": "stream",
     "text": [
      "Generating for acceptance rate 0.95, best score 0.0\n",
      "Wild tokens found!\n",
      "Wild tokens found!\n",
      "\n"
     ]
    },
    {
     "name": "stderr",
     "output_type": "stream",
     "text": [
      "Page [[Lodovico Fogliano]] saved\n"
     ]
    },
    {
     "data": {
      "text/plain": [
       "1088    None\n",
       "1089    None\n",
       "1090    None\n",
       "1091    None\n",
       "1092    None\n",
       "        ... \n",
       "1562    None\n",
       "1563    None\n",
       "1564    None\n",
       "1565    None\n",
       "1566    None\n",
       "Length: 479, dtype: object"
      ]
     },
     "execution_count": 12,
     "metadata": {
      "tags": []
     },
     "output_type": "execute_result"
    }
   ],
   "source": [
    "df_generate[1088:].progress_apply(generation_pipeline, axis=1)"
   ]
  },
  {
   "cell_type": "code",
   "execution_count": null,
   "metadata": {
    "colab": {
     "base_uri": "https://localhost:8080/",
     "height": 1000,
     "referenced_widgets": [
      "0888a9a7a4da4a95954c5a74555bb79c",
      "87401fc5944f47db86dd70038b2d82fc",
      "ef95002690b945c2a1bd235ab3e9e27c",
      "4aaa487d570944a1af6c1581ed0349e1",
      "b9360a4667b444c0a8f258acadbe21fd",
      "4ddc4ae354744580ab2d1c96d5088fce",
      "e5403ecfeab24d9eb5d56cc34d8f3371",
      "35b474b1149a437fbfe1c4497ed008a1"
     ]
    },
    "id": "Jelb7T-sBMQg",
    "outputId": "03f010cb-88c5-49e5-d27b-1c0ff89ba2fd"
   },
   "outputs": [
    {
     "data": {
      "application/vnd.jupyter.widget-view+json": {
       "model_id": "0888a9a7a4da4a95954c5a74555bb79c",
       "version_major": 2,
       "version_minor": 0
      },
      "text/plain": [
       "HBox(children=(FloatProgress(value=0.0, max=1567.0), HTML(value='')))"
      ]
     },
     "metadata": {
      "tags": []
     },
     "output_type": "display_data"
    },
    {
     "name": "stderr",
     "output_type": "stream",
     "text": [
      "Page [[Marsilio Cagnati]] saved\n",
      "Sleeping for 8.0 seconds, 2020-12-10 12:24:25\n",
      "Page [[Angelo Gualandris]] saved\n",
      "Sleeping for 7.9 seconds, 2020-12-10 12:24:35\n",
      "Page [[Giacomo Nani]] saved\n",
      "Sleeping for 8.0 seconds, 2020-12-10 12:24:45\n",
      "Page [[Joannes Bernardus Felicianus]] saved\n",
      "Sleeping for 7.7 seconds, 2020-12-10 12:24:55\n",
      "Page [[Ermolao Donà]] saved\n",
      "Sleeping for 7.9 seconds, 2020-12-10 12:25:05\n",
      "Page [[Antonio Maria Traversi]] saved\n",
      "Sleeping for 8.0 seconds, 2020-12-10 12:25:15\n",
      "Page [[Bernardino Vitali]] saved\n",
      "Sleeping for 8.0 seconds, 2020-12-10 12:25:25\n",
      "Page [[Fina Buzzaccarini]] saved\n",
      "Sleeping for 8.0 seconds, 2020-12-10 12:25:35\n",
      "Page [[Giuseppe Rocco Volpi]] saved\n",
      "Sleeping for 8.0 seconds, 2020-12-10 12:25:45\n",
      "Page [[Ottavio Padovanino]] saved\n",
      "Sleeping for 7.6 seconds, 2020-12-10 12:25:55\n",
      "Page [[Oddo degli Oddi]] saved\n",
      "Sleeping for 6.6 seconds, 2020-12-10 12:26:06\n",
      "Page [[Onofrio Paganini]] saved\n",
      "Sleeping for 7.6 seconds, 2020-12-10 12:26:15\n",
      "Page [[Camillo Rospigliosi]] saved\n",
      "Sleeping for 6.4 seconds, 2020-12-10 12:26:27\n",
      "Page [[Giulio Sanuto]] saved\n",
      "Sleeping for 7.5 seconds, 2020-12-10 12:26:35\n",
      "Page [[Bonifacio Falier]] saved\n",
      "Sleeping for 7.6 seconds, 2020-12-10 12:26:45\n",
      "Page [[Hieronymus Ragasonus]] saved\n",
      "Sleeping for 7.7 seconds, 2020-12-10 12:26:55\n",
      "Page [[Giuseppe Boniventi]] saved\n",
      "Sleeping for 7.6 seconds, 2020-12-10 12:27:05\n",
      "Page [[Giandomenico Brustolon]] saved\n",
      "Sleeping for 7.7 seconds, 2020-12-10 12:27:15\n",
      "Page [[Andrea Badoer]] saved\n",
      "Sleeping for 7.4 seconds, 2020-12-10 12:27:26\n",
      "Page [[Anton Maria Traversi]] saved\n",
      "Sleeping for 7.5 seconds, 2020-12-10 12:27:36\n",
      "Page [[Tommaso Formenton]] saved\n",
      "Sleeping for 6.4 seconds, 2020-12-10 12:27:47\n",
      "Page [[Paolo Pozzo]] saved\n",
      "Sleeping for 7.7 seconds, 2020-12-10 12:27:55\n",
      "Page [[Marcantonio Zorzi]] saved\n",
      "Sleeping for 7.8 seconds, 2020-12-10 12:28:05\n",
      "Page [[Simone Sorella]] saved\n",
      "Sleeping for 7.7 seconds, 2020-12-10 12:28:15\n",
      "Page [[Domenico Bollani]] saved\n",
      "Sleeping for 7.4 seconds, 2020-12-10 12:28:26\n",
      "Page [[Carlo Antonio Marin]] saved\n",
      "Sleeping for 7.4 seconds, 2020-12-10 12:28:36\n",
      "Page [[Gaetano Mattioli]] saved\n",
      "Sleeping for 7.8 seconds, 2020-12-10 12:28:45\n",
      "Page [[Giuseppe Diziani]] saved\n",
      "Sleeping for 7.7 seconds, 2020-12-10 12:28:55\n",
      "Page [[Pio Chicchi]] saved\n",
      "Sleeping for 7.8 seconds, 2020-12-10 12:29:05\n",
      "Page [[Paul Anton Seriman]] saved\n",
      "Sleeping for 7.7 seconds, 2020-12-10 12:29:15\n",
      "Page [[Antonio Bosa]] saved\n",
      "Sleeping for 6.5 seconds, 2020-12-10 12:29:27\n",
      "Page [[Lodovico Fogliano]] saved\n",
      "Sleeping for 7.7 seconds, 2020-12-10 12:29:35\n",
      "Page [[Girolamo Manfrin]] saved\n",
      "Sleeping for 7.7 seconds, 2020-12-10 12:29:45\n",
      "Page [[Stefano Scolari]] saved\n",
      "Sleeping for 7.6 seconds, 2020-12-10 12:29:56\n",
      "Page [[Giovanni Battista Cromer]] saved\n",
      "Sleeping for 6.6 seconds, 2020-12-10 12:30:07\n",
      "Page [[Callisto]] saved\n",
      "Sleeping for 6.3 seconds, 2020-12-10 12:30:17\n",
      "Page [[Aurelio Aureli]] saved\n",
      "Sleeping for 7.6 seconds, 2020-12-10 12:30:26\n",
      "Page [[Paolo Callalo]] saved\n",
      "Sleeping for 7.6 seconds, 2020-12-10 12:30:36\n",
      "Page [[Lazzaro Mocenigo]] saved\n",
      "Sleeping for 6.7 seconds, 2020-12-10 12:30:46\n",
      "Page [[Lazzaro Mocenigo]] saved\n",
      "Sleeping for 5.9 seconds, 2020-12-10 12:30:57\n",
      "Page [[Jacopo Zopelli]] saved\n",
      "Sleeping for 7.6 seconds, 2020-12-10 12:31:06\n",
      "Page [[Matteo Alberti]] saved\n",
      "Sleeping for 6.5 seconds, 2020-12-10 12:31:17\n",
      "Page [[Paolino Caliari]] saved\n",
      "Sleeping for 7.7 seconds, 2020-12-10 12:31:26\n",
      "Page [[Bonaventura Badoardo de Peraga]] saved\n",
      "Sleeping for 6.7 seconds, 2020-12-10 12:31:37\n",
      "Page [[Anton Maria Borromeo]] saved\n",
      "Sleeping for 7.6 seconds, 2020-12-10 12:31:46\n",
      "Page [[Baldassarre Francesco Rasponi]] saved\n",
      "Sleeping for 6.7 seconds, 2020-12-10 12:31:56\n",
      "Page [[Bernardo]] saved\n",
      "Sleeping for 6.5 seconds, 2020-12-10 12:32:07\n",
      "Page [[Maffeo Nicolò Farsetti]] saved\n",
      "Sleeping for 6.6 seconds, 2020-12-10 12:32:17\n",
      "Page [[Tommaso Donato]] saved\n",
      "Sleeping for 7.6 seconds, 2020-12-10 12:32:26\n",
      "Page [[Giovanni Carlo Bonlini]] saved\n",
      "Sleeping for 7.5 seconds, 2020-12-10 12:32:36\n",
      "Page [[Bartolommeo Gamba]] saved\n",
      "Sleeping for 7.6 seconds, 2020-12-10 12:32:46\n",
      "Page [[Giorgio Giacoboni]] saved\n",
      "Sleeping for 7.7 seconds, 2020-12-10 12:32:55\n",
      "Page [[Jacopo Zeno]] saved\n",
      "Sleeping for 7.6 seconds, 2020-12-10 12:33:06\n",
      "Page [[Rambaldo degli Azzoni Avogaro]] saved\n",
      "Sleeping for 7.6 seconds, 2020-12-10 12:33:16\n",
      "Page [[Adeodato Maria da Venezia]] saved\n",
      "Sleeping for 7.5 seconds, 2020-12-10 12:33:26\n",
      "Page [[Girolamo Malipiero]] saved\n",
      "Sleeping for 7.7 seconds, 2020-12-10 12:33:36\n",
      "Page [[Nicolò Cavalli]] saved\n",
      "Sleeping for 7.6 seconds, 2020-12-10 12:33:46\n",
      "Page [[Marie-Christine Rombocoli-Riggieri]] saved\n",
      "Sleeping for 7.6 seconds, 2020-12-10 12:33:56\n",
      "Page [[Giovanni Casoni]] saved\n",
      "Sleeping for 7.8 seconds, 2020-12-10 12:34:05\n",
      "Page [[Federico Malipiero]] saved\n",
      "Sleeping for 7.7 seconds, 2020-12-10 12:34:16\n",
      "Page [[Giovanni Palazzi]] saved\n",
      "Sleeping for 7.6 seconds, 2020-12-10 12:34:26\n",
      "Page [[Girolamo da Treviso the Elder]] saved\n",
      "Sleeping for 6.1 seconds, 2020-12-10 12:34:37\n",
      "Page [[Fra Felice Cignaroli]] saved\n",
      "Sleeping for 6.6 seconds, 2020-12-10 12:34:47\n",
      "Page [[Marco Querini]] saved\n",
      "Sleeping for 7.7 seconds, 2020-12-10 12:34:56\n",
      "Page [[Antonio David]] saved\n",
      "Sleeping for 7.5 seconds, 2020-12-10 12:35:06\n",
      "Page [[Girolamo Bologni]] saved\n",
      "Sleeping for 7.6 seconds, 2020-12-10 12:35:16\n",
      "Page [[Onorio Arrigoni]] saved\n",
      "Sleeping for 7.7 seconds, 2020-12-10 12:35:26\n",
      "Page [[Francesco Bernardini]] saved\n",
      "Sleeping for 7.7 seconds, 2020-12-10 12:35:36\n",
      "Page [[Luigi Trezza]] saved\n",
      "Sleeping for 6.3 seconds, 2020-12-10 12:35:47\n",
      "Page [[Nicolò Bon]] saved\n",
      "Sleeping for 7.8 seconds, 2020-12-10 12:35:56\n",
      "Page [[Joannes Sozomenus]] saved\n",
      "Sleeping for 6.8 seconds, 2020-12-10 12:36:07\n",
      "Page [[Benedetto Falier]] saved\n",
      "Sleeping for 7.7 seconds, 2020-12-10 12:36:16\n",
      "Page [[Antonio Albertini]] saved\n",
      "Sleeping for 7.7 seconds, 2020-12-10 12:36:26\n",
      "Page [[Giovanni Zambelli]] saved\n",
      "Sleeping for 6.6 seconds, 2020-12-10 12:36:37\n",
      "Page [[Pietro Foscari]] saved\n",
      "Sleeping for 7.5 seconds, 2020-12-10 12:36:46\n",
      "Page [[Luigi Zandomeneghi]] saved\n",
      "Sleeping for 5.7 seconds, 2020-12-10 12:36:58\n",
      "Page [[Giulio Cesare Barbetta]] saved\n",
      "Sleeping for 7.7 seconds, 2020-12-10 12:37:06\n",
      "Page [[Antonio Quadri]] saved\n",
      "Sleeping for 7.7 seconds, 2020-12-10 12:37:16\n",
      "Page [[Antonio Bregno]] saved\n",
      "Sleeping for 7.8 seconds, 2020-12-10 12:37:26\n",
      "Page [[Zanino di Pietro]] saved\n",
      "Sleeping for 7.6 seconds, 2020-12-10 12:37:36\n",
      "Page [[Jacopo Maria Paitoni]] saved\n",
      "Sleeping for 7.7 seconds, 2020-12-10 12:37:46\n",
      "Page [[Antonia Fontana]] saved\n",
      "Sleeping for 7.6 seconds, 2020-12-10 12:37:56\n",
      "Page [[Luigi Cunego]] saved\n",
      "Sleeping for 7.7 seconds, 2020-12-10 12:38:06\n",
      "Page [[Agostino Chigi]] saved\n",
      "Sleeping for 6.6 seconds, 2020-12-10 12:38:17\n",
      "Page [[Stanislao Santinelli]] saved\n",
      "Sleeping for 7.5 seconds, 2020-12-10 12:38:26\n",
      "Page [[Nicolò Bettoni]] saved\n",
      "Sleeping for 7.6 seconds, 2020-12-10 12:38:36\n",
      "Page [[Sante Veronese]] saved\n",
      "Sleeping for 6.7 seconds, 2020-12-10 12:38:47\n",
      "Page [[Domenica Casarini]] saved\n",
      "Sleeping for 7.6 seconds, 2020-12-10 12:38:56\n",
      "Page [[Francesco Trevisan]] saved\n",
      "Sleeping for 7.5 seconds, 2020-12-10 12:39:06\n",
      "Page [[Federico Rossi]] saved\n",
      "Sleeping for 6.4 seconds, 2020-12-10 12:39:17\n",
      "Page [[Nicolò conte Priuli]] saved\n",
      "Sleeping for 7.9 seconds, 2020-12-10 12:39:26\n",
      "Page [[Giovanni Antonio Lazzari]] saved\n",
      "Sleeping for 5.7 seconds, 2020-12-10 12:39:38\n",
      "Page [[Vincenz Caruzzo]] saved\n",
      "Sleeping for 7.8 seconds, 2020-12-10 12:39:46\n",
      "Page [[Nicolò conte Priuli]] saved\n",
      "Sleeping for 7.8 seconds, 2020-12-10 12:39:56\n",
      "Page [[Geōrgios Vendotēs]] saved\n",
      "Sleeping for 7.6 seconds, 2020-12-10 12:40:06\n",
      "Page [[Antonio Stom]] saved\n",
      "Sleeping for 7.5 seconds, 2020-12-10 12:40:16\n",
      "Page [[Giambattista Albrizzi]] saved\n",
      "Sleeping for 7.8 seconds, 2020-12-10 12:40:26\n",
      "Page [[Nicolò Erizzo]] saved\n",
      "Sleeping for 7.7 seconds, 2020-12-10 12:40:36\n",
      "Page [[Leonardo Salimbeni]] saved\n",
      "Sleeping for 7.7 seconds, 2020-12-10 12:40:46\n",
      "Page [[Francesco Lando]] saved\n",
      "Sleeping for 7.5 seconds, 2020-12-10 12:40:56\n",
      "Page [[Nicolò Donà]] saved\n",
      "Sleeping for 7.6 seconds, 2020-12-10 12:41:06\n",
      "Page [[Girolamo Festari]] saved\n",
      "Sleeping for 7.7 seconds, 2020-12-10 12:41:16\n",
      "Page [[Alessandro Del Monte]] saved\n",
      "Sleeping for 7.6 seconds, 2020-12-10 12:41:26\n",
      "Page [[Antonangelo Cavanis]] saved\n",
      "Sleeping for 7.6 seconds, 2020-12-10 12:41:36\n",
      "Page [[Francesco Maria Milesi]] saved\n",
      "Sleeping for 7.6 seconds, 2020-12-10 12:41:46\n",
      "Page [[Giovanni Maria Dezan]] saved\n",
      "Sleeping for 7.5 seconds, 2020-12-10 12:41:56\n",
      "Page [[Alessandro Lanfranchi]] saved\n",
      "Sleeping for 7.6 seconds, 2020-12-10 12:42:06\n",
      "Page [[Bernardo Facini]] saved\n",
      "Sleeping for 7.6 seconds, 2020-12-10 12:42:16\n",
      "Page [[Girolamo Barbarigo]] saved\n",
      "Sleeping for 7.7 seconds, 2020-12-10 12:42:26\n",
      "Page [[Matteo Bragadin]] saved\n",
      "Sleeping for 7.7 seconds, 2020-12-10 12:42:36\n",
      "Page [[Giovanni Antonio Baglioni]] saved\n",
      "Sleeping for 6.5 seconds, 2020-12-10 12:42:47\n",
      "Page [[Marco Mantova Benavides]] saved\n",
      "Sleeping for 3.9 seconds, 2020-12-10 12:43:00\n",
      "Page [[Pietro Edwards]] saved\n",
      "Sleeping for 7.5 seconds, 2020-12-10 12:43:06\n",
      "Page [[Andreas Bianchini]] saved\n",
      "Sleeping for 7.5 seconds, 2020-12-10 12:43:16\n",
      "Page [[Carlo Roti]] saved\n",
      "Sleeping for 7.5 seconds, 2020-12-10 12:43:26\n",
      "Page [[Sebastiano Moratelli]] saved\n",
      "Sleeping for 7.6 seconds, 2020-12-10 12:43:36\n",
      "Page [[Pipine]] saved\n",
      "Sleeping for 7.6 seconds, 2020-12-10 12:43:46\n",
      "Page [[Gaetano Maria Travasa]] saved\n",
      "Sleeping for 7.6 seconds, 2020-12-10 12:43:56\n",
      "Page [[Gaspare Federigo]] saved\n",
      "Sleeping for 7.6 seconds, 2020-12-10 12:44:06\n",
      "Page [[Troilo Malipiero]] saved\n",
      "Sleeping for 7.6 seconds, 2020-12-10 12:44:16\n",
      "Page [[Vincenzo Maria Diedo]] saved\n",
      "Sleeping for 7.9 seconds, 2020-12-10 12:44:26\n",
      "Page [[Giovanni Antonio Lazzari]] saved\n",
      "Sleeping for 7.5 seconds, 2020-12-10 12:44:36\n",
      "Page [[Cesare Piovene]] saved\n",
      "Sleeping for 7.5 seconds, 2020-12-10 12:44:46\n",
      "Page [[Franz Fontanella]] saved\n",
      "Sleeping for 7.6 seconds, 2020-12-10 12:44:56\n",
      "Page [[Marina Antonazzoni]] saved\n",
      "Sleeping for 7.5 seconds, 2020-12-10 12:45:06\n",
      "Page [[Vincenzo Contarenus]] saved\n",
      "Sleeping for 7.5 seconds, 2020-12-10 12:45:16\n",
      "Page [[Gasparo Colombina]] saved\n",
      "Sleeping for 7.6 seconds, 2020-12-10 12:45:26\n",
      "Page [[Antonio Fracanzani]] saved\n",
      "Sleeping for 7.7 seconds, 2020-12-10 12:45:36\n",
      "Page [[Marco Dandolo]] saved\n",
      "Sleeping for 7.6 seconds, 2020-12-10 12:45:46\n",
      "Page [[Marco Guazzo]] saved\n",
      "Sleeping for 7.6 seconds, 2020-12-10 12:45:56\n",
      "Page [[Alessandro Contarini]] saved\n",
      "Sleeping for 7.6 seconds, 2020-12-10 12:46:06\n",
      "Page [[Tommaso Giusti]] saved\n",
      "Sleeping for 7.6 seconds, 2020-12-10 12:46:16\n",
      "Page [[Pietro Barbarigo]] saved\n",
      "Sleeping for 7.6 seconds, 2020-12-10 12:46:26\n",
      "Page [[Elena Badoero]] saved\n",
      "Sleeping for 7.6 seconds, 2020-12-10 12:46:36\n",
      "Page [[Alessandro Bassiano]] saved\n",
      "Sleeping for 7.5 seconds, 2020-12-10 12:46:46\n",
      "Page [[Luca Monverde]] saved\n",
      "Sleeping for 7.7 seconds, 2020-12-10 12:46:56\n",
      "Page [[Marino Morosini]] saved\n",
      "Sleeping for 7.2 seconds, 2020-12-10 12:47:07\n",
      "Page [[Domenico Caminer]] saved\n",
      "Sleeping for 7.6 seconds, 2020-12-10 12:47:16\n",
      "Page [[Girolamo Cornaro]] saved\n",
      "Sleeping for 6.5 seconds, 2020-12-10 12:47:27\n",
      "Page [[Antonio Fracanzani]] saved\n",
      "Sleeping for 7.7 seconds, 2020-12-10 12:47:36\n",
      "Page [[Luigi Arduino]] saved\n",
      "Sleeping for 7.6 seconds, 2020-12-10 12:47:46\n",
      "Page [[Giovanni Morosini]] saved\n",
      "Sleeping for 6.6 seconds, 2020-12-10 12:47:57\n",
      "Page [[Bernardo Rossi]] saved\n",
      "Sleeping for 7.6 seconds, 2020-12-10 12:48:06\n",
      "Page [[Antonio Gualtieri]] saved\n",
      "Sleeping for 7.7 seconds, 2020-12-10 12:48:16\n",
      "Page [[Girolamo Zane]] saved\n",
      "Sleeping for 7.6 seconds, 2020-12-10 12:48:26\n",
      "Page [[Giovanni Giustiniani]] saved\n",
      "Sleeping for 6.4 seconds, 2020-12-10 12:48:37\n",
      "Page [[Giacomo Vianol]] saved\n",
      "Sleeping for 7.7 seconds, 2020-12-10 12:48:46\n",
      "Page [[Giovanni Battista Grimani]] saved\n",
      "Sleeping for 7.6 seconds, 2020-12-10 12:48:56\n",
      "Page [[Isabella Martinengo]] saved\n",
      "Sleeping for 6.6 seconds, 2020-12-10 12:49:07\n",
      "Page [[Giovanni Finetti]] saved\n",
      "Sleeping for 7.6 seconds, 2020-12-10 12:49:16\n",
      "Page [[Giulio Cesare Rospigliosi]] saved\n",
      "Sleeping for 7.6 seconds, 2020-12-10 12:49:26\n",
      "Page [[Francesco Antonio Avelloni]] saved\n",
      "Sleeping for 7.6 seconds, 2020-12-10 12:49:36\n",
      "Page [[Tommaso Medin]] saved\n",
      "Sleeping for 7.7 seconds, 2020-12-10 12:49:46\n",
      "Page [[Federico Corner]] saved\n",
      "Sleeping for 7.5 seconds, 2020-12-10 12:49:56\n",
      "Page [[Peter Berti]] saved\n",
      "Sleeping for 7.5 seconds, 2020-12-10 12:50:06\n",
      "Page [[Celso Martinengo]] saved\n",
      "Sleeping for 7.8 seconds, 2020-12-10 12:50:16\n",
      "Page [[Giovanni Battista Bendazzoli]] saved\n",
      "Sleeping for 7.7 seconds, 2020-12-10 12:50:26\n",
      "Page [[Giovanni Battista Bianchi]] saved\n",
      "Sleeping for 7.5 seconds, 2020-12-10 12:50:36\n",
      "Page [[Giovanni Fratta]] saved\n",
      "Sleeping for 7.8 seconds, 2020-12-10 12:50:46\n",
      "Page [[Ugolino de' Rossi]] saved\n",
      "Sleeping for 7.5 seconds, 2020-12-10 12:50:56\n",
      "Page [[Adriano Beretti]] saved\n",
      "Sleeping for 7.2 seconds, 2020-12-10 12:51:07\n",
      "Page [[Giustiniano Giustinian]] saved\n",
      "Sleeping for 7.6 seconds, 2020-12-10 12:51:16\n",
      "Page [[Pietro Bettio]] saved\n",
      "Sleeping for 7.7 seconds, 2020-12-10 12:51:26\n",
      "Page [[Paolo Canciani]] saved\n",
      "Sleeping for 7.6 seconds, 2020-12-10 12:51:36\n",
      "Page [[Girolamo Costantini]] saved\n",
      "Sleeping for 7.7 seconds, 2020-12-10 12:51:46\n",
      "Page [[Giovanni Faccioli]] saved\n",
      "Sleeping for 7.9 seconds, 2020-12-10 12:51:56\n",
      "Page [[Lodovico Fogliano]] saved\n",
      "Sleeping for 7.6 seconds, 2020-12-10 12:52:06\n",
      "Page [[Domenico Codagli]] saved\n",
      "Sleeping for 7.6 seconds, 2020-12-10 12:52:16\n",
      "Page [[Michael Stalimene]] saved\n",
      "Sleeping for 7.6 seconds, 2020-12-10 12:52:26\n",
      "Page [[Girolamo Fenaroli Avogadro]] saved\n",
      "Sleeping for 7.5 seconds, 2020-12-10 12:52:37\n",
      "Page [[Antonio De Fantis]] saved\n",
      "Sleeping for 7.9 seconds, 2020-12-10 12:52:46\n",
      "Page [[Nicolò Erizzo]] saved\n",
      "Sleeping for 7.5 seconds, 2020-12-10 12:52:56\n",
      "Page [[Johann Volmar]] saved\n",
      "Sleeping for 7.5 seconds, 2020-12-10 12:53:07\n",
      "Page [[Johann Tician]] saved\n",
      "Sleeping for 7.5 seconds, 2020-12-10 12:53:16\n",
      "Page [[Vincenzo Querini]] saved\n",
      "Sleeping for 7.6 seconds, 2020-12-10 12:53:26\n",
      "Page [[Antonio Surian]] saved\n",
      "Sleeping for 6.5 seconds, 2020-12-10 12:53:37\n",
      "Page [[Antonio Spinelli]] saved\n",
      "Sleeping for 7.7 seconds, 2020-12-10 12:53:46\n",
      "Page [[Domenico Pizzamano]] saved\n",
      "Sleeping for 7.7 seconds, 2020-12-10 12:53:56\n",
      "Page [[Maffeo Pinelli]] saved\n",
      "Sleeping for 7.6 seconds, 2020-12-10 12:54:06\n",
      "Page [[Marino Badoer]] saved\n",
      "Sleeping for 7.7 seconds, 2020-12-10 12:54:16\n",
      "Page [[Francesco Baratta]] saved\n",
      "Sleeping for 7.7 seconds, 2020-12-10 12:54:26\n",
      "Page [[Vitale Candiano]] saved\n",
      "Sleeping for 7.6 seconds, 2020-12-10 12:54:36\n",
      "Page [[Alvise Sagredo]] saved\n",
      "Sleeping for 5.9 seconds, 2020-12-10 12:54:48\n",
      "Page [[Curzio Troiano Navò]] saved\n",
      "Sleeping for 7.5 seconds, 2020-12-10 12:54:57\n",
      "Page [[Giovanni Battista Lantana]] saved\n",
      "Sleeping for 7.5 seconds, 2020-12-10 12:55:07\n",
      "Page [[Benedetto Benedetti]] saved\n",
      "Sleeping for 7.6 seconds, 2020-12-10 12:55:16\n",
      "Page [[Domenico Lu Domine]] saved\n",
      "Sleeping for 7.7 seconds, 2020-12-10 12:55:26\n",
      "Page [[Giovanni Antonio Querini]] saved\n",
      "Sleeping for 6.2 seconds, 2020-12-10 12:55:38\n",
      "Page [[Paolo Borgasio]] saved\n",
      "Sleeping for 7.8 seconds, 2020-12-10 12:55:46\n",
      "Page [[Maria Torresano]] saved\n",
      "Sleeping for 7.7 seconds, 2020-12-10 12:55:56\n",
      "Page [[Daniele Antonini]] saved\n",
      "Sleeping for 6.5 seconds, 2020-12-10 12:56:08\n",
      "Page [[Giovanni Battista Mosto]] saved\n",
      "Sleeping for 8.0 seconds, 2020-12-10 12:56:16\n",
      "Page [[Marco Mantova Benavides]] saved\n",
      "Sleeping for 7.5 seconds, 2020-12-10 12:56:27\n",
      "Page [[Sante della Valentina]] saved\n",
      "Sleeping for 7.5 seconds, 2020-12-10 12:56:37\n",
      "Page [[Enea Arnaldi]] saved\n",
      "Sleeping for 6.3 seconds, 2020-12-10 12:56:48\n",
      "Page [[Bartolomeo Giolfino]] saved\n",
      "Sleeping for 7.7 seconds, 2020-12-10 12:56:56\n",
      "Page [[Marco Tintoretto]] saved\n",
      "Sleeping for 7.6 seconds, 2020-12-10 12:57:06\n",
      "Page [[Agostino Piovene]] saved\n",
      "Sleeping for 7.6 seconds, 2020-12-10 12:57:16\n",
      "Page [[Dominik Brustoloni]] saved\n",
      "Sleeping for 7.9 seconds, 2020-12-10 12:57:26\n",
      "Page [[Girolamo Lippomano]] saved\n",
      "Sleeping for 7.5 seconds, 2020-12-10 12:57:37\n",
      "Page [[Paolo Gualdo]] saved\n",
      "Sleeping for 7.6 seconds, 2020-12-10 12:57:47\n",
      "Page [[Giovanni Bono]] saved\n",
      "Sleeping for 7.6 seconds, 2020-12-10 12:57:57\n",
      "Page [[Andrea Zantani]] saved\n",
      "Sleeping for 7.6 seconds, 2020-12-10 12:58:07\n",
      "Page [[Antonio da Ponte]] saved\n",
      "Sleeping for 7.8 seconds, 2020-12-10 12:58:16\n",
      "Page [[Vincenzo Grandi]] saved\n",
      "Sleeping for 6.6 seconds, 2020-12-10 12:58:28\n",
      "Page [[Giuseppe, I Camerata]] saved\n",
      "Sleeping for 7.6 seconds, 2020-12-10 12:58:37\n",
      "Page [[Francesco Marchesini]] saved\n",
      "Sleeping for 7.9 seconds, 2020-12-10 12:58:46\n",
      "Page [[Agostino Chigi]] saved\n",
      "Sleeping for 7.7 seconds, 2020-12-10 12:58:56\n",
      "Page [[Nicolò Lionello]] saved\n",
      "Sleeping for 7.9 seconds, 2020-12-10 12:59:06\n",
      "Page [[Bartolommeo Gamba]] saved\n",
      "Sleeping for 7.6 seconds, 2020-12-10 12:59:17\n",
      "Page [[Giuseppe Cadorin]] saved\n",
      "Sleeping for 7.6 seconds, 2020-12-10 12:59:27\n",
      "Page [[Daniele Farsetti]] saved\n",
      "Sleeping for 7.6 seconds, 2020-12-10 12:59:37\n",
      "Page [[Jacopo Antonio Pozzo]] saved\n",
      "Sleeping for 5.9 seconds, 2020-12-10 12:59:48\n",
      "Page [[Giovanni Andrea Pauletti]] saved\n",
      "Sleeping for 7.6 seconds, 2020-12-10 12:59:57\n",
      "Page [[Alessandro Grazioli]] saved\n",
      "Sleeping for 7.2 seconds, 2020-12-10 13:00:07\n",
      "Page [[Giovanni Battista Rossi]] saved\n",
      "Sleeping for 7.3 seconds, 2020-12-10 13:00:17\n",
      "Page [[Giuliano da Valle]] saved\n",
      "Sleeping for 7.5 seconds, 2020-12-10 13:00:27\n",
      "Page [[Arnaldo Speroni degli Alvarotti]] saved\n",
      "Sleeping for 7.6 seconds, 2020-12-10 13:00:37\n",
      "Page [[Carlo]] saved\n",
      "Sleeping for 7.8 seconds, 2020-12-10 13:00:46\n",
      "Page [[Federico Rossi]] saved\n",
      "Sleeping for 6.4 seconds, 2020-12-10 13:00:58\n",
      "Page [[Gian Francesco Pavini]] saved\n",
      "Sleeping for 7.7 seconds, 2020-12-10 13:01:07\n",
      "Page [[Giovanni Fabrini]] saved\n",
      "Sleeping for 7.4 seconds, 2020-12-10 13:01:17\n",
      "Page [[Andrea Morosini]] saved\n",
      "Sleeping for 6.3 seconds, 2020-12-10 13:01:28\n",
      "Page [[Girolamo Pompei]] saved\n",
      "Sleeping for 7.4 seconds, 2020-12-10 13:01:37\n",
      "Page [[Gianfrancesco Maria de' Medici]] saved\n",
      "Sleeping for 7.4 seconds, 2020-12-10 13:01:47\n",
      "Page [[Antonio Pagani]] saved\n",
      "Sleeping for 6.5 seconds, 2020-12-10 13:01:58\n",
      "Page [[Antonio Pollarolo]] saved\n",
      "Sleeping for 7.5 seconds, 2020-12-10 13:02:07\n",
      "Page [[Paolo di Bonaiuto]] saved\n",
      "Sleeping for 6.3 seconds, 2020-12-10 13:02:18\n",
      "Page [[Marcantonio Cavanis]] saved\n",
      "Sleeping for 7.5 seconds, 2020-12-10 13:02:27\n",
      "Page [[Agostino Litterini]] saved\n",
      "Sleeping for 7.6 seconds, 2020-12-10 13:02:37\n",
      "Page [[Francesco Cornaro]] saved\n",
      "Sleeping for 5.8 seconds, 2020-12-10 13:02:49\n",
      "Page [[Giovanni Torriano da Venezia]] saved\n",
      "Sleeping for 7.5 seconds, 2020-12-10 13:02:57\n",
      "Page [[Ermolao Barbaro]] saved\n",
      "Sleeping for 7.6 seconds, 2020-12-10 13:03:07\n",
      "Page [[Stefano Gallini]] saved\n",
      "Sleeping for 6.5 seconds, 2020-12-10 13:03:18\n",
      "Page [[Aleduse Buzzacarini]] saved\n",
      "Sleeping for 7.6 seconds, 2020-12-10 13:03:27\n",
      "Page [[Antonio Zanon]] saved\n",
      "Sleeping for 7.5 seconds, 2020-12-10 13:03:37\n",
      "Page [[Paolo Caotorta]] saved\n",
      "Sleeping for 7.4 seconds, 2020-12-10 13:03:47\n",
      "Page [[Alessandro Bevilacqua]] saved\n",
      "Sleeping for 7.5 seconds, 2020-12-10 13:03:57\n",
      "Page [[Bartolomeo Fonzio]] saved\n",
      "Sleeping for 7.5 seconds, 2020-12-10 13:04:07\n",
      "Page [[Gaetano Cignaroli]] saved\n",
      "Sleeping for 7.5 seconds, 2020-12-10 13:04:17\n",
      "Page [[Pietro Lucchesi]] saved\n",
      "Sleeping for 7.5 seconds, 2020-12-10 13:04:27\n",
      "Page [[Giacomo Busenello]] saved\n",
      "Sleeping for 7.6 seconds, 2020-12-10 13:04:37\n",
      "Page [[Niccolò degli Alberti]] saved\n",
      "Sleeping for 7.7 seconds, 2020-12-10 13:04:47\n",
      "Page [[Girolamo Francesco Zanetti]] saved\n",
      "Sleeping for 7.7 seconds, 2020-12-10 13:04:57\n",
      "Page [[Girolamo Lucich]] saved\n",
      "Sleeping for 7.6 seconds, 2020-12-10 13:05:07\n",
      "Page [[Girolamo Donzellini]] saved\n",
      "Sleeping for 7.4 seconds, 2020-12-10 13:05:17\n",
      "Page [[Cristoforo Lanfranchini]] saved\n",
      "Sleeping for 6.1 seconds, 2020-12-10 13:05:28\n",
      "Page [[Giacomo Filippo Tomasini]] saved\n",
      "Sleeping for 6.6 seconds, 2020-12-10 13:05:38\n",
      "Page [[Lorenzo Crico]] saved\n",
      "Sleeping for 7.5 seconds, 2020-12-10 13:05:47\n",
      "Page [[Sebastiano Erizzo]] saved\n",
      "Sleeping for 6.4 seconds, 2020-12-10 13:05:58\n",
      "Page [[Bartolomeo Vacchi]] saved\n",
      "Sleeping for 7.5 seconds, 2020-12-10 13:06:07\n",
      "Page [[Paola Martinengo]] saved\n",
      "Sleeping for 6.1 seconds, 2020-12-10 13:06:18\n",
      "Page [[Giuseppe degli Aromatari]] saved\n",
      "Sleeping for 7.7 seconds, 2020-12-10 13:06:27\n",
      "Page [[Giovanni Antonio Rizzi Zannoni]] saved\n",
      "Sleeping for 6.5 seconds, 2020-12-10 13:06:38\n",
      "Page [[Michele]] saved\n",
      "Sleeping for 7.7 seconds, 2020-12-10 13:06:47\n",
      "Page [[Giovanni Verocai]] saved\n",
      "Sleeping for 7.7 seconds, 2020-12-10 13:06:57\n",
      "Page [[Alvise Foscari]] saved\n",
      "Sleeping for 6.1 seconds, 2020-12-10 13:07:08\n",
      "Page [[Gaspare Ruina]] saved\n",
      "Sleeping for 7.6 seconds, 2020-12-10 13:07:17\n",
      "Page [[Atanasio Zannoni]] saved\n",
      "Sleeping for 7.6 seconds, 2020-12-10 13:07:27\n",
      "Page [[Angelo Notari]] saved\n",
      "Sleeping for 6.5 seconds, 2020-12-10 13:07:38\n",
      "Page [[Vettor Grimani]] saved\n",
      "Sleeping for 7.7 seconds, 2020-12-10 13:07:47\n",
      "Page [[Gaetano Pinali]] saved\n",
      "Sleeping for 7.7 seconds, 2020-12-10 13:07:57\n",
      "Page [[Marco degli Oddi]] saved\n",
      "Sleeping for 7.6 seconds, 2020-12-10 13:08:07\n",
      "Page [[Pietro Antonio Zaguri]] saved\n",
      "Sleeping for 7.5 seconds, 2020-12-10 13:08:17\n",
      "Page [[Alessandro Nievo]] saved\n",
      "Sleeping for 6.4 seconds, 2020-12-10 13:08:28\n",
      "Page [[Gregorio Morlaiter]] saved\n",
      "Sleeping for 7.8 seconds, 2020-12-10 13:08:37\n",
      "Page [[Teodoro Balbi]] saved\n",
      "Sleeping for 7.7 seconds, 2020-12-10 13:08:47\n",
      "Page [[Federico Contarini]] saved\n",
      "Sleeping for 7.6 seconds, 2020-12-10 13:08:57\n",
      "Page [[Giorgio Rusconi]] saved\n",
      "Sleeping for 7.6 seconds, 2020-12-10 13:09:07\n",
      "Page [[Rafaino Caresini]] saved\n",
      "Sleeping for 7.8 seconds, 2020-12-10 13:09:17\n",
      "Page [[Giovanni Battista Altieri]] saved\n",
      "Sleeping for 6.5 seconds, 2020-12-10 13:09:28\n",
      "Page [[Antonio Marsand]] saved\n",
      "Sleeping for 7.9 seconds, 2020-12-10 13:09:37\n",
      "Page [[Matteo Alberti]] saved\n",
      "Sleeping for 7.6 seconds, 2020-12-10 13:09:47\n",
      "Page [[Marco Barbaro]] saved\n",
      "Sleeping for 7.7 seconds, 2020-12-10 13:09:57\n",
      "Page [[Alvise Badoer]] saved\n",
      "Sleeping for 7.7 seconds, 2020-12-10 13:10:07\n",
      "Page [[Gaspare Negro]] saved\n",
      "Sleeping for 7.8 seconds, 2020-12-10 13:10:17\n",
      "Page [[Angelo Badoer]] saved\n",
      "Sleeping for 7.5 seconds, 2020-12-10 13:10:27\n",
      "Page [[Francesco Gardi]] saved\n",
      "Sleeping for 7.6 seconds, 2020-12-10 13:10:37\n",
      "Page [[Augustin Luciani]] saved\n",
      "Sleeping for 7.6 seconds, 2020-12-10 13:10:47\n",
      "Page [[Antonio D'Este]] saved\n",
      "Sleeping for 5.8 seconds, 2020-12-10 13:10:59\n",
      "Page [[Luigi Locatelli]] saved\n",
      "Sleeping for 7.7 seconds, 2020-12-10 13:11:07\n",
      "Page [[Vincenzo degli Alessandri]] saved\n",
      "Sleeping for 7.8 seconds, 2020-12-10 13:11:17\n",
      "Page [[Valerio Da Pos]] saved\n",
      "Sleeping for 6.5 seconds, 2020-12-10 13:11:28\n",
      "Page [[Girolamo Minotto]] saved\n",
      "Sleeping for 7.6 seconds, 2020-12-10 13:11:37\n",
      "Page [[Pace Pace]] saved\n",
      "Sleeping for 7.8 seconds, 2020-12-10 13:11:47\n",
      "Page [[Alessandro Bon]] saved\n",
      "Sleeping for 7.7 seconds, 2020-12-10 13:11:57\n",
      "Page [[Alberto Pezzi]] saved\n",
      "Sleeping for 7.6 seconds, 2020-12-10 13:12:07\n",
      "Page [[Franz Wenzeslaus Barcovich]] saved\n",
      "Sleeping for 7.6 seconds, 2020-12-10 13:12:17\n",
      "Page [[Giovanni Battista Albanese]] saved\n",
      "Sleeping for 7.7 seconds, 2020-12-10 13:12:27\n",
      "Page [[Stefano Contarini]] saved\n",
      "Sleeping for 7.6 seconds, 2020-12-10 13:12:37\n",
      "Page [[Vitale Orseolo]] saved\n",
      "Sleeping for 7.6 seconds, 2020-12-10 13:12:47\n",
      "Page [[Giacomo Priuli]] saved\n",
      "Sleeping for 7.5 seconds, 2020-12-10 13:12:57\n",
      "Page [[Livio Sanuto]] saved\n",
      "Sleeping for 7.6 seconds, 2020-12-10 13:13:07\n",
      "Page [[Vincenzo Diedo]] saved\n",
      "Sleeping for 7.6 seconds, 2020-12-10 13:13:17\n",
      "Page [[Gian]] saved\n",
      "Sleeping for 7.6 seconds, 2020-12-10 13:13:27\n",
      "Page [[Giovanni Battista Lorenzetti]] saved\n",
      "Sleeping for 6.1 seconds, 2020-12-10 13:13:39\n",
      "Page [[Lorenzo da Ponte]] saved\n",
      "Sleeping for 7.6 seconds, 2020-12-10 13:13:47\n",
      "Page [[Giovanni Antonio Remondini]] saved\n",
      "Sleeping for 7.6 seconds, 2020-12-10 13:13:57\n",
      "Page [[Johann Peter Bergantini]] saved\n",
      "Sleeping for 7.7 seconds, 2020-12-10 13:14:07\n",
      "Page [[Antonio Barbarigo]] saved\n",
      "Sleeping for 7.7 seconds, 2020-12-10 13:14:17\n",
      "Page [[Giacomo Giuseppe Saratelli]] saved\n",
      "Sleeping for 7.7 seconds, 2020-12-10 13:14:27\n",
      "Page [[Galeazzo Mondella]] saved\n",
      "Sleeping for 7.8 seconds, 2020-12-10 13:14:37\n",
      "Page [[Pier Tommaso Campana]] saved\n",
      "Sleeping for 7.6 seconds, 2020-12-10 13:14:47\n",
      "Page [[Antonio Olivi]] saved\n",
      "Sleeping for 7.8 seconds, 2020-12-10 13:14:57\n",
      "Page [[Pasqualino di Niccolò]] saved\n",
      "Sleeping for 7.7 seconds, 2020-12-10 13:15:07\n",
      "Page [[Donato]] saved\n",
      "Sleeping for 7.9 seconds, 2020-12-10 13:15:17\n",
      "Page [[Maffeo Pinelli]] saved\n",
      "Sleeping for 7.5 seconds, 2020-12-10 13:15:27\n",
      "Page [[Giorgio Angelieri]] saved\n",
      "Sleeping for 6.6 seconds, 2020-12-10 13:15:38\n",
      "Page [[Lodovico]] saved\n",
      "Sleeping for 7.7 seconds, 2020-12-10 13:15:47\n",
      "Page [[Michelangelo Prunati]] saved\n",
      "Sleeping for 6.3 seconds, 2020-12-10 13:15:58\n",
      "Page [[Iseppo Pichi]] saved\n",
      "Sleeping for 7.6 seconds, 2020-12-10 13:16:07\n",
      "Page [[Antonio Simbenati]] saved\n",
      "Sleeping for 7.8 seconds, 2020-12-10 13:16:17\n",
      "Page [[Michelangelo]] saved\n",
      "Sleeping for 7.7 seconds, 2020-12-10 13:16:27\n",
      "Page [[Gabriele Tadino]] saved\n",
      "Sleeping for 6.5 seconds, 2020-12-10 13:16:38\n",
      "Page [[Michele Tramezzino]] saved\n",
      "Sleeping for 7.7 seconds, 2020-12-10 13:16:47\n",
      "Page [[Fortunato Morosini]] saved\n",
      "Sleeping for 7.7 seconds, 2020-12-10 13:16:57\n",
      "Page [[Giovanni Francesco Pivati]] saved\n",
      "Sleeping for 7.6 seconds, 2020-12-10 13:17:07\n",
      "Page [[Lodovico Balbi]] saved\n",
      "Sleeping for 7.7 seconds, 2020-12-10 13:17:17\n",
      "Page [[Antonio da Lezze]] saved\n",
      "Sleeping for 7.6 seconds, 2020-12-10 13:17:27\n",
      "Page [[Giovanni Battista Bada]] saved\n",
      "Sleeping for 7.7 seconds, 2020-12-10 13:17:37\n",
      "Page [[Francesco]] saved\n",
      "Sleeping for 6.3 seconds, 2020-12-10 13:17:49\n",
      "Page [[Bernardo De Canal]] saved\n",
      "Sleeping for 6.7 seconds, 2020-12-10 13:17:58\n",
      "Page [[Paul]] saved\n",
      "Sleeping for 7.4 seconds, 2020-12-10 13:18:07\n",
      "Page [[Leopoldo Gonzaga]] saved\n",
      "Sleeping for 7.6 seconds, 2020-12-10 13:18:17\n",
      "Page [[Francesco Bembo]] saved\n",
      "Sleeping for 7.9 seconds, 2020-12-10 13:18:27\n",
      "Page [[Annibale Grisonio]] saved\n",
      "Sleeping for 7.7 seconds, 2020-12-10 13:18:37\n",
      "Page [[Bernardino Tomitano]] saved\n",
      "Sleeping for 7.6 seconds, 2020-12-10 13:18:47\n",
      "Page [[Lorenzina de' Medici]] saved\n",
      "Sleeping for 7.4 seconds, 2020-12-10 13:18:57\n",
      "Page [[Bartolomeo Gerolamo Gradenigo]] saved\n",
      "Sleeping for 7.5 seconds, 2020-12-10 13:19:07\n",
      "Page [[Enrico Causici]] saved\n",
      "Sleeping for 6.4 seconds, 2020-12-10 13:19:18\n",
      "Page [[Giacomino da Verona]] saved\n",
      "Sleeping for 7.2 seconds, 2020-12-10 13:19:28\n",
      "Page [[Francesco Alunno]] saved\n",
      "Sleeping for 6.1 seconds, 2020-12-10 13:19:39\n",
      "Page [[Franz]] saved\n",
      "Sleeping for 7.6 seconds, 2020-12-10 13:19:47\n",
      "Page [[Nicolò degli Agostini]] saved\n",
      "Sleeping for 7.2 seconds, 2020-12-10 13:19:58\n",
      "Page [[Francesco Androsi]] saved\n",
      "Sleeping for 7.6 seconds, 2020-12-10 13:20:07\n",
      "Page [[Daniele Dolfin]] saved\n",
      "Sleeping for 7.7 seconds, 2020-12-10 13:20:17\n",
      "Page [[Giovanni Giuliani]] saved\n",
      "Sleeping for 7.9 seconds, 2020-12-10 13:20:27\n",
      "Page [[Giovanni Pindemonte]] saved\n",
      "Sleeping for 6.2 seconds, 2020-12-10 13:20:39\n",
      "Page [[Paolo Paladini]] saved\n",
      "Sleeping for 7.7 seconds, 2020-12-10 13:20:47\n",
      "Page [[Giuseppe Antonio Paganelli]] saved\n",
      "Sleeping for 7.3 seconds, 2020-12-10 13:20:58\n",
      "Page [[Federico Ceruti]] saved\n",
      "Sleeping for 7.8 seconds, 2020-12-10 13:21:07\n",
      "Page [[Alessandro Zorzi]] saved\n",
      "Sleeping for 7.6 seconds, 2020-12-10 13:21:17\n",
      "Page [[Francesco Griselini]] saved\n",
      "Sleeping for 6.4 seconds, 2020-12-10 13:21:29\n",
      "Page [[Melchisedech Longhena]] saved\n",
      "Sleeping for 7.8 seconds, 2020-12-10 13:21:37\n",
      "Page [[Nicolò Bona]] saved\n",
      "Sleeping for 7.8 seconds, 2020-12-10 13:21:47\n",
      "Page [[Waldrada di Toscana]] saved\n",
      "Sleeping for 7.9 seconds, 2020-12-10 13:21:57\n",
      "Page [[Daniele Farsetti]] saved\n",
      "Sleeping for 7.7 seconds, 2020-12-10 13:22:07\n",
      "Page [[Antonio Vinciguerra]] saved\n",
      "Sleeping for 7.5 seconds, 2020-12-10 13:22:18\n",
      "Page [[Guarnerio d'Artegna]] saved\n",
      "Sleeping for 7.9 seconds, 2020-12-10 13:22:27\n",
      "Page [[Pietro Carlo Antonio Ciani]] saved\n",
      "Sleeping for 7.6 seconds, 2020-12-10 13:22:37\n",
      "Page [[Laura Pico della Mirandola]] saved\n",
      "Sleeping for 7.9 seconds, 2020-12-10 13:22:47\n",
      "Page [[Carlo Canobbio]] saved\n",
      "Sleeping for 7.4 seconds, 2020-12-10 13:22:58\n",
      "Page [[Girolamo Lambardi]] saved\n",
      "Sleeping for 7.9 seconds, 2020-12-10 13:23:07\n",
      "Page [[Domenico Bollani]] saved\n",
      "Sleeping for 7.6 seconds, 2020-12-10 13:23:17\n",
      "Page [[Alberto Valier]] saved\n",
      "Sleeping for 7.7 seconds, 2020-12-10 13:23:27\n",
      "Page [[Angelo Marinali]] saved\n",
      "Sleeping for 7.7 seconds, 2020-12-10 13:23:37\n",
      "Page [[Andrea Francesco Giovanni Altesti]] saved\n",
      "Sleeping for 7.6 seconds, 2020-12-10 13:23:47\n",
      "Page [[Marco Bonelli]] saved\n",
      "Sleeping for 7.6 seconds, 2020-12-10 13:23:57\n",
      "Page [[Pietro Roselli]] saved\n",
      "Sleeping for 7.6 seconds, 2020-12-10 13:24:07\n",
      "Page [[Giovanni Manfrè]] saved\n",
      "Sleeping for 7.7 seconds, 2020-12-10 13:24:17\n",
      "Page [[Bartolomeo Querini]] saved\n",
      "Sleeping for 7.5 seconds, 2020-12-10 13:24:28\n",
      "Page [[Gerolamo Querini]] saved\n",
      "Sleeping for 7.8 seconds, 2020-12-10 13:24:37\n",
      "Page [[Michelangelo Castellazzi]] saved\n",
      "Sleeping for 7.7 seconds, 2020-12-10 13:24:47\n",
      "Page [[Giambattista Maderni]] saved\n",
      "Sleeping for 7.7 seconds, 2020-12-10 13:24:57\n",
      "Page [[Marino Contarini]] saved\n",
      "Sleeping for 7.8 seconds, 2020-12-10 13:25:07\n",
      "Page [[Nicolò Donà]] saved\n",
      "Sleeping for 7.5 seconds, 2020-12-10 13:25:18\n",
      "Page [[Girolamo Avanzi]] saved\n",
      "Sleeping for 7.6 seconds, 2020-12-10 13:25:28\n",
      "Page [[Antonio Pasquali]] saved\n",
      "Sleeping for 7.8 seconds, 2020-12-10 13:25:37\n",
      "Page [[Giovanni Tommaso Faccioli]] saved\n",
      "Sleeping for 7.8 seconds, 2020-12-10 13:25:47\n",
      "Page [[Giovanni Antonio Bertano]] saved\n",
      "Sleeping for 7.7 seconds, 2020-12-10 13:25:57\n",
      "Page [[Paolo Calvi]] saved\n",
      "Sleeping for 7.6 seconds, 2020-12-10 13:26:08\n",
      "Page [[Andrea Corner]] saved\n",
      "Sleeping for 7.8 seconds, 2020-12-10 13:26:17\n",
      "Page [[Luca Antonio Busati]] saved\n",
      "Sleeping for 7.8 seconds, 2020-12-10 13:26:27\n",
      "Page [[Maestro dell'Annunciazione Ludlow]] saved\n",
      "Sleeping for 7.5 seconds, 2020-12-10 13:26:38\n",
      "Page [[Lorenzo Sacchetti]] saved\n",
      "Sleeping for 7.7 seconds, 2020-12-10 13:26:48\n",
      "Page [[Giustina Cappello]] saved\n",
      "Sleeping for 7.5 seconds, 2020-12-10 13:26:58\n",
      "Page [[Antonio Sacchetti]] saved\n",
      "Sleeping for 5.6 seconds, 2020-12-10 13:27:10\n",
      "Page [[Paolo Francesco Giustinian]] saved\n",
      "Sleeping for 7.7 seconds, 2020-12-10 13:27:18\n",
      "Page [[Biagio di Giorgio da Traù]] saved\n",
      "Sleeping for 6.2 seconds, 2020-12-10 13:27:29\n",
      "Page [[Francesco Gritti]] saved\n",
      "Sleeping for 6.6 seconds, 2020-12-10 13:27:39\n",
      "Page [[Ottavio Bruto Revese]] saved\n",
      "Sleeping for 7.7 seconds, 2020-12-10 13:27:48\n",
      "Page [[Giovanni]] saved\n",
      "Sleeping for 7.5 seconds, 2020-12-10 13:27:58\n",
      "Page [[Giovanni Battista Brusasorci]] saved\n",
      "Sleeping for 7.5 seconds, 2020-12-10 13:28:08\n",
      "Page [[Francesco Foscari]] saved\n",
      "Sleeping for 7.5 seconds, 2020-12-10 13:28:18\n",
      "Page [[Gualtiero Padovano]] saved\n",
      "Sleeping for 7.5 seconds, 2020-12-10 13:28:28\n",
      "Page [[Jacobello dalle Masegne]] saved\n",
      "Sleeping for 6.4 seconds, 2020-12-10 13:28:39\n",
      "Page [[Contarina Contarini Morosini]] saved\n",
      "Sleeping for 7.7 seconds, 2020-12-10 13:28:48\n",
      "Page [[Antonio Peteani]] saved\n",
      "Sleeping for 7.6 seconds, 2020-12-10 13:28:58\n",
      "Page [[Erasmo Graziani]] saved\n",
      "Sleeping for 7.5 seconds, 2020-12-10 13:29:08\n",
      "Page [[Ludovico Rangoni]] saved\n",
      "Sleeping for 7.7 seconds, 2020-12-10 13:29:18\n",
      "Page [[Giovanni Battista Recanati]] saved\n",
      "Sleeping for 7.6 seconds, 2020-12-10 13:29:28\n",
      "Page [[Giuseppe Zucconi]] saved\n",
      "Sleeping for 7.6 seconds, 2020-12-10 13:29:38\n",
      "Page [[Giuseppe Pasini]] saved\n",
      "Sleeping for 7.6 seconds, 2020-12-10 13:29:48\n",
      "Page [[Giberto IV da Correggio]] saved\n",
      "Sleeping for 8.0 seconds, 2020-12-10 13:29:57\n",
      "Page [[Paolo Francesco Giustinian]] saved\n",
      "Sleeping for 7.6 seconds, 2020-12-10 13:30:08\n",
      "Page [[Gabriele Dondi dall'Orologio]] saved\n",
      "Sleeping for 7.7 seconds, 2020-12-10 13:30:18\n",
      "Page [[Antonio Pilon]] saved\n",
      "Sleeping for 7.7 seconds, 2020-12-10 13:30:28\n",
      "Page [[Francesco Augusto Bon]] saved\n",
      "Sleeping for 7.6 seconds, 2020-12-10 13:30:38\n",
      "Page [[Nicolò Antonio Giustinian]] saved\n",
      "Sleeping for 6.2 seconds, 2020-12-10 13:30:49\n",
      "Page [[Michele Lorenzo Mancini]] saved\n",
      "Sleeping for 7.5 seconds, 2020-12-10 13:30:58\n",
      "Page [[Jacopo Antonio Bassani]] saved\n",
      "Sleeping for 7.4 seconds, 2020-12-10 13:31:08\n",
      "Page [[Luigi Madonis]] saved\n",
      "Sleeping for 7.5 seconds, 2020-12-10 13:31:18\n",
      "Page [[Biancamaria Martinengo]] saved\n",
      "Sleeping for 7.7 seconds, 2020-12-10 13:31:28\n",
      "Page [[Antonio Minello]] saved\n",
      "Sleeping for 7.6 seconds, 2020-12-10 13:31:38\n",
      "Page [[Franz Renner]] saved\n",
      "Sleeping for 7.6 seconds, 2020-12-10 13:31:48\n",
      "Page [[Giovanni da Lezze]] saved\n",
      "Sleeping for 7.5 seconds, 2020-12-10 13:31:58\n",
      "Page [[Antonio Ambrosi]] saved\n",
      "Sleeping for 7.4 seconds, 2020-12-10 13:32:08\n",
      "Page [[Pietro Buratti]] saved\n",
      "Sleeping for 7.4 seconds, 2020-12-10 13:32:18\n",
      "Page [[Camillo Nalin]] saved\n",
      "Sleeping for 7.8 seconds, 2020-12-10 13:32:28\n",
      "Page [[Lodovico Contarini]] saved\n",
      "Sleeping for 8.2 seconds, 2020-12-10 13:32:37\n",
      "Page [[Matteo Alberti]] saved\n",
      "Sleeping for 6.9 seconds, 2020-12-10 13:32:49\n",
      "Page [[Angelo Pietro Galli]] saved\n",
      "Sleeping for 7.5 seconds, 2020-12-10 13:32:58\n",
      "Page [[Marco Romano]] saved\n",
      "Sleeping for 8.0 seconds, 2020-12-10 13:33:07\n",
      "Page [[Angelo Pietro Galli]] saved\n",
      "Sleeping for 7.6 seconds, 2020-12-10 13:33:18\n",
      "Page [[Franz Grisellini]] saved\n",
      "Sleeping for 7.5 seconds, 2020-12-10 13:33:28\n",
      "Page [[Giovanni Da Lezze]] saved\n",
      "Sleeping for 7.6 seconds, 2020-12-10 13:33:38\n",
      "Page [[Giacomo Querini]] saved\n",
      "Sleeping for 7.5 seconds, 2020-12-10 13:33:48\n",
      "Page [[Agostino Mengozzi-Colonna]] saved\n",
      "Sleeping for 7.7 seconds, 2020-12-10 13:33:58\n",
      "Page [[Castellano da Bassano]] saved\n",
      "Sleeping for 7.5 seconds, 2020-12-10 13:34:08\n",
      "Page [[Girolamo Orti Manara]] saved\n",
      "Sleeping for 7.6 seconds, 2020-12-10 13:34:18\n",
      "Page [[Sebastiano Soldati]] saved\n",
      "Sleeping for 7.7 seconds, 2020-12-10 13:34:28\n",
      "Page [[Angelo Querini]] saved\n",
      "Sleeping for 6.8 seconds, 2020-12-10 13:34:39\n",
      "Page [[Pietro]] saved\n",
      "Sleeping for 7.8 seconds, 2020-12-10 13:34:48\n",
      "Page [[Giuseppe, I Camerata]] saved\n",
      "Sleeping for 7.6 seconds, 2020-12-10 13:34:58\n",
      "Page [[Cesare Rosaroll]] saved\n",
      "Sleeping for 6.3 seconds, 2020-12-10 13:35:09\n",
      "Page [[Silvestro Marcantonio Morosini]] saved\n",
      "Sleeping for 7.5 seconds, 2020-12-10 13:35:18\n",
      "Page [[Adeodato Ressi]] saved\n",
      "Sleeping for 6.4 seconds, 2020-12-10 13:35:29\n",
      "Page [[Pio Enea I Obizzi]] saved\n",
      "Sleeping for 6.6 seconds, 2020-12-10 13:35:39\n",
      "Page [[Giovanni Batista Farinelli]] saved\n",
      "Sleeping for 7.7 seconds, 2020-12-10 13:35:48\n",
      "Page [[Gianconte Brandolini]] saved\n",
      "Sleeping for 7.6 seconds, 2020-12-10 13:35:58\n",
      "Page [[Cecchino da Verona]] saved\n",
      "Sleeping for 7.5 seconds, 2020-12-10 13:36:08\n",
      "Page [[Nicolò Ormaneto]] saved\n",
      "Sleeping for 7.5 seconds, 2020-12-10 13:36:18\n",
      "Page [[Antonio Florian]] saved\n",
      "Sleeping for 6.4 seconds, 2020-12-10 13:36:29\n",
      "Page [[Giovanni Battista Tarsia]] saved\n",
      "Sleeping for 7.6 seconds, 2020-12-10 13:36:38\n",
      "Page [[Benedetto De Luca]] saved\n",
      "Sleeping for 7.5 seconds, 2020-12-10 13:36:48\n",
      "Page [[Carlo Ottavio di Colloredo]] saved\n",
      "Sleeping for 7.6 seconds, 2020-12-10 13:36:58\n",
      "Page [[Zuanne Widmann]] saved\n",
      "Sleeping for 6.4 seconds, 2020-12-10 13:37:09\n",
      "Page [[Giovanni Marangoni]] saved\n",
      "Sleeping for 7.4 seconds, 2020-12-10 13:37:18\n",
      "Page [[Salvatore Dal Negro]] saved\n",
      "Sleeping for 7.6 seconds, 2020-12-10 13:37:28\n",
      "Page [[Valperto]] saved\n",
      "Sleeping for 6.7 seconds, 2020-12-10 13:37:39\n",
      "Page [[Giovanni Cadonici]] saved\n",
      "Sleeping for 7.6 seconds, 2020-12-10 13:37:48\n",
      "Page [[Antonio Trombetta]] saved\n",
      "Sleeping for 7.7 seconds, 2020-12-10 13:37:58\n",
      "Page [[Alessandro Racchetti]] saved\n",
      "Sleeping for 6.4 seconds, 2020-12-10 13:38:09\n",
      "Page [[Orazio Guarguanti]] saved\n",
      "Sleeping for 6.4 seconds, 2020-12-10 13:38:19\n",
      "Page [[Francesco Ascentini]] saved\n",
      "Sleeping for 7.4 seconds, 2020-12-10 13:38:28\n",
      "Page [[Giovanni Battista Molinari]] saved\n",
      "Sleeping for 7.8 seconds, 2020-12-10 13:38:38\n",
      "Page [[Francesco Malacarne]] saved\n",
      "Sleeping for 7.8 seconds, 2020-12-10 13:38:48\n",
      "Page [[Luigi Priuli]] saved\n",
      "Sleeping for 6.6 seconds, 2020-12-10 13:38:59\n",
      "Page [[Emilio Magrini]] saved\n",
      "Sleeping for 7.6 seconds, 2020-12-10 13:39:08\n",
      "Page [[Giovanni Bragadin]] saved\n",
      "Sleeping for 7.5 seconds, 2020-12-10 13:39:18\n",
      "Page [[Damina Damini]] saved\n",
      "Sleeping for 7.6 seconds, 2020-12-10 13:39:28\n",
      "Page [[Francesco Marcolini da Forlì]] saved\n",
      "Sleeping for 6.6 seconds, 2020-12-10 13:39:39\n",
      "Page [[Giovanni Giustinian]] saved\n",
      "Sleeping for 7.6 seconds, 2020-12-10 13:39:48\n",
      "Page [[Francesco Calzolari]] saved\n",
      "Sleeping for 6.6 seconds, 2020-12-10 13:39:59\n",
      "Page [[Girolamo Redini]] saved\n",
      "Sleeping for 7.5 seconds, 2020-12-10 13:40:08\n",
      "Page [[Giuseppe Maria Bressa]] saved\n",
      "Sleeping for 7.7 seconds, 2020-12-10 13:40:18\n",
      "Page [[Teodoro Ragazzoni]] saved\n",
      "Sleeping for 7.6 seconds, 2020-12-10 13:40:28\n",
      "Page [[Antonio Martelli]] saved\n",
      "Sleeping for 7.7 seconds, 2020-12-10 13:40:38\n",
      "Page [[Leonardo Bufalini]] saved\n",
      "Sleeping for 7.7 seconds, 2020-12-10 13:40:48\n",
      "Page [[Gerolamo de Bardi]] saved\n",
      "Sleeping for 7.8 seconds, 2020-12-10 13:40:58\n",
      "Page [[Francesco III da Carrara]] saved\n",
      "Sleeping for 7.6 seconds, 2020-12-10 13:41:08\n",
      "Page [[Lodovico Carresio]] saved\n",
      "Sleeping for 7.6 seconds, 2020-12-10 13:41:18\n",
      "Page [[Zaccaria Valaresso]] saved\n",
      "Sleeping for 7.7 seconds, 2020-12-10 13:41:28\n",
      "Page [[Angelo Dalmistro]] saved\n",
      "Sleeping for 7.8 seconds, 2020-12-10 13:41:38\n",
      "Page [[Domenico Maria Pellegrini]] saved\n",
      "Sleeping for 7.4 seconds, 2020-12-10 13:41:48\n",
      "Page [[Francesco Trevisan Suarez]] saved\n",
      "Sleeping for 7.8 seconds, 2020-12-10 13:41:58\n",
      "Page [[Francesco Negri]] saved\n",
      "Sleeping for 7.8 seconds, 2020-12-10 13:42:08\n",
      "Page [[Angelo Dalmistro]] saved\n",
      "Sleeping for 7.6 seconds, 2020-12-10 13:42:18\n",
      "Page [[Pietro Priuli]] saved\n",
      "Sleeping for 7.4 seconds, 2020-12-10 13:42:28\n",
      "Page [[Giovanni Marchiori]] saved\n",
      "Sleeping for 7.5 seconds, 2020-12-10 13:42:38\n",
      "Page [[Antonino Biffi]] saved\n",
      "Sleeping for 7.5 seconds, 2020-12-10 13:42:48\n",
      "Page [[Antonio Gori]] saved\n",
      "Sleeping for 7.5 seconds, 2020-12-10 13:42:58\n",
      "Page [[Benedetto Vinaccesi]] saved\n",
      "Sleeping for 7.5 seconds, 2020-12-10 13:43:08\n",
      "Page [[Filippo]] saved\n",
      "Sleeping for 7.6 seconds, 2020-12-10 13:43:18\n",
      "Page [[Febo Capella]] saved\n",
      "Sleeping for 7.5 seconds, 2020-12-10 13:43:28\n",
      "Page [[Giacomo Filippo Spada]] saved\n",
      "Sleeping for 7.7 seconds, 2020-12-10 13:43:38\n",
      "Page [[Silvia Curtoni Verza]] saved\n",
      "Sleeping for 7.6 seconds, 2020-12-10 13:43:48\n",
      "Page [[Federico Delfino]] saved\n",
      "Sleeping for 6.5 seconds, 2020-12-10 13:43:59\n",
      "Page [[Carlo Marin]] saved\n",
      "Sleeping for 7.4 seconds, 2020-12-10 13:44:08\n",
      "Page [[Giovanni Larber]] saved\n",
      "Sleeping for 7.6 seconds, 2020-12-10 13:44:18\n",
      "Page [[Lucia Barbarigo]] saved\n",
      "Sleeping for 7.6 seconds, 2020-12-10 13:44:28\n",
      "Page [[Girolamo Trento]] saved\n",
      "Sleeping for 7.7 seconds, 2020-12-10 13:44:38\n",
      "Page [[Elena Barbarigo]] saved\n",
      "Sleeping for 7.6 seconds, 2020-12-10 13:44:48\n",
      "Page [[Ottavio Bertotti Scamozzi]] saved\n",
      "Sleeping for 7.9 seconds, 2020-12-10 13:44:58\n",
      "Page [[Paolo Francesco Giustinian]] saved\n",
      "Sleeping for 7.6 seconds, 2020-12-10 13:45:08\n",
      "Page [[Sebastiano Crotta]] saved\n",
      "Sleeping for 7.6 seconds, 2020-12-10 13:45:18\n",
      "Page [[Trifone Gabriel]] saved\n",
      "Sleeping for 7.7 seconds, 2020-12-10 13:45:28\n",
      "Page [[Antonio Palma]] saved\n",
      "Sleeping for 7.7 seconds, 2020-12-10 13:45:38\n",
      "Page [[Giovanni Battista Perucchini]] saved\n",
      "Sleeping for 7.3 seconds, 2020-12-10 13:45:49\n",
      "Page [[Pellegrino Pasquali]] saved\n",
      "Sleeping for 7.7 seconds, 2020-12-10 13:45:58\n",
      "Page [[Marco Antonio Pordenone]] saved\n",
      "Sleeping for 7.7 seconds, 2020-12-10 13:46:08\n",
      "Page [[Gaetano Callido]] saved\n",
      "Sleeping for 5.7 seconds, 2020-12-10 13:46:20\n",
      "Page [[Bruno]] saved\n",
      "Sleeping for 7.6 seconds, 2020-12-10 13:46:28\n",
      "Page [[Pietro Duodo]] saved\n",
      "Sleeping for 6.5 seconds, 2020-12-10 13:46:39\n",
      "Page [[Carlo Fedeli]] saved\n",
      "Sleeping for 7.7 seconds, 2020-12-10 13:46:48\n",
      "Page [[Giuseppe Marchi]] saved\n",
      "Sleeping for 7.3 seconds, 2020-12-10 13:46:59\n",
      "Page [[Alessandro Knips Macoppe]] saved\n",
      "Sleeping for 6.4 seconds, 2020-12-10 13:47:10\n",
      "Page [[Marco Condulmer]] saved\n",
      "Sleeping for 7.6 seconds, 2020-12-10 13:47:18\n",
      "Page [[Gaspare da Verona]] saved\n",
      "Sleeping for 7.6 seconds, 2020-12-10 13:47:28\n",
      "Page [[Niccolò Liburnio]] saved\n",
      "Sleeping for 7.6 seconds, 2020-12-10 13:47:38\n",
      "Page [[Antonio Fortunato Stella]] saved\n",
      "Sleeping for 7.6 seconds, 2020-12-10 13:47:48\n",
      "Page [[Pierpaolo dalle Masegne]] saved\n",
      "Sleeping for 7.4 seconds, 2020-12-10 13:47:59\n",
      "Page [[Antonio Maria Marini]] saved\n",
      "Sleeping for 6.3 seconds, 2020-12-10 13:48:10\n",
      "Page [[Federico Conti]] saved\n",
      "Sleeping for 7.6 seconds, 2020-12-10 13:48:18\n",
      "Page [[Lorenzo Bellotto]] saved\n",
      "Sleeping for 7.5 seconds, 2020-12-10 13:48:29\n",
      "Page [[Francesco Zanetti]] saved\n",
      "Sleeping for 7.4 seconds, 2020-12-10 13:48:39\n",
      "Page [[Antonio Graziosi]] saved\n",
      "Sleeping for 7.5 seconds, 2020-12-10 13:48:49\n",
      "Page [[Giovanni Battista Giuseppe Biancolini]] saved\n",
      "Sleeping for 7.8 seconds, 2020-12-10 13:48:58\n",
      "Page [[Paolo Calvi]] saved\n",
      "Sleeping for 7.6 seconds, 2020-12-10 13:49:08\n",
      "Page [[Antonio Bongiovanni]] saved\n",
      "Sleeping for 7.4 seconds, 2020-12-10 13:49:19\n",
      "Page [[Maiolino Bisaccioni]] saved\n",
      "Sleeping for 7.6 seconds, 2020-12-10 13:49:28\n",
      "Page [[Filippo Venuti]] saved\n",
      "Sleeping for 6.9 seconds, 2020-12-10 13:49:39\n",
      "Page [[Daniele Farsetti]] saved\n",
      "Sleeping for 7.9 seconds, 2020-12-10 13:49:48\n",
      "Page [[Giovanni]] saved\n",
      "Sleeping for 7.6 seconds, 2020-12-10 13:49:58\n",
      "Page [[Andrea Da Lezze]] saved\n",
      "Sleeping for 7.4 seconds, 2020-12-10 13:50:09\n",
      "Page [[Gaspare Martinengo]] saved\n",
      "Sleeping for 7.7 seconds, 2020-12-10 13:50:18\n",
      "Page [[Paolo Ferrarese]] saved\n",
      "Sleeping for 7.9 seconds, 2020-12-10 13:50:28\n",
      "Page [[Paolo Francesco Giustinian]] saved\n",
      "Sleeping for 7.5 seconds, 2020-12-10 13:50:39\n",
      "Page [[Giovanni Anastasio Pozzobon]] saved\n",
      "Sleeping for 6.7 seconds, 2020-12-10 13:50:49\n",
      "Page [[Fortunato Mandelli]] saved\n",
      "Sleeping for 7.8 seconds, 2020-12-10 13:50:58\n",
      "Page [[Antonio Canal]] saved\n",
      "Sleeping for 7.5 seconds, 2020-12-10 13:51:09\n",
      "Page [[Girolamo Grimani]] saved\n",
      "Sleeping for 6.4 seconds, 2020-12-10 13:51:20\n",
      "Page [[Giacomo Contarini]] saved\n",
      "Sleeping for 7.4 seconds, 2020-12-10 13:51:29\n",
      "Page [[Marcantonio Lombardi]] saved\n",
      "Sleeping for 8.1 seconds, 2020-12-10 13:51:38\n",
      "Page [[Nicolò Antonio Giustinian]] saved\n",
      "Sleeping for 7.6 seconds, 2020-12-10 13:51:49\n",
      "Page [[Giuseppe Lorenzo Briati]] saved\n",
      "Sleeping for 7.5 seconds, 2020-12-10 13:51:59\n",
      "Page [[Marzio Andreuzzi]] saved\n",
      "Sleeping for 7.6 seconds, 2020-12-10 13:52:09\n",
      "Page [[Moretti]] saved\n",
      "Sleeping for 7.5 seconds, 2020-12-10 13:52:19\n",
      "Page [[Antonio Marchetti]] saved\n",
      "Sleeping for 6.5 seconds, 2020-12-10 13:52:30\n",
      "Page [[Pietro Lucchesi]] saved\n",
      "Sleeping for 7.6 seconds, 2020-12-10 13:52:39\n",
      "Page [[Marco Grimani]] saved\n",
      "Sleeping for 8.0 seconds, 2020-12-10 13:52:48\n",
      "Page [[Giambattista Maderni]] saved\n",
      "Sleeping for 7.7 seconds, 2020-12-10 13:52:59\n",
      "Page [[Giovanni, Battista Rospigliosi]] saved\n",
      "Sleeping for 7.7 seconds, 2020-12-10 13:53:08\n",
      "Page [[Carlo Battaglia]] saved\n",
      "Sleeping for 7.7 seconds, 2020-12-10 13:53:18\n",
      "Page [[Ludovico Flangini Giovanelli]] saved\n",
      "Sleeping for 7.8 seconds, 2020-12-10 13:53:28\n",
      "Page [[Ermolao II Barbaro]] saved\n",
      "Sleeping for 6.4 seconds, 2020-12-10 13:53:40\n",
      "Page [[Giovanni Cavalli]] saved\n",
      "Sleeping for 7.5 seconds, 2020-12-10 13:53:49\n",
      "Page [[Marco Nicola]] saved\n",
      "Sleeping for 7.6 seconds, 2020-12-10 13:53:59\n",
      "Page [[Pietro Donà]] saved\n",
      "Sleeping for 7.6 seconds, 2020-12-10 13:54:09\n",
      "Page [[Paleologina Cornaro del Carpasso]] saved\n",
      "Sleeping for 7.7 seconds, 2020-12-10 13:54:19\n",
      "Page [[Girolamo Amaseo]] saved\n",
      "Sleeping for 7.6 seconds, 2020-12-10 13:54:29\n",
      "Page [[Girolamo Cavazza]] saved\n",
      "Sleeping for 7.9 seconds, 2020-12-10 13:54:38\n",
      "Page [[Angelo Dalmistro]] saved\n",
      "Sleeping for 8.0 seconds, 2020-12-10 13:54:48\n",
      "Page [[Giovanni, Battista Rospigliosi]] saved\n",
      "Sleeping for 7.8 seconds, 2020-12-10 13:54:58\n",
      "Page [[Vincenzo Drago]] saved\n",
      "Sleeping for 8.1 seconds, 2020-12-10 13:55:08\n",
      "Page [[Vincenzo Diedo]] saved\n",
      "Sleeping for 7.9 seconds, 2020-12-10 13:55:18\n",
      "Page [[Angelo Dalmistro]] saved\n",
      "Sleeping for 7.7 seconds, 2020-12-10 13:55:29\n",
      "Page [[Francesco Bonazza]] saved\n",
      "Sleeping for 7.8 seconds, 2020-12-10 13:55:39\n",
      "Page [[Bartolomeo Dotti]] saved\n",
      "Sleeping for 7.6 seconds, 2020-12-10 13:55:49\n",
      "Page [[Giovanni Tacuino]] saved\n",
      "Sleeping for 7.8 seconds, 2020-12-10 13:55:58\n",
      "Page [[Andrea Contarini]] saved\n",
      "Sleeping for 7.5 seconds, 2020-12-10 13:56:09\n",
      "Page [[Bartolomeo Zuccato]] saved\n",
      "Sleeping for 7.8 seconds, 2020-12-10 13:56:19\n",
      "Page [[Angelo Dolfin]] saved\n",
      "Sleeping for 7.7 seconds, 2020-12-10 13:56:29\n",
      "Page [[Giovanni Caroto]] saved\n",
      "Sleeping for 6.6 seconds, 2020-12-10 13:56:40\n",
      "Page [[Carlo Zen]] saved\n",
      "Sleeping for 6.7 seconds, 2020-12-10 13:56:50\n",
      "Page [[Antonio Luciani]] saved\n",
      "Sleeping for 7.6 seconds, 2020-12-10 13:56:59\n",
      "Page [[Octavian Maria von Zorzi]] saved\n",
      "Sleeping for 8.0 seconds, 2020-12-10 13:57:08\n",
      "Page [[Alessandro Bassiano]] saved\n",
      "Sleeping for 7.8 seconds, 2020-12-10 13:57:19\n",
      "Page [[Giovanni Antonio Manara]] saved\n",
      "Sleeping for 7.8 seconds, 2020-12-10 13:57:29\n",
      "Page [[Bernardino Zendrini]] saved\n",
      "Sleeping for 6.3 seconds, 2020-12-10 13:57:40\n",
      "Page [[Domenico Zanatta]] saved\n",
      "Sleeping for 7.7 seconds, 2020-12-10 13:57:49\n",
      "Page [[Nicola Saverio Gamboni]] saved\n",
      "Sleeping for 7.7 seconds, 2020-12-10 13:57:59\n",
      "Page [[Giacomo Alberti]] saved\n",
      "Sleeping for 7.7 seconds, 2020-12-10 13:58:09\n",
      "Page [[Joseph Avelloni]] saved\n",
      "Sleeping for 7.8 seconds, 2020-12-10 13:58:19\n",
      "Page [[Cristoforo Marcello]] saved\n",
      "Sleeping for 8.0 seconds, 2020-12-10 13:58:28\n",
      "Page [[Nicolò Antonio Giustinian]] saved\n",
      "Sleeping for 7.6 seconds, 2020-12-10 13:58:39\n",
      "Page [[Bartolomeo Coghetto]] saved\n",
      "Sleeping for 7.8 seconds, 2020-12-10 13:58:49\n",
      "Page [[Antonio Palma]] saved\n",
      "Sleeping for 7.6 seconds, 2020-12-10 13:58:59\n",
      "Page [[Giulio Cesare Becelli]] saved\n",
      "Sleeping for 6.6 seconds, 2020-12-10 13:59:10\n",
      "Page [[Giovanni Foscolo]] saved\n",
      "Sleeping for 7.7 seconds, 2020-12-10 13:59:19\n",
      "Page [[Angelo Maria Barbaro]] saved\n",
      "Sleeping for 7.6 seconds, 2020-12-10 13:59:29\n",
      "Page [[Claudio]] saved\n",
      "Sleeping for 7.6 seconds, 2020-12-10 13:59:39\n",
      "Page [[Elena Barozzi]] saved\n",
      "Sleeping for 7.5 seconds, 2020-12-10 13:59:49\n",
      "Page [[Aleardus de Pindemontibus]] saved\n",
      "Sleeping for 7.8 seconds, 2020-12-10 13:59:59\n",
      "Page [[Nicolò Antonio Giustinian]] saved\n",
      "Sleeping for 7.4 seconds, 2020-12-10 14:00:09\n",
      "Page [[Orazio Claudio Capra]] saved\n",
      "Sleeping for 7.6 seconds, 2020-12-10 14:00:19\n",
      "Page [[Alfonso Capra]] saved\n",
      "Sleeping for 5.9 seconds, 2020-12-10 14:00:31\n",
      "Page [[Giulio Cesare de' Rossi]] saved\n",
      "Sleeping for 6.4 seconds, 2020-12-10 14:00:40\n",
      "Page [[Folco II d'Este]] saved\n",
      "Sleeping for 7.4 seconds, 2020-12-10 14:00:49\n",
      "Page [[Giacomo Ciesa]] saved\n",
      "Sleeping for 7.7 seconds, 2020-12-10 14:00:59\n",
      "Page [[Alvise Mocenigo]] saved\n",
      "Sleeping for 5.9 seconds, 2020-12-10 14:01:11\n",
      "Page [[Bernardino Marin]] saved\n",
      "Sleeping for 7.6 seconds, 2020-12-10 14:01:19\n",
      "Page [[Zaccaria Lilio]] saved\n",
      "Sleeping for 7.7 seconds, 2020-12-10 14:01:29\n",
      "Page [[Paolo da Ponte]] saved\n",
      "Sleeping for 7.6 seconds, 2020-12-10 14:01:39\n",
      "Page [[Bernardino Zanetti]] saved\n",
      "Sleeping for 7.6 seconds, 2020-12-10 14:01:49\n",
      "Page [[Andrea Zucchi]] saved\n",
      "Sleeping for 7.9 seconds, 2020-12-10 14:01:59\n",
      "Page [[Giovanni]] saved\n",
      "Sleeping for 7.4 seconds, 2020-12-10 14:02:09\n",
      "Page [[Giorgio Emo]] saved\n",
      "Sleeping for 7.4 seconds, 2020-12-10 14:02:19\n",
      "Page [[Gianfrancesco]] saved\n",
      "Sleeping for 7.5 seconds, 2020-12-10 14:02:29\n",
      "Page [[Beata Eustochio]] saved\n",
      "Sleeping for 7.1 seconds, 2020-12-10 14:02:39\n",
      "Page [[Pietro Bellotti]] saved\n",
      "Sleeping for 7.5 seconds, 2020-12-10 14:02:49\n",
      "Page [[Flaminio Corner]] saved\n",
      "Sleeping for 7.7 seconds, 2020-12-10 14:02:59\n",
      "Page [[Michelangelo]] saved\n",
      "Sleeping for 7.6 seconds, 2020-12-10 14:03:09\n",
      "Page [[Sigismondo]] saved\n",
      "Sleeping for 7.6 seconds, 2020-12-10 14:03:19\n",
      "Page [[Gaetano Valeri]] saved\n",
      "Sleeping for 7.5 seconds, 2020-12-10 14:03:29\n",
      "Page [[Francesco Saverio da Camino]] saved\n",
      "Sleeping for 7.5 seconds, 2020-12-10 14:03:39\n",
      "Page [[Laura Malipiero]] saved\n",
      "Sleeping for 7.2 seconds, 2020-12-10 14:03:49\n",
      "Page [[Giuseppe Betussi]] saved\n",
      "Sleeping for 7.6 seconds, 2020-12-10 14:03:59\n",
      "Page [[Alessandro Magno]] saved\n",
      "Sleeping for 7.6 seconds, 2020-12-10 14:04:09\n",
      "Page [[Placido Bordoni]] saved\n",
      "Sleeping for 7.5 seconds, 2020-12-10 14:04:19\n",
      "Page [[Laurentius Pignorius]] saved\n",
      "Sleeping for 7.5 seconds, 2020-12-10 14:04:29\n",
      "Page [[Arcoano Buzzaccarini]] saved\n",
      "Sleeping for 6.3 seconds, 2020-12-10 14:04:40\n",
      "Page [[Pietro Marcello]] saved\n",
      "Sleeping for 7.6 seconds, 2020-12-10 14:04:49\n",
      "Page [[Sante Antonio Cimarosto]] saved\n",
      "Sleeping for 7.4 seconds, 2020-12-10 14:04:59\n",
      "Page [[Dionisio Dolfin]] saved\n",
      "Sleeping for 6.3 seconds, 2020-12-10 14:05:10\n",
      "Page [[Giacomo de' Rossi]] saved\n",
      "Sleeping for 7.6 seconds, 2020-12-10 14:05:19\n",
      "Page [[Francesco degli Allegri]] saved\n",
      "Sleeping for 7.6 seconds, 2020-12-10 14:05:29\n",
      "Page [[Chiara Delfino]] saved\n",
      "Sleeping for 7.8 seconds, 2020-12-10 14:05:39\n",
      "Page [[Gaetano Valeri]] saved\n",
      "Sleeping for 7.7 seconds, 2020-12-10 14:05:49\n",
      "Page [[Tommaso Bonazza]] saved\n",
      "Sleeping for 6.7 seconds, 2020-12-10 14:06:00\n",
      "Page [[Bartolomeo Comino]] saved\n",
      "Sleeping for 7.8 seconds, 2020-12-10 14:06:09\n",
      "Page [[Elena Diedo]] saved\n",
      "Sleeping for 7.8 seconds, 2020-12-10 14:06:19\n",
      "Page [[Giambattista Spolverini]] saved\n",
      "Sleeping for 6.1 seconds, 2020-12-10 14:06:31\n",
      "Page [[Brandolino III Brandolini]] saved\n",
      "Sleeping for 7.8 seconds, 2020-12-10 14:06:39\n",
      "Page [[Alvise Foscari]] saved\n",
      "Sleeping for 7.6 seconds, 2020-12-10 14:06:49\n",
      "Page [[Bartolomeo Ferrari]] saved\n",
      "Sleeping for 5.9 seconds, 2020-12-10 14:07:01\n",
      "Page [[Giacomo Piazzetta]] saved\n",
      "Sleeping for 6.0 seconds, 2020-12-10 14:07:11\n",
      "Page [[Antonio Verico]] saved\n",
      "Sleeping for 6.3 seconds, 2020-12-10 14:07:20\n",
      "Page [[Regina Victoria Tourine]] saved\n",
      "Sleeping for 7.5 seconds, 2020-12-10 14:07:29\n",
      "Page [[Giovanni Kreglianovich Albinoni]] saved\n",
      "Sleeping for 7.5 seconds, 2020-12-10 14:07:39\n",
      "Page [[Ottavio Trento]] saved\n",
      "Sleeping for 6.6 seconds, 2020-12-10 14:07:50\n",
      "Page [[Alexander Scaramelli]] saved\n",
      "Sleeping for 7.6 seconds, 2020-12-10 14:07:59\n",
      "Page [[Ignaz Ludwig Bianchi]] saved\n",
      "Sleeping for 7.9 seconds, 2020-12-10 14:08:09\n",
      "Page [[Gaspare da Verona]] saved\n",
      "Sleeping for 7.7 seconds, 2020-12-10 14:08:19\n",
      "Page [[Alvise Casella]] saved\n",
      "Sleeping for 7.6 seconds, 2020-12-10 14:08:29\n",
      "Page [[Luigi Tadini]] saved\n",
      "Sleeping for 6.7 seconds, 2020-12-10 14:08:40\n",
      "Page [[Bertuccio Bagarotto]] saved\n",
      "Sleeping for 7.6 seconds, 2020-12-10 14:08:49\n",
      "Page [[Anna Binetti]] saved\n",
      "Sleeping for 6.6 seconds, 2020-12-10 14:09:00\n",
      "Page [[Giacomo Cassetti]] saved\n",
      "Sleeping for 6.1 seconds, 2020-12-10 14:09:11\n",
      "Page [[Pietro Barbarigo]] saved\n",
      "Sleeping for 8.0 seconds, 2020-12-10 14:09:19\n",
      "Page [[Antonio Canal]] saved\n",
      "Sleeping for 7.6 seconds, 2020-12-10 14:09:29\n",
      "Page [[Teofilo Orgiani]] saved\n",
      "Sleeping for 7.8 seconds, 2020-12-10 14:09:39\n",
      "Page [[Francesco Fulvio Frugoni]] saved\n",
      "Sleeping for 6.5 seconds, 2020-12-10 14:09:50\n",
      "Page [[Alberto]] saved\n",
      "Sleeping for 7.5 seconds, 2020-12-10 14:09:59\n",
      "Page [[Cristina Condulmiero]] saved\n",
      "Sleeping for 7.6 seconds, 2020-12-10 14:10:09\n",
      "Page [[Zaccaria Canal]] saved\n",
      "Sleeping for 7.6 seconds, 2020-12-10 14:10:19\n",
      "Page [[Ferdinando II Gonzaga]] saved\n",
      "Sleeping for 7.7 seconds, 2020-12-10 14:10:29\n",
      "Page [[Domenico dalla Rosa]] saved\n",
      "Sleeping for 7.6 seconds, 2020-12-10 14:10:39\n",
      "Page [[Ulisse]] saved\n",
      "Sleeping for 7.5 seconds, 2020-12-10 14:10:49\n",
      "Page [[Lorenzo Bregno]] saved\n",
      "Sleeping for 7.4 seconds, 2020-12-10 14:10:59\n",
      "Page [[Zaccaria Seriman]] saved\n",
      "Sleeping for 7.5 seconds, 2020-12-10 14:11:09\n",
      "Page [[Vincenzo Giaconi]] saved\n",
      "Sleeping for 7.6 seconds, 2020-12-10 14:11:19\n",
      "Page [[Pace Pasini]] saved\n",
      "Sleeping for 7.6 seconds, 2020-12-10 14:11:29\n",
      "Page [[Pietro Rossi]] saved\n",
      "Sleeping for 7.5 seconds, 2020-12-10 14:11:39\n",
      "Page [[Leonardo Trissino]] saved\n",
      "Sleeping for 7.7 seconds, 2020-12-10 14:11:49\n",
      "Page [[Angelo Correr]] saved\n",
      "Sleeping for 7.6 seconds, 2020-12-10 14:11:59\n",
      "Page [[Giovanni Battista De Rubeis]] saved\n",
      "Sleeping for 7.5 seconds, 2020-12-10 14:12:09\n",
      "Page [[Arcangela Canali]] saved\n",
      "Sleeping for 7.4 seconds, 2020-12-10 14:12:19\n",
      "Page [[Jacopo Guberni]] saved\n",
      "Sleeping for 7.4 seconds, 2020-12-10 14:12:29\n",
      "Page [[Girolamo Cappello]] saved\n",
      "Sleeping for 7.5 seconds, 2020-12-10 14:12:39\n",
      "Page [[Giovanni Sagredo]] saved\n",
      "Sleeping for 6.2 seconds, 2020-12-10 14:12:51\n",
      "Page [[Niccolò Barbarigo]] saved\n",
      "Sleeping for 7.5 seconds, 2020-12-10 14:12:59\n",
      "Page [[Giuseppe Canziani]] saved\n",
      "Sleeping for 7.5 seconds, 2020-12-10 14:13:09\n",
      "Page [[Guilio Carpioni]] saved\n",
      "Sleeping for 7.6 seconds, 2020-12-10 14:13:19\n",
      "Page [[Michelangelo Andrioli]] saved\n",
      "Sleeping for 7.6 seconds, 2020-12-10 14:13:29\n",
      "Page [[Stefano Paulovich-Lucich]] saved\n",
      "Sleeping for 7.5 seconds, 2020-12-10 14:13:39\n",
      "Page [[Baldassarre Drachio Quinzio]] saved\n",
      "Sleeping for 7.5 seconds, 2020-12-10 14:13:49\n",
      "Page [[Giuseppe Imer]] saved\n",
      "Sleeping for 7.5 seconds, 2020-12-10 14:13:59\n",
      "Page [[Giuseppe Furlanetto]] saved\n",
      "Sleeping for 7.3 seconds, 2020-12-10 14:14:10\n",
      "Page [[Joseph Fracasso]] saved\n",
      "Sleeping for 7.5 seconds, 2020-12-10 14:14:19\n",
      "Page [[Vertanes Askerian]] saved\n",
      "Sleeping for 7.5 seconds, 2020-12-10 14:14:29\n",
      "Page [[Giacomo Caimo]] saved\n",
      "Sleeping for 7.8 seconds, 2020-12-10 14:14:39\n",
      "Page [[Melchisedech Longhena]] saved\n",
      "Sleeping for 7.5 seconds, 2020-12-10 14:14:49\n",
      "Page [[Gian Paolo Pace]] saved\n",
      "Sleeping for 7.5 seconds, 2020-12-10 14:14:59\n",
      "Page [[Paul Anton Bernardo]] saved\n",
      "Sleeping for 7.6 seconds, 2020-12-10 14:15:09\n",
      "Page [[Abbondio Rezzonico]] saved\n",
      "Sleeping for 5.7 seconds, 2020-12-10 14:15:21\n",
      "Page [[Leonardo Giustinian]] saved\n",
      "Sleeping for 7.7 seconds, 2020-12-10 14:15:29\n",
      "Page [[Pietro Bon]] saved\n",
      "Sleeping for 7.4 seconds, 2020-12-10 14:15:40\n",
      "Page [[Giovanni Francesco Mocenigo]] saved\n",
      "Sleeping for 7.5 seconds, 2020-12-10 14:15:49\n",
      "Page [[Matteo Dandolo]] saved\n",
      "Sleeping for 7.6 seconds, 2020-12-10 14:15:59\n",
      "Page [[Giovanni Battista Natolini]] saved\n",
      "Sleeping for 7.5 seconds, 2020-12-10 14:16:09\n",
      "Page [[Pietro Antonio Michiel]] saved\n",
      "Sleeping for 7.5 seconds, 2020-12-10 14:16:19\n",
      "Page [[Giuseppe Sardi]] saved\n",
      "Sleeping for 7.6 seconds, 2020-12-10 14:16:29\n",
      "Page [[Giorgio Contarini]] saved\n",
      "Sleeping for 7.6 seconds, 2020-12-10 14:16:39\n",
      "Page [[Innocente Bellavite]] saved\n",
      "Sleeping for 7.5 seconds, 2020-12-10 14:16:49\n",
      "Page [[Marko Elez]] saved\n",
      "Sleeping for 7.5 seconds, 2020-12-10 14:16:59\n",
      "Page [[Ottaviano Bon]] saved\n",
      "Sleeping for 7.0 seconds, 2020-12-10 14:17:10\n",
      "Page [[Giovan Battista Pellizzari]] saved\n",
      "Sleeping for 7.6 seconds, 2020-12-10 14:17:19\n",
      "Page [[Aurelio Lombardo]] saved\n",
      "Sleeping for 7.6 seconds, 2020-12-10 14:17:29\n",
      "Page [[Francesco Lucio]] saved\n",
      "Sleeping for 7.5 seconds, 2020-12-10 14:17:40\n",
      "Page [[Angelo Emo]] saved\n",
      "Sleeping for 6.4 seconds, 2020-12-10 14:17:51\n",
      "Page [[Domenico Marchetti]] saved\n",
      "Sleeping for 7.4 seconds, 2020-12-10 14:18:00\n",
      "Page [[Antonio Foschini]] saved\n",
      "Sleeping for 6.3 seconds, 2020-12-10 14:18:11\n",
      "Page [[Demetrio Damilas]] saved\n",
      "Sleeping for 6.0 seconds, 2020-12-10 14:18:21\n",
      "Page [[Johann Baptist Armani]] saved\n",
      "Sleeping for 7.4 seconds, 2020-12-10 14:18:30\n",
      "Page [[Camillo Gonzaga]] saved\n",
      "Sleeping for 7.7 seconds, 2020-12-10 14:18:39\n",
      "Page [[Hrvoje Vučić]] saved\n",
      "Sleeping for 7.6 seconds, 2020-12-10 14:18:50\n",
      "Page [[Giacomo Marzari]] saved\n",
      "Sleeping for 7.4 seconds, 2020-12-10 14:19:00\n",
      "Page [[David Rossi]] saved\n",
      "Sleeping for 7.5 seconds, 2020-12-10 14:19:10\n",
      "Page [[Cecilia Brusasorci]] saved\n",
      "Sleeping for 7.3 seconds, 2020-12-10 14:19:20\n",
      "Page [[Sigismondo IV Gonzaga]] saved\n",
      "Sleeping for 7.4 seconds, 2020-12-10 14:19:30\n",
      "Page [[Ermes Flavio de Bonis]] saved\n",
      "Sleeping for 6.5 seconds, 2020-12-10 14:19:41\n",
      "Page [[Pietro Francesco Contarini]] saved\n",
      "Sleeping for 7.5 seconds, 2020-12-10 14:19:50\n",
      "Page [[Angelo Rangheri]] saved\n",
      "Sleeping for 7.6 seconds, 2020-12-10 14:20:00\n",
      "Page [[Battista Vicentino]] saved\n",
      "Sleeping for 7.5 seconds, 2020-12-10 14:20:10\n",
      "Page [[Galeazzo Gualdo Priorato]] saved\n",
      "Sleeping for 6.4 seconds, 2020-12-10 14:20:21\n",
      "Page [[Sebastiano da Lugano]] saved\n",
      "Sleeping for 7.7 seconds, 2020-12-10 14:20:29\n",
      "Page [[Arnaldo Speroni degli Alvarotti]] saved\n",
      "Sleeping for 7.4 seconds, 2020-12-10 14:20:40\n",
      "Page [[Salomone Ashkenazi]] saved\n",
      "Sleeping for 7.5 seconds, 2020-12-10 14:20:50\n",
      "Page [[Maria Vittoria Gonzaga]] saved\n",
      "Sleeping for 7.9 seconds, 2020-12-10 14:20:59\n",
      "Page [[Bartolomeo Querini]] saved\n",
      "Sleeping for 7.4 seconds, 2020-12-10 14:21:10\n",
      "Page [[Ginevra Alighieri]] saved\n",
      "Sleeping for 7.3 seconds, 2020-12-10 14:21:20\n",
      "Page [[Franc Rotman]] saved\n",
      "Sleeping for 7.5 seconds, 2020-12-10 14:21:30\n",
      "Page [[Lucio Scarano]] saved\n",
      "Sleeping for 7.5 seconds, 2020-12-10 14:21:40\n",
      "Page [[Angelo Geremia]] saved\n",
      "Sleeping for 7.4 seconds, 2020-12-10 14:21:50\n",
      "Page [[Tizianello]] saved\n",
      "Sleeping for 7.3 seconds, 2020-12-10 14:22:00\n",
      "Page [[Dorotea Malatesta]] saved\n",
      "Sleeping for 7.4 seconds, 2020-12-10 14:22:10\n",
      "Page [[Giovanni Sebenico]] saved\n",
      "Sleeping for 7.5 seconds, 2020-12-10 14:22:20\n",
      "Page [[Niccolo Guardi]] saved\n",
      "Sleeping for 7.4 seconds, 2020-12-10 14:22:30\n",
      "Page [[Benintendi Ravegnani]] saved\n",
      "Sleeping for 7.6 seconds, 2020-12-10 14:22:40\n",
      "Page [[Pancrazio Giustinian]] saved\n",
      "Sleeping for 7.4 seconds, 2020-12-10 14:22:50\n",
      "Page [[Clemente Molli]] saved\n",
      "Sleeping for 6.0 seconds, 2020-12-10 14:23:01\n",
      "Page [[Valeriano Luigi Brera]] saved\n",
      "Sleeping for 5.9 seconds, 2020-12-10 14:23:11\n",
      "Page [[Ilario Casarotti]] saved\n",
      "Sleeping for 7.8 seconds, 2020-12-10 14:23:19\n",
      "Page [[Giovanni Cadonici]] saved\n",
      "Sleeping for 7.4 seconds, 2020-12-10 14:23:30\n",
      "Page [[Giovanni Battista Bilesimo]] saved\n",
      "Sleeping for 7.5 seconds, 2020-12-10 14:23:40\n",
      "Page [[Salvatore Fabbrichesi]] saved\n",
      "Sleeping for 7.8 seconds, 2020-12-10 14:23:49\n",
      "Page [[Francesco Foscari]] saved\n",
      "Sleeping for 7.4 seconds, 2020-12-10 14:24:00\n",
      "Page [[Giovanni Andrea Della Croce]] saved\n",
      "Sleeping for 7.5 seconds, 2020-12-10 14:24:10\n",
      "Page [[Andrea Memmo]] saved\n",
      "Sleeping for 6.5 seconds, 2020-12-10 14:24:21\n",
      "Page [[Giacomo Treves de Bonfili]] saved\n",
      "Sleeping for 7.8 seconds, 2020-12-10 14:24:29\n",
      "Page [[Jacopo Maria Paitoni]] saved\n",
      "Sleeping for 7.5 seconds, 2020-12-10 14:24:40\n",
      "Page [[Giovanni Minello]] saved\n",
      "Sleeping for 5.7 seconds, 2020-12-10 14:24:52\n",
      "Page [[Gianpietro]] saved\n",
      "Sleeping for 7.5 seconds, 2020-12-10 14:25:00\n",
      "Page [[Marcantonio Agazzi]] saved\n",
      "Sleeping for 7.4 seconds, 2020-12-10 14:25:10\n",
      "Page [[Angelo Costantini]] saved\n",
      "Sleeping for 6.7 seconds, 2020-12-10 14:25:21\n",
      "Page [[Diego Zannandreis]] saved\n",
      "Sleeping for 7.5 seconds, 2020-12-10 14:25:30\n",
      "Page [[Giovanni Antonio Riccieri]] saved\n",
      "Sleeping for 7.5 seconds, 2020-12-10 14:25:40\n",
      "Page [[Laura Zorzi]] saved\n",
      "Sleeping for 7.5 seconds, 2020-12-10 14:25:50\n",
      "Page [[Giovanni Antonio Bonicelli]] saved\n",
      "Sleeping for 7.5 seconds, 2020-12-10 14:26:00\n",
      "Page [[Francesco Malipiero]] saved\n",
      "Sleeping for 7.6 seconds, 2020-12-10 14:26:10\n",
      "Page [[Marcello Filosseno]] saved\n",
      "Sleeping for 7.6 seconds, 2020-12-10 14:26:20\n",
      "Page [[Antonino Valsecchi]] saved\n",
      "Sleeping for 7.6 seconds, 2020-12-10 14:26:30\n",
      "Page [[Emmanuele Lodi]] saved\n",
      "Sleeping for 6.2 seconds, 2020-12-10 14:26:41\n",
      "Page [[Bonifacio da Ponte]] saved\n",
      "Sleeping for 7.5 seconds, 2020-12-10 14:26:50\n",
      "Page [[Giovanni Paolo Savio]] saved\n",
      "Sleeping for 7.7 seconds, 2020-12-10 14:27:00\n",
      "Page [[Domenico Bianchini]] saved\n",
      "Sleeping for 7.5 seconds, 2020-12-10 14:27:10\n",
      "Page [[Gerardo Primiero]] saved\n",
      "Sleeping for 6.8 seconds, 2020-12-10 14:27:21\n",
      "Page [[Carlo Bembo]] saved\n",
      "Sleeping for 7.4 seconds, 2020-12-10 14:27:30\n",
      "Page [[Bartolomeo Malacarne]] saved\n",
      "Sleeping for 7.4 seconds, 2020-12-10 14:27:40\n",
      "Page [[Camillo Scroffa]] saved\n",
      "Sleeping for 7.7 seconds, 2020-12-10 14:27:50\n",
      "Page [[Francesco Corner]] saved\n",
      "Sleeping for 7.6 seconds, 2020-12-10 14:28:00\n",
      "Page [[Domenico Orseolo]] saved\n",
      "Sleeping for 7.8 seconds, 2020-12-10 14:28:10\n",
      "Page [[Luigi Trezza]] saved\n",
      "Sleeping for 6.6 seconds, 2020-12-10 14:28:21\n",
      "Page [[Luigi Lollino]] saved\n",
      "Sleeping for 7.7 seconds, 2020-12-10 14:28:30\n",
      "Page [[Silvestro Marcantonio Morosini]] saved\n",
      "Sleeping for 7.3 seconds, 2020-12-10 14:28:40\n",
      "Page [[Jacopo Zabarella il giovane]] saved\n",
      "Sleeping for 7.4 seconds, 2020-12-10 14:28:50\n",
      "Page [[Giovanni Piacentini]] saved\n",
      "Sleeping for 7.3 seconds, 2020-12-10 14:29:00\n",
      "Page [[Giovanni Marini]] saved\n",
      "Sleeping for 7.7 seconds, 2020-12-10 14:29:10\n",
      "Page [[Isabella de Fieschi]] saved\n",
      "Sleeping for 7.5 seconds, 2020-12-10 14:29:20\n",
      "Page [[Pietro Valier]] saved\n",
      "Sleeping for 5.9 seconds, 2020-12-10 14:29:32\n",
      "Page [[Francesco Bernardino Caldogno]] saved\n",
      "Sleeping for 7.6 seconds, 2020-12-10 14:29:40\n",
      "Page [[Giovanni Alvise Rossi]] saved\n",
      "Sleeping for 7.5 seconds, 2020-12-10 14:29:50\n",
      "Page [[Francesco Querini]] saved\n",
      "Sleeping for 5.7 seconds, 2020-12-10 14:30:02\n",
      "Page [[Jacob Da Carpi]] saved\n",
      "Sleeping for 7.6 seconds, 2020-12-10 14:30:10\n",
      "Page [[Giovanni Andrea Della Croce]] saved\n",
      "Sleeping for 7.4 seconds, 2020-12-10 14:30:20\n",
      "Page [[Mattia Carneri]] saved\n",
      "Sleeping for 5.5 seconds, 2020-12-10 14:30:32\n",
      "Page [[Andrea Benedetto Ganassoni]] saved\n",
      "Sleeping for 7.4 seconds, 2020-12-10 14:30:40\n",
      "Page [[Carlo Barrera]] saved\n",
      "Sleeping for 7.4 seconds, 2020-12-10 14:30:50\n",
      "Page [[Coriolano Garzadoro]] saved\n",
      "Sleeping for 7.5 seconds, 2020-12-10 14:31:00\n",
      "Page [[Antonio Pianella]] saved\n",
      "Sleeping for 7.4 seconds, 2020-12-10 14:31:10\n",
      "Page [[Francesco Michiel]] saved\n",
      "Sleeping for 7.4 seconds, 2020-12-10 14:31:20\n",
      "Page [[Giovanni Francesco Burana]] saved\n",
      "Sleeping for 7.1 seconds, 2020-12-10 14:31:30\n",
      "Page [[Pietro Emiliani]] saved\n",
      "Sleeping for 7.5 seconds, 2020-12-10 14:31:40\n",
      "Page [[Regina Gradenico]] saved\n",
      "Sleeping for 7.0 seconds, 2020-12-10 14:31:51\n",
      "Page [[Bartolomeo Zender]] saved\n",
      "Sleeping for 7.5 seconds, 2020-12-10 14:32:00\n",
      "Page [[Lombardo della Seta]] saved\n",
      "Sleeping for 7.5 seconds, 2020-12-10 14:32:10\n",
      "Page [[Carlo Antonio Pezzi]] saved\n",
      "Sleeping for 7.8 seconds, 2020-12-10 14:32:20\n",
      "Page [[Pietro Duodo]] saved\n",
      "Sleeping for 7.5 seconds, 2020-12-10 14:32:30\n",
      "Page [[Giuseppe Frari]] saved\n",
      "Sleeping for 7.4 seconds, 2020-12-10 14:32:40\n",
      "Page [[Antonio Barbaro]] saved\n",
      "Sleeping for 6.3 seconds, 2020-12-10 14:32:51\n",
      "Page [[Francesco Longo]] saved\n",
      "Sleeping for 7.4 seconds, 2020-12-10 14:33:00\n",
      "Page [[Girolamo Foscarini]] saved\n",
      "Sleeping for 7.4 seconds, 2020-12-10 14:33:10\n",
      "Page [[Giambattista Fontana]] saved\n",
      "Sleeping for 7.5 seconds, 2020-12-10 14:33:20\n",
      "Page [[Gasparo Sartorio]] saved\n",
      "Sleeping for 7.4 seconds, 2020-12-10 14:33:30\n",
      "Page [[Cristoforo]] saved\n",
      "Sleeping for 7.5 seconds, 2020-12-10 14:33:40\n",
      "Page [[Bartolomeo Gradenigo]] saved\n",
      "Sleeping for 6.4 seconds, 2020-12-10 14:33:51\n",
      "Page [[Marco Molin]] saved\n",
      "Sleeping for 7.5 seconds, 2020-12-10 14:34:00\n",
      "Page [[Giovanni Falier]] saved\n",
      "Sleeping for 7.2 seconds, 2020-12-10 14:34:10\n",
      "Page [[Natalia Amalteo]] saved\n",
      "Sleeping for 7.5 seconds, 2020-12-10 14:34:20\n",
      "Page [[Francesco Tomasini]] saved\n",
      "Sleeping for 7.4 seconds, 2020-12-10 14:34:30\n",
      "Page [[Matej Karaman]] saved\n",
      "Sleeping for 7.7 seconds, 2020-12-10 14:34:40\n",
      "Page [[Francesco Calzolari]] saved\n",
      "Sleeping for 7.8 seconds, 2020-12-10 14:34:50\n",
      "Page [[Salvatore Dal Negro]] saved\n",
      "Sleeping for 7.5 seconds, 2020-12-10 14:35:00\n",
      "Page [[Dionigi Naldi]] saved\n",
      "Sleeping for 7.4 seconds, 2020-12-10 14:35:10\n",
      "Page [[Pompeo Caimo]] saved\n",
      "Sleeping for 6.5 seconds, 2020-12-10 14:35:21\n",
      "Page [[Spyridon Drakoulis]] saved\n",
      "Sleeping for 7.4 seconds, 2020-12-10 14:35:30\n",
      "Page [[Francesco Boaretti]] saved\n",
      "Sleeping for 6.8 seconds, 2020-12-10 14:35:41\n",
      "Page [[Silvestro Manaigo]] saved\n",
      "Sleeping for 7.5 seconds, 2020-12-10 14:35:50\n",
      "Page [[Maria Pasqualigo]] saved\n",
      "Sleeping for 7.4 seconds, 2020-12-10 14:36:00\n",
      "Page [[Nicolò Trevisan]] saved\n",
      "Sleeping for 7.6 seconds, 2020-12-10 14:36:10\n",
      "Page [[Cecco Brandolini]] saved\n",
      "Sleeping for 7.3 seconds, 2020-12-10 14:36:20\n",
      "Page [[Maria Cappello]] saved\n",
      "Sleeping for 7.5 seconds, 2020-12-10 14:36:30\n",
      "Page [[Giovanni Girolamo Gradenigo]] saved\n",
      "Sleeping for 6.3 seconds, 2020-12-10 14:36:41\n",
      "Page [[Giannantonio Boni]] saved\n",
      "Sleeping for 7.7 seconds, 2020-12-10 14:36:50\n",
      "Page [[Mario Signoretto]] saved\n",
      "Sleeping for 7.6 seconds, 2020-12-10 14:37:00\n",
      "Page [[Giambattista Cimador]] saved\n",
      "Sleeping for 7.5 seconds, 2020-12-10 14:37:10\n",
      "Page [[Cristoforo Canal]] saved\n",
      "Sleeping for 7.9 seconds, 2020-12-10 14:37:20\n",
      "Page [[Carlo Ottavio di Colloredo]] saved\n",
      "Sleeping for 7.6 seconds, 2020-12-10 14:37:30\n",
      "Page [[Antonio Porenzoni]] saved\n",
      "Sleeping for 7.6 seconds, 2020-12-10 14:37:40\n",
      "Page [[Antonio Manuzio]] saved\n",
      "Sleeping for 7.6 seconds, 2020-12-10 14:37:50\n",
      "Page [[Jan Grevenbroeck (II)]] saved\n",
      "Sleeping for 7.2 seconds, 2020-12-10 14:38:01\n",
      "Page [[Francesco Bertos]] saved\n",
      "Sleeping for 7.5 seconds, 2020-12-10 14:38:10\n",
      "Page [[Marchesina di Brienne]] saved\n",
      "Sleeping for 7.4 seconds, 2020-12-10 14:38:20\n",
      "Page [[Giuseppe Manzoni]] saved\n",
      "Sleeping for 7.5 seconds, 2020-12-10 14:38:30\n",
      "Page [[Lucia Ruzzini]] saved\n",
      "Sleeping for 7.6 seconds, 2020-12-10 14:38:40\n",
      "Page [[Silvestro Castellini]] saved\n",
      "Sleeping for 7.5 seconds, 2020-12-10 14:38:50\n",
      "Page [[Biagio Rossetti]] saved\n",
      "Sleeping for 7.5 seconds, 2020-12-10 14:39:00\n",
      "Page [[Giovanni Ermanno Ligozzi]] saved\n",
      "Sleeping for 7.6 seconds, 2020-12-10 14:39:10\n",
      "Page [[Brandolino VI Brandolini]] saved\n",
      "Sleeping for 6.6 seconds, 2020-12-10 14:39:21\n",
      "Page [[Giovanni Cavino]] saved\n",
      "Sleeping for 6.1 seconds, 2020-12-10 14:39:32\n",
      "Page [[Maria Cecilia Guardi]] saved\n",
      "Sleeping for 5.2 seconds, 2020-12-10 14:39:43\n",
      "Page [[Bertrando Rossi]] saved\n",
      "Sleeping for 7.6 seconds, 2020-12-10 14:39:50\n",
      "Page [[Andrea Chiocco]] saved\n",
      "Sleeping for 7.3 seconds, 2020-12-10 14:40:01\n",
      "Page [[Giuseppe]] saved\n",
      "Sleeping for 7.4 seconds, 2020-12-10 14:40:10\n",
      "Page [[Pier Paolo Celega]] saved\n",
      "Sleeping for 7.5 seconds, 2020-12-10 14:40:20\n",
      "Page [[Augusto Chigi]] saved\n",
      "Sleeping for 5.9 seconds, 2020-12-10 14:40:32\n",
      "Page [[Francesco Luigi Fanzago]] saved\n",
      "Sleeping for 7.5 seconds, 2020-12-10 14:40:40\n",
      "Page [[Girolamo Canal]] saved\n",
      "Sleeping for 7.5 seconds, 2020-12-10 14:40:50\n",
      "Page [[Nicolò Filippo Foscarini]] saved\n",
      "Sleeping for 7.5 seconds, 2020-12-10 14:41:00\n",
      "Page [[Rossi]] saved\n",
      "Sleeping for 7.4 seconds, 2020-12-10 14:41:10\n",
      "Page [[Guidarello Guidarelli]] saved\n",
      "Sleeping for 6.2 seconds, 2020-12-10 14:41:22\n",
      "Page [[Taddea Michiel]] saved\n",
      "Sleeping for 7.5 seconds, 2020-12-10 14:41:30\n",
      "Page [[Leonardo Dolfin]] saved\n",
      "Sleeping for 7.2 seconds, 2020-12-10 14:41:41\n",
      "Page [[Andrea Spinelli]] saved\n",
      "Sleeping for 7.2 seconds, 2020-12-10 14:41:51\n",
      "Page [[Giovanni da Padova]] saved\n",
      "Sleeping for 7.8 seconds, 2020-12-10 14:42:00\n",
      "Page [[Domenico Maria Pellegrini]] saved\n",
      "Sleeping for 7.5 seconds, 2020-12-10 14:42:10\n",
      "Page [[Daniele Francesconi]] saved\n",
      "Sleeping for 7.5 seconds, 2020-12-10 14:42:20\n",
      "Page [[Paolo Abriani]] saved\n",
      "Sleeping for 7.5 seconds, 2020-12-10 14:42:30\n",
      "Page [[Guido]] saved\n",
      "Sleeping for 7.9 seconds, 2020-12-10 14:42:40\n",
      "Page [[Agostino Chigi]] saved\n",
      "Sleeping for 6.7 seconds, 2020-12-10 14:42:51\n",
      "Page [[Giovanni Vitalba]] saved\n",
      "Sleeping for 7.8 seconds, 2020-12-10 14:43:00\n",
      "Page [[Pietro Duodo]] saved\n",
      "Sleeping for 6.1 seconds, 2020-12-10 14:43:12\n",
      "Page [[Simon Eremian]] saved\n",
      "Sleeping for 7.4 seconds, 2020-12-10 14:43:20\n",
      "Page [[Giovanni Buich]] saved\n",
      "Sleeping for 7.5 seconds, 2020-12-10 14:43:30\n",
      "Page [[Giovanni Francesco Costa]] saved\n",
      "Sleeping for 7.5 seconds, 2020-12-10 14:43:40\n",
      "Page [[Girolamo II Martinengo]] saved\n",
      "Sleeping for 7.6 seconds, 2020-12-10 14:43:50\n",
      "Page [[Girolamo Pompei]] saved\n",
      "Sleeping for 7.4 seconds, 2020-12-10 14:44:00\n",
      "Page [[Octaviano Maggi]] saved\n",
      "Sleeping for 7.5 seconds, 2020-12-10 14:44:10\n",
      "Page [[Cherubino Busatti]] saved\n",
      "Sleeping for 7.5 seconds, 2020-12-10 14:44:20\n",
      "Page [[Celso Maffei]] saved\n",
      "Sleeping for 6.1 seconds, 2020-12-10 14:44:32\n",
      "Page [[Tommaso]] saved\n",
      "Sleeping for 7.6 seconds, 2020-12-10 14:44:40\n",
      "Page [[Rodolfo Gabrielli]] saved\n",
      "Sleeping for 5.6 seconds, 2020-12-10 14:44:52\n",
      "Page [[Giovanni Prosdocimo Zabeo]] saved\n",
      "Sleeping for 7.5 seconds, 2020-12-10 14:45:00\n",
      "Page [[Claudio II Gonzaga]] saved\n",
      "Sleeping for 7.5 seconds, 2020-12-10 14:45:10\n",
      "Page [[Gian Francesco Torresani]] saved\n",
      "Sleeping for 7.5 seconds, 2020-12-10 14:45:20\n",
      "Page [[Orsotto Giustinian]] saved\n",
      "Sleeping for 7.5 seconds, 2020-12-10 14:45:30\n",
      "Page [[Bartolomeo Tortoletti]] saved\n",
      "Sleeping for 7.5 seconds, 2020-12-10 14:45:40\n",
      "Page [[Pietro Cappello]] saved\n",
      "Sleeping for 7.5 seconds, 2020-12-10 14:45:50\n",
      "Page [[Gaspare Altieri]] saved\n",
      "Sleeping for 6.2 seconds, 2020-12-10 14:46:02\n",
      "Page [[Enrico Uziel]] saved\n",
      "Sleeping for 7.5 seconds, 2020-12-10 14:46:11\n",
      "Page [[Michelangelo Biondo]] saved\n",
      "Sleeping for 7.5 seconds, 2020-12-10 14:46:20\n",
      "Page [[Marco Antonio Zucchi]] saved\n",
      "Sleeping for 7.4 seconds, 2020-12-10 14:46:31\n",
      "Page [[Fabio Bonvicini]] saved\n",
      "Sleeping for 7.5 seconds, 2020-12-10 14:46:41\n",
      "Page [[Pietro Domenico Polfranceschi]] saved\n",
      "Sleeping for 7.5 seconds, 2020-12-10 14:46:50\n",
      "Page [[Agostino Gradenigo]] saved\n",
      "Sleeping for 7.5 seconds, 2020-12-10 14:47:01\n",
      "Page [[Bartolomeo dal Pozzo]] saved\n",
      "Sleeping for 7.4 seconds, 2020-12-10 14:47:11\n",
      "Page [[Giovanni Antonio Astori]] saved\n",
      "Sleeping for 7.4 seconds, 2020-12-10 14:47:21\n",
      "Page [[Girolamo]] saved\n",
      "Sleeping for 7.2 seconds, 2020-12-10 14:47:31\n",
      "Page [[Carlo Zilli]] saved\n",
      "Sleeping for 7.6 seconds, 2020-12-10 14:47:40\n",
      "Page [[Egor Petrovich Psomas]] saved\n",
      "Sleeping for 7.7 seconds, 2020-12-10 14:47:50\n",
      "Page [[Leonardo Targa]] saved\n",
      "Sleeping for 7.1 seconds, 2020-12-10 14:48:01\n",
      "Page [[Fresco d'Este]] saved\n",
      "Sleeping for 6.6 seconds, 2020-12-10 14:48:11\n",
      "Page [[Orso Orseolo]] saved\n",
      "Sleeping for 7.7 seconds, 2020-12-10 14:48:20\n",
      "Page [[Cornelia Gritti]] saved\n",
      "Sleeping for 7.3 seconds, 2020-12-10 14:48:31\n",
      "Page [[Bonaiuto Lorini]] saved\n",
      "Sleeping for 7.2 seconds, 2020-12-10 14:48:41\n",
      "Page [[Angelo Moro Lin]] saved\n",
      "Sleeping for 7.6 seconds, 2020-12-10 14:48:50\n",
      "Page [[Francesco Contarini]] saved\n",
      "Sleeping for 7.6 seconds, 2020-12-10 14:49:00\n",
      "Page [[Paleologos Cornaro del Carpasso]] saved\n",
      "Sleeping for 7.5 seconds, 2020-12-10 14:49:11\n",
      "Page [[Paolo Savin]] saved\n",
      "Sleeping for 7.5 seconds, 2020-12-10 14:49:21\n",
      "Page [[Marco Carelli]] saved\n",
      "Sleeping for 7.5 seconds, 2020-12-10 14:49:31\n",
      "Page [[Arcangelo Agostini]] saved\n",
      "Sleeping for 7.9 seconds, 2020-12-10 14:49:40\n",
      "Page [[Francesco Foscari]] saved\n",
      "Sleeping for 7.6 seconds, 2020-12-10 14:49:50\n",
      "Page [[Geminiano Cozzi]] saved\n",
      "Sleeping for 6.6 seconds, 2020-12-10 14:50:02\n",
      "Page [[Antonio Camerra]] saved\n",
      "Sleeping for 7.8 seconds, 2020-12-10 14:50:10\n",
      "Page [[Girolamo Francesco Zanetti]] saved\n",
      "Sleeping for 7.4 seconds, 2020-12-10 14:50:21\n",
      "Page [[Giovanni Meneghetti]] saved\n",
      "Sleeping for 7.5 seconds, 2020-12-10 14:50:31\n",
      "Page [[Bernardino Brugnoli]] saved\n",
      "Sleeping for 7.6 seconds, 2020-12-10 14:50:40\n",
      "Page [[Elisabetta Pisano]] saved\n",
      "Sleeping for 7.5 seconds, 2020-12-10 14:50:51\n",
      "Page [[Fantina Polo]] saved\n",
      "Sleeping for 7.5 seconds, 2020-12-10 14:51:01\n",
      "Page [[Arrigo Licinio]] saved\n",
      "Sleeping for 7.4 seconds, 2020-12-10 14:51:11\n",
      "Page [[Tommasina Morosini]] saved\n",
      "Sleeping for 7.4 seconds, 2020-12-10 14:51:21\n",
      "Page [[Bartolomeo da San Vito]] saved\n",
      "Sleeping for 7.5 seconds, 2020-12-10 14:51:31\n",
      "Page [[Bartolomeo]] saved\n",
      "Sleeping for 7.5 seconds, 2020-12-10 14:51:41\n",
      "Page [[Niccolò Polo]] saved\n",
      "Sleeping for 6.7 seconds, 2020-12-10 14:51:51\n",
      "Page [[Matteo Dandolo]] saved\n",
      "Sleeping for 7.6 seconds, 2020-12-10 14:52:01\n",
      "Page [[Antonio Vaira]] saved\n",
      "Sleeping for 7.4 seconds, 2020-12-10 14:52:11\n",
      "Page [[Gabriele Gualdo]] saved\n",
      "Sleeping for 7.4 seconds, 2020-12-10 14:52:21\n",
      "Page [[Giovanni Trevisan]] saved\n",
      "Sleeping for 7.4 seconds, 2020-12-10 14:52:31\n",
      "Page [[Pietro Antonio Perotti]] saved\n",
      "Sleeping for 7.7 seconds, 2020-12-10 14:52:40\n",
      "Page [[Giovanni]] saved\n",
      "Sleeping for 5.4 seconds, 2020-12-10 14:52:53\n",
      "Page [[Bartolomeo Cordans]] saved\n",
      "Sleeping for 7.4 seconds, 2020-12-10 14:53:01\n",
      "Page [[Alberto della Piagentina]] saved\n",
      "Sleeping for 7.5 seconds, 2020-12-10 14:53:11\n",
      "Page [[Giovanni Paolo Gallucci]] saved\n",
      "Sleeping for 6.6 seconds, 2020-12-10 14:53:22\n",
      "Page [[Bartolomeo]] saved\n",
      "Sleeping for 7.6 seconds, 2020-12-10 14:53:31\n",
      "Page [[Daulo Augusto Foscolo]] saved\n",
      "Sleeping for 8.0 seconds, 2020-12-10 14:53:40\n",
      "Page [[Giovanni]] saved\n",
      "Sleeping for 6.7 seconds, 2020-12-10 14:53:52\n",
      "Page [[Placido Bordoni]] saved\n",
      "Sleeping for 7.5 seconds, 2020-12-10 14:54:01\n",
      "Page [[Girolamo Pittoni]] saved\n",
      "Sleeping for 7.5 seconds, 2020-12-10 14:54:11\n",
      "Page [[Costanzo da Ferrara]] saved\n",
      "Sleeping for 7.5 seconds, 2020-12-10 14:54:21\n",
      "Page [[Michele Grimani]] saved\n",
      "Sleeping for 7.3 seconds, 2020-12-10 14:54:31\n",
      "Page [[Sebastiano da Milano]] saved\n",
      "Sleeping for 7.6 seconds, 2020-12-10 14:54:41\n",
      "Page [[Domenico David]] saved\n",
      "Sleeping for 7.6 seconds, 2020-12-10 14:54:51\n",
      "Page [[Antonio de Filistri da Caramondani]] saved\n",
      "Sleeping for 7.4 seconds, 2020-12-10 14:55:01\n",
      "Page [[Marco Cornaro, Patrician of Venice]] saved\n",
      "Sleeping for 7.5 seconds, 2020-12-10 14:55:11\n",
      "Page [[Luigi Martignon]] saved\n",
      "Sleeping for 7.4 seconds, 2020-12-10 14:55:21\n",
      "Page [[Agostino Bonaventura Coletti]] saved\n",
      "Sleeping for 7.5 seconds, 2020-12-10 14:55:31\n",
      "Page [[Francesco Martinengo Colleoni]] saved\n",
      "Sleeping for 7.5 seconds, 2020-12-10 14:55:41\n",
      "Page [[Giulio Ferrari]] saved\n",
      "Sleeping for 7.6 seconds, 2020-12-10 14:55:51\n",
      "Page [[Pietro Pezzi]] saved\n",
      "Sleeping for 7.6 seconds, 2020-12-10 14:56:01\n",
      "Page [[Domenico Morosini]] saved\n",
      "Sleeping for 7.2 seconds, 2020-12-10 14:56:11\n",
      "Page [[Antonio Cicuto]] saved\n",
      "Sleeping for 7.3 seconds, 2020-12-10 14:56:21\n",
      "Page [[Giacomo Borlone de Buschis]] saved\n",
      "Sleeping for 7.4 seconds, 2020-12-10 14:56:31\n",
      "Page [[Gerasimos Orfanos]] saved\n",
      "Sleeping for 7.6 seconds, 2020-12-10 14:56:41\n",
      "Page [[Daniel Dal Barba]] saved\n",
      "Sleeping for 7.5 seconds, 2020-12-10 14:56:51\n",
      "Page [[Francesco Maria d'Este]] saved\n",
      "Sleeping for 7.5 seconds, 2020-12-10 14:57:01\n",
      "Page [[Giovanni Carrara]] saved\n",
      "Sleeping for 7.4 seconds, 2020-12-10 14:57:11\n",
      "Page [[Giovanni Battista Sanudo]] saved\n",
      "Sleeping for 7.6 seconds, 2020-12-10 14:57:21\n",
      "Page [[Osvaldo Brussa]] saved\n",
      "Sleeping for 7.4 seconds, 2020-12-10 14:57:31\n",
      "Page [[Pietro Nachini]] saved\n",
      "Sleeping for 7.5 seconds, 2020-12-10 14:57:41\n",
      "Page [[Ottavio Mosto]] saved\n",
      "Sleeping for 7.6 seconds, 2020-12-10 14:57:51\n",
      "Page [[Vincenzo Cassani]] saved\n",
      "Sleeping for 7.4 seconds, 2020-12-10 14:58:01\n",
      "Page [[Giambattista Pagliarino]] saved\n",
      "Sleeping for 7.5 seconds, 2020-12-10 14:58:11\n",
      "Page [[Antonio Boldù]] saved\n",
      "Sleeping for 7.5 seconds, 2020-12-10 14:58:21\n",
      "Page [[Marco Contarini]] saved\n",
      "Sleeping for 7.4 seconds, 2020-12-10 14:58:31\n",
      "Page [[Baldo Lupetino]] saved\n",
      "Sleeping for 7.7 seconds, 2020-12-10 14:58:41\n",
      "Page [[Francesco Contarini]] saved\n",
      "Sleeping for 7.8 seconds, 2020-12-10 14:58:51\n",
      "Page [[Giovanni]] saved\n",
      "Sleeping for 7.4 seconds, 2020-12-10 14:59:01\n",
      "Page [[Giovanni Benedetti]] saved\n",
      "Sleeping for 7.4 seconds, 2020-12-10 14:59:11\n",
      "Page [[Spiridione Petrettini]] saved\n",
      "Sleeping for 7.5 seconds, 2020-12-10 14:59:21\n",
      "Page [[Donato Bertelli]] saved\n",
      "Sleeping for 7.7 seconds, 2020-12-10 14:59:31\n",
      "Page [[Michele Tramezzino]] saved\n",
      "Sleeping for 7.5 seconds, 2020-12-10 14:59:41\n",
      "Page [[Pietro Biagi]] saved\n",
      "Sleeping for 7.5 seconds, 2020-12-10 14:59:51\n",
      "Page [[Giulio Foscolo]] saved\n",
      "Sleeping for 7.3 seconds, 2020-12-10 15:00:01\n",
      "Page [[Girolamo Venier]] saved\n",
      "Sleeping for 7.5 seconds, 2020-12-10 15:00:11\n",
      "Page [[Giovanni]] saved\n",
      "Sleeping for 7.4 seconds, 2020-12-10 15:00:21\n",
      "Page [[Marco Ruzini]] saved\n",
      "Sleeping for 6.1 seconds, 2020-12-10 15:00:32\n",
      "Page [[Domenico da Tolmezzo]] saved\n",
      "Sleeping for 7.4 seconds, 2020-12-10 15:00:41\n",
      "Page [[Forte Gabrielli]] saved\n",
      "Sleeping for 6.6 seconds, 2020-12-10 15:00:52\n",
      "Page [[Giovan Battista Danti]] saved\n",
      "Sleeping for 7.2 seconds, 2020-12-10 15:01:01\n",
      "Page [[Francesco Galimberti]] saved\n",
      "Sleeping for 7.5 seconds, 2020-12-10 15:01:11\n",
      "Page [[Alvise Bragadin]] saved\n",
      "Sleeping for 7.3 seconds, 2020-12-10 15:01:21\n",
      "Page [[Luigi Nogarola]] saved\n",
      "Sleeping for 7.3 seconds, 2020-12-10 15:01:31\n",
      "Page [[Giuseppe Moro]] saved\n",
      "Sleeping for 7.4 seconds, 2020-12-10 15:01:41\n",
      "Page [[Bernardino da Morcote]] saved\n",
      "Sleeping for 6.5 seconds, 2020-12-10 15:01:52\n",
      "Page [[Giovanni Battista Giuseppe Biancolini]] saved\n",
      "Sleeping for 7.0 seconds, 2020-12-10 15:02:02\n",
      "Page [[Giustiniano da Rubiera]] saved\n",
      "Sleeping for 7.3 seconds, 2020-12-10 15:02:11\n",
      "Page [[Bernardino Benali]] saved\n",
      "Sleeping for 7.2 seconds, 2020-12-10 15:02:21\n",
      "Page [[Giangiacomo dé Grigi]] saved\n",
      "Sleeping for 7.5 seconds, 2020-12-10 15:02:31\n",
      "Page [[Pietro Leonardi]] saved\n",
      "Sleeping for 7.5 seconds, 2020-12-10 15:02:41\n",
      "Page [[Maestro dei fiori guardeschi]] saved\n",
      "Sleeping for 7.3 seconds, 2020-12-10 15:02:51\n",
      "Page [[Pierantonio Meneghelli]] saved\n",
      "Sleeping for 7.5 seconds, 2020-12-10 15:03:01\n",
      "Page [[Michelangelo Gasparini]] saved\n",
      "Sleeping for 7.1 seconds, 2020-12-10 15:03:12\n",
      "Page [[Francesco Brusa]] saved\n",
      "Sleeping for 7.1 seconds, 2020-12-10 15:03:22\n",
      "Page [[Antonio Querenghi]] saved\n",
      "Sleeping for 7.6 seconds, 2020-12-10 15:03:31\n",
      "Page [[Alvise Bragadin]] saved\n",
      "Sleeping for 7.3 seconds, 2020-12-10 15:03:41\n",
      "Page [[Antonio Turra]] saved\n",
      "Sleeping for 7.4 seconds, 2020-12-10 15:03:51\n",
      "Page [[Pietro Mera]] saved\n",
      "Sleeping for 5.3 seconds, 2020-12-10 15:04:03\n",
      "Page [[Giacomo Franco]] saved\n",
      "Sleeping for 7.4 seconds, 2020-12-10 15:04:11\n",
      "Page [[Giulia Bigolina]] saved\n",
      "Sleeping for 7.5 seconds, 2020-12-10 15:04:21\n",
      "Page [[Lorenzo Venier]] saved\n",
      "Sleeping for 7.4 seconds, 2020-12-10 15:04:31\n",
      "Page [[Cristoforo Sorte]] saved\n",
      "Sleeping for 7.4 seconds, 2020-12-10 15:04:41\n",
      "Page [[Martino Pesenti]] saved\n",
      "Sleeping for 7.5 seconds, 2020-12-10 15:04:51\n",
      "Page [[Giovanni Giacomo Caroldo]] saved\n",
      "Sleeping for 7.4 seconds, 2020-12-10 15:05:01\n",
      "Page [[Giorgio Corner]] saved\n",
      "Sleeping for 7.7 seconds, 2020-12-10 15:05:11\n",
      "Page [[Salvatore Dal Negro]] saved\n",
      "Sleeping for 7.5 seconds, 2020-12-10 15:05:21\n",
      "Page [[Vincenzo Formaleoni]] saved\n",
      "Sleeping for 7.3 seconds, 2020-12-10 15:05:31\n",
      "Page [[Pietro Paolo Bissari]] saved\n",
      "Sleeping for 7.5 seconds, 2020-12-10 15:05:41\n",
      "Page [[Andrea Foscolo]] saved\n",
      "Sleeping for 7.5 seconds, 2020-12-10 15:05:51\n",
      "Page [[Vitale Zuccolo]] saved\n",
      "Sleeping for 7.2 seconds, 2020-12-10 15:06:01\n",
      "Page [[Sante Pinardi]] saved\n",
      "Sleeping for 7.5 seconds, 2020-12-10 15:06:11\n",
      "Page [[Giuseppe Barbieri]] saved\n",
      "Sleeping for 7.6 seconds, 2020-12-10 15:06:21\n",
      "Page [[Loise Podocataro]] saved\n",
      "Sleeping for 7.4 seconds, 2020-12-10 15:06:31\n",
      "Page [[Lorenzo Busnardo]] saved\n",
      "Sleeping for 7.5 seconds, 2020-12-10 15:06:41\n",
      "Page [[Franz Heinrich Trois]] saved\n",
      "Sleeping for 7.1 seconds, 2020-12-10 15:06:52\n",
      "Page [[Andreana Priuli]] saved\n",
      "Sleeping for 7.4 seconds, 2020-12-10 15:07:01\n",
      "Page [[Daniele Andrea Delfino]] saved\n",
      "Sleeping for 6.7 seconds, 2020-12-10 15:07:12\n",
      "Page [[Vincenzo Formaleoni]] saved\n",
      "Sleeping for 7.6 seconds, 2020-12-10 15:07:21\n",
      "Page [[Giustina Guistiniani]] saved\n",
      "Sleeping for 7.5 seconds, 2020-12-10 15:07:31\n",
      "Page [[Giovanni Carafa della Spina]] saved\n",
      "Sleeping for 7.2 seconds, 2020-12-10 15:07:42\n",
      "Page [[Paolino da Venezia]] saved\n",
      "Sleeping for 7.4 seconds, 2020-12-10 15:07:51\n",
      "Page [[Jakob Franz Colludrowitz]] saved\n",
      "Sleeping for 7.3 seconds, 2020-12-10 15:08:01\n",
      "Page [[Daniel Curz]] saved\n",
      "Sleeping for 7.4 seconds, 2020-12-10 15:08:11\n",
      "Page [[Alvise Dardani]] saved\n",
      "Sleeping for 6.9 seconds, 2020-12-10 15:08:22\n",
      "Page [[Teofilo Ferrari]] saved\n",
      "Sleeping for 7.5 seconds, 2020-12-10 15:08:31\n",
      "Page [[Palladio Negri]] saved\n",
      "Sleeping for 7.4 seconds, 2020-12-10 15:08:41\n",
      "Page [[Marco Spranzi]] saved\n",
      "Sleeping for 7.6 seconds, 2020-12-10 15:08:51\n",
      "Page [[Giovanni Battista Quadri]] saved\n",
      "Sleeping for 6.3 seconds, 2020-12-10 15:09:03\n",
      "Page [[Jacopo Fabris]] saved\n",
      "Sleeping for 7.8 seconds, 2020-12-10 15:09:11\n",
      "Page [[Girolamo Lippomano]] saved\n",
      "Sleeping for 7.2 seconds, 2020-12-10 15:09:22\n",
      "Page [[Domenico, Clemente Rospigliosi]] saved\n",
      "Sleeping for 7.5 seconds, 2020-12-10 15:09:31\n",
      "Page [[Lorenzo Bernardo]] saved\n",
      "Sleeping for 6.6 seconds, 2020-12-10 15:09:42\n",
      "Page [[Luigi Pizzi]] saved\n",
      "Sleeping for 7.2 seconds, 2020-12-10 15:09:52\n",
      "Page [[Francesco Corradini]] saved\n",
      "Sleeping for 7.4 seconds, 2020-12-10 15:10:01\n",
      "Page [[Francesco Bonafede]] saved\n",
      "Sleeping for 7.3 seconds, 2020-12-10 15:10:11\n",
      "Page [[Giovanni Perlotto]] saved\n",
      "Sleeping for 7.6 seconds, 2020-12-10 15:10:21\n",
      "Page [[Andrea Bon]] saved\n",
      "Sleeping for 7.6 seconds, 2020-12-10 15:10:31\n",
      "Page [[Tiziano Minio]] saved\n",
      "Sleeping for 7.5 seconds, 2020-12-10 15:10:41\n",
      "Page [[Giovanni Moro]] saved\n",
      "Sleeping for 7.5 seconds, 2020-12-10 15:10:51\n",
      "Page [[Giovanni Agostino Gradenigo]] saved\n",
      "Sleeping for 6.3 seconds, 2020-12-10 15:11:03\n",
      "Page [[Luigi Zanetti]] saved\n",
      "Sleeping for 7.7 seconds, 2020-12-10 15:11:11\n",
      "Page [[Pietro]] saved\n",
      "Sleeping for 7.5 seconds, 2020-12-10 15:11:21\n",
      "Page [[Giovanni Maria Boldù]] saved\n",
      "Sleeping for 7.6 seconds, 2020-12-10 15:11:31\n",
      "Page [[Francesco Novelli]] saved\n",
      "Sleeping for 7.2 seconds, 2020-12-10 15:11:42\n",
      "Page [[Giovanni Bembo]] saved\n",
      "Sleeping for 7.4 seconds, 2020-12-10 15:11:51\n",
      "Page [[Marcantonio Morosini]] saved\n",
      "Sleeping for 6.9 seconds, 2020-12-10 15:12:02\n",
      "Page [[Pietro Bembo]] saved\n",
      "Sleeping for 7.5 seconds, 2020-12-10 15:12:11\n",
      "Page [[Nicolò Angelo Sagredo]] saved\n",
      "Sleeping for 6.3 seconds, 2020-12-10 15:12:23\n",
      "Page [[Luigi Pizzi]] saved\n",
      "Sleeping for 7.4 seconds, 2020-12-10 15:12:31\n",
      "Page [[Carlo Gaudenzio Mignocchi]] saved\n",
      "Sleeping for 7.5 seconds, 2020-12-10 15:12:41\n",
      "Page [[Bartolomeo Ratti]] saved\n",
      "Sleeping for 7.8 seconds, 2020-12-10 15:12:51\n",
      "Page [[Pietro Lucchesi]] saved\n",
      "Sleeping for 7.3 seconds, 2020-12-10 15:13:02\n",
      "Page [[Ottavio Bocchi]] saved\n",
      "Sleeping for 7.4 seconds, 2020-12-10 15:13:12\n",
      "Page [[Ambrogio Fusinieri]] saved\n",
      "Sleeping for 5.9 seconds, 2020-12-10 15:13:23\n",
      "Page [[Francesco de' Monti]] saved\n",
      "Sleeping for 7.4 seconds, 2020-12-10 15:13:32\n",
      "Page [[Giovanni Michele Bruto]] saved\n",
      "Sleeping for 7.5 seconds, 2020-12-10 15:13:41\n",
      "Page [[Simone Gionima]] saved\n",
      "Sleeping for 7.4 seconds, 2020-12-10 15:13:52\n",
      "Page [[Peter Anton der Jüngere Zorzi]] saved\n",
      "Sleeping for 6.7 seconds, 2020-12-10 15:14:02\n",
      "Page [[Hicela Orseolo]] saved\n",
      "Sleeping for 7.5 seconds, 2020-12-10 15:14:12\n",
      "Page [[Benedetto Da Lezze]] saved\n",
      "Sleeping for 7.6 seconds, 2020-12-10 15:14:21\n",
      "Page [[Marco Antonio Pellegrini]] saved\n",
      "Sleeping for 7.4 seconds, 2020-12-10 15:14:32\n",
      "Page [[Nicolò Bertucci Contarini]] saved\n",
      "Sleeping for 7.5 seconds, 2020-12-10 15:14:42\n",
      "Page [[Giovanni Girolamo Nadal]] saved\n",
      "Sleeping for 7.3 seconds, 2020-12-10 15:14:52\n",
      "Page [[Simone Gliubavaz]] saved\n",
      "Sleeping for 7.2 seconds, 2020-12-10 15:15:02\n",
      "Page [[Pietro Acotanto]] saved\n",
      "Sleeping for 5.5 seconds, 2020-12-10 15:15:14\n",
      "Page [[Giovanni Garzoni]] saved\n",
      "Sleeping for 7.4 seconds, 2020-12-10 15:15:22\n",
      "Page [[Parrasio Micheli]] saved\n",
      "Sleeping for 6.9 seconds, 2020-12-10 15:15:32\n",
      "Page [[Antonio Vinciguerra]] saved\n",
      "Sleeping for 7.8 seconds, 2020-12-10 15:15:41\n",
      "Page [[Arnaldo Speroni degli Alvarotti]] saved\n",
      "Sleeping for 7.3 seconds, 2020-12-10 15:15:52\n",
      "Page [[Antonio Contarini]] saved\n",
      "Sleeping for 7.3 seconds, 2020-12-10 15:16:02\n",
      "Page [[Luigi Carrer]] saved\n",
      "Sleeping for 6.3 seconds, 2020-12-10 15:16:13\n",
      "Page [[Giovanni Bonazza]] saved\n",
      "Sleeping for 6.1 seconds, 2020-12-10 15:16:23\n",
      "Page [[Antonio Piazza]] saved\n",
      "Sleeping for 7.5 seconds, 2020-12-10 15:16:32\n",
      "Page [[Maso di Bartolomeo]] saved\n",
      "Sleeping for 6.5 seconds, 2020-12-10 15:16:43\n",
      "Page [[Gaspare Leonarducci]] saved\n",
      "Sleeping for 7.4 seconds, 2020-12-10 15:16:52\n",
      "Page [[Elisabetta Lazzarini]] saved\n",
      "Sleeping for 6.8 seconds, 2020-12-10 15:17:02\n",
      "Page [[Andrea Buora]] saved\n",
      "Sleeping for 6.1 seconds, 2020-12-10 15:17:13\n",
      "Page [[Giovan Battista Balbi]] saved\n",
      "Sleeping for 7.5 seconds, 2020-12-10 15:17:22\n",
      "Page [[Domenico Dominici]] saved\n",
      "Sleeping for 7.4 seconds, 2020-12-10 15:17:32\n",
      "Page [[Leonardo]] saved\n",
      "Sleeping for 7.7 seconds, 2020-12-10 15:17:41\n",
      "Page [[Michele Tramezzino]] saved\n",
      "Sleeping for 7.5 seconds, 2020-12-10 15:17:52\n",
      "Page [[Giovanni Pietro Salvaterra]] saved\n",
      "Sleeping for 7.2 seconds, 2020-12-10 15:18:02\n",
      "Page [[Federico Crisogono]] saved\n",
      "Sleeping for 7.0 seconds, 2020-12-10 15:18:12\n",
      "Page [[Orsatto Giustinian]] saved\n",
      "Sleeping for 7.5 seconds, 2020-12-10 15:18:22\n",
      "Page [[Joachim Torriani]] saved\n",
      "Sleeping for 7.3 seconds, 2020-12-10 15:18:32\n",
      "Page [[Paolo Guidolini]] saved\n",
      "Sleeping for 7.3 seconds, 2020-12-10 15:18:42\n",
      "Page [[Amalia Vidari-Griffoni]] saved\n",
      "Sleeping for 7.5 seconds, 2020-12-10 15:18:52\n",
      "Page [[Guglielmo da Venezia]] saved\n",
      "Sleeping for 7.1 seconds, 2020-12-10 15:19:02\n",
      "Page [[Francesco Luigi Gonzaga]] saved\n",
      "Sleeping for 7.5 seconds, 2020-12-10 15:19:12\n",
      "Page [[Federico Badoer]] saved\n",
      "Sleeping for 7.8 seconds, 2020-12-10 15:19:21\n",
      "Page [[Ermes Flavio de Bonis]] saved\n",
      "Sleeping for 6.6 seconds, 2020-12-10 15:19:33\n",
      "Page [[Giovanni Pietro Aurelio Mutti]] saved\n",
      "Sleeping for 6.3 seconds, 2020-12-10 15:19:43\n",
      "Page [[Eriprando Giuliari]] saved\n",
      "Sleeping for 7.3 seconds, 2020-12-10 15:19:52\n",
      "Page [[Cristoforo Sabbadino]] saved\n",
      "Sleeping for 7.7 seconds, 2020-12-10 15:20:01\n",
      "Page [[Domenico Bollani]] saved\n",
      "Sleeping for 7.7 seconds, 2020-12-10 15:20:11\n",
      "Page [[Salvatore Dal Negro]] saved\n",
      "Sleeping for 7.6 seconds, 2020-12-10 15:20:22\n",
      "Page [[Celio Malespini]] saved\n",
      "Sleeping for 7.6 seconds, 2020-12-10 15:20:32\n",
      "Page [[Antonio Manzoni]] saved\n",
      "Sleeping for 7.4 seconds, 2020-12-10 15:20:42\n",
      "Page [[Panfilo Persico]] saved\n",
      "Sleeping for 7.5 seconds, 2020-12-10 15:20:52\n",
      "Page [[Giovanni Battista Nicolini]] saved\n",
      "Sleeping for 7.2 seconds, 2020-12-10 15:21:02\n",
      "Page [[Eustachio Celebrino]] saved\n",
      "Sleeping for 7.4 seconds, 2020-12-10 15:21:12\n",
      "Page [[Francesco Ziletti]] saved\n",
      "Sleeping for 6.1 seconds, 2020-12-10 15:21:23\n",
      "Page [[Girolamo Dalla Corte]] saved\n",
      "Sleeping for 7.6 seconds, 2020-12-10 15:21:32\n",
      "Page [[Antonio Christofori]] saved\n",
      "Sleeping for 7.6 seconds, 2020-12-10 15:21:42\n",
      "Page [[Lorenzo Altieri]] saved\n",
      "Sleeping for 6.5 seconds, 2020-12-10 15:21:53\n",
      "Page [[Giovanni Maria Bertolli]] saved\n",
      "Sleeping for 7.7 seconds, 2020-12-10 15:22:02\n",
      "Page [[Giacomo Filippo Tomasini]] saved\n",
      "Sleeping for 6.7 seconds, 2020-12-10 15:22:13\n",
      "Page [[Constanza di Sicilia]] saved\n",
      "Sleeping for 7.9 seconds, 2020-12-10 15:22:21\n",
      "Page [[Giovanni]] saved\n",
      "Sleeping for 7.6 seconds, 2020-12-10 15:22:32\n",
      "Page [[Nicolò Donado]] saved\n",
      "Sleeping for 7.4 seconds, 2020-12-10 15:22:42\n",
      "Page [[Pietro de Fossis]] saved\n",
      "Sleeping for 7.5 seconds, 2020-12-10 15:22:52\n",
      "Page [[Jacopo del Torso]] saved\n",
      "Sleeping for 7.2 seconds, 2020-12-10 15:23:02\n",
      "Page [[Clorinda Renieri]] saved\n",
      "Sleeping for 7.6 seconds, 2020-12-10 15:23:12\n",
      "Page [[Bartolomeo Cipolla]] saved\n",
      "Sleeping for 6.4 seconds, 2020-12-10 15:23:23\n",
      "Page [[Ferrante de' Rossi]] saved\n",
      "Sleeping for 6.5 seconds, 2020-12-10 15:23:33\n",
      "Page [[Antonio Ongaro]] saved\n",
      "Sleeping for 6.4 seconds, 2020-12-10 15:23:43\n",
      "Page [[Benedetta Vendramin]] saved\n",
      "Sleeping for 7.4 seconds, 2020-12-10 15:23:52\n",
      "Page [[Augusto Antonio Zacco]] saved\n",
      "Sleeping for 7.4 seconds, 2020-12-10 15:24:02\n",
      "Page [[Marco Antonio Corner]] saved\n",
      "Sleeping for 7.5 seconds, 2020-12-10 15:24:12\n",
      "Page [[Antonio Papadopoli]] saved\n",
      "Sleeping for 7.6 seconds, 2020-12-10 15:24:22\n",
      "Page [[Giovanni Antonio Volpi]] saved\n",
      "Sleeping for 5.8 seconds, 2020-12-10 15:24:34\n",
      "Page [[Giambattista Mariotti]] saved\n",
      "Sleeping for 7.5 seconds, 2020-12-10 15:24:42\n",
      "Page [[Arnaldo Cataneo]] saved\n",
      "Sleeping for 7.6 seconds, 2020-12-10 15:24:52\n",
      "Page [[Francesco Apostoli]] saved\n",
      "Sleeping for 7.4 seconds, 2020-12-10 15:25:02\n",
      "Page [[Caterina Loredan]] saved\n",
      "Sleeping for 7.6 seconds, 2020-12-10 15:25:12\n",
      "Page [[Domenico Lovisa]] saved\n",
      "Sleeping for 7.2 seconds, 2020-12-10 15:25:22\n",
      "Page [[Giulio Gherlandi]] saved\n",
      "Sleeping for 7.7 seconds, 2020-12-10 15:25:32\n",
      "Page [[Stefano Contarini]] saved\n",
      "Sleeping for 7.5 seconds, 2020-12-10 15:25:42\n",
      "Page [[Gian Girolamo Zannichelli]] saved\n",
      "Sleeping for 7.5 seconds, 2020-12-10 15:25:52\n",
      "Page [[Camillo Silvestri]] saved\n",
      "Sleeping for 7.2 seconds, 2020-12-10 15:26:02\n",
      "Page [[Germanico Savorgnan]] saved\n",
      "Sleeping for 7.6 seconds, 2020-12-10 15:26:12\n",
      "Page [[Giovanni Matteo Picchi]] saved\n",
      "Sleeping for 7.5 seconds, 2020-12-10 15:26:22\n",
      "Page [[Giovan Jacopo Dionisi]] saved\n",
      "Sleeping for 7.4 seconds, 2020-12-10 15:26:32\n",
      "Page [[Pietro Cocco]] saved\n",
      "Sleeping for 7.4 seconds, 2020-12-10 15:26:42\n",
      "Page [[Ludovico Odasio]] saved\n",
      "Sleeping for 7.3 seconds, 2020-12-10 15:26:52\n",
      "Page [[Alessandro Lisca]] saved\n",
      "Sleeping for 7.2 seconds, 2020-12-10 15:27:02\n",
      "Page [[Gaudenzio Fagienci]] saved\n",
      "Sleeping for 7.5 seconds, 2020-12-10 15:27:12\n",
      "Page [[Giacomo Badoer]] saved\n",
      "Sleeping for 7.4 seconds, 2020-12-10 15:27:22\n",
      "Page [[Giuseppe Rospigliosi]] saved\n",
      "Sleeping for 7.7 seconds, 2020-12-10 15:27:32\n",
      "Page [[Giovanni Tommaso Faccioli]] saved\n",
      "Sleeping for 7.5 seconds, 2020-12-10 15:27:42\n",
      "Page [[Giovanni Antonio Agostini]] saved\n",
      "Sleeping for 7.5 seconds, 2020-12-10 15:27:52\n",
      "Page [[Placido Bordoni]] saved\n",
      "Sleeping for 7.6 seconds, 2020-12-10 15:28:02\n",
      "Page [[Giovanni Prosdocimo Zabeo]] saved\n",
      "Sleeping for 7.9 seconds, 2020-12-10 15:28:12\n",
      "Page [[Giovanni Battista Recanati]] saved\n",
      "Sleeping for 7.5 seconds, 2020-12-10 15:28:22\n",
      "Page [[Giorgio Gentili]] saved\n",
      "Sleeping for 7.4 seconds, 2020-12-10 15:28:32\n",
      "Page [[Mathias Stabinger]] saved\n",
      "Sleeping for 7.6 seconds, 2020-12-10 15:28:42\n",
      "Page [[Bartolomeo Zamberti]] saved\n",
      "Sleeping for 7.5 seconds, 2020-12-10 15:28:52\n",
      "Page [[Lorenzo Muttoni]] saved\n",
      "Sleeping for 7.2 seconds, 2020-12-10 15:29:02\n",
      "Page [[Tommaso Antonio Contin]] saved\n",
      "Sleeping for 7.8 seconds, 2020-12-10 15:29:12\n",
      "Page [[Angelo Costantini]] saved\n",
      "Sleeping for 6.7 seconds, 2020-12-10 15:29:23\n",
      "Page [[Anton Maria Lamberti]] saved\n",
      "Sleeping for 6.5 seconds, 2020-12-10 15:29:33\n",
      "Page [[Carteromaco]] saved\n",
      "Sleeping for 6.4 seconds, 2020-12-10 15:29:43\n",
      "Page [[Antonio de Scaramelli]] saved\n",
      "Sleeping for 7.3 seconds, 2020-12-10 15:29:52\n",
      "Page [[Emilio Altieri, II principe di Oriolo]] saved\n",
      "Sleeping for 7.1 seconds, 2020-12-10 15:30:02\n",
      "Page [[Cortese Cortesi]] saved\n",
      "Sleeping for 7.5 seconds, 2020-12-10 15:30:12\n",
      "Page [[Simeone Difnico]] saved\n",
      "Sleeping for 7.5 seconds, 2020-12-10 15:30:22\n",
      "Page [[Jacopo Muselli]] saved\n",
      "Sleeping for 7.4 seconds, 2020-12-10 15:30:32\n",
      "Page [[Antonio Meneghelli]] saved\n",
      "Sleeping for 7.5 seconds, 2020-12-10 15:30:42\n",
      "Page [[Giovanni Battista Maganza]] saved\n",
      "Sleeping for 7.8 seconds, 2020-12-10 15:30:52\n",
      "Page [[Silvia Curtoni Verza]] saved\n",
      "Sleeping for 7.3 seconds, 2020-12-10 15:31:02\n",
      "Page [[Toma Babić]] saved\n",
      "Sleeping for 6.2 seconds, 2020-12-10 15:31:13\n",
      "Page [[Vitruvio Buonconsiglio]] saved\n",
      "Sleeping for 7.6 seconds, 2020-12-10 15:31:22\n",
      "Page [[Girolamo Discepolo]] saved\n",
      "Sleeping for 7.4 seconds, 2020-12-10 15:31:32\n",
      "Page [[Lucia Scaligeri]] saved\n",
      "Sleeping for 7.3 seconds, 2020-12-10 15:31:42\n",
      "Page [[Contessa Tagliapietra]] saved\n",
      "Sleeping for 7.4 seconds, 2020-12-10 15:31:52\n",
      "Page [[Alessandro Carriero]] saved\n",
      "Sleeping for 7.2 seconds, 2020-12-10 15:32:02\n",
      "Page [[Giacomo Cocco]] saved\n",
      "Sleeping for 7.5 seconds, 2020-12-10 15:32:12\n",
      "Page [[Alvise Emo]] saved\n",
      "Sleeping for 7.4 seconds, 2020-12-10 15:32:22\n",
      "Page [[Pietro Bussolin]] saved\n",
      "Sleeping for 7.4 seconds, 2020-12-10 15:32:32\n",
      "Page [[Louis III Gonzaga]] saved\n",
      "Sleeping for 6.4 seconds, 2020-12-10 15:32:43\n",
      "Page [[Giovanni Battista Costantini]] saved\n",
      "Sleeping for 7.4 seconds, 2020-12-10 15:32:52\n",
      "Page [[Giovanni Molin]] saved\n",
      "Sleeping for 7.1 seconds, 2020-12-10 15:33:03\n",
      "Page [[Antonio Maria Gardini]] saved\n",
      "Sleeping for 7.7 seconds, 2020-12-10 15:33:12\n",
      "Page [[Vincenzo Formaleoni]] saved\n",
      "Sleeping for 7.8 seconds, 2020-12-10 15:33:22\n",
      "Page [[Agostino Chigi]] saved\n",
      "Sleeping for 7.7 seconds, 2020-12-10 15:33:32\n",
      "Page [[Vincenzo Formaleoni]] saved\n",
      "Sleeping for 7.4 seconds, 2020-12-10 15:33:42\n",
      "Page [[Francesco di Vannozzo]] saved\n",
      "Sleeping for 7.6 seconds, 2020-12-10 15:33:52\n",
      "Page [[Andrea Torresano]] saved\n",
      "Sleeping for 7.3 seconds, 2020-12-10 15:34:02\n",
      "Page [[Marco Manuzio]] saved\n",
      "Sleeping for 7.6 seconds, 2020-12-10 15:34:12\n",
      "Page [[Giacomo Diedo]] saved\n",
      "Sleeping for 7.7 seconds, 2020-12-10 15:34:22\n",
      "Page [[Pietro Alborghetti]] saved\n",
      "Sleeping for 7.5 seconds, 2020-12-10 15:34:32\n",
      "Page [[Marco Antonio Sanfermo]] saved\n",
      "Sleeping for 7.5 seconds, 2020-12-10 15:34:42\n",
      "Page [[Antonio Uberti]] saved\n",
      "Sleeping for 7.9 seconds, 2020-12-10 15:34:52\n",
      "Page [[Matteo Alberti]] saved\n",
      "Sleeping for 6.4 seconds, 2020-12-10 15:35:03\n",
      "Page [[Lorenzo Zucchi]] saved\n",
      "Sleeping for 7.4 seconds, 2020-12-10 15:35:12\n",
      "Page [[Bagion Dolfin]] saved\n",
      "Sleeping for 7.4 seconds, 2020-12-10 15:35:22\n",
      "Page [[Antonio Lazzari]] saved\n",
      "Sleeping for 7.4 seconds, 2020-12-10 15:35:32\n",
      "Page [[Giovanni Gradenigo]] saved\n",
      "Sleeping for 7.6 seconds, 2020-12-10 15:35:42\n",
      "Page [[Vittore Benzon]] saved\n",
      "Sleeping for 7.5 seconds, 2020-12-10 15:35:52\n",
      "Page [[Giovanni Brevio]] saved\n",
      "Sleeping for 7.3 seconds, 2020-12-10 15:36:02\n",
      "Page [[Giuseppe Maria Peruzzi]] saved\n",
      "Sleeping for 6.7 seconds, 2020-12-10 15:36:13\n",
      "Page [[Rossi]] saved\n",
      "Sleeping for 7.8 seconds, 2020-12-10 15:36:22\n",
      "Page [[Girolamo Bologni]] saved\n",
      "Sleeping for 7.8 seconds, 2020-12-10 15:36:32\n",
      "Page [[Geōrgios Vendotēs]] saved\n",
      "Sleeping for 7.6 seconds, 2020-12-10 15:36:42\n",
      "Page [[Girolamo Righetto]] saved\n",
      "Sleeping for 7.6 seconds, 2020-12-10 15:36:52\n",
      "Page [[Bonaventura Furlanetto]] saved\n",
      "Sleeping for 6.5 seconds, 2020-12-10 15:37:03\n",
      "Page [[Pietro Monaco]] saved\n",
      "Sleeping for 7.5 seconds, 2020-12-10 15:37:12\n",
      "Page [[Andrea Bondumier]] saved\n",
      "Sleeping for 7.5 seconds, 2020-12-10 15:37:22\n",
      "Page [[Giuseppe Treves]] saved\n",
      "Sleeping for 7.5 seconds, 2020-12-10 15:37:32\n",
      "Page [[Vincenzo Morosini]] saved\n",
      "Sleeping for 7.6 seconds, 2020-12-10 15:37:42\n",
      "Page [[Caterino Zeno]] saved\n",
      "Sleeping for 7.8 seconds, 2020-12-10 15:37:52\n",
      "Page [[Alessandro Nievo]] saved\n",
      "Sleeping for 6.9 seconds, 2020-12-10 15:38:03\n",
      "Page [[Giacomo Cocco]] saved\n",
      "Sleeping for 7.5 seconds, 2020-12-10 15:38:12\n",
      "Page [[Pietro Massolo]] saved\n",
      "Sleeping for 7.5 seconds, 2020-12-10 15:38:22\n",
      "Page [[Giovanni Benedetto Giovanelli]] saved\n",
      "Sleeping for 7.1 seconds, 2020-12-10 15:38:33\n",
      "Page [[Giovanni Battista Grassi]] saved\n",
      "Sleeping for 7.4 seconds, 2020-12-10 15:38:42\n",
      "Page [[Orazio Toscanella]] saved\n",
      "Sleeping for 8.0 seconds, 2020-12-10 15:38:52\n",
      "Page [[Bonaventura Furlanetto]] saved\n",
      "Sleeping for 7.3 seconds, 2020-12-10 15:39:03\n",
      "Page [[Pantaleone Giustinian]] saved\n",
      "Sleeping for 7.5 seconds, 2020-12-10 15:39:12\n",
      "Page [[Giovanni Battista VI Giuseppe Albrizzi]] saved\n",
      "Sleeping for 7.5 seconds, 2020-12-10 15:39:22\n",
      "Page [[Ramperto Polo]] saved\n",
      "Sleeping for 7.5 seconds, 2020-12-10 15:39:32\n",
      "Page [[Venceslav Boiani]] saved\n",
      "Sleeping for 7.6 seconds, 2020-12-10 15:39:42\n",
      "Page [[Giacomo Chiodo]] saved\n",
      "Sleeping for 7.6 seconds, 2020-12-10 15:39:52\n",
      "Page [[Giofredo Cornaro del Carpasso]] saved\n",
      "Sleeping for 7.2 seconds, 2020-12-10 15:40:03\n",
      "Page [[Marcantonio Giustinian]] saved\n",
      "Sleeping for 7.8 seconds, 2020-12-10 15:40:12\n",
      "Page [[Jacopo Maria Paitoni]] saved\n",
      "Sleeping for 7.4 seconds, 2020-12-10 15:40:23\n",
      "Page [[Marc'Antonio Calbo]] saved\n",
      "Sleeping for 7.1 seconds, 2020-12-10 15:40:33\n",
      "Page [[Jacob de Martini]] saved\n",
      "Sleeping for 7.4 seconds, 2020-12-10 15:40:43\n",
      "Page [[Angelo Zendrini]] saved\n",
      "Sleeping for 6.2 seconds, 2020-12-10 15:40:54\n",
      "Page [[Gabriel Avedikian]] saved\n",
      "Sleeping for 6.3 seconds, 2020-12-10 15:41:04\n",
      "Page [[Girolamo Ortis]] saved\n",
      "Sleeping for 7.4 seconds, 2020-12-10 15:41:13\n",
      "Page [[Giovanni Gloria]] saved\n",
      "Sleeping for 7.4 seconds, 2020-12-10 15:41:23\n",
      "Page [[Giambattista Mutinelli]] saved\n",
      "Sleeping for 7.7 seconds, 2020-12-10 15:41:32\n",
      "Page [[Bartolomeo Carteri]] saved\n",
      "Sleeping for 7.5 seconds, 2020-12-10 15:41:42\n",
      "Page [[Simone Gatto]] saved\n",
      "Sleeping for 7.4 seconds, 2020-12-10 15:41:53\n",
      "Page [[Gasparo Narvesa]] saved\n",
      "Sleeping for 7.7 seconds, 2020-12-10 15:42:02\n",
      "Page [[Angelo Pietro Galli]] saved\n",
      "Sleeping for 7.8 seconds, 2020-12-10 15:42:12\n",
      "Page [[Angelo Pietro Galli]] saved\n",
      "Sleeping for 7.6 seconds, 2020-12-10 15:42:22\n",
      "Page [[Girolamo de Franciscis]] saved\n",
      "Sleeping for 7.6 seconds, 2020-12-10 15:42:32\n",
      "Page [[Raimund Egger]] saved\n",
      "Sleeping for 7.3 seconds, 2020-12-10 15:42:43\n",
      "Page [[Enea Arnaldi]] saved\n",
      "Sleeping for 6.7 seconds, 2020-12-10 15:42:53\n",
      "Page [[Giovanni Badoer]] saved\n",
      "Sleeping for 7.0 seconds, 2020-12-10 15:43:03\n",
      "Page [[Giovanni Battista Vivaldi]] saved\n",
      "Sleeping for 7.5 seconds, 2020-12-10 15:43:13\n",
      "Page [[Martino De Boni]] saved\n",
      "Sleeping for 7.5 seconds, 2020-12-10 15:43:22\n",
      "Page [[Domenico Dalla Bella]] saved\n",
      "Sleeping for 6.5 seconds, 2020-12-10 15:43:34\n",
      "Page [[Paolo Erizzo]] saved\n",
      "Sleeping for 6.5 seconds, 2020-12-10 15:43:44\n",
      "Page [[Jacobello Alberegno]] saved\n",
      "Sleeping for 7.1 seconds, 2020-12-10 15:43:53\n",
      "Page [[Alessandro Carli]] saved\n",
      "Sleeping for 7.2 seconds, 2020-12-10 15:44:03\n",
      "Page [[Giandomenico Conte Tiepolo]] saved\n",
      "Sleeping for 7.5 seconds, 2020-12-10 15:44:13\n",
      "Page [[Pietro Antonio Zorzi]] saved\n",
      "Sleeping for 5.6 seconds, 2020-12-10 15:44:25\n",
      "Page [[Paolo Groppelli]] saved\n",
      "Sleeping for 7.4 seconds, 2020-12-10 15:44:33\n",
      "Page [[Giacomo]] saved\n",
      "Sleeping for 7.5 seconds, 2020-12-10 15:44:43\n",
      "Page [[Stefano Domenico Sceriman]] saved\n",
      "Sleeping for 7.8 seconds, 2020-12-10 15:44:52\n",
      "Page [[Pietro Antonio Zorzi]] saved\n",
      "Sleeping for 7.3 seconds, 2020-12-10 15:45:03\n",
      "Page [[Bartolomeo Tarsia]] saved\n",
      "Sleeping for 7.1 seconds, 2020-12-10 15:45:13\n",
      "Page [[Gellio Ghellini]] saved\n",
      "Sleeping for 5.4 seconds, 2020-12-10 15:45:25\n",
      "Page [[Donata Badoer]] saved\n",
      "Sleeping for 7.8 seconds, 2020-12-10 15:45:32\n",
      "Page [[Pietro Antonio Zorzi]] saved\n",
      "Sleeping for 7.2 seconds, 2020-12-10 15:45:43\n",
      "Page [[Amadio Luzzo]] saved\n",
      "Sleeping for 7.8 seconds, 2020-12-10 15:45:52\n",
      "Page [[Pietro Antonio Zorzi]] saved\n",
      "Sleeping for 7.4 seconds, 2020-12-10 15:46:03\n",
      "Page [[Marco Antonio Grimani]] saved\n",
      "Sleeping for 6.6 seconds, 2020-12-10 15:46:14\n",
      "Page [[Agostino Agostini]] saved\n",
      "Sleeping for 7.1 seconds, 2020-12-10 15:46:23\n",
      "Page [[Giulio Goldoni]] saved\n",
      "Sleeping for 7.2 seconds, 2020-12-10 15:46:33\n",
      "Page [[Constantin Cumano]] saved\n",
      "Sleeping for 7.5 seconds, 2020-12-10 15:46:43\n",
      "Page [[Guido Brandolini]] saved\n",
      "Sleeping for 7.7 seconds, 2020-12-10 15:46:52\n",
      "Page [[Michele Tramezzino]] saved\n",
      "Sleeping for 7.0 seconds, 2020-12-10 15:47:03\n",
      "Page [[Giuseppe Antonio Maria Favini]] saved\n",
      "Sleeping for 7.5 seconds, 2020-12-10 15:47:13\n",
      "Page [[Karl Belli]] saved\n",
      "Sleeping for 7.3 seconds, 2020-12-10 15:47:23\n",
      "Page [[Giuseppe Groppelli]] saved\n",
      "Sleeping for 7.4 seconds, 2020-12-10 15:47:33\n",
      "Page [[Bartolomeo Bon il Giovane]] saved\n",
      "Sleeping for 7.5 seconds, 2020-12-10 15:47:43\n",
      "Page [[Girolamo Ascanio Giustiniani]] saved\n",
      "Sleeping for 7.3 seconds, 2020-12-10 15:47:53\n",
      "Page [[Sebastiano Nasolini]] saved\n",
      "Sleeping for 7.5 seconds, 2020-12-10 15:48:03\n",
      "Page [[Nicolò Erizzo]] saved\n",
      "Sleeping for 7.4 seconds, 2020-12-10 15:48:13\n",
      "Page [[Andrea Tosi]] saved\n",
      "Sleeping for 7.6 seconds, 2020-12-10 15:48:23\n",
      "Page [[Marino Groppelli]] saved\n",
      "Sleeping for 7.0 seconds, 2020-12-10 15:48:33\n",
      "Page [[Gregorio Amaseo]] saved\n",
      "Sleeping for 7.4 seconds, 2020-12-10 15:48:43\n",
      "Page [[Guido II Rangoni]] saved\n",
      "Sleeping for 5.6 seconds, 2020-12-10 15:48:55\n",
      "Page [[Francesco Bandiera]] saved\n",
      "Sleeping for 7.2 seconds, 2020-12-10 15:49:03\n",
      "Page [[Lorenzo Pasquato]] saved\n",
      "Sleeping for 7.3 seconds, 2020-12-10 15:49:13\n",
      "Page [[Giovanni Pona]] saved\n",
      "Sleeping for 7.4 seconds, 2020-12-10 15:49:23\n",
      "Page [[Carlo Filago]] saved\n",
      "Sleeping for 7.5 seconds, 2020-12-10 15:49:33\n",
      "Page [[Vittore Canal]] saved\n",
      "Sleeping for 7.3 seconds, 2020-12-10 15:49:43\n",
      "Page [[Antonio Belloni]] saved\n",
      "Sleeping for 7.4 seconds, 2020-12-10 15:49:53\n",
      "Page [[Giovanni Battista Ziletti]] saved\n",
      "Sleeping for 5.5 seconds, 2020-12-10 15:50:05\n",
      "Page [[Matteo Barbieri]] saved\n",
      "Sleeping for 7.4 seconds, 2020-12-10 15:50:13\n",
      "Page [[Lodovico Donà]] saved\n",
      "Sleeping for 7.6 seconds, 2020-12-10 15:50:23\n",
      "Page [[Cherubino Busatti]] saved\n",
      "Sleeping for 7.2 seconds, 2020-12-10 15:50:33\n",
      "Page [[Giovanni Domenico Sala]] saved\n",
      "Sleeping for 7.4 seconds, 2020-12-10 15:50:43\n",
      "Page [[Giovanni Battista Grone]] saved\n",
      "Sleeping for 7.9 seconds, 2020-12-10 15:50:52\n",
      "Page [[Cortese Cortesi]] saved\n",
      "Sleeping for 7.3 seconds, 2020-12-10 15:51:03\n",
      "Page [[Bartolomeo]] saved\n",
      "Sleeping for 7.5 seconds, 2020-12-10 15:51:13\n",
      "Page [[Alvise Priuli]] saved\n",
      "Sleeping for 7.4 seconds, 2020-12-10 15:51:23\n",
      "Page [[Francesco Carrara]] saved\n",
      "Sleeping for 7.3 seconds, 2020-12-10 15:51:33\n",
      "Page [[Sebastiano Lazzari]] saved\n",
      "Sleeping for 7.5 seconds, 2020-12-10 15:51:43\n",
      "Page [[Benedetto Carpaccio]] saved\n",
      "Sleeping for 7.5 seconds, 2020-12-10 15:51:53\n",
      "Page [[Petrocino Casaleschi]] saved\n",
      "Sleeping for 7.4 seconds, 2020-12-10 15:52:03\n",
      "Page [[Giovanni Antonio Requesta]] saved\n",
      "Sleeping for 7.5 seconds, 2020-12-10 15:52:13\n",
      "Page [[Nicola Marcola]] saved\n",
      "Sleeping for 7.5 seconds, 2020-12-10 15:52:23\n",
      "Page [[Giacomo Gerardo]] saved\n",
      "Sleeping for 7.6 seconds, 2020-12-10 15:52:33\n",
      "Page [[Cesare D'Arbes]] saved\n",
      "Sleeping for 7.7 seconds, 2020-12-10 15:52:43\n",
      "Page [[Rossi]] saved\n",
      "Sleeping for 6.2 seconds, 2020-12-10 15:52:54\n",
      "Page [[Jacopino Badoer da Peraga]] saved\n",
      "Sleeping for 7.4 seconds, 2020-12-10 15:53:03\n",
      "Page [[Francesco Novelli (I)]] saved\n",
      "Sleeping for 7.4 seconds, 2020-12-10 15:53:13\n",
      "Page [[Camilla de' Rossi]] saved\n",
      "Sleeping for 7.5 seconds, 2020-12-10 15:53:23\n",
      "Page [[Girolamo Polcastro]] saved\n",
      "Sleeping for 7.7 seconds, 2020-12-10 15:53:33\n",
      "Page [[Gabriel Avedikian]] saved\n",
      "Sleeping for 7.7 seconds, 2020-12-10 15:53:43\n",
      "Page [[Nicolò Erizzo]] saved\n",
      "Sleeping for 7.3 seconds, 2020-12-10 15:53:53\n",
      "Page [[Jacopo Foscari]] saved\n",
      "Sleeping for 5.2 seconds, 2020-12-10 15:54:05\n",
      "Page [[Nicolò Dolfin]] saved\n",
      "Sleeping for 7.4 seconds, 2020-12-10 15:54:13\n",
      "Page [[Antonio]] saved\n",
      "Sleeping for 7.4 seconds, 2020-12-10 15:54:23\n",
      "Page [[Marcantonio Brandolini]] saved\n",
      "Sleeping for 7.5 seconds, 2020-12-10 15:54:33\n",
      "Page [[Francesco Pittoni]] saved\n",
      "Sleeping for 5.6 seconds, 2020-12-10 15:54:45\n",
      "Page [[Antonio Cesari]] saved\n",
      "Sleeping for 6.3 seconds, 2020-12-10 15:54:54\n",
      "Page [[Emilio Campolongo]] saved\n",
      "Sleeping for 6.4 seconds, 2020-12-10 15:55:04\n",
      "Page [[Giovanni Prosdocimo Zabeo]] saved\n",
      "Sleeping for 7.4 seconds, 2020-12-10 15:55:13\n",
      "Page [[Urbano Pagani Cesa]] saved\n",
      "Sleeping for 7.4 seconds, 2020-12-10 15:55:23\n",
      "Page [[Giuseppe Scolari]] saved\n",
      "Sleeping for 7.4 seconds, 2020-12-10 15:55:33\n",
      "Page [[Tisbe Martinengo]] saved\n",
      "Sleeping for 7.4 seconds, 2020-12-10 15:55:43\n",
      "Page [[Zuane Mocenigo]] saved\n",
      "Sleeping for 7.5 seconds, 2020-12-10 15:55:53\n",
      "Page [[Carlo Pisani]] saved\n",
      "Sleeping for 6.0 seconds, 2020-12-10 15:56:05\n",
      "Page [[Pietro Marco Zaguri]] saved\n",
      "Sleeping for 6.5 seconds, 2020-12-10 15:56:14\n",
      "Page [[Giovanni Francesco Camocio]] saved\n",
      "Sleeping for 7.6 seconds, 2020-12-10 15:56:23\n",
      "Page [[Girolamo Avanzi]] saved\n",
      "Sleeping for 7.5 seconds, 2020-12-10 15:56:33\n",
      "Page [[Francesca Roberti Franco]] saved\n",
      "Sleeping for 7.3 seconds, 2020-12-10 15:56:43\n",
      "Page [[Giovanni Giacomo Carlino]] saved\n",
      "Sleeping for 7.4 seconds, 2020-12-10 15:56:53\n",
      "Page [[Domenico Paghini]] saved\n",
      "Sleeping for 6.5 seconds, 2020-12-10 15:57:04\n",
      "Page [[Alvise Contarini the 2nd]] saved\n",
      "Sleeping for 6.1 seconds, 2020-12-10 15:57:14\n",
      "Page [[Daniele Girolamo Dolfin]] saved\n",
      "Sleeping for 6.5 seconds, 2020-12-10 15:57:24\n",
      "Page [[Domenico Guardi]] saved\n",
      "Sleeping for 7.4 seconds, 2020-12-10 15:57:33\n",
      "Page [[Francesco Rizzi]] saved\n",
      "Sleeping for 6.6 seconds, 2020-12-10 15:57:44\n",
      "Page [[Sertorio Orsato]] saved\n",
      "Sleeping for 6.9 seconds, 2020-12-10 15:57:54\n",
      "Page [[Alvise Belegno]] saved\n",
      "Sleeping for 7.8 seconds, 2020-12-10 15:58:03\n",
      "Page [[Alessandro Racchetti]] saved\n",
      "Sleeping for 6.6 seconds, 2020-12-10 15:58:14\n",
      "Page [[Girolamo Pellegrini]] saved\n",
      "Sleeping for 7.6 seconds, 2020-12-10 15:58:23\n",
      "Page [[Daniele Dolfin]] saved\n",
      "Sleeping for 7.1 seconds, 2020-12-10 15:58:33\n",
      "Page [[Domenico Pandolfi]] saved\n",
      "Sleeping for 7.4 seconds, 2020-12-10 15:58:43\n",
      "Page [[Lodovico Pastò]] saved\n",
      "Sleeping for 7.3 seconds, 2020-12-10 15:58:53\n",
      "Page [[Gian Girolamo Grandi]] saved\n",
      "Sleeping for 7.3 seconds, 2020-12-10 15:59:03\n",
      "Page [[Pietro Barozzi]] saved\n",
      "Sleeping for 7.4 seconds, 2020-12-10 15:59:13\n",
      "Page [[Niccolò Buccella]] saved\n",
      "Sleeping for 7.5 seconds, 2020-12-10 15:59:23\n",
      "Page [[David de Pomis]] saved\n",
      "Sleeping for 7.6 seconds, 2020-12-10 15:59:33\n",
      "Page [[Antonio Vinciguerra]] saved\n",
      "Sleeping for 7.5 seconds, 2020-12-10 15:59:43\n",
      "Page [[Vincenzo]] saved\n",
      "Sleeping for 7.3 seconds, 2020-12-10 15:59:53\n",
      "Page [[Spiridon Vlantis]] saved\n",
      "Sleeping for 7.1 seconds, 2020-12-10 16:00:04\n",
      "Page [[Pietro Giovanni da Venezia]] saved\n",
      "Sleeping for 7.7 seconds, 2020-12-10 16:00:13\n",
      "Page [[Antonio Cesari]] saved\n",
      "Sleeping for 7.5 seconds, 2020-12-10 16:00:23\n",
      "Page [[Dionisio Memmo]] saved\n",
      "Sleeping for 7.5 seconds, 2020-12-10 16:00:33\n",
      "Page [[Samuele]] saved\n",
      "Sleeping for 7.4 seconds, 2020-12-10 16:00:43\n",
      "Page [[Pietro Stefanoni]] saved\n",
      "Sleeping for 7.5 seconds, 2020-12-10 16:00:53\n",
      "Page [[Vincenz]] saved\n",
      "Sleeping for 7.3 seconds, 2020-12-10 16:01:03\n",
      "Page [[Giuseppe Torelli]] saved\n",
      "Sleeping for 6.2 seconds, 2020-12-10 16:01:15\n",
      "Page [[Pietro Marturio]] saved\n",
      "Sleeping for 7.7 seconds, 2020-12-10 16:01:23\n",
      "Page [[Angelo Correr]] saved\n",
      "Sleeping for 7.7 seconds, 2020-12-10 16:01:33\n",
      "Page [[Pietro Marco Zaguri]] saved\n",
      "Sleeping for 7.8 seconds, 2020-12-10 16:01:43\n",
      "Page [[Alessandro Bon]] saved\n",
      "Sleeping for 7.5 seconds, 2020-12-10 16:01:53\n",
      "Page [[Ruggiero Fedeli]] saved\n",
      "Sleeping for 7.4 seconds, 2020-12-10 16:02:03\n",
      "Page [[Jacopo Filiasi]] saved\n",
      "Sleeping for 7.5 seconds, 2020-12-10 16:02:13\n",
      "Page [[Marco Faustino Gagliuffi]] saved\n",
      "Sleeping for 7.3 seconds, 2020-12-10 16:02:23\n",
      "Page [[Luigi]] saved\n",
      "Sleeping for 7.5 seconds, 2020-12-10 16:02:33\n",
      "Page [[Marco Antonio Corniani degli Algarotti]] saved\n",
      "Sleeping for 7.3 seconds, 2020-12-10 16:02:43\n",
      "Page [[Emilio Maria Manolesso]] saved\n",
      "Sleeping for 7.5 seconds, 2020-12-10 16:02:53\n",
      "Page [[Giovanni Battista Vidali]] saved\n",
      "Sleeping for 7.4 seconds, 2020-12-10 16:03:03\n",
      "Page [[Carlo de' Dottori]] saved\n",
      "Sleeping for 7.5 seconds, 2020-12-10 16:03:13\n",
      "Page [[Giovanni Antonio Pilacorte]] saved\n",
      "Sleeping for 7.4 seconds, 2020-12-10 16:03:23\n",
      "Page [[Elisabetta of Montefeltro]] saved\n",
      "Sleeping for 7.5 seconds, 2020-12-10 16:03:33\n",
      "Page [[Agostino Maffetti]] saved\n",
      "Sleeping for 6.1 seconds, 2020-12-10 16:03:45\n",
      "Page [[Luigi Anichini]] saved\n",
      "Sleeping for 6.9 seconds, 2020-12-10 16:03:54\n",
      "Page [[Antonio Pizzocaro]] saved\n",
      "Sleeping for 7.4 seconds, 2020-12-10 16:04:03\n",
      "Page [[Pasquale Lazzarini]] saved\n",
      "Sleeping for 7.5 seconds, 2020-12-10 16:04:13\n",
      "Page [[Celio Magno]] saved\n",
      "Sleeping for 7.5 seconds, 2020-12-10 16:04:23\n",
      "Page [[Janetto von Taxis]] saved\n",
      "Sleeping for 7.5 seconds, 2020-12-10 16:04:33\n",
      "Page [[Giovanni Nani]] saved\n",
      "Sleeping for 8.0 seconds, 2020-12-10 16:04:43\n",
      "Page [[Valeriano Luigi Brera]] saved\n",
      "Sleeping for 6.9 seconds, 2020-12-10 16:04:54\n",
      "Page [[Francesco Fasolo]] saved\n",
      "Sleeping for 7.3 seconds, 2020-12-10 16:05:04\n",
      "Page [[Bernardino del Agua]] saved\n",
      "Sleeping for 7.4 seconds, 2020-12-10 16:05:13\n",
      "Page [[Giuseppe Rosaccio]] saved\n",
      "Sleeping for 7.6 seconds, 2020-12-10 16:05:23\n",
      "Page [[Giuseppe Sala]] saved\n",
      "Sleeping for 7.6 seconds, 2020-12-10 16:05:33\n",
      "Page [[Antonio Pizzamano]] saved\n",
      "Sleeping for 7.6 seconds, 2020-12-10 16:05:43\n",
      "Page [[Giovita Ravizza]] saved\n",
      "Sleeping for 7.5 seconds, 2020-12-10 16:05:53\n",
      "Page [[Carlo Luigi Pietragrua]] saved\n",
      "Sleeping for 7.4 seconds, 2020-12-10 16:06:03\n",
      "Page [[Girolamo Giustinian]] saved\n",
      "Sleeping for 7.6 seconds, 2020-12-10 16:06:13\n",
      "Page [[Francesco]] saved\n",
      "Sleeping for 7.7 seconds, 2020-12-10 16:06:23\n",
      "Page [[Giovanni Falier]] saved\n",
      "Sleeping for 7.6 seconds, 2020-12-10 16:06:33\n",
      "Page [[Altobello Salicato]] saved\n",
      "Sleeping for 7.7 seconds, 2020-12-10 16:06:43\n",
      "Page [[Giovanni Prosdocimo Zabeo]] saved\n",
      "Sleeping for 7.4 seconds, 2020-12-10 16:06:54\n",
      "Page [[Girolamo degli Azzoni Avogaro]] saved\n",
      "Sleeping for 7.4 seconds, 2020-12-10 16:07:03\n",
      "Page [[Giovanni Reali]] saved\n",
      "Sleeping for 7.8 seconds, 2020-12-10 16:07:13\n",
      "Page [[Vincenzo Querini]] saved\n",
      "Sleeping for 7.5 seconds, 2020-12-10 16:07:23\n",
      "Page [[Maffeo Contarini]] saved\n",
      "Sleeping for 7.3 seconds, 2020-12-10 16:07:34\n",
      "Page [[Giampaolo Manfrone]] saved\n",
      "Sleeping for 7.3 seconds, 2020-12-10 16:07:44\n",
      "Page [[Artuico di Castello]] saved\n",
      "Sleeping for 7.5 seconds, 2020-12-10 16:07:53\n",
      "Page [[Francesco Cavrioli]] saved\n",
      "Sleeping for 7.7 seconds, 2020-12-10 16:08:03\n",
      "Page [[Luigi Arduino]] saved\n",
      "Sleeping for 7.3 seconds, 2020-12-10 16:08:14\n",
      "Page [[Veronica Baron]] saved\n",
      "Sleeping for 7.6 seconds, 2020-12-10 16:08:23\n",
      "Page [[Zaccaria Bricito]] saved\n",
      "Sleeping for 6.5 seconds, 2020-12-10 16:08:35\n",
      "Page [[Francesco Silvani]] saved\n",
      "Sleeping for 7.3 seconds, 2020-12-10 16:08:44\n",
      "Page [[Pietro Morando]] saved\n",
      "Sleeping for 6.4 seconds, 2020-12-10 16:08:55\n",
      "Page [[Camillo Mantovano]] saved\n",
      "Sleeping for 7.7 seconds, 2020-12-10 16:09:03\n",
      "Page [[Giovanni Girolamo Gradenigo]] saved\n",
      "Sleeping for 6.6 seconds, 2020-12-10 16:09:14\n",
      "Page [[Ambrosio Bembo]] saved\n",
      "Sleeping for 7.6 seconds, 2020-12-10 16:09:23\n",
      "Page [[Federico Maria Giovanelli]] saved\n",
      "Sleeping for 6.2 seconds, 2020-12-10 16:09:35\n",
      "Page [[Luciano Doria]] saved\n",
      "Sleeping for 7.5 seconds, 2020-12-10 16:09:44\n",
      "Page [[Anton Maria Borga]] saved\n",
      "Sleeping for 7.8 seconds, 2020-12-10 16:09:53\n",
      "Page [[Ludovico Odasio]] saved\n",
      "Sleeping for 7.1 seconds, 2020-12-10 16:10:04\n",
      "Page [[Giovanni Battista Giuseppe Albrizzi]] saved\n",
      "Sleeping for 7.3 seconds, 2020-12-10 16:10:14\n",
      "Page [[Amedeo Svajer]] saved\n",
      "Sleeping for 6.1 seconds, 2020-12-10 16:10:25\n",
      "Page [[Marina Cappello]] saved\n",
      "Sleeping for 7.6 seconds, 2020-12-10 16:10:33\n",
      "Page [[Giordano Pasetto]] saved\n",
      "Sleeping for 7.5 seconds, 2020-12-10 16:10:44\n",
      "Page [[Giuseppe Boerio]] saved\n",
      "Sleeping for 7.8 seconds, 2020-12-10 16:10:53\n",
      "Page [[Lodovico Fogliano]] saved\n",
      "Sleeping for 7.3 seconds, 2020-12-10 16:11:04\n",
      "Page [[Niccolò Gussoni]] saved\n",
      "Sleeping for 6.1 seconds, 2020-12-10 16:11:15\n",
      "Page [[Girolamo Albanese]] saved\n",
      "Sleeping for 6.0 seconds, 2020-12-10 16:11:25\n",
      "Page [[Dionisio Moretti]] saved\n",
      "Sleeping for 7.5 seconds, 2020-12-10 16:11:34\n",
      "Page [[Anselmo Marsand]] saved\n",
      "Sleeping for 7.3 seconds, 2020-12-10 16:11:44\n",
      "Page [[Placido Bordoni]] saved\n",
      "Sleeping for 7.6 seconds, 2020-12-10 16:11:53\n",
      "Page [[Giovanni Minotto Ottobini]] saved\n",
      "Sleeping for 7.4 seconds, 2020-12-10 16:12:04\n",
      "Page [[Caterino Corner]] saved\n",
      "Sleeping for 7.4 seconds, 2020-12-10 16:12:14\n",
      "Page [[Giovanni Boldù]] saved\n",
      "Sleeping for 6.2 seconds, 2020-12-10 16:12:25\n",
      "Page [[Maffio Venier]] saved\n",
      "Sleeping for 7.7 seconds, 2020-12-10 16:12:33\n",
      "Page [[Francesco Scipione Dondi Dell'Orologio]] saved\n",
      "Sleeping for 6.3 seconds, 2020-12-10 16:12:45\n",
      "Page [[Marchesina Ghisi]] saved\n",
      "Sleeping for 7.5 seconds, 2020-12-10 16:12:54\n",
      "Page [[Antonio Longo]] saved\n",
      "Sleeping for 7.4 seconds, 2020-12-10 16:13:04\n",
      "Page [[Alda Manuzio]] saved\n",
      "Sleeping for 7.5 seconds, 2020-12-10 16:13:14\n",
      "Page [[Fantino Michiel]] saved\n",
      "Sleeping for 7.2 seconds, 2020-12-10 16:13:24\n",
      "Page [[Alvise Lippomano]] saved\n",
      "Sleeping for 7.5 seconds, 2020-12-10 16:13:34\n",
      "Page [[Capino Capini]] saved\n",
      "Sleeping for 7.8 seconds, 2020-12-10 16:13:43\n",
      "Page [[Francesco Bandiera]] saved\n",
      "Sleeping for 7.4 seconds, 2020-12-10 16:13:54\n",
      "Page [[Dionisio Brevio]] saved\n",
      "Sleeping for 7.5 seconds, 2020-12-10 16:14:04\n",
      "Page [[Bernardino Da Verona]] saved\n",
      "Sleeping for 7.4 seconds, 2020-12-10 16:14:14\n",
      "Page [[Nicolò Sagri]] saved\n",
      "Sleeping for 7.7 seconds, 2020-12-10 16:14:23\n",
      "Page [[Giovanni Battista Seni]] saved\n",
      "Sleeping for 7.1 seconds, 2020-12-10 16:14:34\n",
      "Page [[Alvise Mocenigo]] saved\n",
      "Sleeping for 7.4 seconds, 2020-12-10 16:14:44\n",
      "Page [[Francesco Barbarano de' Mironi]] saved\n",
      "Sleeping for 7.5 seconds, 2020-12-10 16:14:54\n",
      "Page [[Laura Morosini]] saved\n",
      "Sleeping for 7.3 seconds, 2020-12-10 16:15:04\n",
      "Page [[Vespasiano Anfiareo]] saved\n",
      "Sleeping for 7.5 seconds, 2020-12-10 16:15:14\n",
      "Page [[Antonio Grumello]] saved\n",
      "Sleeping for 7.8 seconds, 2020-12-10 16:15:23\n",
      "Page [[Antonio]] saved\n",
      "Sleeping for 7.6 seconds, 2020-12-10 16:15:34\n",
      "Page [[Andrea Amadio]] saved\n",
      "Sleeping for 7.6 seconds, 2020-12-10 16:15:44\n",
      "Page [[Angelo Scarabello]] saved\n",
      "Sleeping for 6.3 seconds, 2020-12-10 16:15:55\n",
      "Page [[Girolamo Alessandro Cappellari Vivaro]] saved\n",
      "Sleeping for 7.8 seconds, 2020-12-10 16:16:03\n",
      "Page [[Pancrazio Giustinian]] saved\n",
      "Sleeping for 7.4 seconds, 2020-12-10 16:16:14\n",
      "Page [[Carlo Assonica]] saved\n",
      "Sleeping for 7.5 seconds, 2020-12-10 16:16:24\n",
      "Page [[Lucietta Affabili]] saved\n",
      "Sleeping for 7.1 seconds, 2020-12-10 16:16:34\n",
      "Page [[Jacopo Foscarini]] saved\n",
      "Sleeping for 7.6 seconds, 2020-12-10 16:16:44\n",
      "Page [[Ante Jurić]] saved\n",
      "Sleeping for 7.7 seconds, 2020-12-10 16:16:54\n",
      "Page [[Andrea Bon]] saved\n",
      "Sleeping for 7.1 seconds, 2020-12-10 16:17:04\n",
      "Page [[Giuseppe Perovani]] saved\n",
      "Sleeping for 6.7 seconds, 2020-12-10 16:17:15\n",
      "Page [[Arnaldo Speroni degli Alvarotti]] saved\n",
      "Sleeping for 7.4 seconds, 2020-12-10 16:17:24\n",
      "Page [[Benedict of Dalmatia]] saved\n",
      "Sleeping for 6.4 seconds, 2020-12-10 16:17:35\n",
      "Page [[Brandolino Conte Brandolini]] saved\n",
      "Sleeping for 7.5 seconds, 2020-12-10 16:17:44\n",
      "Page [[Gustavo Modena]] saved\n",
      "Sleeping for 6.4 seconds, 2020-12-10 16:17:55\n",
      "Page [[Giovanni Zebellana]] saved\n",
      "Sleeping for 6.2 seconds, 2020-12-10 16:18:05\n",
      "Page [[Melchiorre Trevisan]] saved\n",
      "Sleeping for 7.3 seconds, 2020-12-10 16:18:14\n",
      "Page [[Francesco Napoletano]] saved\n",
      "Sleeping for 7.7 seconds, 2020-12-10 16:18:24\n",
      "Page [[Antonio Baietto]] saved\n",
      "Sleeping for 7.4 seconds, 2020-12-10 16:18:34\n",
      "Page [[Filippo Paruta]] saved\n",
      "Sleeping for 7.6 seconds, 2020-12-10 16:18:44\n",
      "Page [[Giovanni Andrea Avogadro]] saved\n",
      "Sleeping for 7.8 seconds, 2020-12-10 16:18:54\n",
      "Page [[Michele Lorenzo Mancini]] saved\n",
      "Sleeping for 7.3 seconds, 2020-12-10 16:19:04\n",
      "Page [[Carlo Brisighella Eismann]] saved\n",
      "Sleeping for 7.6 seconds, 2020-12-10 16:19:14\n",
      "Page [[Paolo de Bernardo]] saved\n",
      "Sleeping for 7.4 seconds, 2020-12-10 16:19:24\n",
      "Page [[Francesco Calbo Crotta]] saved\n",
      "Sleeping for 7.4 seconds, 2020-12-10 16:19:34\n",
      "Page [[Sperandio di Bartolommeo de' Savelli]] saved\n",
      "Sleeping for 7.7 seconds, 2020-12-10 16:19:44\n",
      "Page [[Angelo Gualandris]] saved\n",
      "Sleeping for 7.6 seconds, 2020-12-10 16:19:54\n",
      "Page [[Agostino]] saved\n",
      "Sleeping for 7.5 seconds, 2020-12-10 16:20:04\n",
      "Page [[Zaccaria Betti]] saved\n",
      "Sleeping for 7.6 seconds, 2020-12-10 16:20:14\n",
      "Page [[Niccolò Loschi]] saved\n",
      "Sleeping for 7.4 seconds, 2020-12-10 16:20:24\n",
      "Page [[Vittoria Madurelli Berti]] saved\n",
      "Sleeping for 7.6 seconds, 2020-12-10 16:20:34\n",
      "Page [[Giacomo Piccini]] saved\n",
      "Sleeping for 7.7 seconds, 2020-12-10 16:20:44\n",
      "Page [[Rossi]] saved\n",
      "Sleeping for 7.6 seconds, 2020-12-10 16:20:54\n",
      "Page [[Tommaso Giuseppe Farsetti]] saved\n",
      "Sleeping for 7.4 seconds, 2020-12-10 16:21:04\n",
      "Page [[Francesco Duodo]] saved\n",
      "Sleeping for 6.1 seconds, 2020-12-10 16:21:15\n",
      "Page [[Angelo Ingegneri]] saved\n",
      "Sleeping for 7.5 seconds, 2020-12-10 16:21:24\n",
      "Page [[Tommaso Maria Minorelli]] saved\n",
      "Sleeping for 7.7 seconds, 2020-12-10 16:21:34\n",
      "Page [[Angelo Gualandris]] saved\n",
      "Sleeping for 7.1 seconds, 2020-12-10 16:21:44\n",
      "Page [[Francesco Segala]] saved\n",
      "Sleeping for 6.7 seconds, 2020-12-10 16:21:55\n",
      "Page [[Giuseppe Beccarelli]] saved\n",
      "Sleeping for 6.3 seconds, 2020-12-10 16:22:05\n",
      "Page [[Giovanni Battista dal Legname]] saved\n",
      "Sleeping for 7.4 seconds, 2020-12-10 16:22:14\n",
      "Page [[Pietro Martire Rusca]] saved\n",
      "Sleeping for 7.4 seconds, 2020-12-10 16:22:24\n",
      "Page [[Pietro Morosini]] saved\n",
      "Sleeping for 7.8 seconds, 2020-12-10 16:22:34\n",
      "Page [[Giovanni]] saved\n",
      "Sleeping for 7.8 seconds, 2020-12-10 16:22:44\n",
      "Page [[Daniele Dolfin]] saved\n",
      "Sleeping for 6.4 seconds, 2020-12-10 16:22:55\n",
      "Page [[Girolamo Schiavon]] saved\n",
      "Sleeping for 7.4 seconds, 2020-12-10 16:23:04\n",
      "Page [[Niccolò Pezzana]] saved\n",
      "Sleeping for 7.5 seconds, 2020-12-10 16:23:14\n",
      "Page [[Lucrezia Dondi dall'Orologio Obizzi]] saved\n",
      "Sleeping for 7.9 seconds, 2020-12-10 16:23:24\n",
      "Page [[Zaccaria Bricito]] saved\n",
      "Sleeping for 7.5 seconds, 2020-12-10 16:23:34\n",
      "Page [[Giovanni Battista I Groppelli]] saved\n",
      "Sleeping for 7.8 seconds, 2020-12-10 16:23:44\n",
      "Page [[Aleardus de Pindemontibus]] saved\n",
      "Sleeping for 7.3 seconds, 2020-12-10 16:23:54\n",
      "Page [[Giacomo Cavalli]] saved\n",
      "Sleeping for 7.5 seconds, 2020-12-10 16:24:04\n",
      "Page [[Marco Gradenigo]] saved\n",
      "Sleeping for 7.5 seconds, 2020-12-10 16:24:14\n",
      "Page [[Giovanni Verardo Zeviani]] saved\n",
      "Sleeping for 7.6 seconds, 2020-12-10 16:24:24\n",
      "Page [[Giuliano Zuliani]] saved\n",
      "Sleeping for 7.6 seconds, 2020-12-10 16:24:34\n",
      "Page [[Paolo Morellati]] saved\n",
      "Sleeping for 7.5 seconds, 2020-12-10 16:24:44\n",
      "Page [[Alessandro Caravia]] saved\n",
      "Sleeping for 7.6 seconds, 2020-12-10 16:24:54\n",
      "Page [[Battaglia]] saved\n",
      "Sleeping for 7.6 seconds, 2020-12-10 16:25:04\n",
      "Page [[Marco Mantova Benavides]] saved\n",
      "Sleeping for 6.4 seconds, 2020-12-10 16:25:15\n",
      "Page [[Agapios Landos]] saved\n",
      "Sleeping for 7.9 seconds, 2020-12-10 16:25:24\n",
      "Page [[Francesco]] saved\n",
      "Sleeping for 7.5 seconds, 2020-12-10 16:25:34\n",
      "Page [[Pietro Giustiniani]] saved\n",
      "Sleeping for 6.3 seconds, 2020-12-10 16:25:45\n",
      "Page [[Franz Alberti]] saved\n",
      "Sleeping for 7.6 seconds, 2020-12-10 16:25:54\n",
      "Page [[Pier Maria I de' Rossi]] saved\n",
      "Sleeping for 6.4 seconds, 2020-12-10 16:26:05\n",
      "Page [[Antonio Bon]] saved\n",
      "Sleeping for 7.6 seconds, 2020-12-10 16:26:14\n",
      "Page [[Giovanni Battista Bastiani]] saved\n",
      "Sleeping for 7.4 seconds, 2020-12-10 16:26:24\n",
      "Page [[Egnazio]] saved\n",
      "Sleeping for 7.7 seconds, 2020-12-10 16:26:34\n",
      "Page [[Bonifacio Antelmi]] saved\n",
      "Sleeping for 7.5 seconds, 2020-12-10 16:26:44\n",
      "Page [[Cleofe Borromeo Gabrielli]] saved\n",
      "Sleeping for 7.5 seconds, 2020-12-10 16:26:54\n",
      "Page [[Catarino Veneziano]] saved\n",
      "Sleeping for 7.6 seconds, 2020-12-10 16:27:04\n",
      "Page [[Ignazio Spergher]] saved\n",
      "Sleeping for 7.9 seconds, 2020-12-10 16:27:14\n",
      "Page [[Marco Mantova Benavides]] saved\n",
      "Sleeping for 7.8 seconds, 2020-12-10 16:27:24\n",
      "Page [[Girolamo Grimani]] saved\n",
      "Sleeping for 7.5 seconds, 2020-12-10 16:27:34\n",
      "Page [[Dionisio Bellante]] saved\n",
      "Sleeping for 7.4 seconds, 2020-12-10 16:27:44\n",
      "Page [[Francesco del Fiore]] saved\n",
      "Sleeping for 7.7 seconds, 2020-12-10 16:27:54\n",
      "Page [[Antonio]] saved\n",
      "Sleeping for 7.4 seconds, 2020-12-10 16:28:04\n",
      "Page [[Luigi Zorzi]] saved\n",
      "Sleeping for 7.8 seconds, 2020-12-10 16:28:14\n",
      "Page [[Bartolomeo Coghetto]] saved\n",
      "Sleeping for 7.5 seconds, 2020-12-10 16:28:24\n",
      "Page [[Bressanino Catone]] saved\n",
      "Sleeping for 7.0 seconds, 2020-12-10 16:28:35\n",
      "Page [[Girolamo Martinengo]] saved\n",
      "Sleeping for 7.4 seconds, 2020-12-10 16:28:44\n",
      "Page [[Nicolosa Bursa]] saved\n",
      "Sleeping for 7.5 seconds, 2020-12-10 16:28:54\n",
      "Page [[Andrea Brigenti]] saved\n",
      "Sleeping for 7.2 seconds, 2020-12-10 16:29:05\n",
      "Page [[Fantino Dandolo]] saved\n",
      "Sleeping for 7.6 seconds, 2020-12-10 16:29:14\n",
      "Page [[Alvise Cicogna]] saved\n",
      "Sleeping for 7.5 seconds, 2020-12-10 16:29:24\n",
      "Page [[Silvio Belli]] saved\n",
      "Sleeping for 7.5 seconds, 2020-12-10 16:29:34\n",
      "Page [[Francesco Alighieri]] saved\n",
      "Sleeping for 7.8 seconds, 2020-12-10 16:29:44\n",
      "Page [[Zaccaria Bricito]] saved\n",
      "Sleeping for 7.4 seconds, 2020-12-10 16:29:54\n",
      "Page [[Zaccaria Sagredo]] saved\n",
      "Sleeping for 7.4 seconds, 2020-12-10 16:30:04\n",
      "Page [[Pietro Basadonna]] saved\n",
      "Sleeping for 5.3 seconds, 2020-12-10 16:30:16\n",
      "Page [[Federico da Prata]] saved\n",
      "Sleeping for 7.6 seconds, 2020-12-10 16:30:24\n",
      "Page [[Gian]] saved\n",
      "Sleeping for 7.5 seconds, 2020-12-10 16:30:34\n",
      "Page [[Giovanni Battista Grazioli]] saved\n",
      "Sleeping for 7.4 seconds, 2020-12-10 16:30:44\n",
      "Page [[Pietro Cignaroli]] saved\n",
      "Sleeping for 7.6 seconds, 2020-12-10 16:30:54\n",
      "Page [[Alvise Foscari]] saved\n",
      "Sleeping for 7.3 seconds, 2020-12-10 16:31:04\n",
      "Page [[Daniele Renier]] saved\n",
      "Sleeping for 7.8 seconds, 2020-12-10 16:31:14\n",
      "Page [[Pietro Lucchesi]] saved\n",
      "Sleeping for 7.4 seconds, 2020-12-10 16:31:24\n",
      "Page [[Giovanni Candido]] saved\n",
      "Sleeping for 7.4 seconds, 2020-12-10 16:31:34\n",
      "Page [[Franceschina Baffo]] saved\n",
      "Sleeping for 7.5 seconds, 2020-12-10 16:31:44\n",
      "Page [[Giovanni degli Agostini]] saved\n",
      "Sleeping for 7.6 seconds, 2020-12-10 16:31:54\n",
      "Page [[Horacio Mažibradić]] saved\n",
      "Sleeping for 7.5 seconds, 2020-12-10 16:32:04\n",
      "Page [[Antonio Borosini]] saved\n",
      "Sleeping for 7.4 seconds, 2020-12-10 16:32:14\n",
      "Page [[Giovanni da Mula]] saved\n",
      "Sleeping for 7.4 seconds, 2020-12-10 16:32:24\n",
      "Page [[Giovanni Comino]] saved\n",
      "Sleeping for 7.3 seconds, 2020-12-10 16:32:34\n",
      "Page [[Antonio Bazzarini]] saved\n",
      "Sleeping for 7.4 seconds, 2020-12-10 16:32:44\n",
      "Page [[Gaetano Volpi]] saved\n",
      "Sleeping for 7.4 seconds, 2020-12-10 16:32:54\n",
      "Page [[Giovanni Contarini]] saved\n",
      "Sleeping for 7.4 seconds, 2020-12-10 16:33:04\n",
      "Page [[Jacopo Dandolo]] saved\n",
      "Sleeping for 7.6 seconds, 2020-12-10 16:33:14\n",
      "Page [[Isabella Roncioni]] saved\n",
      "Sleeping for 7.6 seconds, 2020-12-10 16:33:24\n",
      "Page [[Giulio Pasquati]] saved\n",
      "Sleeping for 7.5 seconds, 2020-12-10 16:33:34\n",
      "Page [[Lodovico da Canossa]] saved\n",
      "Sleeping for 7.7 seconds, 2020-12-10 16:33:44\n",
      "Page [[Salinguerra II Torelli]] saved\n",
      "Sleeping for 7.4 seconds, 2020-12-10 16:33:55\n",
      "Page [[Giuseppe Capparozzo]] saved\n",
      "Sleeping for 6.4 seconds, 2020-12-10 16:34:05\n",
      "Page [[Anna Fiorilli Pellandi]] saved\n",
      "Sleeping for 6.6 seconds, 2020-12-10 16:34:15\n",
      "Page [[Pietro Michiele]] saved\n",
      "Sleeping for 7.5 seconds, 2020-12-10 16:34:24\n",
      "Page [[Polydoro Foscari]] saved\n",
      "Sleeping for 7.6 seconds, 2020-12-10 16:34:34\n",
      "Page [[Ercole Bentivoglio]] saved\n",
      "Sleeping for 7.8 seconds, 2020-12-10 16:34:44\n",
      "Page [[Camillo Gonzaga]] saved\n",
      "Sleeping for 7.5 seconds, 2020-12-10 16:34:54\n",
      "Page [[Guido Casoni]] saved\n",
      "Sleeping for 6.4 seconds, 2020-12-10 16:35:05\n",
      "Page [[Bernardo Facini]] saved\n",
      "Sleeping for 7.8 seconds, 2020-12-10 16:35:14\n",
      "Page [[Alvise Priuli]] saved\n",
      "Sleeping for 6.1 seconds, 2020-12-10 16:35:26\n",
      "Page [[Chiappino Orsini]] saved\n",
      "Sleeping for 7.5 seconds, 2020-12-10 16:35:34\n",
      "Page [[Giambattista Bortoli]] saved\n",
      "Sleeping for 7.5 seconds, 2020-12-10 16:35:44\n",
      "Page [[Pietro Checchia]] saved\n",
      "Sleeping for 7.5 seconds, 2020-12-10 16:35:54\n",
      "Page [[Marco Lando]] saved\n",
      "Sleeping for 7.5 seconds, 2020-12-10 16:36:04\n",
      "Page [[Giulio Savorgnan]] saved\n",
      "Sleeping for 7.5 seconds, 2020-12-10 16:36:14\n",
      "Page [[Antonio Fanna]] saved\n",
      "Sleeping for 5.8 seconds, 2020-12-10 16:36:26\n",
      "Page [[Niccolò Chiericati]] saved\n",
      "Sleeping for 7.5 seconds, 2020-12-10 16:36:34\n",
      "Page [[Alberto Alberti]] saved\n",
      "Sleeping for 7.4 seconds, 2020-12-10 16:36:45\n",
      "Page [[Vincenzo Bianchini]] saved\n",
      "Sleeping for 7.8 seconds, 2020-12-10 16:36:54\n",
      "Page [[Angelo Gualandris]] saved\n",
      "Sleeping for 7.3 seconds, 2020-12-10 16:37:05\n",
      "Page [[Daniele Farsetti]] saved\n",
      "Sleeping for 7.5 seconds, 2020-12-10 16:37:15\n",
      "Page [[Sigismondo Brandolini]] saved\n",
      "Sleeping for 7.6 seconds, 2020-12-10 16:37:24\n",
      "Page [[Giovanni Nicolò Doglioni]] saved\n",
      "Sleeping for 6.5 seconds, 2020-12-10 16:37:36\n",
      "Page [[Louis II Gonzaga]] saved\n",
      "Sleeping for 6.6 seconds, 2020-12-10 16:37:45\n",
      "Page [[Giuseppe Calegari]] saved\n",
      "Sleeping for 7.5 seconds, 2020-12-10 16:37:54\n",
      "Page [[Bertrando]] saved\n",
      "Sleeping for 6.6 seconds, 2020-12-10 16:38:05\n",
      "Page [[Giovanni]] saved\n",
      "Sleeping for 7.8 seconds, 2020-12-10 16:38:14\n",
      "Page [[Jacopo Maria Paitoni]] saved\n",
      "Sleeping for 7.5 seconds, 2020-12-10 16:38:25\n",
      "Page [[Angelo Maria Labia]] saved\n",
      "Sleeping for 7.6 seconds, 2020-12-10 16:38:35\n",
      "Page [[Francesco Pezzi]] saved\n",
      "Sleeping for 7.5 seconds, 2020-12-10 16:38:45\n",
      "Page [[Gervino]] saved\n",
      "Sleeping for 7.7 seconds, 2020-12-10 16:38:54\n",
      "Page [[Paolo Calvi]] saved\n",
      "Sleeping for 7.5 seconds, 2020-12-10 16:39:05\n",
      "Page [[Giorgio Summaripa]] saved\n",
      "Sleeping for 6.6 seconds, 2020-12-10 16:39:16\n",
      "Page [[Giovanni Maria Benzon]] saved\n",
      "Sleeping for 7.6 seconds, 2020-12-10 16:39:25\n",
      "Page [[Giovanni Tiepolo]] saved\n",
      "Sleeping for 7.6 seconds, 2020-12-10 16:39:35\n",
      "Page [[Francesco Terilli]] saved\n",
      "Sleeping for 7.4 seconds, 2020-12-10 16:39:45\n",
      "Page [[Bartolomeo Cappello]] saved\n",
      "Sleeping for 7.9 seconds, 2020-12-10 16:39:54\n",
      "Page [[Giovanni Batista Farinelli]] saved\n",
      "Sleeping for 7.5 seconds, 2020-12-10 16:40:05\n",
      "Page [[Giovanni Battista Ponchino]] saved\n",
      "Sleeping for 5.7 seconds, 2020-12-10 16:40:16\n",
      "Page [[Michele Lazzari]] saved\n",
      "Sleeping for 7.4 seconds, 2020-12-10 16:40:25\n",
      "Page [[Romolo Quirino Amaseo]] saved\n",
      "Sleeping for 7.6 seconds, 2020-12-10 16:40:35\n",
      "Page [[Giuseppe Maria Contesini]] saved\n",
      "Sleeping for 7.7 seconds, 2020-12-10 16:40:44\n",
      "Page [[Ludovico]] saved\n",
      "Sleeping for 7.6 seconds, 2020-12-10 16:40:55\n",
      "Page [[Fortunato]] saved\n",
      "Sleeping for 7.4 seconds, 2020-12-10 16:41:05\n",
      "Page [[Andreas Majer]] saved\n",
      "Sleeping for 7.7 seconds, 2020-12-10 16:41:14\n",
      "Page [[Domenico Maria Federici]] saved\n",
      "ERROR: Logged in as '172.18.0.2' instead of 'WikiBioBot'. Forcing re-login.\n",
      "WARNING: No user is logged in on site WikiBio:WikiBio\n",
      "Logging in to WikiBio:WikiBio as WikiBioBot@BiographyGenerator\n",
      "Sleeping for 4.6 seconds, 2020-12-10 16:41:28\n",
      "WARNING: API error badtoken: Invalid CSRF token.\n",
      "Sleeping for 9.4 seconds, 2020-12-10 16:41:33\n",
      "Page [[Benedetto Cappello]] saved\n",
      "Sleeping for 7.4 seconds, 2020-12-10 16:41:45\n",
      "Page [[Of Speier Johann]] saved\n",
      "Sleeping for 7.5 seconds, 2020-12-10 16:41:55\n",
      "Page [[Agostino da Latisana]] saved\n",
      "Sleeping for 7.5 seconds, 2020-12-10 16:42:05\n",
      "Page [[Giuseppe Tomasini]] saved\n",
      "Sleeping for 7.5 seconds, 2020-12-10 16:42:15\n",
      "Page [[Giovanni Marcanova]] saved\n",
      "Sleeping for 7.5 seconds, 2020-12-10 16:42:25\n",
      "Page [[Francesco Grassi]] saved\n",
      "Sleeping for 7.8 seconds, 2020-12-10 16:42:34\n",
      "Page [[Francesco]] saved\n",
      "Sleeping for 7.5 seconds, 2020-12-10 16:42:45\n",
      "Page [[Branka Bebić Krstulović]] saved\n",
      "Sleeping for 7.4 seconds, 2020-12-10 16:42:55\n",
      "Page [[Zaccaria Bricito]] saved\n",
      "Sleeping for 6.6 seconds, 2020-12-10 16:43:06\n",
      "Page [[Sigismondo II Malatesta]] saved\n",
      "Sleeping for 7.4 seconds, 2020-12-10 16:43:15\n",
      "Page [[Alessandro Zanchi]] saved\n",
      "Sleeping for 7.1 seconds, 2020-12-10 16:43:25\n",
      "Page [[Giuseppe Boldù]] saved\n",
      "Sleeping for 7.5 seconds, 2020-12-10 16:43:35\n",
      "Page [[Fabio Licino]] saved\n",
      "Sleeping for 7.4 seconds, 2020-12-10 16:43:45\n",
      "Page [[Marinos Charvouris]] saved\n",
      "Sleeping for 7.5 seconds, 2020-12-10 16:43:55\n",
      "Page [[Leonardo Manin]] saved\n",
      "Sleeping for 6.6 seconds, 2020-12-10 16:44:06\n",
      "Page [[Marco Sebastiano Giampiccoli]] saved\n",
      "Sleeping for 7.4 seconds, 2020-12-10 16:44:15\n",
      "Page [[Andrea Urbani]] saved\n",
      "Sleeping for 7.8 seconds, 2020-12-10 16:44:24\n",
      "Page [[Marco Gradenigo]] saved\n",
      "Sleeping for 7.5 seconds, 2020-12-10 16:44:35\n",
      "Page [[Andrea Bianco]] saved\n",
      "Sleeping for 7.9 seconds, 2020-12-10 16:44:44\n",
      "Page [[Francesco Foscari]] saved\n",
      "Sleeping for 7.5 seconds, 2020-12-10 16:44:55\n",
      "Page [[Bartolomeo Orioli]] saved\n",
      "Sleeping for 7.8 seconds, 2020-12-10 16:45:05\n",
      "Page [[Paolo Calvi]] saved\n",
      "Sleeping for 7.5 seconds, 2020-12-10 16:45:15\n",
      "Page [[Matteo Polo]] saved\n",
      "Sleeping for 7.9 seconds, 2020-12-10 16:45:24\n",
      "Page [[Pietro Buratti]] saved\n",
      "Sleeping for 8.0 seconds, 2020-12-10 16:45:34\n"
     ]
    },
    {
     "name": "stdout",
     "output_type": "stream",
     "text": [
      "\n"
     ]
    },
    {
     "name": "stderr",
     "output_type": "stream",
     "text": [
      "Page [[Lodovico Fogliano]] saved\n"
     ]
    },
    {
     "data": {
      "text/plain": [
       "0       None\n",
       "1       None\n",
       "2       None\n",
       "3       None\n",
       "4       None\n",
       "        ... \n",
       "1562    None\n",
       "1563    None\n",
       "1564    None\n",
       "1565    None\n",
       "1566    None\n",
       "Length: 1567, dtype: object"
      ]
     },
     "execution_count": 42,
     "metadata": {
      "tags": []
     },
     "output_type": "execute_result"
    }
   ],
   "source": [
    "def source_patch(row):\n",
    "  infobox = data2infobox(row)\n",
    "\n",
    "  page = pywikibot.Page(site, row.itemLabel)\n",
    "\n",
    "  bio = page.text\n",
    "  bio = bio.split(\"}}\\n\")[-1]\n",
    "\n",
    "  page.text = infobox + bio\n",
    "  page.save(\"Biography patched with wikidata\")\n",
    "\n",
    "df_generate.progress_apply(source_patch, axis=1)"
   ]
  }
 ],
 "metadata": {
  "accelerator": "GPU",
  "colab": {
   "collapsed_sections": [],
   "name": "WikiBioBot.ipynb",
   "provenance": [],
   "toc_visible": true
  },
  "kernelspec": {
   "display_name": "Python 3",
   "language": "python",
   "name": "python3"
  },
  "language_info": {
   "codemirror_mode": {
    "name": "ipython",
    "version": 3
   },
   "file_extension": ".py",
   "mimetype": "text/x-python",
   "name": "python",
   "nbconvert_exporter": "python",
   "pygments_lexer": "ipython3",
   "version": "3.7.6"
  },
  "widgets": {
   "application/vnd.jupyter.widget-state+json": {
    "0888a9a7a4da4a95954c5a74555bb79c": {
     "model_module": "@jupyter-widgets/controls",
     "model_name": "HBoxModel",
     "state": {
      "_dom_classes": [],
      "_model_module": "@jupyter-widgets/controls",
      "_model_module_version": "1.5.0",
      "_model_name": "HBoxModel",
      "_view_count": null,
      "_view_module": "@jupyter-widgets/controls",
      "_view_module_version": "1.5.0",
      "_view_name": "HBoxView",
      "box_style": "",
      "children": [
       "IPY_MODEL_ef95002690b945c2a1bd235ab3e9e27c",
       "IPY_MODEL_4aaa487d570944a1af6c1581ed0349e1"
      ],
      "layout": "IPY_MODEL_87401fc5944f47db86dd70038b2d82fc"
     }
    },
    "18867e2c9fba4808bd37528c2b6475ac": {
     "model_module": "@jupyter-widgets/base",
     "model_name": "LayoutModel",
     "state": {
      "_model_module": "@jupyter-widgets/base",
      "_model_module_version": "1.2.0",
      "_model_name": "LayoutModel",
      "_view_count": null,
      "_view_module": "@jupyter-widgets/base",
      "_view_module_version": "1.2.0",
      "_view_name": "LayoutView",
      "align_content": null,
      "align_items": null,
      "align_self": null,
      "border": null,
      "bottom": null,
      "display": null,
      "flex": null,
      "flex_flow": null,
      "grid_area": null,
      "grid_auto_columns": null,
      "grid_auto_flow": null,
      "grid_auto_rows": null,
      "grid_column": null,
      "grid_gap": null,
      "grid_row": null,
      "grid_template_areas": null,
      "grid_template_columns": null,
      "grid_template_rows": null,
      "height": null,
      "justify_content": null,
      "justify_items": null,
      "left": null,
      "margin": null,
      "max_height": null,
      "max_width": null,
      "min_height": null,
      "min_width": null,
      "object_fit": null,
      "object_position": null,
      "order": null,
      "overflow": null,
      "overflow_x": null,
      "overflow_y": null,
      "padding": null,
      "right": null,
      "top": null,
      "visibility": null,
      "width": null
     }
    },
    "19e251a0d9d44d97b7f444eeb473e5d6": {
     "model_module": "@jupyter-widgets/controls",
     "model_name": "DescriptionStyleModel",
     "state": {
      "_model_module": "@jupyter-widgets/controls",
      "_model_module_version": "1.5.0",
      "_model_name": "DescriptionStyleModel",
      "_view_count": null,
      "_view_module": "@jupyter-widgets/base",
      "_view_module_version": "1.2.0",
      "_view_name": "StyleView",
      "description_width": ""
     }
    },
    "35b474b1149a437fbfe1c4497ed008a1": {
     "model_module": "@jupyter-widgets/base",
     "model_name": "LayoutModel",
     "state": {
      "_model_module": "@jupyter-widgets/base",
      "_model_module_version": "1.2.0",
      "_model_name": "LayoutModel",
      "_view_count": null,
      "_view_module": "@jupyter-widgets/base",
      "_view_module_version": "1.2.0",
      "_view_name": "LayoutView",
      "align_content": null,
      "align_items": null,
      "align_self": null,
      "border": null,
      "bottom": null,
      "display": null,
      "flex": null,
      "flex_flow": null,
      "grid_area": null,
      "grid_auto_columns": null,
      "grid_auto_flow": null,
      "grid_auto_rows": null,
      "grid_column": null,
      "grid_gap": null,
      "grid_row": null,
      "grid_template_areas": null,
      "grid_template_columns": null,
      "grid_template_rows": null,
      "height": null,
      "justify_content": null,
      "justify_items": null,
      "left": null,
      "margin": null,
      "max_height": null,
      "max_width": null,
      "min_height": null,
      "min_width": null,
      "object_fit": null,
      "object_position": null,
      "order": null,
      "overflow": null,
      "overflow_x": null,
      "overflow_y": null,
      "padding": null,
      "right": null,
      "top": null,
      "visibility": null,
      "width": null
     }
    },
    "4aaa487d570944a1af6c1581ed0349e1": {
     "model_module": "@jupyter-widgets/controls",
     "model_name": "HTMLModel",
     "state": {
      "_dom_classes": [],
      "_model_module": "@jupyter-widgets/controls",
      "_model_module_version": "1.5.0",
      "_model_name": "HTMLModel",
      "_view_count": null,
      "_view_module": "@jupyter-widgets/controls",
      "_view_module_version": "1.5.0",
      "_view_name": "HTMLView",
      "description": "",
      "description_tooltip": null,
      "layout": "IPY_MODEL_35b474b1149a437fbfe1c4497ed008a1",
      "placeholder": "​",
      "style": "IPY_MODEL_e5403ecfeab24d9eb5d56cc34d8f3371",
      "value": " 1567/1567 [4:21:21&lt;00:00, 10.01s/it]"
     }
    },
    "4ddc4ae354744580ab2d1c96d5088fce": {
     "model_module": "@jupyter-widgets/base",
     "model_name": "LayoutModel",
     "state": {
      "_model_module": "@jupyter-widgets/base",
      "_model_module_version": "1.2.0",
      "_model_name": "LayoutModel",
      "_view_count": null,
      "_view_module": "@jupyter-widgets/base",
      "_view_module_version": "1.2.0",
      "_view_name": "LayoutView",
      "align_content": null,
      "align_items": null,
      "align_self": null,
      "border": null,
      "bottom": null,
      "display": null,
      "flex": null,
      "flex_flow": null,
      "grid_area": null,
      "grid_auto_columns": null,
      "grid_auto_flow": null,
      "grid_auto_rows": null,
      "grid_column": null,
      "grid_gap": null,
      "grid_row": null,
      "grid_template_areas": null,
      "grid_template_columns": null,
      "grid_template_rows": null,
      "height": null,
      "justify_content": null,
      "justify_items": null,
      "left": null,
      "margin": null,
      "max_height": null,
      "max_width": null,
      "min_height": null,
      "min_width": null,
      "object_fit": null,
      "object_position": null,
      "order": null,
      "overflow": null,
      "overflow_x": null,
      "overflow_y": null,
      "padding": null,
      "right": null,
      "top": null,
      "visibility": null,
      "width": null
     }
    },
    "7ef4dd3a71744c399ea921f620a40dbe": {
     "model_module": "@jupyter-widgets/controls",
     "model_name": "FloatProgressModel",
     "state": {
      "_dom_classes": [],
      "_model_module": "@jupyter-widgets/controls",
      "_model_module_version": "1.5.0",
      "_model_name": "FloatProgressModel",
      "_view_count": null,
      "_view_module": "@jupyter-widgets/controls",
      "_view_module_version": "1.5.0",
      "_view_name": "ProgressView",
      "bar_style": "success",
      "description": "100%",
      "description_tooltip": null,
      "layout": "IPY_MODEL_bde157a60b61471f8979c31f8643ee4c",
      "max": 479,
      "min": 0,
      "orientation": "horizontal",
      "style": "IPY_MODEL_ae5569bf19584002b641518e1da234a5",
      "value": 479
     }
    },
    "87401fc5944f47db86dd70038b2d82fc": {
     "model_module": "@jupyter-widgets/base",
     "model_name": "LayoutModel",
     "state": {
      "_model_module": "@jupyter-widgets/base",
      "_model_module_version": "1.2.0",
      "_model_name": "LayoutModel",
      "_view_count": null,
      "_view_module": "@jupyter-widgets/base",
      "_view_module_version": "1.2.0",
      "_view_name": "LayoutView",
      "align_content": null,
      "align_items": null,
      "align_self": null,
      "border": null,
      "bottom": null,
      "display": null,
      "flex": null,
      "flex_flow": null,
      "grid_area": null,
      "grid_auto_columns": null,
      "grid_auto_flow": null,
      "grid_auto_rows": null,
      "grid_column": null,
      "grid_gap": null,
      "grid_row": null,
      "grid_template_areas": null,
      "grid_template_columns": null,
      "grid_template_rows": null,
      "height": null,
      "justify_content": null,
      "justify_items": null,
      "left": null,
      "margin": null,
      "max_height": null,
      "max_width": null,
      "min_height": null,
      "min_width": null,
      "object_fit": null,
      "object_position": null,
      "order": null,
      "overflow": null,
      "overflow_x": null,
      "overflow_y": null,
      "padding": null,
      "right": null,
      "top": null,
      "visibility": null,
      "width": null
     }
    },
    "87be5fcf7a4d47639b630c20fb67b00b": {
     "model_module": "@jupyter-widgets/controls",
     "model_name": "HBoxModel",
     "state": {
      "_dom_classes": [],
      "_model_module": "@jupyter-widgets/controls",
      "_model_module_version": "1.5.0",
      "_model_name": "HBoxModel",
      "_view_count": null,
      "_view_module": "@jupyter-widgets/controls",
      "_view_module_version": "1.5.0",
      "_view_name": "HBoxView",
      "box_style": "",
      "children": [
       "IPY_MODEL_7ef4dd3a71744c399ea921f620a40dbe",
       "IPY_MODEL_f2919508e16f4c279b0533776e70d59f"
      ],
      "layout": "IPY_MODEL_e8e02fa2b51c423b9d54c8a4fd3007f4"
     }
    },
    "ae5569bf19584002b641518e1da234a5": {
     "model_module": "@jupyter-widgets/controls",
     "model_name": "ProgressStyleModel",
     "state": {
      "_model_module": "@jupyter-widgets/controls",
      "_model_module_version": "1.5.0",
      "_model_name": "ProgressStyleModel",
      "_view_count": null,
      "_view_module": "@jupyter-widgets/base",
      "_view_module_version": "1.2.0",
      "_view_name": "StyleView",
      "bar_color": null,
      "description_width": "initial"
     }
    },
    "b9360a4667b444c0a8f258acadbe21fd": {
     "model_module": "@jupyter-widgets/controls",
     "model_name": "ProgressStyleModel",
     "state": {
      "_model_module": "@jupyter-widgets/controls",
      "_model_module_version": "1.5.0",
      "_model_name": "ProgressStyleModel",
      "_view_count": null,
      "_view_module": "@jupyter-widgets/base",
      "_view_module_version": "1.2.0",
      "_view_name": "StyleView",
      "bar_color": null,
      "description_width": "initial"
     }
    },
    "bde157a60b61471f8979c31f8643ee4c": {
     "model_module": "@jupyter-widgets/base",
     "model_name": "LayoutModel",
     "state": {
      "_model_module": "@jupyter-widgets/base",
      "_model_module_version": "1.2.0",
      "_model_name": "LayoutModel",
      "_view_count": null,
      "_view_module": "@jupyter-widgets/base",
      "_view_module_version": "1.2.0",
      "_view_name": "LayoutView",
      "align_content": null,
      "align_items": null,
      "align_self": null,
      "border": null,
      "bottom": null,
      "display": null,
      "flex": null,
      "flex_flow": null,
      "grid_area": null,
      "grid_auto_columns": null,
      "grid_auto_flow": null,
      "grid_auto_rows": null,
      "grid_column": null,
      "grid_gap": null,
      "grid_row": null,
      "grid_template_areas": null,
      "grid_template_columns": null,
      "grid_template_rows": null,
      "height": null,
      "justify_content": null,
      "justify_items": null,
      "left": null,
      "margin": null,
      "max_height": null,
      "max_width": null,
      "min_height": null,
      "min_width": null,
      "object_fit": null,
      "object_position": null,
      "order": null,
      "overflow": null,
      "overflow_x": null,
      "overflow_y": null,
      "padding": null,
      "right": null,
      "top": null,
      "visibility": null,
      "width": null
     }
    },
    "e5403ecfeab24d9eb5d56cc34d8f3371": {
     "model_module": "@jupyter-widgets/controls",
     "model_name": "DescriptionStyleModel",
     "state": {
      "_model_module": "@jupyter-widgets/controls",
      "_model_module_version": "1.5.0",
      "_model_name": "DescriptionStyleModel",
      "_view_count": null,
      "_view_module": "@jupyter-widgets/base",
      "_view_module_version": "1.2.0",
      "_view_name": "StyleView",
      "description_width": ""
     }
    },
    "e8e02fa2b51c423b9d54c8a4fd3007f4": {
     "model_module": "@jupyter-widgets/base",
     "model_name": "LayoutModel",
     "state": {
      "_model_module": "@jupyter-widgets/base",
      "_model_module_version": "1.2.0",
      "_model_name": "LayoutModel",
      "_view_count": null,
      "_view_module": "@jupyter-widgets/base",
      "_view_module_version": "1.2.0",
      "_view_name": "LayoutView",
      "align_content": null,
      "align_items": null,
      "align_self": null,
      "border": null,
      "bottom": null,
      "display": null,
      "flex": null,
      "flex_flow": null,
      "grid_area": null,
      "grid_auto_columns": null,
      "grid_auto_flow": null,
      "grid_auto_rows": null,
      "grid_column": null,
      "grid_gap": null,
      "grid_row": null,
      "grid_template_areas": null,
      "grid_template_columns": null,
      "grid_template_rows": null,
      "height": null,
      "justify_content": null,
      "justify_items": null,
      "left": null,
      "margin": null,
      "max_height": null,
      "max_width": null,
      "min_height": null,
      "min_width": null,
      "object_fit": null,
      "object_position": null,
      "order": null,
      "overflow": null,
      "overflow_x": null,
      "overflow_y": null,
      "padding": null,
      "right": null,
      "top": null,
      "visibility": null,
      "width": null
     }
    },
    "ef95002690b945c2a1bd235ab3e9e27c": {
     "model_module": "@jupyter-widgets/controls",
     "model_name": "FloatProgressModel",
     "state": {
      "_dom_classes": [],
      "_model_module": "@jupyter-widgets/controls",
      "_model_module_version": "1.5.0",
      "_model_name": "FloatProgressModel",
      "_view_count": null,
      "_view_module": "@jupyter-widgets/controls",
      "_view_module_version": "1.5.0",
      "_view_name": "ProgressView",
      "bar_style": "success",
      "description": "100%",
      "description_tooltip": null,
      "layout": "IPY_MODEL_4ddc4ae354744580ab2d1c96d5088fce",
      "max": 1567,
      "min": 0,
      "orientation": "horizontal",
      "style": "IPY_MODEL_b9360a4667b444c0a8f258acadbe21fd",
      "value": 1567
     }
    },
    "f2919508e16f4c279b0533776e70d59f": {
     "model_module": "@jupyter-widgets/controls",
     "model_name": "HTMLModel",
     "state": {
      "_dom_classes": [],
      "_model_module": "@jupyter-widgets/controls",
      "_model_module_version": "1.5.0",
      "_model_name": "HTMLModel",
      "_view_count": null,
      "_view_module": "@jupyter-widgets/controls",
      "_view_module_version": "1.5.0",
      "_view_name": "HTMLView",
      "description": "",
      "description_tooltip": null,
      "layout": "IPY_MODEL_18867e2c9fba4808bd37528c2b6475ac",
      "placeholder": "​",
      "style": "IPY_MODEL_19e251a0d9d44d97b7f444eeb473e5d6",
      "value": " 479/479 [4:59:05&lt;00:00, 37.47s/it]"
     }
    }
   }
  }
 },
 "nbformat": 4,
 "nbformat_minor": 4
}
